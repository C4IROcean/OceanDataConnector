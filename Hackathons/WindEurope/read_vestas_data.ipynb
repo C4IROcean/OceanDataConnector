{
 "cells": [
  {
   "cell_type": "code",
   "execution_count": 1,
   "id": "6bdab710-63e3-476c-b21c-d60d6f5d39b7",
   "metadata": {},
   "outputs": [],
   "source": [
    "!pip install basemap --quiet\n",
    "\n",
    "import pandas as pd \n",
    "import numpy as np\n",
    "from matplotlib import pyplot as plt\n",
    "import xarray as xr\n",
    "from mpl_toolkits.basemap import Basemap"
   ]
  },
  {
   "cell_type": "markdown",
   "id": "c44ac663-f02c-46a8-a3a0-68ef7eda01db",
   "metadata": {},
   "source": [
    "# Descriptive approach for the data\n",
    "\n",
    "There is 3 differents files"
   ]
  },
  {
   "cell_type": "code",
   "execution_count": 2,
   "id": "fb0b3e29-6081-4274-b500-a265542c1518",
   "metadata": {},
   "outputs": [],
   "source": [
    "PATH = './data/'\n",
    "aggregated_path = PATH+'aggregated-values.csv'\n",
    "probability_of_occurrence_path = PATH+'probability-of-occurrence.csv'\n",
    "time_serie_path = PATH+'time-series.csv'"
   ]
  },
  {
   "cell_type": "code",
   "execution_count": 3,
   "id": "5b0ccac1-769f-4404-9949-07e078457fc4",
   "metadata": {},
   "outputs": [],
   "source": [
    "df_agg = pd.read_csv(aggregated_path, header=14)\n",
    "df_prob = pd.read_csv(probability_of_occurrence_path, header=15)\n",
    "df_series = pd.read_csv(time_serie_path, header=17, index_col=0)"
   ]
  },
  {
   "cell_type": "code",
   "execution_count": 4,
   "id": "8061b39e-976c-46e5-842a-3b76b38ddd07",
   "metadata": {},
   "outputs": [],
   "source": [
    "#Let's have a look at the data"
   ]
  },
  {
   "cell_type": "code",
   "execution_count": 5,
   "id": "123d3049-804b-4c02-a682-86f6f4ef08c8",
   "metadata": {},
   "outputs": [],
   "source": [
    "def print_box(df, key_lon='xlong', key_lat='xlat'):\n",
    "    print('Min lon {} and Max lon {}'.format(df[key_lon].min(),\n",
    "    df[key_lon].max()))\n",
    "    print('Min lat {} and Max lat {}'.format(df[key_lat].min(),\n",
    "    df[key_lon].max()))\n",
    "\n",
    "print_box(df_prob)\n",
    "print_box(df_agg)"
   ]
  },
  {
   "cell_type": "code",
   "execution_count": 6,
   "id": "ce607a19-c1a7-446a-a782-a8729f8dbc94",
   "metadata": {},
   "outputs": [],
   "source": [
    "df_prob.describe()"
   ]
  },
  {
   "cell_type": "code",
   "execution_count": 7,
   "id": "572d3f96-80a4-40ce-a12a-c534def958eb",
   "metadata": {},
   "outputs": [],
   "source": [
    "df_prob.info()"
   ]
  },
  {
   "cell_type": "code",
   "execution_count": 8,
   "id": "b0bdef9e-3842-455c-9a6e-eafc93a49e81",
   "metadata": {},
   "outputs": [],
   "source": [
    "df_agg.describe()"
   ]
  },
  {
   "cell_type": "code",
   "execution_count": 9,
   "id": "3ea9ff3c-8e42-4f41-8fbf-a818c42f2a2b",
   "metadata": {},
   "outputs": [],
   "source": [
    "df_agg"
   ]
  },
  {
   "cell_type": "code",
   "execution_count": 10,
   "id": "43c585fa-3171-4d17-a7d1-40fdce46b1b4",
   "metadata": {},
   "outputs": [],
   "source": [
    "#Let's consider that if sst_min is 0, it is a marker that the data point is in land\n",
    "print('Percentage of aggregated data on land is {}'.format(len(df_agg[df_agg['sst_min']==0])/len(df_agg)))"
   ]
  },
  {
   "cell_type": "code",
   "execution_count": 11,
   "id": "b18ba282-9cd1-49d3-8344-e597334f35ac",
   "metadata": {},
   "outputs": [],
   "source": [
    "m = Basemap(width=12000000, height=9000000,\n",
    "                resolution='i', \n",
    "                llcrnrlon=1, urcrnrlon=36,\n",
    "                llcrnrlat=24, urcrnrlat=57\n",
    "               )\n",
    "# draw coastlines.\n",
    "m.bluemarble()\n",
    "m.drawcoastlines()\n",
    "m.fillcontinents()\n",
    "x, y = m(df_prob['xlong'], df_prob['xlat'])\n",
    "x2, y2 = m(df_agg['xlong'], df_agg['xlat'])\n",
    "m.scatter(x, y, 10, marker='o', color='r', label='Prob_Occur')\n",
    "m.scatter(x2, y2, 10, marker='o', color='g', label='Aggregated')\n",
    "plt.legend()\n",
    "plt.title('Sample Example Location for Hackathon')\n",
    "plt.savefig('Location_agg_and_prob_data.jpeg', dpi=399)"
   ]
  },
  {
   "cell_type": "code",
   "execution_count": 12,
   "id": "e9814022-b8c9-4c01-bc2f-da7d9d4087bc",
   "metadata": {},
   "outputs": [],
   "source": [
    "[*df_series]\n"
   ]
  },
  {
   "cell_type": "code",
   "execution_count": 13,
   "id": "3ea6d45d-0bc1-4527-83a0-9fbdd1619f4f",
   "metadata": {},
   "outputs": [],
   "source": [
    "#Get list of variables we have\n",
    "df_series.columns"
   ]
  },
  {
   "cell_type": "markdown",
   "id": "9cc83545-4ee1-4c1a-a423-1e3a715911b1",
   "metadata": {},
   "source": [
    "# Suggestions\n",
    "\n",
    "- Give data sample at same location, if possible in land\n",
    "- Create a section on the data description docx with metadata such \"wdir_* represents the wind direction in [m/s] at level *\" or will there be description included in the API ?\n",
    "- A netcdf/zarr/grib data format file would be easier to handle. It would allow to extract variables at specific height with easy indexing.\n",
    "- These formats would allow to include a self description of variable metadata within a notebook\n"
   ]
  },
  {
   "cell_type": "markdown",
   "id": "394b7ea4-5d31-4d99-a35b-de8c60a2bbe4",
   "metadata": {},
   "source": [
    "# Play a bit with data"
   ]
  },
  {
   "cell_type": "code",
   "execution_count": 14,
   "id": "c2dad419-386a-48de-b358-a06d1d4f446c",
   "metadata": {},
   "outputs": [],
   "source": [
    "var1 = 'wsp'\n",
    "var2 = 'wdir'\n",
    "var3 = 'rho'\n",
    "df, df2, df3 = (pd.DataFrame(index=df_series.index) for _ in range(3))\n",
    "altitude = []\n",
    "\n",
    "for col in df_series:\n",
    "    if var1 in col:\n",
    "        altitude.append(col.replace(var1+'_', \"\"))\n",
    "        df[col] = df_series[col]\n",
    "    elif var2 in col:\n",
    "        df2[col] = df_series[col]\n",
    "    elif var3 in col:\n",
    "        df3[col] = df_series[col]\n",
    "        \n",
    "height = np.array(altitude, dtype = float)"
   ]
  },
  {
   "cell_type": "code",
   "execution_count": 15,
   "id": "47ba556c-5663-4d78-805a-2eac7f4b8cc0",
   "metadata": {},
   "outputs": [],
   "source": [
    "x_time = df_series.index\n",
    "y = height\n",
    "\n",
    "#Get xticks in right format\n",
    "xticks = x[::60]\n",
    "\n",
    "fig, ax = plt.subplots() \n",
    "plt.contourf(x_time,y,df.to_numpy().T)\n",
    "ax.set_xticks(xticks)\n",
    "ax.set_yticks(height)\n",
    "plt.colorbar()\n",
    "plt.title(\"Temporal evolution of wind speed in a vertical section\")"
   ]
  },
  {
   "cell_type": "code",
   "execution_count": 16,
   "id": "bb8b688b-cd89-46c5-bac7-3a1af9065f9b",
   "metadata": {},
   "outputs": [],
   "source": [
    "wsp, wdir, rho = df.to_numpy(), df2.to_numpy(), df3.to_numpy()\n",
    "np.shape(wsp)"
   ]
  },
  {
   "cell_type": "code",
   "execution_count": 17,
   "id": "0855a73e-ce22-4924-8e86-018cad166a03",
   "metadata": {},
   "outputs": [],
   "source": [
    "ds = xr.Dataset(\n",
    "    {\n",
    "        \"wsp\": ([\"time\", \"altitude\"], wsp,\n",
    "               {'units': 'Meter per Second', 'long_name': 'Wind Speed'}),\n",
    "        \"wdir\": ([\"time\", \"altitude\"], wdir,\n",
    "                {'units': 'Degrees', 'long_name': 'Wind Direction'}),\n",
    "        \"rho\": ([\"time\", \"altitude\"], rho,\n",
    "               {'units': 'kg/m3', 'long_name': 'Density'})\n",
    "    },\n",
    "    coords={\n",
    "        \"time\": pd.date_range(x_time[0], periods=len(x_time), freq='H'),\n",
    "        \"altitude\": height\n",
    "    }\n",
    ")\n",
    "\n",
    "ds"
   ]
  },
  {
   "cell_type": "code",
   "execution_count": 18,
   "id": "c79aff1e-a5f2-41e5-99f1-8ad0de5131fb",
   "metadata": {},
   "outputs": [],
   "source": [
    "#Example of extraction of all variables across the time\n",
    "ds_sel = ds.sel(altitude=100.0)\n",
    "ds_sel"
   ]
  },
  {
   "cell_type": "code",
   "execution_count": null,
   "id": "4ae594c1-4571-4da7-857f-7fd499cbdf69",
   "metadata": {},
   "outputs": [],
   "source": []
  },
  {
   "cell_type": "code",
   "execution_count": null,
   "id": "d8de54d0-a862-48c0-9f30-27d968ee3947",
   "metadata": {},
   "outputs": [],
   "source": []
  }
 ],
 "metadata": {
  "kernelspec": {
   "display_name": "Python 3 (ipykernel)",
   "language": "python",
   "name": "python3"
  },
  "language_info": {
   "codemirror_mode": {
    "name": "ipython",
    "version": 3
   },
   "file_extension": ".py",
   "mimetype": "text/x-python",
   "name": "python",
   "nbconvert_exporter": "python",
   "pygments_lexer": "ipython3",
   "version": "3.10.10"
  }
 },
 "nbformat": 4,
 "nbformat_minor": 5
}
