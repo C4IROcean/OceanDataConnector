{
 "cells": [
  {
   "cell_type": "markdown",
   "id": "8fef5847-74fe-4140-a001-c14956e64699",
   "metadata": {},
   "source": [
    "# Woman in Data Science - Oslo\n",
    "### 30. April 2024 @ Bankboksen DNB\n",
    "\n",
    "Welcome to our analytical notebook for the Champagne Coding. In this notebook, we will explore a three different data sources, the first is a sample from Bloomberg's Global Facilities Geolocation dataset, the second is the EMODnet human activity set, and a third one is Copernicu's Global Ocean Biogeochemistry Hindcast. Our focus will be on exploring if is possible to make any connections between the presence of human activity (today we focus on aquaculture) on biogeochemical attributes of the ocean. We will visualize the data and hope to inspire discussions on how these insights could potentially help DNB to advice better their customers on becoming greener. "
   ]
  },
  {
   "cell_type": "code",
   "execution_count": null,
   "id": "11ca723f-df9a-4449-83f0-1fd7e01e51a5",
   "metadata": {},
   "outputs": [],
   "source": [
    "import odp.geospatial as odp\n",
    "import geopandas as gpd\n",
    "import pandas as pd\n",
    "import cmocean\n",
    "import hvplot.xarray\n",
    "import warnings\n",
    "warnings.filterwarnings(\"ignore\", category=DeprecationWarning) \n",
    "pd.set_option(\"display.max_columns\", None)"
   ]
  },
  {
   "cell_type": "code",
   "execution_count": null,
   "id": "3e63898c-9ee7-493b-8e02-48d498ce5242",
   "metadata": {
    "tags": []
   },
   "outputs": [],
   "source": [
    "db = odp.Database()\n",
    "db_plt = odp.PlotTools()\n",
    "gd = odp.GridData()"
   ]
  },
  {
   "cell_type": "markdown",
   "id": "fa174f45-6b4e-4d84-b267-ccdafee744ad",
   "metadata": {},
   "source": [
    "### Bloomberg Global Geofacilities Dataset"
   ]
  },
  {
   "cell_type": "code",
   "execution_count": null,
   "id": "3910f855-0abf-4bf3-9e87-91ce6ee6d211",
   "metadata": {},
   "outputs": [],
   "source": [
    "asset_locations_df = pd.read_excel(open('GlobalFacilityGeolocation_Bloomberg.xlsx', 'rb'), sheet_name='GlobalFacilityGeolocation_Bloom')"
   ]
  },
  {
   "cell_type": "code",
   "execution_count": null,
   "id": "dc400ca7-0bd7-4c5b-b17f-0391a4810cc8",
   "metadata": {},
   "outputs": [],
   "source": [
    "asset_locations_df[:3]"
   ]
  },
  {
   "cell_type": "code",
   "execution_count": null,
   "id": "4eaf1879-dd44-41d2-b1e5-4d4b842ccadf",
   "metadata": {},
   "outputs": [],
   "source": [
    "print(asset_locations_df.columns)"
   ]
  },
  {
   "cell_type": "code",
   "execution_count": null,
   "id": "50dd2603-b81f-42d1-938d-b5e132f7f5c9",
   "metadata": {},
   "outputs": [],
   "source": [
    "sample_companies= [\"Dhofar Fisheries & Food Industries Co\", \"Dong Won Fisheries Co Ltd\", \"Norway Royal Salmon ASA\", \"Salmar ASA\", \"Shandong Zhonglu Oceanic Fisheries Co Ltd\"]\n",
    "aquaculture_df = asset_locations_df[asset_locations_df.LONG_COMP_NAME.isin(sample_companies)]"
   ]
  },
  {
   "cell_type": "code",
   "execution_count": null,
   "id": "10368775-44f8-41ca-9512-f467770291c4",
   "metadata": {},
   "outputs": [],
   "source": [
    "# Create a GeoDataFrame by extracting lat/long from the Bloomberg dataframe\n",
    "from shapely.geometry import Point, Polygon\n",
    "geometry = [Point(xy) for xy in zip(aquaculture_df['LONGITUDE_OF_LOCATION'], aquaculture_df['LATITUDE_OF_LOCATION'])]\n",
    "crs = {'init':'epsg:4326'}\n",
    "geo_df = gpd.GeoDataFrame(aquaculture_df, #specify our data\n",
    "                          crs=crs, #specify our coordinate reference system\n",
    "                          geometry=geometry) #specify the geometry list we created"
   ]
  },
  {
   "cell_type": "code",
   "execution_count": null,
   "id": "a530d9ce-333d-4b02-83aa-9985b8cc9329",
   "metadata": {
    "tags": []
   },
   "outputs": [],
   "source": [
    "#Let's explore with the embedded visualisation from GeoPandas\n",
    "geo_df.explore(width=800, height=600)"
   ]
  },
  {
   "cell_type": "code",
   "execution_count": null,
   "id": "c4072142-6466-4216-99fc-8222b52f7d6c",
   "metadata": {},
   "outputs": [],
   "source": [
    "# Let's look at Aquaculture activities in Norway\n",
    "aquaculture_norway_df = asset_locations_df[(asset_locations_df.LONG_COMP_NAME.isin(sample_companies)) & (asset_locations_df.COUNTRY_ISO == 'NO')]"
   ]
  },
  {
   "cell_type": "code",
   "execution_count": null,
   "id": "b2c0db97-6bd5-4a37-b7f6-cf024ad8f6f3",
   "metadata": {
    "tags": []
   },
   "outputs": [],
   "source": [
    "geometry = [Point(xy) for xy in zip(aquaculture_norway_df['LONGITUDE_OF_LOCATION'], aquaculture_norway_df['LATITUDE_OF_LOCATION'])]\n",
    "crs = {'init':'epsg:4326'}\n",
    "geo_df = gpd.GeoDataFrame(aquaculture_norway_df, #specify our data\n",
    "                          crs=crs, #specify our coordinate reference system\n",
    "                          geometry=geometry) #specify the geometry list we created\n",
    "\n",
    "geo_df.explore(tooltip=\"LONG_COMP_NAME\",  # show \"BoroName\" value in tooltip (on hover)\n",
    "               popup=True,  # show all values in popup (on click)\n",
    "               style_kwds=dict(color=\"red\"),# use blue outline\n",
    "               width=800, height=600\n",
    ")"
   ]
  },
  {
   "cell_type": "markdown",
   "id": "fe6cf074-c545-4b60-ae0e-b35562213d69",
   "metadata": {
    "tags": []
   },
   "source": [
    "### Emodnet Dataset"
   ]
  },
  {
   "cell_type": "code",
   "execution_count": null,
   "id": "19653646-2a05-45ca-884d-838eb21a468c",
   "metadata": {},
   "outputs": [],
   "source": [
    "df_db = db.datasets\n",
    "emodnet_list = [name for name in df_db.index if 'Emodnet' in name]\n",
    "emodnet_list"
   ]
  },
  {
   "cell_type": "markdown",
   "id": "39edff5b-a4b7-4ec2-a38b-b069977ed53e",
   "metadata": {
    "tags": []
   },
   "source": [
    "Example on how to use multiple parameters for querying:\n",
    "```\n",
    "df=query('Ocean Biodiversity Information System')\n",
    "        date_from='2000-01-01',\n",
    "        date_to='2020-02-01',\n",
    "        poly='POLYGON ((51.0 3.0, 51.3 3.61, 51.3 3.0, 51.0 3.0))',\n",
    "        limit=5)\n",
    "\n",
    "```\n"
   ]
  },
  {
   "cell_type": "code",
   "execution_count": null,
   "id": "c6102055-13d7-455d-a39f-b5380c567088",
   "metadata": {},
   "outputs": [],
   "source": [
    "# Let's use the marine Finfish\n",
    "df = db.query(emodnet_list[0])"
   ]
  },
  {
   "cell_type": "code",
   "execution_count": null,
   "id": "7a7eb320-7540-4d99-94db-66f419dc6e3e",
   "metadata": {},
   "outputs": [],
   "source": [
    "df.explore(\n",
    "    tooltip=\"OWNER_NAME\",  # show \"BoroName\" value in tooltip (on hover)\n",
    "    popup=True,  # show all values in popup (on click)\n",
    "    style_kwds=dict(color=\"blue\"),  # use black outline\n",
    "    width=800, height=600\n",
    ")"
   ]
  },
  {
   "cell_type": "code",
   "execution_count": null,
   "id": "dddc256c-15b6-41a9-82d5-26b3de538b56",
   "metadata": {},
   "outputs": [],
   "source": [
    "#### We can add a filter for just Norway\n",
    "filter_norway = db.filter_data(\"COUNTRY\", \"=\", \"Norway\")\n",
    "df=db.query('Emodnet HA aquaculture - marine Finfish', filters=[filter_norway])"
   ]
  },
  {
   "cell_type": "code",
   "execution_count": null,
   "id": "d194686f-3fc6-44fa-b47b-71bcc8b02571",
   "metadata": {
    "tags": []
   },
   "outputs": [],
   "source": [
    "df[:3]"
   ]
  },
  {
   "cell_type": "code",
   "execution_count": null,
   "id": "2a8187dd-8e52-4fb9-bb8c-75b72bb73d9d",
   "metadata": {},
   "outputs": [],
   "source": [
    "### We can also just query for a specific region of the country by adding a polygon to our query\n",
    "poly = \"POLYGON ((5.0 59.0, 10 59, 10 64, 5 64, 5 59))\"\n",
    "\n",
    "filter1 = db.filter_data(\"COUNTRY\", \"=\", \"Norway\")\n",
    "gdf=db.query('Emodnet HA aquaculture - marine Finfish',\n",
    "            filters=[filter1],\n",
    "            poly=poly)\n",
    "\n",
    "gdf.explore(width=800, height=600)"
   ]
  },
  {
   "cell_type": "markdown",
   "id": "19d495e3-2526-4409-b30c-62815ce0bcb4",
   "metadata": {},
   "source": [
    "## Biogeochemistry dataset from Ocean Hub Platform"
   ]
  },
  {
   "cell_type": "code",
   "execution_count": null,
   "id": "d72dad67-30f5-4ccd-8824-4da67f93def5",
   "metadata": {},
   "outputs": [],
   "source": [
    "gd.datasets.loc[\"global-ocean-biogeochemistry-hindcast-monthly mean\"].database_description"
   ]
  },
  {
   "cell_type": "code",
   "execution_count": null,
   "id": "c15f1c30-7bfc-4f94-816f-e19261299e2c",
   "metadata": {},
   "outputs": [],
   "source": [
    "hindcast_ds= gd.open_dataset('global-ocean-biogeochemistry-hindcast-monthly mean')"
   ]
  },
  {
   "cell_type": "code",
   "execution_count": null,
   "id": "a2679891-abe1-47f0-b0f6-e5c3f6f8d14e",
   "metadata": {},
   "outputs": [],
   "source": [
    "hindcast_ds"
   ]
  },
  {
   "cell_type": "code",
   "execution_count": null,
   "id": "92ee8652-ddf0-4608-93bb-7c8c7a2d0b00",
   "metadata": {},
   "outputs": [],
   "source": [
    "# Let us start with Oxygen, which is an important indicator for Ocean Health..\n",
    "hindcast_ds.o2"
   ]
  },
  {
   "cell_type": "code",
   "execution_count": null,
   "id": "84dcb2b7-a2c3-4e31-bb36-18a4e7138743",
   "metadata": {},
   "outputs": [],
   "source": [
    "# Pick one specific month (keep in mind that the monthly means are calculated on 15 and 16 of every month (see dimension time)\n",
    "# Also, let us pick a box by defining longitude and latitude ranges and focus on Nordic countries..\n",
    "hindcast_ds_slice = hindcast_ds.sel(\n",
    "            longitude=slice(0,25),\n",
    "            latitude=slice(50,75),\n",
    "            time='2020-01-16')\n",
    "\n",
    "# Let us also pick one depth (alternatively is possible to calculate the mean for all the measurements across the different depths, see commented code)\n",
    "#hindcast_ds_slice = hindcast_ds_slice.mean('depth')\n",
    "hindcast_ds_slice = hindcast_ds_slice.isel(depth=0)"
   ]
  },
  {
   "cell_type": "code",
   "execution_count": null,
   "id": "d940d88f-f06a-4653-9dd6-21ca0192fe33",
   "metadata": {},
   "outputs": [],
   "source": [
    "# You can calculate the minimum value on a slice..\n",
    "hindcast_ds_slice.o2.min().compute()"
   ]
  },
  {
   "cell_type": "code",
   "execution_count": null,
   "id": "1e559db2-7ecf-4803-9ffa-bad2a4fa51c9",
   "metadata": {},
   "outputs": [],
   "source": [
    "# You can calculate the minimum value on a slice..\n",
    "hindcast_ds_slice.o2.max().compute()"
   ]
  },
  {
   "cell_type": "markdown",
   "id": "9d037904-c77c-432d-8e81-610b25c76c56",
   "metadata": {},
   "source": [
    "#### Let's use xarray's plotting function, and [cmocean](https://matplotlib.org/cmocean/)'s color palette"
   ]
  },
  {
   "cell_type": "code",
   "execution_count": null,
   "id": "83834e38-e867-440f-854d-c34c20005694",
   "metadata": {
    "tags": []
   },
   "outputs": [],
   "source": [
    "hindcast_ds_slice.o2.plot(figsize=(5,5), cmap=cmocean.cm.oxy)"
   ]
  },
  {
   "cell_type": "code",
   "execution_count": null,
   "id": "26e0dfe3-7ff4-4eb5-b471-a765be8178fa",
   "metadata": {},
   "outputs": [],
   "source": [
    "# Let us look at the whole history from 1999 to 2020..\n",
    "hindcast_ds_slice_1999_2020 = hindcast_ds.sel(\n",
    "                                        longitude=slice(0,25),\n",
    "                                        latitude=slice(50,75),\n",
    "                                        time=slice('1999-01-16', '2020-12-16'))"
   ]
  },
  {
   "cell_type": "code",
   "execution_count": null,
   "id": "e7ff72e6-71e2-4296-91cd-1c5f7e2b3098",
   "metadata": {},
   "outputs": [],
   "source": [
    "hindcast_ds_slice_1999_2020"
   ]
  },
  {
   "cell_type": "code",
   "execution_count": null,
   "id": "3e4a5e7f-d7b9-436c-bcf1-9243064c1e75",
   "metadata": {},
   "outputs": [],
   "source": [
    "# Let us pick two specific longitude and latitude and observe the differences depending of the depth!\n",
    "line1 = hindcast_ds_slice_1999_2020.o2.sel(longitude=5, latitude=60, method=\"nearest\").hvplot.line(label='Onshore Aquaculture')\n",
    "line2 = hindcast_ds_slice_1999_2020.o2.sel(longitude=0, latitude=60, method=\"nearest\").hvplot.line(label='Offshore Point')"
   ]
  },
  {
   "cell_type": "code",
   "execution_count": null,
   "id": "37a2367a-0c06-4196-b900-b8fc7ad0fbd1",
   "metadata": {},
   "outputs": [],
   "source": [
    "combined_plot = line1 * line2\n",
    "combined_plot.opts(legend_position='top_left', legend_offset=(0,0), legend_cols=1, height=400)\n",
    "combined_plot"
   ]
  },
  {
   "cell_type": "markdown",
   "id": "f110b480-2d72-4abc-99ad-221694babd26",
   "metadata": {},
   "source": [
    "### For more info on how to plot with hvplot, check this link: https://hvplot.holoviz.org/user_guide/Plotting.html"
   ]
  },
  {
   "cell_type": "code",
   "execution_count": null,
   "id": "ab4fdf5e-f54e-4caa-8dfe-e0d21d9cb090",
   "metadata": {},
   "outputs": [],
   "source": [
    "# Let's analyse for a whole year for 1999...\n",
    "hindcast_ds_slice_1999 = hindcast_ds.sel(\n",
    "                                        longitude=slice(0,25),\n",
    "                                        latitude=slice(50,75),\n",
    "                                        time=slice('1999-01-16', '1999-12-16'))"
   ]
  },
  {
   "cell_type": "code",
   "execution_count": null,
   "id": "5bd816c5-ab98-4798-8d30-3e84509ed8d8",
   "metadata": {},
   "outputs": [],
   "source": [
    "# Let's visualise the monthly levels of oxygen\n",
    "monthly_means_1999 = hindcast_ds_slice_1999.isel(depth=0).groupby(\"time.month\").mean()\n",
    "fg = monthly_means_1999.o2.plot(\n",
    "    col=\"month\",\n",
    "    col_wrap=4,\n",
    "    cmap=cmocean.cm.oxy,\n",
    ")"
   ]
  },
  {
   "cell_type": "code",
   "execution_count": null,
   "id": "46d33ba7-9ec1-4548-b232-3c111d5181bf",
   "metadata": {},
   "outputs": [],
   "source": [
    "monthly_means_1999.o2.sel(longitude=5, latitude=60, method=\"nearest\").hvplot.line()"
   ]
  },
  {
   "cell_type": "code",
   "execution_count": null,
   "id": "27fb45bc-cb24-4b18-ab27-87a76e7eb13d",
   "metadata": {},
   "outputs": [],
   "source": [
    "# Now, let's compare how did it look 21 years later...\n",
    "hindcast_ds_slice_2020 = hindcast_ds.sel(\n",
    "                                        longitude=slice(0,25),\n",
    "                                        latitude=slice(50,75),\n",
    "                                        time=slice('2020-01-16', '2020-12-16'))"
   ]
  },
  {
   "cell_type": "code",
   "execution_count": null,
   "id": "d7c0aa77-68be-4793-8c42-9b506e639db4",
   "metadata": {},
   "outputs": [],
   "source": [
    "monthly_means_2020 = hindcast_ds_slice_2020.isel(depth=0).groupby(\"time.month\").mean()\n",
    "fg = monthly_means_2020.o2.plot(\n",
    "    col=\"month\",\n",
    "    col_wrap=4,\n",
    "    cmap=cmocean.cm.oxy,\n",
    ")"
   ]
  },
  {
   "cell_type": "code",
   "execution_count": null,
   "id": "3b304f5f-805a-4636-ae3e-cfc1f146eb94",
   "metadata": {},
   "outputs": [],
   "source": [
    "monthly_means_2020.o2.sel(longitude=5, latitude=60, method=\"nearest\").hvplot.line()"
   ]
  },
  {
   "cell_type": "markdown",
   "id": "2e467b7a-4574-4ea0-9f7d-fcc9320edef7",
   "metadata": {},
   "source": [
    "### Some notes: It could be interesting to:\n",
    "- Look at other variables such as ph(acidity), nppv(CO2), no3 (dissolved nitrogen).\n",
    "- Overlay two years and see how the monthly fluctuations look like.\n",
    "- Compare the measurements from one year with respect to another for two different coordinates (one near a aquaculture facility, and another one which is remote from any human activity, which is in the same latitude), use different time-lines from years to months."
   ]
  },
  {
   "cell_type": "code",
   "execution_count": null,
   "id": "5ed92616-5c27-4357-88b6-0376159df416",
   "metadata": {},
   "outputs": [],
   "source": [
    "# We could for example compare two coordinate points (one with aquaculture activity and one without)\n",
    "# This function calculates a point that is d km distant from a specfic coordinate with a specific bearing.\n",
    "\n",
    "from math import asin, atan2, cos, degrees, radians, sin\n",
    "\n",
    "def get_point_at_distance(lat1, lon1, d, bearing, R=6371):\n",
    "    \"\"\"\n",
    "    lat: initial latitude, in degrees\n",
    "    lon: initial longitude, in degrees\n",
    "    d: target distance from initial\n",
    "    bearing: (true) heading in degrees\n",
    "    R: optional radius of sphere, defaults to mean radius of earth\n",
    "\n",
    "    Returns new lat/lon coordinate {d}km from initial, in degrees\n",
    "    \"\"\"\n",
    "    lat1 = radians(lat1)\n",
    "    lon1 = radians(lon1)\n",
    "    a = radians(bearing)\n",
    "    lat2 = asin(sin(lat1) * cos(d/R) + cos(lat1) * sin(d/R) * cos(a))\n",
    "    lon2 = lon1 + atan2(\n",
    "        sin(a) * sin(d/R) * cos(lat1),\n",
    "        cos(d/R) - sin(lat1) * sin(lat2)\n",
    "    )\n",
    "    return (degrees(lat2), degrees(lon2),)"
   ]
  },
  {
   "cell_type": "code",
   "execution_count": null,
   "id": "333b0d3a-41c6-42d9-b899-3eb81fb9f022",
   "metadata": {},
   "outputs": [],
   "source": [
    "# Let us visualise the two coordinates in a map\n",
    "print(get_point_at_distance(63.779, 8.521, 500, 270, R=6371))\n",
    "\n",
    "data = [['Salma aquaculture', 63.779, 8.521], ['No activity', 62.38, -1.57]]\n",
    " \n",
    "# Create the pandas DataFrame\n",
    "comparison_df = pd.DataFrame(data, columns=['LOCATION', 'LATITUDE', 'LONGITUDE'])\n",
    "\n",
    "geometry = [Point(xy) for xy in zip(comparison_df['LONGITUDE'], comparison_df['LATITUDE'])]\n",
    "crs = {'init':'epsg:4326'}\n",
    "geo_df = gpd.GeoDataFrame(comparison_df, #specify our data\n",
    "                          crs=crs, #specify our coordinate reference system\n",
    "                          geometry=geometry) #specify the geometry list we created\n",
    "\n",
    "geo_df.explore(tooltip=\"LOCATION\",  # show \"BoroName\" value in tooltip (on hover)\n",
    "               popup=True,  # show all values in popup (on click)\n",
    "               style_kwds=dict(color=\"red\"),# use blue outline\n",
    "               width=800, height=600\n",
    ")"
   ]
  },
  {
   "cell_type": "code",
   "execution_count": null,
   "id": "cb9bcdc5-1556-48cd-b55f-23090feb5081",
   "metadata": {},
   "outputs": [],
   "source": [
    "# Longitud and Latitude of \"Salma\" and \"No activity\"\n",
    "lats = [63.779, 62.38]\n",
    "lons = [8.521, -1.57]"
   ]
  },
  {
   "cell_type": "markdown",
   "id": "04f65772-3327-48b4-a1b1-6c8674eb2285",
   "metadata": {},
   "source": [
    "### Let us plot the time series for these two different locations when it comes to o2"
   ]
  },
  {
   "cell_type": "code",
   "execution_count": null,
   "id": "236847d2-fabb-4ceb-a268-c85ef5e2b596",
   "metadata": {},
   "outputs": [],
   "source": [
    "# Salma location\n",
    "hindcast_ds_slice_1999_2020.o2.sel(longitude=lons[0], latitude=lats[0], method=\"nearest\").hvplot.line()"
   ]
  },
  {
   "cell_type": "code",
   "execution_count": null,
   "id": "65b4e999-ec4d-40ee-97a7-50e4c78933b9",
   "metadata": {},
   "outputs": [],
   "source": [
    "# No activity location\n",
    "hindcast_ds_slice_1999_2020.o2.sel(longitude=lons[1], latitude=lats[1], method=\"nearest\").hvplot.line()"
   ]
  },
  {
   "cell_type": "markdown",
   "id": "09ee4c22-8259-4d98-8e0e-3d872a3098c2",
   "metadata": {},
   "source": [
    "### Let us plot the time series for these two different locations when it comes to ph"
   ]
  },
  {
   "cell_type": "code",
   "execution_count": null,
   "id": "80092204-dab0-4830-84d4-9406e55d8063",
   "metadata": {},
   "outputs": [],
   "source": [
    "# Salma\n",
    "hindcast_ds_slice_1999_2020.ph.sel(longitude=lons[0], latitude=lats[0], method=\"nearest\").hvplot.line()"
   ]
  },
  {
   "cell_type": "code",
   "execution_count": null,
   "id": "de552876-1423-4660-be06-6cf9811581dc",
   "metadata": {},
   "outputs": [],
   "source": [
    "# No activity location\n",
    "hindcast_ds_slice_1999_2020.ph.sel(longitude=lons[1], latitude=lats[1], method=\"nearest\").hvplot.line()"
   ]
  },
  {
   "cell_type": "markdown",
   "id": "3c1f38f4-dce7-4fdf-8ac7-1bbc34aa7036",
   "metadata": {},
   "source": [
    "### Let us plot the time series for these two different locations when it comes to no3"
   ]
  },
  {
   "cell_type": "code",
   "execution_count": null,
   "id": "3f1d69d8-de51-41db-8e2b-2031ba984a22",
   "metadata": {},
   "outputs": [],
   "source": [
    "# Salma\n",
    "hindcast_ds_slice_1999_2020.no3.sel(longitude=lons[0], latitude=lats[0], method=\"nearest\").hvplot.line()"
   ]
  },
  {
   "cell_type": "code",
   "execution_count": null,
   "id": "b6d15c16-4401-4355-af31-d730bf26a175",
   "metadata": {},
   "outputs": [],
   "source": [
    "# No Activity\n",
    "hindcast_ds_slice_1999_2020.no3.sel(longitude=lons[1], latitude=lats[1], method=\"nearest\").hvplot.line()"
   ]
  },
  {
   "cell_type": "code",
   "execution_count": null,
   "id": "e342c7bf-0ae3-4c8b-8ca0-3d71fb1aca1d",
   "metadata": {},
   "outputs": [],
   "source": [
    "### Let us plot the time series for these two different locations when it comes to CO2 concentration in the water"
   ]
  },
  {
   "cell_type": "code",
   "execution_count": null,
   "id": "e5214879-aff3-4573-8d8a-5eb5a23fa36d",
   "metadata": {},
   "outputs": [],
   "source": [
    "# Salma\n",
    "hindcast_ds_slice_1999_2020.nppv.sel(longitude=lons[0], latitude=lats[0], method=\"nearest\").hvplot.line()"
   ]
  },
  {
   "cell_type": "code",
   "execution_count": null,
   "id": "f081bd25-a490-46b3-8ecc-eceb4959c16d",
   "metadata": {},
   "outputs": [],
   "source": [
    "# No Activity\n",
    "hindcast_ds_slice_1999_2020.nppv.sel(longitude=lons[1], latitude=lats[1], method=\"nearest\").hvplot.line()"
   ]
  },
  {
   "cell_type": "markdown",
   "id": "85ee124b-741c-41d8-8c8e-5fd6e206ee95",
   "metadata": {
    "tags": []
   },
   "source": [
    "## Alternative datasets..."
   ]
  },
  {
   "cell_type": "code",
   "execution_count": null,
   "id": "f96f41a2-0e00-41a6-8ddb-3ae68ab03ef0",
   "metadata": {},
   "outputs": [],
   "source": [
    "# This one is a daily measurements... it takes longer to load.\n",
    "print(\"global-ocean-biogeochemistry-hindcast-daily mean: \", \n",
    "      gd.datasets.loc[\"global-ocean-biogeochemistry-hindcast-daily mean\"].database_description,\n",
    "     \"\\n\")\n",
    "\n",
    "# This one is a forecast based on some models and are not observations, but they contain more attributes.\n",
    "print('global-analysis-forecast-bio-001-028-monthly', \n",
    "      gd.datasets.loc['global-analysis-forecast-bio-001-028-monthly'].database_description,\n",
    "     \"\\n\")"
   ]
  },
  {
   "cell_type": "code",
   "execution_count": null,
   "id": "0b794612-b61f-4047-877f-c7a04d7e2e61",
   "metadata": {},
   "outputs": [],
   "source": [
    "ds= gd.open_dataset('global-analysis-forecast-bio-001-028-monthly')"
   ]
  },
  {
   "cell_type": "code",
   "execution_count": null,
   "id": "8857c0c7-4c04-4778-981b-4cd45f7f0d38",
   "metadata": {},
   "outputs": [],
   "source": [
    "ds_slice2022 = ds.sel(longitude=slice(0,25),\n",
    "                      latitude=slice(50,75),\n",
    "                      time=slice('2022-01-01', '2022-12-31'))"
   ]
  },
  {
   "cell_type": "code",
   "execution_count": null,
   "id": "ca139dfb-73c5-47e7-9577-6e3b14550c4a",
   "metadata": {},
   "outputs": [],
   "source": [
    "ds_time = ds_slice2022.isel(depth=0)"
   ]
  },
  {
   "cell_type": "code",
   "execution_count": null,
   "id": "03ec6215-552c-4463-a0ce-3a9b0e3dbead",
   "metadata": {},
   "outputs": [],
   "source": [
    "ds_time.ph.sel(longitude=101, latitude=101, method=\"nearest\").hvplot.line()"
   ]
  },
  {
   "cell_type": "code",
   "execution_count": null,
   "id": "7aa715f0-d6c7-4e92-a1e9-d131ddd0a012",
   "metadata": {},
   "outputs": [],
   "source": [
    "ds_time.o2.sel(longitude=101, latitude=101, method=\"nearest\").hvplot.line()"
   ]
  },
  {
   "cell_type": "code",
   "execution_count": null,
   "id": "471413c7-ea48-4b3a-afc4-17f64250f133",
   "metadata": {},
   "outputs": [],
   "source": [
    "ds_time.ph.hvplot(groupby='time',\n",
    "                    widget_type='scrubber', \n",
    "                    widget_location='bottom',\n",
    "                    width=600, cmap='greens')"
   ]
  },
  {
   "cell_type": "code",
   "execution_count": null,
   "id": "5700364c-9630-44f1-a3ec-63b974d7ca11",
   "metadata": {},
   "outputs": [],
   "source": [
    "ds_time.o2.hvplot(groupby='time',\n",
    "                    widget_type='scrubber', \n",
    "                    widget_location='bottom',\n",
    "                    cmap='reds',\n",
    "                    width=600)"
   ]
  }
 ],
 "metadata": {
  "kernelspec": {
   "display_name": "Python 3 (ipykernel)",
   "language": "python",
   "name": "python3"
  },
  "language_info": {
   "codemirror_mode": {
    "name": "ipython",
    "version": 3
   },
   "file_extension": ".py",
   "mimetype": "text/x-python",
   "name": "python",
   "nbconvert_exporter": "python",
   "pygments_lexer": "ipython3",
   "version": "3.12.3"
  }
 },
 "nbformat": 4,
 "nbformat_minor": 5
}
