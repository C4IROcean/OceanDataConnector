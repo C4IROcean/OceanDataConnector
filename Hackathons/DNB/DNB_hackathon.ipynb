{
 "cells": [
  {
   "cell_type": "markdown",
   "id": "11b6fbb4-ff5c-4e4c-badf-c153fb81acf6",
   "metadata": {
    "tags": []
   },
   "source": [
    "## DNB/Hub Ocean Hackathon"
   ]
  },
  {
   "cell_type": "code",
   "execution_count": 1,
   "id": "f4231efb-468b-4c3e-a6e3-814c8b39fe66",
   "metadata": {},
   "outputs": [],
   "source": [
    "import odp.geospatial as odp\n",
    "import warnings\n",
    "import geopandas as gpd\n",
    "import pandas as pd\n",
    "import cmocean\n",
    "pd.set_option(\"display.max_columns\", None)\n",
    "warnings.filterwarnings(\"ignore\")"
   ]
  },
  {
   "cell_type": "code",
   "execution_count": 2,
   "id": "0903b9cf-7f90-4044-a7c4-65b0aa143789",
   "metadata": {},
   "outputs": [],
   "source": [
    "db = odp.Database()\n",
    "db_plt = odp.PlotTools()\n",
    "gd = odp.GridData()"
   ]
  },
  {
   "cell_type": "markdown",
   "id": "1f03d872-12e7-4df5-aa46-12e4995cbe14",
   "metadata": {},
   "source": [
    "### First we will work with tabular data"
   ]
  },
  {
   "cell_type": "markdown",
   "id": "5da67a82-ab89-4c82-bfa4-c4f348c0b299",
   "metadata": {},
   "source": [
    "#### The following shows the available datasets that can be used as dataframes\n",
    "#### Alternatively check out the data catalog in the [Ocean Data Explorer Catalog](https://app.oceandata.earth/catalog)"
   ]
  },
  {
   "cell_type": "code",
   "execution_count": 3,
   "id": "e9e52f38-3438-4de0-abf7-182b9a8adb6e",
   "metadata": {
    "scrolled": true,
    "tags": []
   },
   "outputs": [],
   "source": [
    "db.datasets"
   ]
  },
  {
   "cell_type": "markdown",
   "id": "416b3986-4545-4483-b321-d3b94ea93b92",
   "metadata": {},
   "source": [
    "### Pulling data from a dataset.\n",
    "#### This is general query you will use, examples to follow"
   ]
  },
  {
   "cell_type": "markdown",
   "id": "cc733a23-cb44-455e-b1c1-ce098f7aae13",
   "metadata": {},
   "source": [
    "\n",
    "```\n",
    "db.query(\n",
    "    ds_name,\n",
    "    date_from=None,\n",
    "    date_to=None,\n",
    "    poly=None,\n",
    "    filters=[],\n",
    "    limit=1000000.0,\n",
    "    data_columns=['*'],\n",
    ")\n",
    "```\n",
    "\n",
    "\n",
    "Example:\n",
    "```\n",
    "df=query('Ocean Biodiversity Information System')\n",
    "        date_from='2000-01-01',\n",
    "        date_to='2020-02-01',\n",
    "        poly='POLYGON ((51.0 3.0, 51.3 3.61, 51.3 3.0, 51.0 3.0))',\n",
    "        limit=5)\n",
    "```"
   ]
  },
  {
   "cell_type": "markdown",
   "id": "957db784-9811-44b8-a11e-6e7956dfdd1d",
   "metadata": {},
   "source": [
    "#### Run a query for the \"Emodnet HA aquaculture - marine Finfish\" dataset listed above"
   ]
  },
  {
   "cell_type": "code",
   "execution_count": 4,
   "id": "3d153cd9-2173-4391-9ac5-09712c66444e",
   "metadata": {},
   "outputs": [],
   "source": [
    "df=db.query('Emodnet HA aquaculture - marine Finfish',\n",
    "        limit=5)"
   ]
  },
  {
   "cell_type": "code",
   "execution_count": 5,
   "id": "686d492b-685e-45ad-8f30-95a8df6bbdd6",
   "metadata": {},
   "outputs": [],
   "source": [
    "df.head(3)"
   ]
  },
  {
   "cell_type": "code",
   "execution_count": 6,
   "id": "32408f18-615f-455b-ae67-68d709f592b7",
   "metadata": {},
   "outputs": [],
   "source": [
    "#### We can add a filter for just Norway\n",
    "filter1 = db.filter_data(\"COUNTRY\", \"=\", \"Norway\")\n",
    "df=db.query('Emodnet HA aquaculture - marine Finfish',\n",
    "            filters=[filter1])"
   ]
  },
  {
   "cell_type": "code",
   "execution_count": 7,
   "id": "f5dab8b9-f359-4a3e-b23e-dbdbdf0ef084",
   "metadata": {},
   "outputs": [],
   "source": [
    "df.head(3)"
   ]
  },
  {
   "cell_type": "markdown",
   "id": "f71945f9-b4e9-4bd9-bc2f-fd50e60d2a62",
   "metadata": {},
   "source": [
    "#### Let's plot (this may take a bit of time)"
   ]
  },
  {
   "cell_type": "code",
   "execution_count": 8,
   "id": "49633b89-f281-429e-8885-37b37a264076",
   "metadata": {},
   "outputs": [],
   "source": [
    "db_plt.plot_points(df)"
   ]
  },
  {
   "cell_type": "markdown",
   "id": "1e0978ee-211c-4e3a-9533-ebb3d1217bed",
   "metadata": {},
   "source": [
    "### We can also just query for a specific region of the country by adding a polygon to our query"
   ]
  },
  {
   "cell_type": "code",
   "execution_count": 9,
   "id": "90c2dd0b-be49-4bb7-ac9b-48e930f7264a",
   "metadata": {},
   "outputs": [],
   "source": [
    "poly = \"POLYGON ((5.0 59.0, 10 59, 10 64, 5 64, 5 59))\""
   ]
  },
  {
   "cell_type": "code",
   "execution_count": 10,
   "id": "a70012cf-daa3-4cd7-b55a-65ce65f87c3a",
   "metadata": {},
   "outputs": [],
   "source": [
    "filter1 = db.filter_data(\"COUNTRY\", \"=\", \"Norway\")\n",
    "df=db.query('Emodnet HA aquaculture - marine Finfish',\n",
    "            filters=[filter1],\n",
    "            poly=poly)"
   ]
  },
  {
   "cell_type": "code",
   "execution_count": 11,
   "id": "5810a83f-ca4c-449a-a66e-be07f8fc72cf",
   "metadata": {},
   "outputs": [],
   "source": [
    "db_plt.plot_points(df)"
   ]
  },
  {
   "cell_type": "markdown",
   "id": "85ac7b8e-0b66-4276-93f8-f4d60b62ff5a",
   "metadata": {},
   "source": [
    "### Let's see if any of them are in MPAS\n",
    "#### Pull data for MPAS in Norway"
   ]
  },
  {
   "cell_type": "code",
   "execution_count": 12,
   "id": "77a60991-4d69-45f9-914f-e0b205d34fe6",
   "metadata": {},
   "outputs": [],
   "source": [
    "filter1 = db.filter_data(\"country\", \"=\", \"Norway\")\n",
    "df_mpa = db.query(\"ProtectedSeas MPA Dataset\",\n",
    "                  filters=[filter1])\n",
    "df_mpa.head(5)"
   ]
  },
  {
   "cell_type": "markdown",
   "id": "6e4f9507-1810-4d68-88af-fe096c3b8584",
   "metadata": {},
   "source": [
    "#### Let's visualize one"
   ]
  },
  {
   "cell_type": "code",
   "execution_count": 13,
   "id": "1ed1efbd-e296-4df7-b4cb-c3c8538e29b4",
   "metadata": {},
   "outputs": [],
   "source": [
    "poly = df_mpa.iloc[0][\"geometry\"]\n",
    "print(df_mpa.iloc[0][\"site_name\"])\n",
    "poly"
   ]
  },
  {
   "cell_type": "code",
   "execution_count": 14,
   "id": "bda4e677-f763-4786-acc4-ef39340c189b",
   "metadata": {},
   "outputs": [],
   "source": [
    "df_mpa.shape"
   ]
  },
  {
   "cell_type": "markdown",
   "id": "0a56dac5-d105-4bdd-9f51-435c81360d06",
   "metadata": {},
   "source": [
    "### Do a spatial join using geopandas functionality, documentation [here](https://geopandas.org/en/stable/docs/user_guide/mergingdata.html)"
   ]
  },
  {
   "cell_type": "markdown",
   "id": "54b3e210-eeb3-44ad-8c65-5aa98247671f",
   "metadata": {},
   "source": [
    "It looks like they've included Norway's entire EEZ, so let's filter that one out, along with \"Norway Territorial Waters\" first before joining\n"
   ]
  },
  {
   "cell_type": "code",
   "execution_count": 15,
   "id": "7fec9692-c062-497f-b72f-c1c62d4b26ba",
   "metadata": {},
   "outputs": [],
   "source": [
    "df_mpa=df_mpa[df_mpa.site_name != \"Norway EEZ (0-200NM)\"]\n",
    "df_mpa=df_mpa[df_mpa.site_name != \"Norway Territorial Waters\"]"
   ]
  },
  {
   "cell_type": "code",
   "execution_count": 16,
   "id": "255a51bf-56b7-4122-8c4c-408986b994ec",
   "metadata": {},
   "outputs": [],
   "source": [
    "dff = df.sjoin(df_mpa, how=\"inner\", predicate='intersects')"
   ]
  },
  {
   "cell_type": "code",
   "execution_count": 17,
   "id": "9f1c2b93-8a3f-4a8f-b301-377f5e27b501",
   "metadata": {},
   "outputs": [],
   "source": [
    "dff.head()"
   ]
  },
  {
   "cell_type": "code",
   "execution_count": 18,
   "id": "a0df7a2b-30bd-49a0-9fa9-3df9faab208f",
   "metadata": {},
   "outputs": [],
   "source": [
    "## Looks like 5 of the farms are in MPAs\n",
    "df.shape, dff.shape"
   ]
  },
  {
   "cell_type": "markdown",
   "id": "00cc4697-dd4c-4743-8389-6b854930be1b",
   "metadata": {},
   "source": [
    "### Let's play around with some gridded data"
   ]
  },
  {
   "cell_type": "markdown",
   "id": "94e010c7-f136-4098-bed3-eac49f173650",
   "metadata": {},
   "source": [
    "#### The following shows the available gridded datasets.\n",
    "#### Alternatively check out the data catalog in the [Ocean Data Explorer search bar](https://app.oceandata.earth/explorer)"
   ]
  },
  {
   "cell_type": "code",
   "execution_count": 19,
   "id": "df68bfc7-7f0b-4429-bd04-7861fffd5e41",
   "metadata": {
    "scrolled": true
   },
   "outputs": [],
   "source": [
    "gd.datasets"
   ]
  },
  {
   "cell_type": "code",
   "execution_count": 20,
   "id": "d9f25ca8-bc6a-44cc-bbfa-ec2597f6f218",
   "metadata": {},
   "outputs": [],
   "source": [
    "## Feel free to click though the coordinates and variables (little data icon), and information about them (little paper icon)\n",
    "ds= gd.open_dataset('global-analysis-forecast-bio-001-028-monthly')\n",
    "ds"
   ]
  },
  {
   "cell_type": "markdown",
   "id": "f2e39cef-c014-4919-8861-16a89f7b43cb",
   "metadata": {},
   "source": [
    "#### Using built-in [xarray functionality](https://docs.xarray.dev/en/stable/user-guide/indexing.html) we can easily slice to time and place we are interested in. "
   ]
  },
  {
   "cell_type": "code",
   "execution_count": 21,
   "id": "f1a60d1a-5f52-4a60-90d4-2db17259773b",
   "metadata": {},
   "outputs": [],
   "source": [
    "ds_slice = ds.sel(\n",
    "            longitude=slice(0,30),\n",
    "            latitude=slice(50,70),\n",
    "            time=slice('2021-01-01', '2022-12-31'))\n",
    "\n",
    "ds_slice"
   ]
  },
  {
   "cell_type": "markdown",
   "id": "f081963f-7ec6-4930-a1f1-2fe5fed79929",
   "metadata": {
    "tags": []
   },
   "source": [
    "#### Using built-in [xarray functionality](https://docs.xarray.dev/en/stable/user-guide/plotting.html) we can easily slice visualize the data\n",
    "#### I am using the [cmocean](https://matplotlib.org/cmocean/) library for the colormap, but you can use one of your choice"
   ]
  },
  {
   "cell_type": "code",
   "execution_count": 22,
   "id": "31416fcf-7c99-4c32-acfb-454330ffb9d9",
   "metadata": {},
   "outputs": [],
   "source": [
    "monthly_means = ds_slice.isel(depth=0).groupby(\"time.month\").mean()\n",
    "fg = monthly_means.o2.plot(\n",
    "    col=\"month\",\n",
    "    col_wrap=4,\n",
    "    cmap=cmocean.cm.oxy,\n",
    ")"
   ]
  },
  {
   "cell_type": "code",
   "execution_count": 23,
   "id": "f4596a88-84c0-4171-8b34-1f5c926d57d7",
   "metadata": {},
   "outputs": [],
   "source": [
    "monthly_means = ds_slice.isel(depth=0).groupby(\"time.month\").mean()\n",
    "fg = monthly_means.no3.plot(\n",
    "    col=\"month\",\n",
    "    col_wrap=4,\n",
    "    cmap=cmocean.cm.dense,\n",
    ")"
   ]
  },
  {
   "cell_type": "markdown",
   "id": "af784210-98f5-4d1b-bb29-46a377ac3087",
   "metadata": {},
   "source": [
    "#### You can select a specific depth and plot the data variables for that depth over time  "
   ]
  },
  {
   "cell_type": "code",
   "execution_count": 24,
   "id": "3438f748-db15-47b8-8334-4033d2f2dc39",
   "metadata": {},
   "outputs": [],
   "source": [
    "ds_time = ds_slice.isel(depth=0)\n",
    "ds_time"
   ]
  },
  {
   "cell_type": "code",
   "execution_count": 25,
   "id": "506bd8c9-d6d8-491f-a4a0-46cf0728e694",
   "metadata": {},
   "outputs": [],
   "source": [
    "d_time = ds_time.ph.sel(longitude=5, latitude=60, method=\"nearest\")\n",
    "d_time.plot()"
   ]
  },
  {
   "cell_type": "markdown",
   "id": "c2feaa9a-28c6-42d3-a441-1047eec59ac7",
   "metadata": {},
   "source": [
    "## Challenge"
   ]
  },
  {
   "cell_type": "markdown",
   "id": "a085145a-ee60-4c42-8307-22957472d32d",
   "metadata": {},
   "source": [
    "#### Pick a an area with many farms from the Emodnet HA aquaculture - marine Finfish dataset or pick other industry assets from other Emodnet Human Activity datasets\n",
    "You can filter for a specific Owner/Company if you like "
   ]
  },
  {
   "cell_type": "markdown",
   "id": "f2d39e19-b75c-4a9f-ba96-51614fbfa413",
   "metadata": {},
   "source": [
    "Using the \"global-ocean-biogeochemistry-hindcast-monthly mean\" plot different variables in that location<br>\n",
    "What are some trends?\n",
    "Can you do extra research on when the farm was established?<br>\n",
    "What other organisms are in that area?<br>\n",
    "Are there other industries operating in that same area?<br>\n",
    "Are there seasonal differences? <br>\n",
    "Create whichever visualizations you think are releveant"
   ]
  },
  {
   "cell_type": "code",
   "execution_count": null,
   "id": "0791fbfd-b375-4981-a2d8-12263673cf18",
   "metadata": {},
   "outputs": [],
   "source": []
  }
 ],
 "metadata": {
  "kernelspec": {
   "display_name": "Python 3 (ipykernel)",
   "language": "python",
   "name": "python3"
  },
  "language_info": {
   "codemirror_mode": {
    "name": "ipython",
    "version": 3
   },
   "file_extension": ".py",
   "mimetype": "text/x-python",
   "name": "python",
   "nbconvert_exporter": "python",
   "pygments_lexer": "ipython3",
   "version": "3.10.10"
  }
 },
 "nbformat": 4,
 "nbformat_minor": 5
}
