{
 "cells": [
  {
   "cell_type": "code",
   "execution_count": 1,
   "id": "b1ffce11-78e7-4940-ac47-f98300970943",
   "metadata": {},
   "outputs": [],
   "source": [
    "from odp.client import OdpClient\n",
    "from odp.client.dto.file_dto import FileMetadataDto\n",
    "from odp.dto import Metadata\n",
    "from odp.dto.catalog import DatasetDto, DatasetSpec\n",
    "from odp.dto.common.contact_info import ContactInfo\n",
    "\n",
    "# Instantiate the client without specifying a token provider.\n",
    "#   The token provider will be set based on the environment.\n",
    "client = OdpClient()"
   ]
  },
  {
   "cell_type": "markdown",
   "id": "d60d2e79-f2f8-4bd9-a685-8cc02553b14d",
   "metadata": {},
   "source": [
    "### You can upload your own data to either 'raw' or 'tabular'\n",
    "#### Uploading to raw allows you to fetch your data by downloading it from anywhere"
   ]
  },
  {
   "cell_type": "markdown",
   "id": "93738384-c9fc-4486-aa20-02ac77faec03",
   "metadata": {},
   "source": [
    "#### First let's start with creating a catalog entry for the data you want to upload"
   ]
  },
  {
   "cell_type": "code",
   "execution_count": null,
   "id": "57f42d05-5ba6-4ff5-b876-483538c3e294",
   "metadata": {},
   "outputs": [],
   "source": [
    "# Declare a dataset manifest to add to the catalog\n",
    "\n",
    "print(\"Creating sample dataset\")\n",
    "\n",
    "dataset = DatasetDto(\n",
    "    metadata=Metadata(\n",
    "        name=client.personalize_name(\"sdk-raw-example-ebsa\"),\n",
    "        display_name=\"Test Name\",\n",
    "        description=\"A test dataset for raw data\",\n",
    "        labels={\"hubocean.io/test\": True},\n",
    "    ),\n",
    "    spec=DatasetSpec(\n",
    "        storage_controller=\"registry.hubocean.io/storageController/storage-raw-cdffs\",\n",
    "        storage_class=\"registry.hubocean.io/storageClass/raw\",\n",
    "        maintainer=ContactInfo(\n",
    "            contact=\"User <user@gmail.com>\",\n",
    "            organization=\"Test Org\",\n",
    "        ),\n",
    "    ),\n",
    ")"
   ]
  },
  {
   "cell_type": "code",
   "execution_count": null,
   "id": "732c5b77-2831-48fe-bec4-dab3c55929a5",
   "metadata": {},
   "outputs": [],
   "source": [
    "# The dataset is created in the catalog.\n",
    "dataset = client.catalog.create(dataset)"
   ]
  },
  {
   "cell_type": "code",
   "execution_count": null,
   "id": "183b5f28-20d9-420b-bcac-e248b8c12f5a",
   "metadata": {},
   "outputs": [],
   "source": [
    "dataset.metadata"
   ]
  },
  {
   "cell_type": "markdown",
   "id": "036a1408-c612-42b2-b3c9-f81d2d4cb4fc",
   "metadata": {},
   "source": [
    "#### Now upload the file"
   ]
  },
  {
   "cell_type": "code",
   "execution_count": null,
   "id": "b3271bfe-31df-4162-911d-f884012fd0cc",
   "metadata": {},
   "outputs": [],
   "source": [
    "with open(\"path_to_file_want_to_upload\", \"rb\") as data:\n",
    "    # Creating and uploading a file.\n",
    "    file_dto = client.raw.create_file(\n",
    "        resource_dto=dataset,\n",
    "        file_metadata_dto=FileMetadataDto(\n",
    "            name=\"test.csv\",\n",
    "            mime_type=\"text/csv\",\n",
    "        ),\n",
    "        contents=data.read(),\n",
    "    )\n",
    "\n",
    "print(\"List of files in the dataset:\")\n",
    "\n",
    "for file in client.raw.list(dataset):\n",
    "    print(file)\n"
   ]
  },
  {
   "cell_type": "code",
   "execution_count": null,
   "id": "7f7fc7b1-94a3-46e3-b02d-bdd89b214383",
   "metadata": {},
   "outputs": [],
   "source": [
    "dataset"
   ]
  },
  {
   "cell_type": "markdown",
   "id": "cff61b34-fab5-405a-b699-9334491d4939",
   "metadata": {},
   "source": [
    "#### You should be able to see your dataset now under [My Data](https://app.hubocean.earth/data_collections)\n",
    "Make sure you switch the view to 'Dataset'![title](figs/my_dataset_view.png)"
   ]
  },
  {
   "cell_type": "markdown",
   "id": "34ea5021-f561-4216-8be4-faf89f9ee1be",
   "metadata": {},
   "source": [
    "#### You can download the file through the API as well"
   ]
  },
  {
   "cell_type": "code",
   "execution_count": null,
   "id": "c1e28ccb-5826-49d5-96b3-7cb253c0bd83",
   "metadata": {},
   "outputs": [],
   "source": [
    "# Download file\n",
    "print(\"Downloading the file\")\n",
    "\n",
    "client.raw.download_file(dataset, file_dto, \"test.csv\")\n"
   ]
  },
  {
   "cell_type": "markdown",
   "id": "ab7ec9e9-7be8-4480-8c98-b9829946819d",
   "metadata": {},
   "source": [
    "### This will delete your dataset, run only if want to delete it"
   ]
  },
  {
   "cell_type": "code",
   "execution_count": null,
   "id": "469c2f0f-3f13-4f25-8951-fb5108af8c6f",
   "metadata": {},
   "outputs": [],
   "source": [
    "# # Clean up\n",
    "# print(\"Cleaning up\")\n",
    "\n",
    "# client.raw.delete_file(dataset, file_dto)\n",
    "# client.catalog.delete(dataset)\n",
    "\n",
    "# print(\"Done\")"
   ]
  }
 ],
 "metadata": {
  "kernelspec": {
   "display_name": "Python 3 (ipykernel)",
   "language": "python",
   "name": "python3"
  },
  "language_info": {
   "codemirror_mode": {
    "name": "ipython",
    "version": 3
   },
   "file_extension": ".py",
   "mimetype": "text/x-python",
   "name": "python",
   "nbconvert_exporter": "python",
   "pygments_lexer": "ipython3",
   "version": "3.11.9"
  }
 },
 "nbformat": 4,
 "nbformat_minor": 5
}
