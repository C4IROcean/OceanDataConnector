{
 "cells": [
  {
   "cell_type": "code",
   "execution_count": 1,
   "id": "de896a7d",
   "metadata": {
    "tags": []
   },
   "outputs": [],
   "source": [
    "import pandas as pd\n",
    "import numpy as np\n",
    "import pydeck as pdk\n",
    "from os import environ, getenv, path\n",
    "from typing import TypedDict, Dict, Union, List\n",
    "from simulator_funcs import (\n",
    "    simulate,\n",
    "    load_ship,\n",
    "    get_routing_table_from_mmsi,\n",
    "    plot_df,\n",
    "    get_routing_and_emissions,\n",
    "    emissions_multiple_vessels,\n",
    ")\n",
    "\n",
    "import warnings\n",
    "\n",
    "warnings.filterwarnings(\"ignore\")\n",
    "\n",
    "from odp.geospatial.odp_vessel_simulator.models.icct.database_functions.lookup_ship_data import (\n",
    "    fetch_ship_data,\n",
    ")\n",
    "from odp.geospatial.odp_vessel_simulator.models.icct.database_functions.database import (\n",
    "    get_connection_pool,\n",
    "    get_engine,\n",
    ")\n",
    "import typing"
   ]
  },
  {
   "cell_type": "markdown",
   "id": "7094503f",
   "metadata": {},
   "source": [
    "## Color code explanation\n",
    "<p style=\"color:#FE774C; font-size:12pt;\"> Red means that values <i>have</i> to be inserted.</p> \n",
    "<p style=\"color:#9D59F4; font-size:12pt\"> Purple means that values <i>can</i> be inserted if other that the default values are needed.</p> \n"
   ]
  },
  {
   "cell_type": "markdown",
   "id": "8b9a0f89",
   "metadata": {},
   "source": [
    "<p> </p> \n",
    " <p style=\"color:#FE774C; font-size:20pt; font-weight:bold\"> Insert all the mmsis for the vessels interest in here </p> \n",
    "<p> For example like the list under with two vessels (change the mmsis and add more of them if needed). </p> "
   ]
  },
  {
   "cell_type": "code",
   "execution_count": 2,
   "id": "544cafef",
   "metadata": {},
   "outputs": [],
   "source": [
    "mmsis = [212552000, 319009700]"
   ]
  },
  {
   "cell_type": "markdown",
   "id": "b975130f",
   "metadata": {},
   "source": [
    "<p> </p> \n",
    " <p style=\"color:#FE774C; font-size:20pt; font-weight:bold\"> Insert the coordinates of the ports in the simulated paths </p> \n",
    "<p> For example like the list under where the path will go from Oslo to Kiel to Amsterdam. </p> "
   ]
  },
  {
   "cell_type": "code",
   "execution_count": 3,
   "id": "6dad539d",
   "metadata": {},
   "outputs": [],
   "source": [
    "coordinates = [[10.736223, 59.904479], [10.143301, 54.320150], [4.8079, 52.412]]"
   ]
  },
  {
   "cell_type": "markdown",
   "id": "1570fb6c",
   "metadata": {},
   "source": [
    "# Specifying properties needed for routing"
   ]
  },
  {
   "cell_type": "markdown",
   "id": "baf1dc4d",
   "metadata": {},
   "source": [
    "In the following cells we are specifying speed and draught for the vessels as well as graphing, time resolution, how detailed the routing should be and how much other vessel data should be weighed for the routing. "
   ]
  },
  {
   "cell_type": "markdown",
   "id": "070b7d8c",
   "metadata": {},
   "source": [
    "<p style=\"color:#9D59F4; font-size:15pt; font-weight:bold\"> Make a list for the speeds to simulate with for each vessel  </p> \n",
    "<p> If the speed is set to None, the maximum speed for the vessel is chosen. </p> "
   ]
  },
  {
   "cell_type": "code",
   "execution_count": 4,
   "id": "42e99a12",
   "metadata": {},
   "outputs": [
    {
     "data": {
      "text/plain": [
       "[None, None]"
      ]
     },
     "execution_count": 4,
     "metadata": {},
     "output_type": "execute_result"
    }
   ],
   "source": [
    "speeds = [None] * len(mmsis)\n",
    "# Or:\n",
    "# speeds = [10, 10] #Here, the speed for both vessels is set to 10 knots\n",
    "speeds"
   ]
  },
  {
   "cell_type": "markdown",
   "id": "06189491",
   "metadata": {},
   "source": [
    "<p style=\"color:#9D59F4; font-size:14pt; font-weight:bold\"> List of draught for the different vessels </p> \n",
    "<p> If they are set to None, the draught will be found in the data about the vessel particulars. </p> "
   ]
  },
  {
   "cell_type": "code",
   "execution_count": 5,
   "id": "0593e375",
   "metadata": {},
   "outputs": [
    {
     "data": {
      "text/plain": [
       "[None, None]"
      ]
     },
     "execution_count": 5,
     "metadata": {},
     "output_type": "execute_result"
    }
   ],
   "source": [
    "draughts = [None] * len(mmsis)\n",
    "# Or:\n",
    "# draughts = [7, 9] #here the draught for the first ship is 7m and for the second ship it is 9 m\n",
    "draughts"
   ]
  },
  {
   "cell_type": "markdown",
   "id": "984b882d",
   "metadata": {},
   "source": [
    "<p style=\"color:#9D59F4; font-size:14pt; font-weight:bold\"> Choose grapfing types for the vessels </p> \n",
    "<p> This is also found from the vessel particulars, but in the incidences where it cannot be found, it needs to be specified. Possible graph types are passenger, fishing, cargo, tanker and tug. </p> "
   ]
  },
  {
   "cell_type": "code",
   "execution_count": 6,
   "id": "219fa6c1",
   "metadata": {},
   "outputs": [
    {
     "data": {
      "text/plain": [
       "[None, None]"
      ]
     },
     "execution_count": 6,
     "metadata": {},
     "output_type": "execute_result"
    }
   ],
   "source": [
    "graphs = [None] * len(mmsis)\n",
    "# Or:\n",
    "# graphs = ['cargo', 'tug']\n",
    "graphs"
   ]
  },
  {
   "cell_type": "markdown",
   "id": "47baf396",
   "metadata": {},
   "source": [
    "### Make a dataframe of the mmsis, speeds, draughts and graphs\n",
    "This is used as input in the function finding routes and emissions."
   ]
  },
  {
   "cell_type": "code",
   "execution_count": 7,
   "id": "afe38726",
   "metadata": {},
   "outputs": [],
   "source": [
    "zipped_lists = list(zip(speeds, draughts, graphs))\n",
    "df_input_properties = pd.DataFrame(\n",
    "    zipped_lists, index=mmsis, columns=[\"speeds\", \"draughts\", \"graphs\"]\n",
    ")"
   ]
  },
  {
   "cell_type": "code",
   "execution_count": 8,
   "id": "2aec83a1",
   "metadata": {},
   "outputs": [
    {
     "data": {
      "text/html": [
       "<div>\n",
       "<style scoped>\n",
       "    .dataframe tbody tr th:only-of-type {\n",
       "        vertical-align: middle;\n",
       "    }\n",
       "\n",
       "    .dataframe tbody tr th {\n",
       "        vertical-align: top;\n",
       "    }\n",
       "\n",
       "    .dataframe thead th {\n",
       "        text-align: right;\n",
       "    }\n",
       "</style>\n",
       "<table border=\"1\" class=\"dataframe\">\n",
       "  <thead>\n",
       "    <tr style=\"text-align: right;\">\n",
       "      <th></th>\n",
       "      <th>speeds</th>\n",
       "      <th>draughts</th>\n",
       "      <th>graphs</th>\n",
       "    </tr>\n",
       "  </thead>\n",
       "  <tbody>\n",
       "    <tr>\n",
       "      <th>212552000</th>\n",
       "      <td>None</td>\n",
       "      <td>None</td>\n",
       "      <td>None</td>\n",
       "    </tr>\n",
       "    <tr>\n",
       "      <th>319009700</th>\n",
       "      <td>None</td>\n",
       "      <td>None</td>\n",
       "      <td>None</td>\n",
       "    </tr>\n",
       "  </tbody>\n",
       "</table>\n",
       "</div>"
      ],
      "text/plain": [
       "          speeds draughts graphs\n",
       "212552000   None     None   None\n",
       "319009700   None     None   None"
      ]
     },
     "execution_count": 8,
     "metadata": {},
     "output_type": "execute_result"
    }
   ],
   "source": [
    "df_input_properties"
   ]
  },
  {
   "cell_type": "markdown",
   "id": "51d83810",
   "metadata": {},
   "source": [
    "<p> </p>\n",
    "<p style=\"color:#9D59F4; font-size:14pt; font-weight:bold\"> Choose the time resolution for the graphing </p> \n",
    "<p> The default value is every 60th minute. Choose a value between 5 and 240. </p> "
   ]
  },
  {
   "cell_type": "code",
   "execution_count": 9,
   "id": "a9a497f5",
   "metadata": {},
   "outputs": [],
   "source": [
    "time_resolution = 60"
   ]
  },
  {
   "cell_type": "markdown",
   "id": "33fde227",
   "metadata": {},
   "source": [
    "<p> </p>\n",
    "<p style=\"color:#9D59F4; font-size:14pt; font-weight:bold\"> Decide how fine/coarse the routing should be </p> "
   ]
  },
  {
   "cell_type": "markdown",
   "id": "5818136d",
   "metadata": {},
   "source": [
    " * 0 = Coarse (fast)\n",
    " * 1 = Coarse + refined\n",
    " * 2 = Fine (slow)"
   ]
  },
  {
   "cell_type": "code",
   "execution_count": 10,
   "id": "f99b0873",
   "metadata": {},
   "outputs": [],
   "source": [
    "detailed_routing = 0"
   ]
  },
  {
   "cell_type": "markdown",
   "id": "9e59dfab",
   "metadata": {},
   "source": [
    "<p> </p>\n",
    "<p style=\"color:#9D59F4; font-size:14pt; font-weight:bold\"> How much should popular routes be weighted in the routing? </p> \n",
    "<p> Choose a value between 0 and 0.95. Default is 0.3. </p> "
   ]
  },
  {
   "cell_type": "code",
   "execution_count": 11,
   "id": "b5a72667",
   "metadata": {},
   "outputs": [],
   "source": [
    "cost_density = 0.3"
   ]
  },
  {
   "cell_type": "markdown",
   "id": "2eb8c9b7",
   "metadata": {},
   "source": [
    "## Finding paths and emissions for each vessel"
   ]
  },
  {
   "cell_type": "markdown",
   "id": "2233a8ac",
   "metadata": {},
   "source": [
    "Using a premade function called emissions_multiple_vessels that takes the coordinates chosen and the df_input_properties as arguments. OBS, this might take a while. "
   ]
  },
  {
   "cell_type": "code",
   "execution_count": 12,
   "id": "b911dd34",
   "metadata": {},
   "outputs": [
    {
     "name": "stdout",
     "output_type": "stream",
     "text": [
      "CPU times: user 15.4 s, sys: 505 ms, total: 15.9 s\n",
      "Wall time: 23.9 s\n"
     ]
    }
   ],
   "source": [
    "%%time\n",
    "df_summed_emissions, list_of_df_emissions, list_of_paths = emissions_multiple_vessels(\n",
    "    coordinates,\n",
    "    df_input_properties,\n",
    "    None,\n",
    "    None,\n",
    "    time_resolution,\n",
    "    detailed_routing,\n",
    "    cost_density,\n",
    ")"
   ]
  },
  {
   "cell_type": "markdown",
   "id": "5777a946",
   "metadata": {},
   "source": [
    "### Summed emissions for all vessels compared"
   ]
  },
  {
   "cell_type": "markdown",
   "id": "dae947e2-3f36-4d7f-9b8a-56c386ef8551",
   "metadata": {},
   "source": [
    "The vessel at the top is the one that emitts the least amount of CO2."
   ]
  },
  {
   "cell_type": "code",
   "execution_count": 13,
   "id": "d0dcc5eb",
   "metadata": {},
   "outputs": [
    {
     "data": {
      "text/html": [
       "<div>\n",
       "<style scoped>\n",
       "    .dataframe tbody tr th:only-of-type {\n",
       "        vertical-align: middle;\n",
       "    }\n",
       "\n",
       "    .dataframe tbody tr th {\n",
       "        vertical-align: top;\n",
       "    }\n",
       "\n",
       "    .dataframe thead th {\n",
       "        text-align: right;\n",
       "    }\n",
       "</style>\n",
       "<table border=\"1\" class=\"dataframe\">\n",
       "  <thead>\n",
       "    <tr style=\"text-align: right;\">\n",
       "      <th></th>\n",
       "      <th>emissions_CO2</th>\n",
       "      <th>emissions_CO</th>\n",
       "      <th>emissions_SOX</th>\n",
       "      <th>emissions_N2O</th>\n",
       "      <th>emissions_NOX</th>\n",
       "      <th>emissions_PM</th>\n",
       "      <th>emissions_CH4</th>\n",
       "    </tr>\n",
       "    <tr>\n",
       "      <th>ssvid</th>\n",
       "      <th></th>\n",
       "      <th></th>\n",
       "      <th></th>\n",
       "      <th></th>\n",
       "      <th></th>\n",
       "      <th></th>\n",
       "      <th></th>\n",
       "    </tr>\n",
       "  </thead>\n",
       "  <tbody>\n",
       "    <tr>\n",
       "      <th>319009700.0</th>\n",
       "      <td>5.591187e+07</td>\n",
       "      <td>47965.509719</td>\n",
       "      <td>48406.604353</td>\n",
       "      <td>2563.454380</td>\n",
       "      <td>6.498691e+05</td>\n",
       "      <td>17247.655382</td>\n",
       "      <td>902.123654</td>\n",
       "    </tr>\n",
       "    <tr>\n",
       "      <th>212552000.0</th>\n",
       "      <td>8.570677e+07</td>\n",
       "      <td>71672.791683</td>\n",
       "      <td>90470.236174</td>\n",
       "      <td>3912.549372</td>\n",
       "      <td>1.725141e+06</td>\n",
       "      <td>29074.798519</td>\n",
       "      <td>1338.138231</td>\n",
       "    </tr>\n",
       "  </tbody>\n",
       "</table>\n",
       "</div>"
      ],
      "text/plain": [
       "             emissions_CO2  emissions_CO  emissions_SOX  emissions_N2O  \\\n",
       "ssvid                                                                    \n",
       "319009700.0   5.591187e+07  47965.509719   48406.604353    2563.454380   \n",
       "212552000.0   8.570677e+07  71672.791683   90470.236174    3912.549372   \n",
       "\n",
       "             emissions_NOX  emissions_PM  emissions_CH4  \n",
       "ssvid                                                    \n",
       "319009700.0   6.498691e+05  17247.655382     902.123654  \n",
       "212552000.0   1.725141e+06  29074.798519    1338.138231  "
      ]
     },
     "execution_count": 13,
     "metadata": {},
     "output_type": "execute_result"
    }
   ],
   "source": [
    "df_summed_emissions"
   ]
  },
  {
   "cell_type": "markdown",
   "id": "961ae9e1",
   "metadata": {},
   "source": [
    "## Show the paths\n",
    "This one is for the vessel that uses the least amount of CO2"
   ]
  },
  {
   "cell_type": "code",
   "execution_count": 14,
   "id": "8b8b8349",
   "metadata": {},
   "outputs": [
    {
     "data": {
      "text/plain": [
       "319009700"
      ]
     },
     "execution_count": 14,
     "metadata": {},
     "output_type": "execute_result"
    }
   ],
   "source": [
    "min_co2_mmsi = int(df_summed_emissions.index[0])\n",
    "min_co2_mmsi"
   ]
  },
  {
   "cell_type": "code",
   "execution_count": 15,
   "id": "ce964785",
   "metadata": {},
   "outputs": [
    {
     "data": {
      "text/html": [
       "\n",
       "        <iframe\n",
       "            width=\"100%\"\n",
       "            height=500\n",
       "            frameborder=\"0\"\n",
       "            srcdoc=\"&lt;!DOCTYPE html&gt;\n",
       "&lt;html&gt;\n",
       "  &lt;head&gt;\n",
       "    &lt;meta http-equiv=&quot;content-type&quot; content=&quot;text/html; charset=UTF-8&quot; /&gt;\n",
       "    &lt;title&gt;pydeck&lt;/title&gt;\n",
       "        &lt;script src=&quot;https://api.tiles.mapbox.com/mapbox-gl-js/v1.13.0/mapbox-gl.js&quot;&gt;&lt;/script&gt;\n",
       "        &lt;link rel=&quot;stylesheet&quot; href=&quot;https://maxcdn.bootstrapcdn.com/bootstrap/3.2.0/css/bootstrap-theme.min.css&quot; /&gt;\n",
       "    &lt;link rel=&quot;stylesheet&quot; href=&quot;https://maxcdn.bootstrapcdn.com/font-awesome/4.6.3/css/font-awesome.min.css&quot; /&gt;\n",
       "    &lt;script src=&#x27;https://cdn.jsdelivr.net/npm/@deck.gl/jupyter-widget@~8.5.*/dist/index.js&#x27;&gt;&lt;/script&gt;\n",
       "    &lt;style&gt;\n",
       "    body {\n",
       "  margin: 0;\n",
       "  padding: 0;\n",
       "  overflow: hidden;\n",
       "}\n",
       "\n",
       "#deck-map-container {\n",
       "  width: 100%;\n",
       "  height: 100%;\n",
       "  background-color: black;\n",
       "}\n",
       "\n",
       "#map {\n",
       "  pointer-events: none;\n",
       "  height: 100%;\n",
       "  width: 100%;\n",
       "  position: absolute;\n",
       "  z-index: 1;\n",
       "}\n",
       "\n",
       "#deckgl-overlay {\n",
       "  z-index: 2;\n",
       "  background: none;\n",
       "}\n",
       "\n",
       "#deck-map-wrapper {\n",
       "  width: 100%;\n",
       "  height: 100%;\n",
       "}\n",
       "\n",
       "#deck-container {\n",
       "  width: 100vw;\n",
       "  height: 100vh;\n",
       "}\n",
       "    &lt;/style&gt;\n",
       "  &lt;/head&gt;\n",
       "  &lt;body&gt;\n",
       "    &lt;div id=&quot;deck-container&quot;&gt;\n",
       "    &lt;/div&gt;\n",
       "  &lt;/body&gt;\n",
       "  &lt;script&gt;\n",
       "    const jsonInput = {&quot;initialViewState&quot;: {&quot;latitude&quot;: 57.2, &quot;longitude&quot;: 10, &quot;zoom&quot;: 3}, &quot;layers&quot;: [{&quot;@@type&quot;: &quot;PathLayer&quot;, &quot;data&quot;: [{&quot;path&quot;: [[10.72265625, 59.853515625], [10.72265625, 59.853515625], [10.72265625, 59.677734375], [10.72265625, 59.677734375], [10.72265625, 59.501953125], [10.72265625, 59.501953125], [10.72265625, 59.326171875], [10.72265625, 59.23828125], [10.72265625, 59.150390625], [10.72265625, 58.974609375], [10.72265625, 58.740234375], [10.72265625, 58.53515625], [10.8984375, 58.359375], [11.07421875, 58.18359375], [11.07421875, 58.0078125], [11.25, 57.83203125], [11.42578125, 57.626953125], [11.42578125, 57.392578125], [11.77734375, 57.216796875], [11.77734375, 57.041015625], [11.77734375, 56.806640625], [11.77734375, 56.6015625], [11.77734375, 56.513671875], [11.42578125, 56.337890625], [11.42578125, 56.162109375], [11.42578125, 55.986328125], [11.42578125, 55.810546875], [11.07421875, 55.634765625], [11.07421875, 55.634765625], [11.07421875, 55.458984375], [11.07421875, 55.37109375], [11.07421875, 55.283203125], [11.07421875, 55.107421875], [11.07421875, 55.107421875], [10.72265625, 54.931640625], [10.72265625, 54.931640625], [10.72265625, 54.755859375], [10.72265625, 54.580078125], [10.72265625, 54.580078125], [10.37109375, 54.404296875], [10.37109375, 54.404296875], [10.01953125, 54.404296875], [9.66796875, 54.228515625], [9.66796875, 54.228515625], [9.31640625, 54.052734375], [9.31640625, 54.052734375], [8.96484375, 54.052734375], [8.96484375, 54.052734375], [8.61328125, 54.052734375], [8.4375, 54.052734375], [8.0859375, 54.052734375], [7.91015625, 54.052734375], [7.55859375, 53.876953125], [7.55859375, 53.876953125], [7.20703125, 53.876953125], [7.03125, 53.876953125], [6.6796875, 53.876953125], [6.328125, 53.876953125], [6.15234375, 53.876953125], [5.80078125, 53.701171875], [5.80078125, 53.701171875], [5.44921875, 53.525390625], [5.2734375, 53.525390625], [4.921875, 53.4375], [4.74609375, 53.349609375], [4.39453125, 53.173828125], [4.04296875, 52.998046875], [4.04296875, 52.763671875], [4.04296875, 52.646484375], [4.39453125, 52.470703125], [4.39453125, 52.470703125], [4.74609375, 52.470703125], [4.74609375, 52.470703125]]}], &quot;getColor&quot;: &quot;@@=[0,0,0, 150]&quot;, &quot;id&quot;: &quot;1b4a4a46-5a4f-492c-984d-0f25a1d60cd5&quot;, &quot;widthMinPixels&quot;: 2}, {&quot;@@type&quot;: &quot;PointCloudLayer&quot;, &quot;autoHighlight&quot;: true, &quot;data&quot;: [{&quot;distance_from_port_m&quot;: 5717.219100297454, &quot;distance_from_shore_m&quot;: 2128.5882735590944, &quot;draught_recent_m&quot;: 3.15, &quot;emissions_CH4&quot;: 6.122379010660412, &quot;emissions_CO&quot;: 277.3430984124586, &quot;emissions_CO2&quot;: 180625.6076424588, &quot;emissions_N2O&quot;: 9.859474061469541, &quot;emissions_NOX&quot;: 2807.119740167983, &quot;emissions_PM&quot;: 75.04578652887578, &quot;emissions_SOX&quot;: 156.0896601158078, &quot;in_a_eca&quot;: 1, &quot;in_a_river&quot;: 0, &quot;lat&quot;: 59.853515625, &quot;lon&quot;: 10.72265625, &quot;speed_knots&quot;: 5.0, &quot;ssvid&quot;: 319009700.0, &quot;timestamp&quot;: &quot;2022-01-01 01:00:00&quot;, &quot;total_power_demand_kw&quot;: 266.9994037119435}, {&quot;distance_from_port_m&quot;: 5717.219100297454, &quot;distance_from_shore_m&quot;: 2128.5882735590944, &quot;draught_recent_m&quot;: 3.15, &quot;emissions_CH4&quot;: 6.122379010660412, &quot;emissions_CO&quot;: 277.3430984124586, &quot;emissions_CO2&quot;: 180625.6076424588, &quot;emissions_N2O&quot;: 9.859474061469541, &quot;emissions_NOX&quot;: 2807.119740167983, &quot;emissions_PM&quot;: 75.04578652887578, &quot;emissions_SOX&quot;: 156.0896601158078, &quot;in_a_eca&quot;: 1, &quot;in_a_river&quot;: 0, &quot;lat&quot;: 59.853515625, &quot;lon&quot;: 10.72265625, &quot;speed_knots&quot;: 5.0, &quot;ssvid&quot;: 319009700.0, &quot;timestamp&quot;: &quot;2022-01-01 02:00:00&quot;, &quot;total_power_demand_kw&quot;: 266.9994037119435}, {&quot;distance_from_port_m&quot;: 25224.310248467875, &quot;distance_from_shore_m&quot;: 0.0, &quot;draught_recent_m&quot;: 3.15, &quot;emissions_CH4&quot;: 6.122379010660412, &quot;emissions_CO&quot;: 277.3430984124586, &quot;emissions_CO2&quot;: 180625.6076424588, &quot;emissions_N2O&quot;: 9.859474061469541, &quot;emissions_NOX&quot;: 2807.119740167983, &quot;emissions_PM&quot;: 75.04578652887578, &quot;emissions_SOX&quot;: 156.0896601158078, &quot;in_a_eca&quot;: 1, &quot;in_a_river&quot;: 0, &quot;lat&quot;: 59.677734375, &quot;lon&quot;: 10.72265625, &quot;speed_knots&quot;: 5.0, &quot;ssvid&quot;: 319009700.0, &quot;timestamp&quot;: &quot;2022-01-01 03:00:00&quot;, &quot;total_power_demand_kw&quot;: 266.9994037119435}, {&quot;distance_from_port_m&quot;: 25224.310248467875, &quot;distance_from_shore_m&quot;: 0.0, &quot;draught_recent_m&quot;: 3.15, &quot;emissions_CH4&quot;: 6.122379010660412, &quot;emissions_CO&quot;: 277.3430984124586, &quot;emissions_CO2&quot;: 180625.6076424588, &quot;emissions_N2O&quot;: 9.859474061469541, &quot;emissions_NOX&quot;: 2807.119740167983, &quot;emissions_PM&quot;: 75.04578652887578, &quot;emissions_SOX&quot;: 156.0896601158078, &quot;in_a_eca&quot;: 1, &quot;in_a_river&quot;: 0, &quot;lat&quot;: 59.677734375, &quot;lon&quot;: 10.72265625, &quot;speed_knots&quot;: 5.0, &quot;ssvid&quot;: 319009700.0, &quot;timestamp&quot;: &quot;2022-01-01 04:00:00&quot;, &quot;total_power_demand_kw&quot;: 266.9994037119435}, {&quot;distance_from_port_m&quot;: 44765.36757840379, &quot;distance_from_shore_m&quot;: 0.0, &quot;draught_recent_m&quot;: 3.15, &quot;emissions_CH4&quot;: 6.394368411770515, &quot;emissions_CO&quot;: 289.02627950559713, &quot;emissions_CO2&quot;: 185709.95497002837, &quot;emissions_N2O&quot;: 10.195597327045947, &quot;emissions_NOX&quot;: 2888.2374882604217, &quot;emissions_PM&quot;: 77.81204236971149, &quot;emissions_SOX&quot;: 160.4940339406021, &quot;in_a_eca&quot;: 1, &quot;in_a_river&quot;: 0, &quot;lat&quot;: 59.501953125, &quot;lon&quot;: 10.72265625, &quot;speed_knots&quot;: 5.09228858008903, &quot;ssvid&quot;: 319009700.0, &quot;timestamp&quot;: &quot;2022-01-01 05:00:00&quot;, &quot;total_power_demand_kw&quot;: 274.7263753343896}, {&quot;distance_from_port_m&quot;: 44765.36757840379, &quot;distance_from_shore_m&quot;: 0.0, &quot;draught_recent_m&quot;: 3.15, &quot;emissions_CH4&quot;: 6.394368411770515, &quot;emissions_CO&quot;: 289.02627950559713, &quot;emissions_CO2&quot;: 185709.95497002837, &quot;emissions_N2O&quot;: 10.195597327045947, &quot;emissions_NOX&quot;: 2888.2374882604217, &quot;emissions_PM&quot;: 77.81204236971149, &quot;emissions_SOX&quot;: 160.4940339406021, &quot;in_a_eca&quot;: 1, &quot;in_a_river&quot;: 0, &quot;lat&quot;: 59.501953125, &quot;lon&quot;: 10.72265625, &quot;speed_knots&quot;: 5.09228858008903, &quot;ssvid&quot;: 319009700.0, &quot;timestamp&quot;: &quot;2022-01-01 06:00:00&quot;, &quot;total_power_demand_kw&quot;: 274.7263753343896}, {&quot;distance_from_port_m&quot;: 64309.43566069037, &quot;distance_from_shore_m&quot;: 74.86417334311655, &quot;draught_recent_m&quot;: 3.15, &quot;emissions_CH4&quot;: 5.80094947276044, &quot;emissions_CO&quot;: 292.1702938964409, &quot;emissions_CO2&quot;: 241583.3037283862, &quot;emissions_N2O&quot;: 11.960373800708748, &quot;emissions_NOX&quot;: 3314.136877237711, &quot;emissions_PM&quot;: 85.70647259784258, &quot;emissions_SOX&quot;: 208.8949591568087, &quot;in_a_eca&quot;: 1, &quot;in_a_river&quot;: 0, &quot;lat&quot;: 59.326171875, &quot;lon&quot;: 10.72265625, &quot;speed_knots&quot;: 5.93945323834507, &quot;ssvid&quot;: 319009700.0, &quot;timestamp&quot;: &quot;2022-01-01 07:00:00&quot;, &quot;total_power_demand_kw&quot;: 359.64027922247146}, {&quot;distance_from_port_m&quot;: 74081.8541067798, &quot;distance_from_shore_m&quot;: 649.6174867116823, &quot;draught_recent_m&quot;: 3.15, &quot;emissions_CH4&quot;: 5.772098233586175, &quot;emissions_CO&quot;: 290.7474567645101, &quot;emissions_CO2&quot;: 240614.72641325017, &quot;emissions_N2O&quot;: 11.908706530554834, &quot;emissions_NOX&quot;: 3301.6678427072334, &quot;emissions_PM&quot;: 85.32375207818396, &quot;emissions_SOX&quot;: 208.05591801755713, &quot;in_a_eca&quot;: 1, &quot;in_a_river&quot;: 0, &quot;lat&quot;: 59.23828125, &quot;lon&quot;: 10.72265625, &quot;speed_knots&quot;: 5.926735326353655, &quot;ssvid&quot;: 319009700.0, &quot;timestamp&quot;: &quot;2022-01-01 08:00:00&quot;, &quot;total_power_demand_kw&quot;: 358.16827722378446}, {&quot;distance_from_port_m&quot;: 83854.40936058038, &quot;distance_from_shore_m&quot;: 7425.943171506748, &quot;draught_recent_m&quot;: 3.15, &quot;emissions_CH4&quot;: 5.743370550215431, &quot;emissions_CO&quot;: 289.33071295093043, &quot;emissions_CO2&quot;: 239650.29704294662, &quot;emissions_N2O&quot;: 11.857260526151105, &quot;emissions_NOX&quot;: 3289.2522069777997, &quot;emissions_PM&quot;: 84.94267056408225, &quot;emissions_SOX&quot;: 207.2204700827957, &quot;in_a_eca&quot;: 1, &quot;in_a_river&quot;: 0, &quot;lat&quot;: 59.150390625, &quot;lon&quot;: 10.72265625, &quot;speed_knots&quot;: 5.91401741436224, &quot;ssvid&quot;: 319009700.0, &quot;timestamp&quot;: &quot;2022-01-01 09:00:00&quot;, &quot;total_power_demand_kw&quot;: 356.7025790926241}, {&quot;distance_from_port_m&quot;: 103399.7751306794, &quot;distance_from_shore_m&quot;: 13514.472139820626, &quot;draught_recent_m&quot;: 3.15, &quot;emissions_CH4&quot;: 21.880000000000003, &quot;emissions_CO&quot;: 1181.5200000000002, &quot;emissions_CO2&quot;: 1444644.0, &quot;emissions_N2O&quot;: 65.64, &quot;emissions_NOX&quot;: 16268.82, &quot;emissions_PM&quot;: 437.6, &quot;emissions_SOX&quot;: 1251.06, &quot;in_a_eca&quot;: 1, &quot;in_a_river&quot;: 0, &quot;lat&quot;: 58.974609375, &quot;lon&quot;: 10.72265625, &quot;speed_knots&quot;: 13.0, &quot;ssvid&quot;: 319009700.0, &quot;timestamp&quot;: &quot;2022-01-01 10:00:00&quot;, &quot;total_power_demand_kw&quot;: 2188.0}, {&quot;distance_from_port_m&quot;: 129460.56578446769, &quot;distance_from_shore_m&quot;: 21332.46544762252, &quot;draught_recent_m&quot;: 3.15, &quot;emissions_CH4&quot;: 21.880000000000003, &quot;emissions_CO&quot;: 1181.5200000000002, &quot;emissions_CO2&quot;: 1444644.0, &quot;emissions_N2O&quot;: 65.64, &quot;emissions_NOX&quot;: 16268.82, &quot;emissions_PM&quot;: 437.6, &quot;emissions_SOX&quot;: 1251.06, &quot;in_a_eca&quot;: 1, &quot;in_a_river&quot;: 0, &quot;lat&quot;: 58.740234375, &quot;lon&quot;: 10.72265625, &quot;speed_knots&quot;: 13.0, &quot;ssvid&quot;: 319009700.0, &quot;timestamp&quot;: &quot;2022-01-01 11:00:00&quot;, &quot;total_power_demand_kw&quot;: 2188.0}, {&quot;distance_from_port_m&quot;: 152263.91402411702, &quot;distance_from_shore_m&quot;: 40451.10043771496, &quot;draught_recent_m&quot;: 3.15, &quot;emissions_CH4&quot;: 21.880000000000003, &quot;emissions_CO&quot;: 1181.5200000000002, &quot;emissions_CO2&quot;: 1444644.0, &quot;emissions_N2O&quot;: 65.64, &quot;emissions_NOX&quot;: 16268.82, &quot;emissions_PM&quot;: 437.6, &quot;emissions_SOX&quot;: 1251.06, &quot;in_a_eca&quot;: 1, &quot;in_a_river&quot;: 0, &quot;lat&quot;: 58.53515625, &quot;lon&quot;: 10.72265625, &quot;speed_knots&quot;: 13.0, &quot;ssvid&quot;: 319009700.0, &quot;timestamp&quot;: &quot;2022-01-01 12:00:00&quot;, &quot;total_power_demand_kw&quot;: 2188.0}, {&quot;distance_from_port_m&quot;: 172056.8867897029, &quot;distance_from_shore_m&quot;: 18428.10483222784, &quot;draught_recent_m&quot;: 3.15, &quot;emissions_CH4&quot;: 21.880000000000003, &quot;emissions_CO&quot;: 1181.5200000000002, &quot;emissions_CO2&quot;: 1444644.0, &quot;emissions_N2O&quot;: 65.64, &quot;emissions_NOX&quot;: 16268.82, &quot;emissions_PM&quot;: 437.6, &quot;emissions_SOX&quot;: 1251.06, &quot;in_a_eca&quot;: 1, &quot;in_a_river&quot;: 0, &quot;lat&quot;: 58.359375, &quot;lon&quot;: 10.8984375, &quot;speed_knots&quot;: 13.0, &quot;ssvid&quot;: 319009700.0, &quot;timestamp&quot;: &quot;2022-01-01 13:00:00&quot;, &quot;total_power_demand_kw&quot;: 2188.0}, {&quot;distance_from_port_m&quot;: 192327.36231483097, &quot;distance_from_shore_m&quot;: 20018.392254086804, &quot;draught_recent_m&quot;: 3.15, &quot;emissions_CH4&quot;: 21.880000000000003, &quot;emissions_CO&quot;: 1181.5200000000002, &quot;emissions_CO2&quot;: 1444644.0, &quot;emissions_N2O&quot;: 65.64, &quot;emissions_NOX&quot;: 16268.82, &quot;emissions_PM&quot;: 437.6, &quot;emissions_SOX&quot;: 1251.06, &quot;in_a_eca&quot;: 1, &quot;in_a_river&quot;: 0, &quot;lat&quot;: 58.18359375, &quot;lon&quot;: 11.07421875, &quot;speed_knots&quot;: 13.0, &quot;ssvid&quot;: 319009700.0, &quot;timestamp&quot;: &quot;2022-01-01 14:00:00&quot;, &quot;total_power_demand_kw&quot;: 2188.0}, {&quot;distance_from_port_m&quot;: 211787.94082865576, &quot;distance_from_shore_m&quot;: 23874.03312464082, &quot;draught_recent_m&quot;: 3.15, &quot;emissions_CH4&quot;: 21.880000000000003, &quot;emissions_CO&quot;: 1181.5200000000002, &quot;emissions_CO2&quot;: 1444644.0, &quot;emissions_N2O&quot;: 65.64, &quot;emissions_NOX&quot;: 16268.82, &quot;emissions_PM&quot;: 437.6, &quot;emissions_SOX&quot;: 1251.06, &quot;in_a_eca&quot;: 1, &quot;in_a_river&quot;: 0, &quot;lat&quot;: 58.0078125, &quot;lon&quot;: 11.07421875, &quot;speed_knots&quot;: 13.0, &quot;ssvid&quot;: 319009700.0, &quot;timestamp&quot;: &quot;2022-01-01 15:00:00&quot;, &quot;total_power_demand_kw&quot;: 2188.0}, {&quot;distance_from_port_m&quot;: 232329.2390724835, &quot;distance_from_shore_m&quot;: 21317.800506412746, &quot;draught_recent_m&quot;: 3.15, &quot;emissions_CH4&quot;: 21.880000000000003, &quot;emissions_CO&quot;: 1181.5200000000002, &quot;emissions_CO2&quot;: 1444644.0, &quot;emissions_N2O&quot;: 65.64, &quot;emissions_NOX&quot;: 16268.82, &quot;emissions_PM&quot;: 437.6, &quot;emissions_SOX&quot;: 1251.06, &quot;in_a_eca&quot;: 1, &quot;in_a_river&quot;: 0, &quot;lat&quot;: 57.83203125, &quot;lon&quot;: 11.25, &quot;speed_knots&quot;: 13.0, &quot;ssvid&quot;: 319009700.0, &quot;timestamp&quot;: &quot;2022-01-01 16:00:00&quot;, &quot;total_power_demand_kw&quot;: 2188.0}, {&quot;distance_from_port_m&quot;: 256347.95720801412, &quot;distance_from_shore_m&quot;: 13390.003535794911, &quot;draught_recent_m&quot;: 3.15, &quot;emissions_CH4&quot;: 21.880000000000003, &quot;emissions_CO&quot;: 1181.5200000000002, &quot;emissions_CO2&quot;: 1444644.0, &quot;emissions_N2O&quot;: 65.64, &quot;emissions_NOX&quot;: 16268.82, &quot;emissions_PM&quot;: 437.6, &quot;emissions_SOX&quot;: 1251.06, &quot;in_a_eca&quot;: 1, &quot;in_a_river&quot;: 0, &quot;lat&quot;: 57.626953125, &quot;lon&quot;: 11.42578125, &quot;speed_knots&quot;: 13.0, &quot;ssvid&quot;: 319009700.0, &quot;timestamp&quot;: &quot;2022-01-01 17:00:00&quot;, &quot;total_power_demand_kw&quot;: 2188.0}, {&quot;distance_from_port_m&quot;: 282141.4361962148, &quot;distance_from_shore_m&quot;: 16292.08912383459, &quot;draught_recent_m&quot;: 3.15, &quot;emissions_CH4&quot;: 21.880000000000003, &quot;emissions_CO&quot;: 1181.5200000000002, &quot;emissions_CO2&quot;: 1444644.0, &quot;emissions_N2O&quot;: 65.64, &quot;emissions_NOX&quot;: 16268.82, &quot;emissions_PM&quot;: 437.6, &quot;emissions_SOX&quot;: 1251.06, &quot;in_a_eca&quot;: 1, &quot;in_a_river&quot;: 0, &quot;lat&quot;: 57.392578125, &quot;lon&quot;: 11.42578125, &quot;speed_knots&quot;: 13.0, &quot;ssvid&quot;: 319009700.0, &quot;timestamp&quot;: &quot;2022-01-01 18:00:00&quot;, &quot;total_power_demand_kw&quot;: 2188.0}, {&quot;distance_from_port_m&quot;: 304886.25840351154, &quot;distance_from_shore_m&quot;: 18564.95491533896, &quot;draught_recent_m&quot;: 3.15, &quot;emissions_CH4&quot;: 21.880000000000003, &quot;emissions_CO&quot;: 1181.5200000000002, &quot;emissions_CO2&quot;: 1444644.0, &quot;emissions_N2O&quot;: 65.64, &quot;emissions_NOX&quot;: 16268.82, &quot;emissions_PM&quot;: 437.6, &quot;emissions_SOX&quot;: 1251.06, &quot;in_a_eca&quot;: 1, &quot;in_a_river&quot;: 0, &quot;lat&quot;: 57.216796875, &quot;lon&quot;: 11.77734375, &quot;speed_knots&quot;: 13.0, &quot;ssvid&quot;: 319009700.0, &quot;timestamp&quot;: &quot;2022-01-01 19:00:00&quot;, &quot;total_power_demand_kw&quot;: 2188.0}, {&quot;distance_from_port_m&quot;: 319396.07594559854, &quot;distance_from_shore_m&quot;: 35484.62530894943, &quot;draught_recent_m&quot;: 3.15, &quot;emissions_CH4&quot;: 21.880000000000003, &quot;emissions_CO&quot;: 1181.5200000000002, &quot;emissions_CO2&quot;: 1444644.0, &quot;emissions_N2O&quot;: 65.64, &quot;emissions_NOX&quot;: 16268.82, &quot;emissions_PM&quot;: 437.6, &quot;emissions_SOX&quot;: 1251.06, &quot;in_a_eca&quot;: 1, &quot;in_a_river&quot;: 0, &quot;lat&quot;: 57.041015625, &quot;lon&quot;: 11.77734375, &quot;speed_knots&quot;: 13.0, &quot;ssvid&quot;: 319009700.0, &quot;timestamp&quot;: &quot;2022-01-01 20:00:00&quot;, &quot;total_power_demand_kw&quot;: 2188.0}, {&quot;distance_from_port_m&quot;: 294938.74029487185, &quot;distance_from_shore_m&quot;: 11578.928964841403, &quot;draught_recent_m&quot;: 3.15, &quot;emissions_CH4&quot;: 21.880000000000003, &quot;emissions_CO&quot;: 1181.5200000000002, &quot;emissions_CO2&quot;: 1444644.0, &quot;emissions_N2O&quot;: 65.64, &quot;emissions_NOX&quot;: 16268.82, &quot;emissions_PM&quot;: 437.6, &quot;emissions_SOX&quot;: 1251.06, &quot;in_a_eca&quot;: 1, &quot;in_a_river&quot;: 0, &quot;lat&quot;: 56.806640625, &quot;lon&quot;: 11.77734375, &quot;speed_knots&quot;: 13.0, &quot;ssvid&quot;: 319009700.0, &quot;timestamp&quot;: &quot;2022-01-01 21:00:00&quot;, &quot;total_power_demand_kw&quot;: 2188.0}, {&quot;distance_from_port_m&quot;: 273781.2838639154, &quot;distance_from_shore_m&quot;: 15521.425859920462, &quot;draught_recent_m&quot;: 3.15, &quot;emissions_CH4&quot;: 21.880000000000003, &quot;emissions_CO&quot;: 1181.5200000000002, &quot;emissions_CO2&quot;: 1444644.0, &quot;emissions_N2O&quot;: 65.64, &quot;emissions_NOX&quot;: 16268.82, &quot;emissions_PM&quot;: 437.6, &quot;emissions_SOX&quot;: 1251.06, &quot;in_a_eca&quot;: 1, &quot;in_a_river&quot;: 0, &quot;lat&quot;: 56.6015625, &quot;lon&quot;: 11.77734375, &quot;speed_knots&quot;: 13.0, &quot;ssvid&quot;: 319009700.0, &quot;timestamp&quot;: &quot;2022-01-01 22:00:00&quot;, &quot;total_power_demand_kw&quot;: 2188.0}, {&quot;distance_from_port_m&quot;: 264797.424329954, &quot;distance_from_shore_m&quot;: 24467.62318893043, &quot;draught_recent_m&quot;: 3.15, &quot;emissions_CH4&quot;: 21.880000000000003, &quot;emissions_CO&quot;: 1181.5200000000002, &quot;emissions_CO2&quot;: 1444644.0, &quot;emissions_N2O&quot;: 65.64, &quot;emissions_NOX&quot;: 16268.82, &quot;emissions_PM&quot;: 437.6, &quot;emissions_SOX&quot;: 1251.06, &quot;in_a_eca&quot;: 1, &quot;in_a_river&quot;: 0, &quot;lat&quot;: 56.513671875, &quot;lon&quot;: 11.77734375, &quot;speed_knots&quot;: 13.0, &quot;ssvid&quot;: 319009700.0, &quot;timestamp&quot;: &quot;2022-01-01 23:00:00&quot;, &quot;total_power_demand_kw&quot;: 2188.0}, {&quot;distance_from_port_m&quot;: 238567.58456764428, &quot;distance_from_shore_m&quot;: 38788.792586247124, &quot;draught_recent_m&quot;: 3.15, &quot;emissions_CH4&quot;: 12.135858350654892, &quot;emissions_CO&quot;: 655.3363509353642, &quot;emissions_CO2&quot;: 803479.4794730919, &quot;emissions_N2O&quot;: 36.40757505196467, &quot;emissions_NOX&quot;: 9214.061445874142, &quot;emissions_PM&quot;: 242.71716701309785, &quot;emissions_SOX&quot;: 695.6439259873288, &quot;in_a_eca&quot;: 1, &quot;in_a_river&quot;: 0, &quot;lat&quot;: 56.337890625, &quot;lon&quot;: 11.42578125, &quot;speed_knots&quot;: 9.81559204626966, &quot;ssvid&quot;: 319009700.0, &quot;timestamp&quot;: &quot;2022-01-02 00:00:00&quot;, &quot;total_power_demand_kw&quot;: 1213.5858350654892}, {&quot;distance_from_port_m&quot;: 220353.75514213543, &quot;distance_from_shore_m&quot;: 21859.71599218433, &quot;draught_recent_m&quot;: 3.15, &quot;emissions_CH4&quot;: 10.154015058331378, &quot;emissions_CO&quot;: 548.3168131498944, &quot;emissions_CO2&quot;: 673074.1908382046, &quot;emissions_N2O&quot;: 30.462045174994127, &quot;emissions_NOX&quot;: 7779.2069022319165, &quot;emissions_PM&quot;: 203.08030116662755, &quot;emissions_SOX&quot;: 582.6788583248884, &quot;in_a_eca&quot;: 1, &quot;in_a_river&quot;: 0, &quot;lat&quot;: 56.162109375, &quot;lon&quot;: 11.42578125, &quot;speed_knots&quot;: 9.17646640631882, &quot;ssvid&quot;: 319009700.0, &quot;timestamp&quot;: &quot;2022-01-02 01:00:00&quot;, &quot;total_power_demand_kw&quot;: 1015.4015058331377}, {&quot;distance_from_port_m&quot;: 202388.51760120672, &quot;distance_from_shore_m&quot;: 2314.694646022977, &quot;draught_recent_m&quot;: 3.15, &quot;emissions_CH4&quot;: 21.880000000000003, &quot;emissions_CO&quot;: 1181.5200000000002, &quot;emissions_CO2&quot;: 1444644.0, &quot;emissions_N2O&quot;: 65.64, &quot;emissions_NOX&quot;: 16268.82, &quot;emissions_PM&quot;: 437.6, &quot;emissions_SOX&quot;: 1251.06, &quot;in_a_eca&quot;: 1, &quot;in_a_river&quot;: 0, &quot;lat&quot;: 55.986328125, &quot;lon&quot;: 11.42578125, &quot;speed_knots&quot;: 13.0, &quot;ssvid&quot;: 319009700.0, &quot;timestamp&quot;: &quot;2022-01-02 02:00:00&quot;, &quot;total_power_demand_kw&quot;: 2188.0}, {&quot;distance_from_port_m&quot;: 184744.40820877693, &quot;distance_from_shore_m&quot;: 0.0, &quot;draught_recent_m&quot;: 3.15, &quot;emissions_CH4&quot;: 21.880000000000003, &quot;emissions_CO&quot;: 1181.5200000000002, &quot;emissions_CO2&quot;: 1444644.0, &quot;emissions_N2O&quot;: 65.64, &quot;emissions_NOX&quot;: 16268.82, &quot;emissions_PM&quot;: 437.6, &quot;emissions_SOX&quot;: 1251.06, &quot;in_a_eca&quot;: 1, &quot;in_a_river&quot;: 0, &quot;lat&quot;: 55.810546875, &quot;lon&quot;: 11.42578125, &quot;speed_knots&quot;: 13.0, &quot;ssvid&quot;: 319009700.0, &quot;timestamp&quot;: &quot;2022-01-02 03:00:00&quot;, &quot;total_power_demand_kw&quot;: 2188.0}, {&quot;distance_from_port_m&quot;: 157785.26394771753, &quot;distance_from_shore_m&quot;: 0.0, &quot;draught_recent_m&quot;: 3.15, &quot;emissions_CH4&quot;: 6.893516520901662, &quot;emissions_CO&quot;: 372.2498921286898, &quot;emissions_CO2&quot;: 458533.3870753294, &quot;emissions_N2O&quot;: 20.680549562704986, &quot;emissions_NOX&quot;: 5418.605961132804, &quot;emissions_PM&quot;: 137.87033041803323, &quot;emissions_SOX&quot;: 396.8304416913947, &quot;in_a_eca&quot;: 1, &quot;in_a_river&quot;: 0, &quot;lat&quot;: 55.634765625, &quot;lon&quot;: 11.07421875, &quot;speed_knots&quot;: 7.99144694287444, &quot;ssvid&quot;: 319009700.0, &quot;timestamp&quot;: &quot;2022-01-02 04:00:00&quot;, &quot;total_power_demand_kw&quot;: 689.3516520901662}, {&quot;distance_from_port_m&quot;: 157785.26394771753, &quot;distance_from_shore_m&quot;: 0.0, &quot;draught_recent_m&quot;: 3.15, &quot;emissions_CH4&quot;: 6.893516520901662, &quot;emissions_CO&quot;: 372.2498921286898, &quot;emissions_CO2&quot;: 458533.3870753294, &quot;emissions_N2O&quot;: 20.680549562704986, &quot;emissions_NOX&quot;: 5418.605961132804, &quot;emissions_PM&quot;: 137.87033041803323, &quot;emissions_SOX&quot;: 396.8304416913947, &quot;in_a_eca&quot;: 1, &quot;in_a_river&quot;: 0, &quot;lat&quot;: 55.634765625, &quot;lon&quot;: 11.07421875, &quot;speed_knots&quot;: 7.99144694287444, &quot;ssvid&quot;: 319009700.0, &quot;timestamp&quot;: &quot;2022-01-02 05:00:00&quot;, &quot;total_power_demand_kw&quot;: 689.3516520901662}, {&quot;distance_from_port_m&quot;: 139926.92892546716, &quot;distance_from_shore_m&quot;: 5449.702005905235, &quot;draught_recent_m&quot;: 3.15, &quot;emissions_CH4&quot;: 5.345636023627991, &quot;emissions_CO&quot;: 282.2389233560318, &quot;emissions_CO2&quot;: 286217.3899667072, &quot;emissions_N2O&quot;: 13.359648937600744, &quot;emissions_NOX&quot;: 3651.828610274313, &quot;emissions_PM&quot;: 92.03905862098634, &quot;emissions_SOX&quot;: 247.55974510793783, &quot;in_a_eca&quot;: 1, &quot;in_a_river&quot;: 0, &quot;lat&quot;: 55.458984375, &quot;lon&quot;: 11.07421875, &quot;speed_knots&quot;: 6.47460202112309, &quot;ssvid&quot;: 319009700.0, &quot;timestamp&quot;: &quot;2022-01-02 06:00:00&quot;, &quot;total_power_demand_kw&quot;: 427.4732370314699}, {&quot;distance_from_port_m&quot;: 131178.31270418942, &quot;distance_from_shore_m&quot;: 1027.9401614434928, &quot;draught_recent_m&quot;: 3.15, &quot;emissions_CH4&quot;: 5.400770458130367, &quot;emissions_CO&quot;: 285.12861636436224, &quot;emissions_CO2&quot;: 288884.92363601335, &quot;emissions_N2O&quot;: 13.488566218275418, &quot;emissions_NOX&quot;: 3682.940647343801, &quot;emissions_PM&quot;: 92.93904718418689, &quot;emissions_SOX&quot;: 249.87052655399333, &quot;in_a_eca&quot;: 1, &quot;in_a_river&quot;: 0, &quot;lat&quot;: 55.37109375, &quot;lon&quot;: 11.07421875, &quot;speed_knots&quot;: 6.50388164156272, &quot;ssvid&quot;: 319009700.0, &quot;timestamp&quot;: &quot;2022-01-02 07:00:00&quot;, &quot;total_power_demand_kw&quot;: 431.52723956840936}, {&quot;distance_from_port_m&quot;: 122584.5486183079, &quot;distance_from_shore_m&quot;: 5820.794570817758, &quot;draught_recent_m&quot;: 3.15, &quot;emissions_CH4&quot;: 5.4564035501116726, &quot;emissions_CO&quot;: 288.0444448911471, &quot;emissions_CO2&quot;: 291576.5835274618, &quot;emissions_N2O&quot;: 13.618649477467, &quot;emissions_NOX&quot;: 3714.3340738953693, &quot;emissions_PM&quot;: 93.84717559741114, &quot;emissions_SOX&quot;: 252.2022076149745, &quot;in_a_eca&quot;: 1, &quot;in_a_river&quot;: 0, &quot;lat&quot;: 55.283203125, &quot;lon&quot;: 11.07421875, &quot;speed_knots&quot;: 6.53316126200235, &quot;ssvid&quot;: 319009700.0, &quot;timestamp&quot;: &quot;2022-01-02 08:00:00&quot;, &quot;total_power_demand_kw&quot;: 435.6179080964465}, {&quot;distance_from_port_m&quot;: 106011.64032502323, &quot;distance_from_shore_m&quot;: 9040.65144150266, &quot;draught_recent_m&quot;: 3.15, &quot;emissions_CH4&quot;: 5.418902866787566, &quot;emissions_CO&quot;: 292.62075480652857, &quot;emissions_CO2&quot;: 348597.91298535414, &quot;emissions_N2O&quot;: 15.785976844158405, &quot;emissions_NOX&quot;: 4237.382411723562, &quot;emissions_PM&quot;: 106.02439855472986, &quot;emissions_SOX&quot;: 301.5975841970393, &quot;in_a_eca&quot;: 1, &quot;in_a_river&quot;: 0, &quot;lat&quot;: 55.107421875, &quot;lon&quot;: 11.07421875, &quot;speed_knots&quot;: 7.10004654552268, &quot;ssvid&quot;: 319009700.0, &quot;timestamp&quot;: &quot;2022-01-02 09:00:00&quot;, &quot;total_power_demand_kw&quot;: 522.2764635035777}, {&quot;distance_from_port_m&quot;: 106011.64032502323, &quot;distance_from_shore_m&quot;: 9040.65144150266, &quot;draught_recent_m&quot;: 3.15, &quot;emissions_CH4&quot;: 5.418902866787566, &quot;emissions_CO&quot;: 292.62075480652857, &quot;emissions_CO2&quot;: 348597.91298535414, &quot;emissions_N2O&quot;: 15.785976844158405, &quot;emissions_NOX&quot;: 4237.382411723562, &quot;emissions_PM&quot;: 106.02439855472986, &quot;emissions_SOX&quot;: 301.5975841970393, &quot;in_a_eca&quot;: 1, &quot;in_a_river&quot;: 0, &quot;lat&quot;: 55.107421875, &quot;lon&quot;: 11.07421875, &quot;speed_knots&quot;: 7.10004654552268, &quot;ssvid&quot;: 319009700.0, &quot;timestamp&quot;: &quot;2022-01-02 10:00:00&quot;, &quot;total_power_demand_kw&quot;: 522.2764635035777}, {&quot;distance_from_port_m&quot;: 77550.36277634275, &quot;distance_from_shore_m&quot;: 0.0, &quot;draught_recent_m&quot;: 3.15, &quot;emissions_CH4&quot;: 5.88126146655426, &quot;emissions_CO&quot;: 317.5881191939301, &quot;emissions_CO2&quot;: 391927.00449927035, &quot;emissions_N2O&quot;: 17.64378439966278, &quot;emissions_NOX&quot;: 4685.733301785284, &quot;emissions_PM&quot;: 117.62522933108522, &quot;emissions_SOX&quot;: 339.1319035935928, &quot;in_a_eca&quot;: 1, &quot;in_a_river&quot;: 0, &quot;lat&quot;: 54.931640625, &quot;lon&quot;: 10.72265625, &quot;speed_knots&quot;: 7.47696713483652, &quot;ssvid&quot;: 319009700.0, &quot;timestamp&quot;: &quot;2022-01-02 11:00:00&quot;, &quot;total_power_demand_kw&quot;: 588.126146655426}, {&quot;distance_from_port_m&quot;: 77550.36277634275, &quot;distance_from_shore_m&quot;: 0.0, &quot;draught_recent_m&quot;: 3.15, &quot;emissions_CH4&quot;: 5.88126146655426, &quot;emissions_CO&quot;: 317.5881191939301, &quot;emissions_CO2&quot;: 391927.00449927035, &quot;emissions_N2O&quot;: 17.64378439966278, &quot;emissions_NOX&quot;: 4685.733301785284, &quot;emissions_PM&quot;: 117.62522933108522, &quot;emissions_SOX&quot;: 339.1319035935928, &quot;in_a_eca&quot;: 1, &quot;in_a_river&quot;: 0, &quot;lat&quot;: 54.931640625, &quot;lon&quot;: 10.72265625, &quot;speed_knots&quot;: 7.47696713483652, &quot;ssvid&quot;: 319009700.0, &quot;timestamp&quot;: &quot;2022-01-02 12:00:00&quot;, &quot;total_power_demand_kw&quot;: 588.126146655426}, {&quot;distance_from_port_m&quot;: 61189.146543973846, &quot;distance_from_shore_m&quot;: 0.0, &quot;draught_recent_m&quot;: 3.15, &quot;emissions_CH4&quot;: 5.751100981596065, &quot;emissions_CO&quot;: 310.55945300618754, &quot;emissions_CO2&quot;: 383362.4445890211, &quot;emissions_N2O&quot;: 17.253302944788192, &quot;emissions_NOX&quot;: 4591.497110675551, &quot;emissions_PM&quot;: 115.0220196319213, &quot;emissions_SOX&quot;: 331.71275595097563, &quot;in_a_eca&quot;: 1, &quot;in_a_river&quot;: 0, &quot;lat&quot;: 54.755859375, &quot;lon&quot;: 10.72265625, &quot;speed_knots&quot;: 7.40547512979615, &quot;ssvid&quot;: 319009700.0, &quot;timestamp&quot;: &quot;2022-01-02 13:00:00&quot;, &quot;total_power_demand_kw&quot;: 575.1100981596064}, {&quot;distance_from_port_m&quot;: 47310.13380841508, &quot;distance_from_shore_m&quot;: 17316.99107741004, &quot;draught_recent_m&quot;: 3.15, &quot;emissions_CH4&quot;: 8.288278096550586, &quot;emissions_CO&quot;: 447.5670172137316, &quot;emissions_CO2&quot;: 550308.6987530285, &quot;emissions_N2O&quot;: 24.864834289651753, &quot;emissions_NOX&quot;: 6428.413341902624, &quot;emissions_PM&quot;: 165.76556193101172, &quot;emissions_SOX&quot;: 476.33185150338335, &quot;in_a_eca&quot;: 1, &quot;in_a_river&quot;: 0, &quot;lat&quot;: 54.580078125, &quot;lon&quot;: 10.72265625, &quot;speed_knots&quot;: 8.4804478285769, &quot;ssvid&quot;: 319009700.0, &quot;timestamp&quot;: &quot;2022-01-02 14:00:00&quot;, &quot;total_power_demand_kw&quot;: 828.8278096550586}, {&quot;distance_from_port_m&quot;: 47310.13380841508, &quot;distance_from_shore_m&quot;: 17316.99107741004, &quot;draught_recent_m&quot;: 3.15, &quot;emissions_CH4&quot;: 8.288278096550586, &quot;emissions_CO&quot;: 447.5670172137316, &quot;emissions_CO2&quot;: 550308.6987530285, &quot;emissions_N2O&quot;: 24.864834289651753, &quot;emissions_NOX&quot;: 6428.413341902624, &quot;emissions_PM&quot;: 165.76556193101172, &quot;emissions_SOX&quot;: 476.33185150338335, &quot;in_a_eca&quot;: 1, &quot;in_a_river&quot;: 0, &quot;lat&quot;: 54.580078125, &quot;lon&quot;: 10.72265625, &quot;speed_knots&quot;: 8.4804478285769, &quot;ssvid&quot;: 319009700.0, &quot;timestamp&quot;: &quot;2022-01-02 15:00:00&quot;, &quot;total_power_demand_kw&quot;: 828.8278096550586}, {&quot;distance_from_port_m&quot;: 17474.51643478181, &quot;distance_from_shore_m&quot;: 0.0, &quot;draught_recent_m&quot;: 3.15, &quot;emissions_CH4&quot;: 5.7231544691850536, &quot;emissions_CO&quot;: 288.333730097667, &quot;emissions_CO2&quot;: 238971.6143226411, &quot;emissions_N2O&quot;: 11.821057238183439, &quot;emissions_NOX&quot;: 3280.5151468149365, &quot;emissions_PM&quot;: 84.67449806061806, &quot;emissions_SOX&quot;: 206.63255344058575, &quot;in_a_eca&quot;: 1, &quot;in_a_river&quot;: 0, &quot;lat&quot;: 54.404296875, &quot;lon&quot;: 10.37109375, &quot;speed_knots&quot;: 5.90503474138347, &quot;ssvid&quot;: 319009700.0, &quot;timestamp&quot;: &quot;2022-01-02 16:00:00&quot;, &quot;total_power_demand_kw&quot;: 355.6711463869925}, {&quot;distance_from_port_m&quot;: 17474.51643478181, &quot;distance_from_shore_m&quot;: 0.0, &quot;draught_recent_m&quot;: 3.15, &quot;emissions_CH4&quot;: 5.7231544691850536, &quot;emissions_CO&quot;: 288.333730097667, &quot;emissions_CO2&quot;: 238971.6143226411, &quot;emissions_N2O&quot;: 11.821057238183439, &quot;emissions_NOX&quot;: 3280.5151468149365, &quot;emissions_PM&quot;: 84.67449806061806, &quot;emissions_SOX&quot;: 206.63255344058575, &quot;in_a_eca&quot;: 1, &quot;in_a_river&quot;: 0, &quot;lat&quot;: 54.404296875, &quot;lon&quot;: 10.37109375, &quot;speed_knots&quot;: 5.90503474138347, &quot;ssvid&quot;: 319009700.0, &quot;timestamp&quot;: &quot;2022-01-02 18:00:00&quot;, &quot;total_power_demand_kw&quot;: 355.6711463869925}, {&quot;distance_from_port_m&quot;: 12322.774242502122, &quot;distance_from_shore_m&quot;: 0.0, &quot;draught_recent_m&quot;: 3.15, &quot;emissions_CH4&quot;: 6.122379010660412, &quot;emissions_CO&quot;: 277.3430984124586, &quot;emissions_CO2&quot;: 180625.6076424588, &quot;emissions_N2O&quot;: 9.859474061469541, &quot;emissions_NOX&quot;: 2807.119740167983, &quot;emissions_PM&quot;: 75.04578652887578, &quot;emissions_SOX&quot;: 156.0896601158078, &quot;in_a_eca&quot;: 1, &quot;in_a_river&quot;: 0, &quot;lat&quot;: 54.404296875, &quot;lon&quot;: 10.01953125, &quot;speed_knots&quot;: 5.0, &quot;ssvid&quot;: 319009700.0, &quot;timestamp&quot;: &quot;2022-01-01 03:00:00&quot;, &quot;total_power_demand_kw&quot;: 266.9994037119435}, {&quot;distance_from_port_m&quot;: 32500.521920814692, &quot;distance_from_shore_m&quot;: 0.0, &quot;draught_recent_m&quot;: 3.15, &quot;emissions_CH4&quot;: 6.223524538294914, &quot;emissions_CO&quot;: 281.68775857675877, &quot;emissions_CO2&quot;: 182516.3393806265, &quot;emissions_N2O&quot;: 9.984469244767862, &quot;emissions_NOX&quot;: 2837.2852444039772, &quot;emissions_PM&quot;: 76.0744825201585, &quot;emissions_SOX&quot;: 157.72752803488922, &quot;in_a_eca&quot;: 1, &quot;in_a_river&quot;: 0, &quot;lat&quot;: 54.228515625, &quot;lon&quot;: 9.66796875, &quot;speed_knots&quot;: 5.03471540537981, &quot;ssvid&quot;: 319009700.0, &quot;timestamp&quot;: &quot;2022-01-01 04:00:00&quot;, &quot;total_power_demand_kw&quot;: 269.87285620156}, {&quot;distance_from_port_m&quot;: 32500.521920814692, &quot;distance_from_shore_m&quot;: 0.0, &quot;draught_recent_m&quot;: 3.15, &quot;emissions_CH4&quot;: 6.223524538294914, &quot;emissions_CO&quot;: 281.68775857675877, &quot;emissions_CO2&quot;: 182516.3393806265, &quot;emissions_N2O&quot;: 9.984469244767862, &quot;emissions_NOX&quot;: 2837.2852444039772, &quot;emissions_PM&quot;: 76.0744825201585, &quot;emissions_SOX&quot;: 157.72752803488922, &quot;in_a_eca&quot;: 1, &quot;in_a_river&quot;: 0, &quot;lat&quot;: 54.228515625, &quot;lon&quot;: 9.66796875, &quot;speed_knots&quot;: 5.03471540537981, &quot;ssvid&quot;: 319009700.0, &quot;timestamp&quot;: &quot;2022-01-01 06:00:00&quot;, &quot;total_power_demand_kw&quot;: 269.87285620156}, {&quot;distance_from_port_m&quot;: 61472.20638903379, &quot;distance_from_shore_m&quot;: 0.0, &quot;draught_recent_m&quot;: 3.15, &quot;emissions_CH4&quot;: 5.321120805544606, &quot;emissions_CO&quot;: 278.4776449892288, &quot;emissions_CO2&quot;: 270473.02653390146, &quot;emissions_N2O&quot;: 12.762878510179949, &quot;emissions_NOX&quot;: 3507.8080137900943, &quot;emissions_PM&quot;: 88.91549559695642, &quot;emissions_SOX&quot;: 233.92101082723983, &quot;in_a_eca&quot;: 1, &quot;in_a_river&quot;: 0, &quot;lat&quot;: 54.052734375, &quot;lon&quot;: 9.31640625, &quot;speed_knots&quot;: 6.29613030110646, &quot;ssvid&quot;: 319009700.0, &quot;timestamp&quot;: &quot;2022-01-01 07:00:00&quot;, &quot;total_power_demand_kw&quot;: 403.5456330302453}, {&quot;distance_from_port_m&quot;: 61472.20638903379, &quot;distance_from_shore_m&quot;: 0.0, &quot;draught_recent_m&quot;: 3.15, &quot;emissions_CH4&quot;: 5.321120805544606, &quot;emissions_CO&quot;: 278.4776449892288, &quot;emissions_CO2&quot;: 270473.02653390146, &quot;emissions_N2O&quot;: 12.762878510179949, &quot;emissions_NOX&quot;: 3507.8080137900943, &quot;emissions_PM&quot;: 88.91549559695642, &quot;emissions_SOX&quot;: 233.92101082723983, &quot;in_a_eca&quot;: 1, &quot;in_a_river&quot;: 0, &quot;lat&quot;: 54.052734375, &quot;lon&quot;: 9.31640625, &quot;speed_knots&quot;: 6.29613030110646, &quot;ssvid&quot;: 319009700.0, &quot;timestamp&quot;: &quot;2022-01-01 08:00:00&quot;, &quot;total_power_demand_kw&quot;: 403.5456330302453}, {&quot;distance_from_port_m&quot;: 82239.73902519584, &quot;distance_from_shore_m&quot;: 2865.2135688938924, &quot;draught_recent_m&quot;: 3.15, &quot;emissions_CH4&quot;: 5.540172284170447, &quot;emissions_CO&quot;: 292.4349120703452, &quot;emissions_CO2&quot;: 295629.51198412897, &quot;emissions_N2O&quot;: 13.814520487986782, &quot;emissions_NOX&quot;: 3761.6042777674766, &quot;emissions_PM&quot;: 95.21457699160584, &quot;emissions_SOX&quot;: 255.7131030865555, &quot;in_a_eca&quot;: 1, &quot;in_a_river&quot;: 0, &quot;lat&quot;: 54.052734375, &quot;lon&quot;: 8.96484375, &quot;speed_knots&quot;: 6.57675974375274, &quot;ssvid&quot;: 319009700.0, &quot;timestamp&quot;: &quot;2022-01-01 09:00:00&quot;, &quot;total_power_demand_kw&quot;: 441.7773738360623}, {&quot;distance_from_port_m&quot;: 82239.73902519584, &quot;distance_from_shore_m&quot;: 2865.2135688938924, &quot;draught_recent_m&quot;: 3.15, &quot;emissions_CH4&quot;: 5.540172284170447, &quot;emissions_CO&quot;: 292.4349120703452, &quot;emissions_CO2&quot;: 295629.51198412897, &quot;emissions_N2O&quot;: 13.814520487986782, &quot;emissions_NOX&quot;: 3761.6042777674766, &quot;emissions_PM&quot;: 95.21457699160584, &quot;emissions_SOX&quot;: 255.7131030865555, &quot;in_a_eca&quot;: 1, &quot;in_a_river&quot;: 0, &quot;lat&quot;: 54.052734375, &quot;lon&quot;: 8.96484375, &quot;speed_knots&quot;: 6.57675974375274, &quot;ssvid&quot;: 319009700.0, &quot;timestamp&quot;: &quot;2022-01-01 10:00:00&quot;, &quot;total_power_demand_kw&quot;: 441.7773738360623}, {&quot;distance_from_port_m&quot;: 103895.4214249565, &quot;distance_from_shore_m&quot;: 3112.7458872975826, &quot;draught_recent_m&quot;: 3.15, &quot;emissions_CH4&quot;: 8.897640024425852, &quot;emissions_CO&quot;: 480.47256131899604, &quot;emissions_CO2&quot;: 590404.7136072211, &quot;emissions_N2O&quot;: 26.692920073277556, &quot;emissions_NOX&quot;: 6869.591377684317, &quot;emissions_PM&quot;: 177.95280048851706, &quot;emissions_SOX&quot;: 511.06548139227357, &quot;in_a_eca&quot;: 1, &quot;in_a_river&quot;: 0, &quot;lat&quot;: 54.052734375, &quot;lon&quot;: 8.61328125, &quot;speed_knots&quot;: 8.85027331832182, &quot;ssvid&quot;: 319009700.0, &quot;timestamp&quot;: &quot;2022-01-01 11:00:00&quot;, &quot;total_power_demand_kw&quot;: 889.7640024425853}, {&quot;distance_from_port_m&quot;: 114900.16710082431, &quot;distance_from_shore_m&quot;: 14504.687495603572, &quot;draught_recent_m&quot;: 3.15, &quot;emissions_CH4&quot;: 16.24150874994866, &quot;emissions_CO&quot;: 877.0414724972278, &quot;emissions_CO2&quot;: 1073631.275746622, &quot;emissions_N2O&quot;: 48.72452624984598, &quot;emissions_NOX&quot;: 12186.552334962831, &quot;emissions_PM&quot;: 324.83017499897323, &quot;emissions_SOX&quot;: 929.6659987470737, &quot;in_a_eca&quot;: 1, &quot;in_a_river&quot;: 0, &quot;lat&quot;: 54.052734375, &quot;lon&quot;: 8.4375, &quot;speed_knots&quot;: 10.92513665916091, &quot;ssvid&quot;: 319009700.0, &quot;timestamp&quot;: &quot;2022-01-01 12:00:00&quot;, &quot;total_power_demand_kw&quot;: 1624.1508749948662}, {&quot;distance_from_port_m&quot;: 137121.2936846926, &quot;distance_from_shore_m&quot;: 18202.864347009054, &quot;draught_recent_m&quot;: 3.15, &quot;emissions_CH4&quot;: 15.359240526819606, &quot;emissions_CO&quot;: 829.3989884482588, &quot;emissions_CO2&quot;: 1015578.02666473, &quot;emissions_N2O&quot;: 46.077721580458814, &quot;emissions_NOX&quot;: 11547.790141417394, &quot;emissions_PM&quot;: 307.18481053639215, &quot;emissions_SOX&quot;: 879.3767100287174, &quot;in_a_eca&quot;: 1, &quot;in_a_river&quot;: 0, &quot;lat&quot;: 54.052734375, &quot;lon&quot;: 8.0859375, &quot;speed_knots&quot;: 10.7057232884269, &quot;ssvid&quot;: 319009700.0, &quot;timestamp&quot;: &quot;2022-01-01 13:00:00&quot;, &quot;total_power_demand_kw&quot;: 1535.9240526819606}, {&quot;distance_from_port_m&quot;: 148305.8511570434, &quot;distance_from_shore_m&quot;: 13965.939875448075, &quot;draught_recent_m&quot;: 3.15, &quot;emissions_CH4&quot;: 8.11908167133819, &quot;emissions_CO&quot;: 438.4304102522623, &quot;emissions_CO2&quot;: 539175.5739740529, &quot;emissions_N2O&quot;: 24.35724501401457, &quot;emissions_NOX&quot;: 6305.915130048849, &quot;emissions_PM&quot;: 162.3816334267638, &quot;emissions_SOX&quot;: 466.6876552662768, &quot;in_a_eca&quot;: 1, &quot;in_a_river&quot;: 0, &quot;lat&quot;: 54.052734375, &quot;lon&quot;: 7.91015625, &quot;speed_knots&quot;: 8.4114465768538, &quot;ssvid&quot;: 319009700.0, &quot;timestamp&quot;: &quot;2022-01-01 14:00:00&quot;, &quot;total_power_demand_kw&quot;: 811.908167133819}, {&quot;distance_from_port_m&quot;: 175579.0193984678, &quot;distance_from_shore_m&quot;: 12744.424004111255, &quot;draught_recent_m&quot;: 3.15, &quot;emissions_CH4&quot;: 5.446495274178006, &quot;emissions_CO&quot;: 294.11074480561234, &quot;emissions_CO2&quot;: 363319.3890409128, &quot;emissions_N2O&quot;: 16.339485822534016, &quot;emissions_NOX&quot;: 4370.962578504877, &quot;emissions_PM&quot;: 108.92990548356012, &quot;emissions_SOX&quot;: 314.3502306281463, &quot;in_a_eca&quot;: 1, &quot;in_a_river&quot;: 0, &quot;lat&quot;: 53.876953125, &quot;lon&quot;: 7.55859375, &quot;speed_knots&quot;: 7.12616354598178, &quot;ssvid&quot;: 319009700.0, &quot;timestamp&quot;: &quot;2022-01-01 15:00:00&quot;, &quot;total_power_demand_kw&quot;: 544.6495274178005}, {&quot;distance_from_port_m&quot;: 175579.0193984678, &quot;distance_from_shore_m&quot;: 12744.424004111255, &quot;draught_recent_m&quot;: 3.15, &quot;emissions_CH4&quot;: 5.446495274178006, &quot;emissions_CO&quot;: 294.11074480561234, &quot;emissions_CO2&quot;: 363319.3890409128, &quot;emissions_N2O&quot;: 16.339485822534016, &quot;emissions_NOX&quot;: 4370.962578504877, &quot;emissions_PM&quot;: 108.92990548356012, &quot;emissions_SOX&quot;: 314.3502306281463, &quot;in_a_eca&quot;: 1, &quot;in_a_river&quot;: 0, &quot;lat&quot;: 53.876953125, &quot;lon&quot;: 7.55859375, &quot;speed_knots&quot;: 7.12616354598178, &quot;ssvid&quot;: 319009700.0, &quot;timestamp&quot;: &quot;2022-01-01 16:00:00&quot;, &quot;total_power_demand_kw&quot;: 544.6495274178005}, {&quot;distance_from_port_m&quot;: 197680.9529774142, &quot;distance_from_shore_m&quot;: 16554.348624439222, &quot;draught_recent_m&quot;: 3.15, &quot;emissions_CH4&quot;: 7.208948497178046, &quot;emissions_CO&quot;: 389.2832188476145, &quot;emissions_CO2&quot;: 479288.81111431547, &quot;emissions_N2O&quot;: 21.626845491534137, &quot;emissions_NOX&quot;: 5646.9787119569055, &quot;emissions_PM&quot;: 144.17896994356093, &quot;emissions_SOX&quot;: 414.8100643391486, &quot;in_a_eca&quot;: 1, &quot;in_a_river&quot;: 0, &quot;lat&quot;: 53.876953125, &quot;lon&quot;: 7.20703125, &quot;speed_knots&quot;: 8.01922000755228, &quot;ssvid&quot;: 319009700.0, &quot;timestamp&quot;: &quot;2022-01-01 17:00:00&quot;, &quot;total_power_demand_kw&quot;: 720.8948497178046}, {&quot;distance_from_port_m&quot;: 208797.5346803162, &quot;distance_from_shore_m&quot;: 20361.434705718406, &quot;draught_recent_m&quot;: 3.15, &quot;emissions_CH4&quot;: 14.600673110519391, &quot;emissions_CO&quot;: 788.4363479680471, &quot;emissions_CO2&quot;: 965664.2906721758, &quot;emissions_N2O&quot;: 43.802019331558164, &quot;emissions_NOX&quot;: 10998.587332016039, &quot;emissions_PM&quot;: 292.0134622103878, &quot;emissions_SOX&quot;: 836.1383672996052, &quot;in_a_eca&quot;: 1, &quot;in_a_river&quot;: 0, &quot;lat&quot;: 53.876953125, &quot;lon&quot;: 7.03125, &quot;speed_knots&quot;: 10.509610003776139, &quot;ssvid&quot;: 319009700.0, &quot;timestamp&quot;: &quot;2022-01-01 18:00:00&quot;, &quot;total_power_demand_kw&quot;: 1460.067311051939}, {&quot;distance_from_port_m&quot;: 205215.3002889168, &quot;distance_from_shore_m&quot;: 29325.561393764703, &quot;draught_recent_m&quot;: 3.15, &quot;emissions_CH4&quot;: 21.880000000000003, &quot;emissions_CO&quot;: 1181.5200000000002, &quot;emissions_CO2&quot;: 1444644.0, &quot;emissions_N2O&quot;: 65.64, &quot;emissions_NOX&quot;: 16268.82, &quot;emissions_PM&quot;: 437.6, &quot;emissions_SOX&quot;: 1251.06, &quot;in_a_eca&quot;: 1, &quot;in_a_river&quot;: 0, &quot;lat&quot;: 53.876953125, &quot;lon&quot;: 6.6796875, &quot;speed_knots&quot;: 13.0, &quot;ssvid&quot;: 319009700.0, &quot;timestamp&quot;: &quot;2022-01-01 19:00:00&quot;, &quot;total_power_demand_kw&quot;: 2188.0}, {&quot;distance_from_port_m&quot;: 191862.37213442542, &quot;distance_from_shore_m&quot;: 36387.20875711313, &quot;draught_recent_m&quot;: 3.15, &quot;emissions_CH4&quot;: 21.880000000000003, &quot;emissions_CO&quot;: 1181.5200000000002, &quot;emissions_CO2&quot;: 1444644.0, &quot;emissions_N2O&quot;: 65.64, &quot;emissions_NOX&quot;: 16268.82, &quot;emissions_PM&quot;: 437.6, &quot;emissions_SOX&quot;: 1251.06, &quot;in_a_eca&quot;: 1, &quot;in_a_river&quot;: 0, &quot;lat&quot;: 53.876953125, &quot;lon&quot;: 6.328125, &quot;speed_knots&quot;: 13.0, &quot;ssvid&quot;: 319009700.0, &quot;timestamp&quot;: &quot;2022-01-01 20:00:00&quot;, &quot;total_power_demand_kw&quot;: 2188.0}, {&quot;distance_from_port_m&quot;: 185935.97332174826, &quot;distance_from_shore_m&quot;: 41156.19807428341, &quot;draught_recent_m&quot;: 3.15, &quot;emissions_CH4&quot;: 21.880000000000003, &quot;emissions_CO&quot;: 1181.5200000000002, &quot;emissions_CO2&quot;: 1444644.0, &quot;emissions_N2O&quot;: 65.64, &quot;emissions_NOX&quot;: 16268.82, &quot;emissions_PM&quot;: 437.6, &quot;emissions_SOX&quot;: 1251.06, &quot;in_a_eca&quot;: 1, &quot;in_a_river&quot;: 0, &quot;lat&quot;: 53.876953125, &quot;lon&quot;: 6.15234375, &quot;speed_knots&quot;: 13.0, &quot;ssvid&quot;: 319009700.0, &quot;timestamp&quot;: &quot;2022-01-01 21:00:00&quot;, &quot;total_power_demand_kw&quot;: 2188.0}, {&quot;distance_from_port_m&quot;: 157958.52466252068, &quot;distance_from_shore_m&quot;: 25574.080151982544, &quot;draught_recent_m&quot;: 3.15, &quot;emissions_CH4&quot;: 9.893469841029008, &quot;emissions_CO&quot;: 534.2473714155665, &quot;emissions_CO2&quot;: 655930.3155397087, &quot;emissions_N2O&quot;: 29.680409523087018, &quot;emissions_NOX&quot;: 7590.572164905001, &quot;emissions_PM&quot;: 197.86939682058016, &quot;emissions_SOX&quot;: 567.8277809386534, &quot;in_a_eca&quot;: 1, &quot;in_a_river&quot;: 0, &quot;lat&quot;: 53.701171875, &quot;lon&quot;: 5.80078125, &quot;speed_knots&quot;: 9.08555746011319, &quot;ssvid&quot;: 319009700.0, &quot;timestamp&quot;: &quot;2022-01-01 22:00:00&quot;, &quot;total_power_demand_kw&quot;: 989.3469841029007}, {&quot;distance_from_port_m&quot;: 157958.52466252068, &quot;distance_from_shore_m&quot;: 25574.080151982544, &quot;draught_recent_m&quot;: 3.15, &quot;emissions_CH4&quot;: 9.893469841029008, &quot;emissions_CO&quot;: 534.2473714155665, &quot;emissions_CO2&quot;: 655930.3155397087, &quot;emissions_N2O&quot;: 29.680409523087018, &quot;emissions_NOX&quot;: 7590.572164905001, &quot;emissions_PM&quot;: 197.86939682058016, &quot;emissions_SOX&quot;: 567.8277809386534, &quot;in_a_eca&quot;: 1, &quot;in_a_river&quot;: 0, &quot;lat&quot;: 53.701171875, &quot;lon&quot;: 5.80078125, &quot;speed_knots&quot;: 9.08555746011319, &quot;ssvid&quot;: 319009700.0, &quot;timestamp&quot;: &quot;2022-01-01 23:00:00&quot;, &quot;total_power_demand_kw&quot;: 989.3469841029007}, {&quot;distance_from_port_m&quot;: 131039.79750554256, &quot;distance_from_shore_m&quot;: 9625.476699262894, &quot;draught_recent_m&quot;: 3.15, &quot;emissions_CH4&quot;: 6.1677532992493225, &quot;emissions_CO&quot;: 333.0586781594634, &quot;emissions_CO2&quot;: 410778.1670906054, &quot;emissions_N2O&quot;: 18.503259897747967, &quot;emissions_NOX&quot;: 4893.153388656509, &quot;emissions_PM&quot;: 123.35506598498645, &quot;emissions_SOX&quot;: 355.46193805721134, &quot;in_a_eca&quot;: 1, &quot;in_a_river&quot;: 0, &quot;lat&quot;: 53.525390625, &quot;lon&quot;: 5.44921875, &quot;speed_knots&quot;: 7.51746786405236, &quot;ssvid&quot;: 319009700.0, &quot;timestamp&quot;: &quot;2022-01-02 00:00:00&quot;, &quot;total_power_demand_kw&quot;: 616.7753299249323}, {&quot;distance_from_port_m&quot;: 127667.76966300902, &quot;distance_from_shore_m&quot;: 13099.02628648313, &quot;draught_recent_m&quot;: 3.15, &quot;emissions_CH4&quot;: 13.670724003867734, &quot;emissions_CO&quot;: 738.2190962088576, &quot;emissions_CO2&quot;: 904473.6394544968, &quot;emissions_N2O&quot;: 41.0121720116032, &quot;emissions_NOX&quot;: 10325.30417880024, &quot;emissions_PM&quot;: 273.4144800773547, &quot;emissions_SOX&quot;: 783.1312682204607, &quot;in_a_eca&quot;: 1, &quot;in_a_river&quot;: 0, &quot;lat&quot;: 53.525390625, &quot;lon&quot;: 5.2734375, &quot;speed_knots&quot;: 10.25873393202618, &quot;ssvid&quot;: 319009700.0, &quot;timestamp&quot;: &quot;2022-01-02 01:00:00&quot;, &quot;total_power_demand_kw&quot;: 1367.0724003867733}, {&quot;distance_from_port_m&quot;: 114286.19189409213, &quot;distance_from_shore_m&quot;: 16954.26941741174, &quot;draught_recent_m&quot;: 3.15, &quot;emissions_CH4&quot;: 21.880000000000003, &quot;emissions_CO&quot;: 1181.5200000000002, &quot;emissions_CO2&quot;: 1444644.0, &quot;emissions_N2O&quot;: 65.64, &quot;emissions_NOX&quot;: 16268.82, &quot;emissions_PM&quot;: 437.6, &quot;emissions_SOX&quot;: 1251.06, &quot;in_a_eca&quot;: 1, &quot;in_a_river&quot;: 0, &quot;lat&quot;: 53.4375, &quot;lon&quot;: 4.921875, &quot;speed_knots&quot;: 13.0, &quot;ssvid&quot;: 319009700.0, &quot;timestamp&quot;: &quot;2022-01-02 02:00:00&quot;, &quot;total_power_demand_kw&quot;: 2188.0}, {&quot;distance_from_port_m&quot;: 104340.00189079113, &quot;distance_from_shore_m&quot;: 16817.044537440128, &quot;draught_recent_m&quot;: 3.15, &quot;emissions_CH4&quot;: 21.880000000000003, &quot;emissions_CO&quot;: 1181.5200000000002, &quot;emissions_CO2&quot;: 1444644.0, &quot;emissions_N2O&quot;: 65.64, &quot;emissions_NOX&quot;: 16268.82, &quot;emissions_PM&quot;: 437.6, &quot;emissions_SOX&quot;: 1251.06, &quot;in_a_eca&quot;: 1, &quot;in_a_river&quot;: 0, &quot;lat&quot;: 53.349609375, &quot;lon&quot;: 4.74609375, &quot;speed_knots&quot;: 13.0, &quot;ssvid&quot;: 319009700.0, &quot;timestamp&quot;: &quot;2022-01-02 03:00:00&quot;, &quot;total_power_demand_kw&quot;: 2188.0}, {&quot;distance_from_port_m&quot;: 89154.4512810252, &quot;distance_from_shore_m&quot;: 25098.60085204538, &quot;draught_recent_m&quot;: 3.15, &quot;emissions_CH4&quot;: 21.880000000000003, &quot;emissions_CO&quot;: 1181.5200000000002, &quot;emissions_CO2&quot;: 1444644.0, &quot;emissions_N2O&quot;: 65.64, &quot;emissions_NOX&quot;: 16268.82, &quot;emissions_PM&quot;: 437.6, &quot;emissions_SOX&quot;: 1251.06, &quot;in_a_eca&quot;: 1, &quot;in_a_river&quot;: 0, &quot;lat&quot;: 53.173828125, &quot;lon&quot;: 4.39453125, &quot;speed_knots&quot;: 13.0, &quot;ssvid&quot;: 319009700.0, &quot;timestamp&quot;: &quot;2022-01-02 04:00:00&quot;, &quot;total_power_demand_kw&quot;: 2188.0}, {&quot;distance_from_port_m&quot;: 83081.16421174006, &quot;distance_from_shore_m&quot;: 47620.966934502605, &quot;draught_recent_m&quot;: 3.15, &quot;emissions_CH4&quot;: 21.880000000000003, &quot;emissions_CO&quot;: 1181.5200000000002, &quot;emissions_CO2&quot;: 1444644.0, &quot;emissions_N2O&quot;: 65.64, &quot;emissions_NOX&quot;: 16268.82, &quot;emissions_PM&quot;: 437.6, &quot;emissions_SOX&quot;: 1251.06, &quot;in_a_eca&quot;: 1, &quot;in_a_river&quot;: 0, &quot;lat&quot;: 52.998046875, &quot;lon&quot;: 4.04296875, &quot;speed_knots&quot;: 13.0, &quot;ssvid&quot;: 319009700.0, &quot;timestamp&quot;: &quot;2022-01-02 05:00:00&quot;, &quot;total_power_demand_kw&quot;: 2188.0}, {&quot;distance_from_port_m&quot;: 64803.048498170596, &quot;distance_from_shore_m&quot;: 41711.18226370544, &quot;draught_recent_m&quot;: 3.15, &quot;emissions_CH4&quot;: 21.880000000000003, &quot;emissions_CO&quot;: 1181.5200000000002, &quot;emissions_CO2&quot;: 1444644.0, &quot;emissions_N2O&quot;: 65.64, &quot;emissions_NOX&quot;: 16268.82, &quot;emissions_PM&quot;: 437.6, &quot;emissions_SOX&quot;: 1251.06, &quot;in_a_eca&quot;: 1, &quot;in_a_river&quot;: 0, &quot;lat&quot;: 52.763671875, &quot;lon&quot;: 4.04296875, &quot;speed_knots&quot;: 13.0, &quot;ssvid&quot;: 319009700.0, &quot;timestamp&quot;: &quot;2022-01-02 06:00:00&quot;, &quot;total_power_demand_kw&quot;: 2188.0}, {&quot;distance_from_port_m&quot;: 57942.185348241495, &quot;distance_from_shore_m&quot;: 49663.308254128766, &quot;draught_recent_m&quot;: 3.15, &quot;emissions_CH4&quot;: 21.880000000000003, &quot;emissions_CO&quot;: 1181.5200000000002, &quot;emissions_CO2&quot;: 1444644.0, &quot;emissions_N2O&quot;: 65.64, &quot;emissions_NOX&quot;: 16268.82, &quot;emissions_PM&quot;: 437.6, &quot;emissions_SOX&quot;: 1251.06, &quot;in_a_eca&quot;: 1, &quot;in_a_river&quot;: 0, &quot;lat&quot;: 52.646484375, &quot;lon&quot;: 4.04296875, &quot;speed_knots&quot;: 13.0, &quot;ssvid&quot;: 319009700.0, &quot;timestamp&quot;: &quot;2022-01-02 07:00:00&quot;, &quot;total_power_demand_kw&quot;: 2188.0}, {&quot;distance_from_port_m&quot;: 28769.032567975162, &quot;distance_from_shore_m&quot;: 13191.658576802158, &quot;draught_recent_m&quot;: 3.15, &quot;emissions_CH4&quot;: 9.19634945525629, &quot;emissions_CO&quot;: 496.60287058383966, &quot;emissions_CO2&quot;: 610059.7941558638, &quot;emissions_N2O&quot;: 27.589048365768868, &quot;emissions_NOX&quot;: 7085.857005605553, &quot;emissions_PM&quot;: 183.9269891051258, &quot;emissions_SOX&quot;: 528.0919189496085, &quot;in_a_eca&quot;: 1, &quot;in_a_river&quot;: 0, &quot;lat&quot;: 52.470703125, &quot;lon&quot;: 4.39453125, &quot;speed_knots&quot;: 8.83291762524718, &quot;ssvid&quot;: 319009700.0, &quot;timestamp&quot;: &quot;2022-01-02 08:00:00&quot;, &quot;total_power_demand_kw&quot;: 919.634945525629}, {&quot;distance_from_port_m&quot;: 28769.032567975162, &quot;distance_from_shore_m&quot;: 13191.658576802158, &quot;draught_recent_m&quot;: 3.15, &quot;emissions_CH4&quot;: 9.19634945525629, &quot;emissions_CO&quot;: 496.60287058383966, &quot;emissions_CO2&quot;: 610059.7941558638, &quot;emissions_N2O&quot;: 27.589048365768868, &quot;emissions_NOX&quot;: 7085.857005605553, &quot;emissions_PM&quot;: 183.9269891051258, &quot;emissions_SOX&quot;: 528.0919189496085, &quot;in_a_eca&quot;: 1, &quot;in_a_river&quot;: 0, &quot;lat&quot;: 52.470703125, &quot;lon&quot;: 4.39453125, &quot;speed_knots&quot;: 8.83291762524718, &quot;ssvid&quot;: 319009700.0, &quot;timestamp&quot;: &quot;2022-01-02 09:00:00&quot;, &quot;total_power_demand_kw&quot;: 919.634945525629}, {&quot;distance_from_port_m&quot;: 7756.2012752008895, &quot;distance_from_shore_m&quot;: 0.0, &quot;draught_recent_m&quot;: 3.15, &quot;emissions_CH4&quot;: 6.122379010660412, &quot;emissions_CO&quot;: 277.3430984124586, &quot;emissions_CO2&quot;: 180625.6076424588, &quot;emissions_N2O&quot;: 9.859474061469541, &quot;emissions_NOX&quot;: 2807.119740167983, &quot;emissions_PM&quot;: 75.04578652887578, &quot;emissions_SOX&quot;: 156.0896601158078, &quot;in_a_eca&quot;: 1, &quot;in_a_river&quot;: 0, &quot;lat&quot;: 52.470703125, &quot;lon&quot;: 4.74609375, &quot;speed_knots&quot;: 5.0, &quot;ssvid&quot;: 319009700.0, &quot;timestamp&quot;: &quot;2022-01-02 10:00:00&quot;, &quot;total_power_demand_kw&quot;: 266.9994037119435}, {&quot;distance_from_port_m&quot;: 7756.2012752008895, &quot;distance_from_shore_m&quot;: 0.0, &quot;draught_recent_m&quot;: 3.15, &quot;emissions_CH4&quot;: 6.122379010660412, &quot;emissions_CO&quot;: 277.3430984124586, &quot;emissions_CO2&quot;: 180625.6076424588, &quot;emissions_N2O&quot;: 9.859474061469541, &quot;emissions_NOX&quot;: 2807.119740167983, &quot;emissions_PM&quot;: 75.04578652887578, &quot;emissions_SOX&quot;: 156.0896601158078, &quot;in_a_eca&quot;: 1, &quot;in_a_river&quot;: 0, &quot;lat&quot;: 52.470703125, &quot;lon&quot;: 4.74609375, &quot;speed_knots&quot;: 5.0, &quot;ssvid&quot;: 319009700.0, &quot;timestamp&quot;: &quot;2022-01-02 11:00:00&quot;, &quot;total_power_demand_kw&quot;: 266.9994037119435}], &quot;getColor&quot;: &quot;@@=[10+speed_knots*255/25*2, 10+speed_knots*255/25, 10+speed_knots*255/25*4]&quot;, &quot;getNormal&quot;: [0, 0, 15], &quot;getPosition&quot;: &quot;@@=[lon, lat]&quot;, &quot;id&quot;: &quot;31c318d7-00f5-41ae-9c2f-506bd7caa276&quot;, &quot;pickable&quot;: true, &quot;pointSize&quot;: 5}], &quot;mapProvider&quot;: &quot;carto&quot;, &quot;mapStyle&quot;: &quot;https://basemaps.cartocdn.com/gl/voyager-gl-style/style.json&quot;, &quot;views&quot;: [{&quot;@@type&quot;: &quot;MapView&quot;, &quot;controller&quot;: true}]};\n",
       "    const tooltip = true;\n",
       "    const customLibraries = null;\n",
       "\n",
       "    const deckInstance = createDeck({\n",
       "                  container: document.getElementById(&#x27;deck-container&#x27;),\n",
       "      jsonInput,\n",
       "      tooltip,\n",
       "      customLibraries\n",
       "    });\n",
       "\n",
       "  &lt;/script&gt;\n",
       "&lt;/html&gt;\"\n",
       "        ></iframe>\n",
       "    "
      ],
      "text/plain": [
       "{\"initialViewState\": {\"latitude\": 57.2, \"longitude\": 10, \"zoom\": 3}, \"layers\": [{\"@@type\": \"PathLayer\", \"data\": [{\"path\": [[10.72265625, 59.853515625], [10.72265625, 59.853515625], [10.72265625, 59.677734375], [10.72265625, 59.677734375], [10.72265625, 59.501953125], [10.72265625, 59.501953125], [10.72265625, 59.326171875], [10.72265625, 59.23828125], [10.72265625, 59.150390625], [10.72265625, 58.974609375], [10.72265625, 58.740234375], [10.72265625, 58.53515625], [10.8984375, 58.359375], [11.07421875, 58.18359375], [11.07421875, 58.0078125], [11.25, 57.83203125], [11.42578125, 57.626953125], [11.42578125, 57.392578125], [11.77734375, 57.216796875], [11.77734375, 57.041015625], [11.77734375, 56.806640625], [11.77734375, 56.6015625], [11.77734375, 56.513671875], [11.42578125, 56.337890625], [11.42578125, 56.162109375], [11.42578125, 55.986328125], [11.42578125, 55.810546875], [11.07421875, 55.634765625], [11.07421875, 55.634765625], [11.07421875, 55.458984375], [11.07421875, 55.37109375], [11.07421875, 55.283203125], [11.07421875, 55.107421875], [11.07421875, 55.107421875], [10.72265625, 54.931640625], [10.72265625, 54.931640625], [10.72265625, 54.755859375], [10.72265625, 54.580078125], [10.72265625, 54.580078125], [10.37109375, 54.404296875], [10.37109375, 54.404296875], [10.01953125, 54.404296875], [9.66796875, 54.228515625], [9.66796875, 54.228515625], [9.31640625, 54.052734375], [9.31640625, 54.052734375], [8.96484375, 54.052734375], [8.96484375, 54.052734375], [8.61328125, 54.052734375], [8.4375, 54.052734375], [8.0859375, 54.052734375], [7.91015625, 54.052734375], [7.55859375, 53.876953125], [7.55859375, 53.876953125], [7.20703125, 53.876953125], [7.03125, 53.876953125], [6.6796875, 53.876953125], [6.328125, 53.876953125], [6.15234375, 53.876953125], [5.80078125, 53.701171875], [5.80078125, 53.701171875], [5.44921875, 53.525390625], [5.2734375, 53.525390625], [4.921875, 53.4375], [4.74609375, 53.349609375], [4.39453125, 53.173828125], [4.04296875, 52.998046875], [4.04296875, 52.763671875], [4.04296875, 52.646484375], [4.39453125, 52.470703125], [4.39453125, 52.470703125], [4.74609375, 52.470703125], [4.74609375, 52.470703125]]}], \"getColor\": \"@@=[0,0,0, 150]\", \"id\": \"1b4a4a46-5a4f-492c-984d-0f25a1d60cd5\", \"widthMinPixels\": 2}, {\"@@type\": \"PointCloudLayer\", \"autoHighlight\": true, \"data\": [{\"distance_from_port_m\": 5717.219100297454, \"distance_from_shore_m\": 2128.5882735590944, \"draught_recent_m\": 3.15, \"emissions_CH4\": 6.122379010660412, \"emissions_CO\": 277.3430984124586, \"emissions_CO2\": 180625.6076424588, \"emissions_N2O\": 9.859474061469541, \"emissions_NOX\": 2807.119740167983, \"emissions_PM\": 75.04578652887578, \"emissions_SOX\": 156.0896601158078, \"in_a_eca\": 1, \"in_a_river\": 0, \"lat\": 59.853515625, \"lon\": 10.72265625, \"speed_knots\": 5.0, \"ssvid\": 319009700.0, \"timestamp\": \"2022-01-01 01:00:00\", \"total_power_demand_kw\": 266.9994037119435}, {\"distance_from_port_m\": 5717.219100297454, \"distance_from_shore_m\": 2128.5882735590944, \"draught_recent_m\": 3.15, \"emissions_CH4\": 6.122379010660412, \"emissions_CO\": 277.3430984124586, \"emissions_CO2\": 180625.6076424588, \"emissions_N2O\": 9.859474061469541, \"emissions_NOX\": 2807.119740167983, \"emissions_PM\": 75.04578652887578, \"emissions_SOX\": 156.0896601158078, \"in_a_eca\": 1, \"in_a_river\": 0, \"lat\": 59.853515625, \"lon\": 10.72265625, \"speed_knots\": 5.0, \"ssvid\": 319009700.0, \"timestamp\": \"2022-01-01 02:00:00\", \"total_power_demand_kw\": 266.9994037119435}, {\"distance_from_port_m\": 25224.310248467875, \"distance_from_shore_m\": 0.0, \"draught_recent_m\": 3.15, \"emissions_CH4\": 6.122379010660412, \"emissions_CO\": 277.3430984124586, \"emissions_CO2\": 180625.6076424588, \"emissions_N2O\": 9.859474061469541, \"emissions_NOX\": 2807.119740167983, \"emissions_PM\": 75.04578652887578, \"emissions_SOX\": 156.0896601158078, \"in_a_eca\": 1, \"in_a_river\": 0, \"lat\": 59.677734375, \"lon\": 10.72265625, \"speed_knots\": 5.0, \"ssvid\": 319009700.0, \"timestamp\": \"2022-01-01 03:00:00\", \"total_power_demand_kw\": 266.9994037119435}, {\"distance_from_port_m\": 25224.310248467875, \"distance_from_shore_m\": 0.0, \"draught_recent_m\": 3.15, \"emissions_CH4\": 6.122379010660412, \"emissions_CO\": 277.3430984124586, \"emissions_CO2\": 180625.6076424588, \"emissions_N2O\": 9.859474061469541, \"emissions_NOX\": 2807.119740167983, \"emissions_PM\": 75.04578652887578, \"emissions_SOX\": 156.0896601158078, \"in_a_eca\": 1, \"in_a_river\": 0, \"lat\": 59.677734375, \"lon\": 10.72265625, \"speed_knots\": 5.0, \"ssvid\": 319009700.0, \"timestamp\": \"2022-01-01 04:00:00\", \"total_power_demand_kw\": 266.9994037119435}, {\"distance_from_port_m\": 44765.36757840379, \"distance_from_shore_m\": 0.0, \"draught_recent_m\": 3.15, \"emissions_CH4\": 6.394368411770515, \"emissions_CO\": 289.02627950559713, \"emissions_CO2\": 185709.95497002837, \"emissions_N2O\": 10.195597327045947, \"emissions_NOX\": 2888.2374882604217, \"emissions_PM\": 77.81204236971149, \"emissions_SOX\": 160.4940339406021, \"in_a_eca\": 1, \"in_a_river\": 0, \"lat\": 59.501953125, \"lon\": 10.72265625, \"speed_knots\": 5.09228858008903, \"ssvid\": 319009700.0, \"timestamp\": \"2022-01-01 05:00:00\", \"total_power_demand_kw\": 274.7263753343896}, {\"distance_from_port_m\": 44765.36757840379, \"distance_from_shore_m\": 0.0, \"draught_recent_m\": 3.15, \"emissions_CH4\": 6.394368411770515, \"emissions_CO\": 289.02627950559713, \"emissions_CO2\": 185709.95497002837, \"emissions_N2O\": 10.195597327045947, \"emissions_NOX\": 2888.2374882604217, \"emissions_PM\": 77.81204236971149, \"emissions_SOX\": 160.4940339406021, \"in_a_eca\": 1, \"in_a_river\": 0, \"lat\": 59.501953125, \"lon\": 10.72265625, \"speed_knots\": 5.09228858008903, \"ssvid\": 319009700.0, \"timestamp\": \"2022-01-01 06:00:00\", \"total_power_demand_kw\": 274.7263753343896}, {\"distance_from_port_m\": 64309.43566069037, \"distance_from_shore_m\": 74.86417334311655, \"draught_recent_m\": 3.15, \"emissions_CH4\": 5.80094947276044, \"emissions_CO\": 292.1702938964409, \"emissions_CO2\": 241583.3037283862, \"emissions_N2O\": 11.960373800708748, \"emissions_NOX\": 3314.136877237711, \"emissions_PM\": 85.70647259784258, \"emissions_SOX\": 208.8949591568087, \"in_a_eca\": 1, \"in_a_river\": 0, \"lat\": 59.326171875, \"lon\": 10.72265625, \"speed_knots\": 5.93945323834507, \"ssvid\": 319009700.0, \"timestamp\": \"2022-01-01 07:00:00\", \"total_power_demand_kw\": 359.64027922247146}, {\"distance_from_port_m\": 74081.8541067798, \"distance_from_shore_m\": 649.6174867116823, \"draught_recent_m\": 3.15, \"emissions_CH4\": 5.772098233586175, \"emissions_CO\": 290.7474567645101, \"emissions_CO2\": 240614.72641325017, \"emissions_N2O\": 11.908706530554834, \"emissions_NOX\": 3301.6678427072334, \"emissions_PM\": 85.32375207818396, \"emissions_SOX\": 208.05591801755713, \"in_a_eca\": 1, \"in_a_river\": 0, \"lat\": 59.23828125, \"lon\": 10.72265625, \"speed_knots\": 5.926735326353655, \"ssvid\": 319009700.0, \"timestamp\": \"2022-01-01 08:00:00\", \"total_power_demand_kw\": 358.16827722378446}, {\"distance_from_port_m\": 83854.40936058038, \"distance_from_shore_m\": 7425.943171506748, \"draught_recent_m\": 3.15, \"emissions_CH4\": 5.743370550215431, \"emissions_CO\": 289.33071295093043, \"emissions_CO2\": 239650.29704294662, \"emissions_N2O\": 11.857260526151105, \"emissions_NOX\": 3289.2522069777997, \"emissions_PM\": 84.94267056408225, \"emissions_SOX\": 207.2204700827957, \"in_a_eca\": 1, \"in_a_river\": 0, \"lat\": 59.150390625, \"lon\": 10.72265625, \"speed_knots\": 5.91401741436224, \"ssvid\": 319009700.0, \"timestamp\": \"2022-01-01 09:00:00\", \"total_power_demand_kw\": 356.7025790926241}, {\"distance_from_port_m\": 103399.7751306794, \"distance_from_shore_m\": 13514.472139820626, \"draught_recent_m\": 3.15, \"emissions_CH4\": 21.880000000000003, \"emissions_CO\": 1181.5200000000002, \"emissions_CO2\": 1444644.0, \"emissions_N2O\": 65.64, \"emissions_NOX\": 16268.82, \"emissions_PM\": 437.6, \"emissions_SOX\": 1251.06, \"in_a_eca\": 1, \"in_a_river\": 0, \"lat\": 58.974609375, \"lon\": 10.72265625, \"speed_knots\": 13.0, \"ssvid\": 319009700.0, \"timestamp\": \"2022-01-01 10:00:00\", \"total_power_demand_kw\": 2188.0}, {\"distance_from_port_m\": 129460.56578446769, \"distance_from_shore_m\": 21332.46544762252, \"draught_recent_m\": 3.15, \"emissions_CH4\": 21.880000000000003, \"emissions_CO\": 1181.5200000000002, \"emissions_CO2\": 1444644.0, \"emissions_N2O\": 65.64, \"emissions_NOX\": 16268.82, \"emissions_PM\": 437.6, \"emissions_SOX\": 1251.06, \"in_a_eca\": 1, \"in_a_river\": 0, \"lat\": 58.740234375, \"lon\": 10.72265625, \"speed_knots\": 13.0, \"ssvid\": 319009700.0, \"timestamp\": \"2022-01-01 11:00:00\", \"total_power_demand_kw\": 2188.0}, {\"distance_from_port_m\": 152263.91402411702, \"distance_from_shore_m\": 40451.10043771496, \"draught_recent_m\": 3.15, \"emissions_CH4\": 21.880000000000003, \"emissions_CO\": 1181.5200000000002, \"emissions_CO2\": 1444644.0, \"emissions_N2O\": 65.64, \"emissions_NOX\": 16268.82, \"emissions_PM\": 437.6, \"emissions_SOX\": 1251.06, \"in_a_eca\": 1, \"in_a_river\": 0, \"lat\": 58.53515625, \"lon\": 10.72265625, \"speed_knots\": 13.0, \"ssvid\": 319009700.0, \"timestamp\": \"2022-01-01 12:00:00\", \"total_power_demand_kw\": 2188.0}, {\"distance_from_port_m\": 172056.8867897029, \"distance_from_shore_m\": 18428.10483222784, \"draught_recent_m\": 3.15, \"emissions_CH4\": 21.880000000000003, \"emissions_CO\": 1181.5200000000002, \"emissions_CO2\": 1444644.0, \"emissions_N2O\": 65.64, \"emissions_NOX\": 16268.82, \"emissions_PM\": 437.6, \"emissions_SOX\": 1251.06, \"in_a_eca\": 1, \"in_a_river\": 0, \"lat\": 58.359375, \"lon\": 10.8984375, \"speed_knots\": 13.0, \"ssvid\": 319009700.0, \"timestamp\": \"2022-01-01 13:00:00\", \"total_power_demand_kw\": 2188.0}, {\"distance_from_port_m\": 192327.36231483097, \"distance_from_shore_m\": 20018.392254086804, \"draught_recent_m\": 3.15, \"emissions_CH4\": 21.880000000000003, \"emissions_CO\": 1181.5200000000002, \"emissions_CO2\": 1444644.0, \"emissions_N2O\": 65.64, \"emissions_NOX\": 16268.82, \"emissions_PM\": 437.6, \"emissions_SOX\": 1251.06, \"in_a_eca\": 1, \"in_a_river\": 0, \"lat\": 58.18359375, \"lon\": 11.07421875, \"speed_knots\": 13.0, \"ssvid\": 319009700.0, \"timestamp\": \"2022-01-01 14:00:00\", \"total_power_demand_kw\": 2188.0}, {\"distance_from_port_m\": 211787.94082865576, \"distance_from_shore_m\": 23874.03312464082, \"draught_recent_m\": 3.15, \"emissions_CH4\": 21.880000000000003, \"emissions_CO\": 1181.5200000000002, \"emissions_CO2\": 1444644.0, \"emissions_N2O\": 65.64, \"emissions_NOX\": 16268.82, \"emissions_PM\": 437.6, \"emissions_SOX\": 1251.06, \"in_a_eca\": 1, \"in_a_river\": 0, \"lat\": 58.0078125, \"lon\": 11.07421875, \"speed_knots\": 13.0, \"ssvid\": 319009700.0, \"timestamp\": \"2022-01-01 15:00:00\", \"total_power_demand_kw\": 2188.0}, {\"distance_from_port_m\": 232329.2390724835, \"distance_from_shore_m\": 21317.800506412746, \"draught_recent_m\": 3.15, \"emissions_CH4\": 21.880000000000003, \"emissions_CO\": 1181.5200000000002, \"emissions_CO2\": 1444644.0, \"emissions_N2O\": 65.64, \"emissions_NOX\": 16268.82, \"emissions_PM\": 437.6, \"emissions_SOX\": 1251.06, \"in_a_eca\": 1, \"in_a_river\": 0, \"lat\": 57.83203125, \"lon\": 11.25, \"speed_knots\": 13.0, \"ssvid\": 319009700.0, \"timestamp\": \"2022-01-01 16:00:00\", \"total_power_demand_kw\": 2188.0}, {\"distance_from_port_m\": 256347.95720801412, \"distance_from_shore_m\": 13390.003535794911, \"draught_recent_m\": 3.15, \"emissions_CH4\": 21.880000000000003, \"emissions_CO\": 1181.5200000000002, \"emissions_CO2\": 1444644.0, \"emissions_N2O\": 65.64, \"emissions_NOX\": 16268.82, \"emissions_PM\": 437.6, \"emissions_SOX\": 1251.06, \"in_a_eca\": 1, \"in_a_river\": 0, \"lat\": 57.626953125, \"lon\": 11.42578125, \"speed_knots\": 13.0, \"ssvid\": 319009700.0, \"timestamp\": \"2022-01-01 17:00:00\", \"total_power_demand_kw\": 2188.0}, {\"distance_from_port_m\": 282141.4361962148, \"distance_from_shore_m\": 16292.08912383459, \"draught_recent_m\": 3.15, \"emissions_CH4\": 21.880000000000003, \"emissions_CO\": 1181.5200000000002, \"emissions_CO2\": 1444644.0, \"emissions_N2O\": 65.64, \"emissions_NOX\": 16268.82, \"emissions_PM\": 437.6, \"emissions_SOX\": 1251.06, \"in_a_eca\": 1, \"in_a_river\": 0, \"lat\": 57.392578125, \"lon\": 11.42578125, \"speed_knots\": 13.0, \"ssvid\": 319009700.0, \"timestamp\": \"2022-01-01 18:00:00\", \"total_power_demand_kw\": 2188.0}, {\"distance_from_port_m\": 304886.25840351154, \"distance_from_shore_m\": 18564.95491533896, \"draught_recent_m\": 3.15, \"emissions_CH4\": 21.880000000000003, \"emissions_CO\": 1181.5200000000002, \"emissions_CO2\": 1444644.0, \"emissions_N2O\": 65.64, \"emissions_NOX\": 16268.82, \"emissions_PM\": 437.6, \"emissions_SOX\": 1251.06, \"in_a_eca\": 1, \"in_a_river\": 0, \"lat\": 57.216796875, \"lon\": 11.77734375, \"speed_knots\": 13.0, \"ssvid\": 319009700.0, \"timestamp\": \"2022-01-01 19:00:00\", \"total_power_demand_kw\": 2188.0}, {\"distance_from_port_m\": 319396.07594559854, \"distance_from_shore_m\": 35484.62530894943, \"draught_recent_m\": 3.15, \"emissions_CH4\": 21.880000000000003, \"emissions_CO\": 1181.5200000000002, \"emissions_CO2\": 1444644.0, \"emissions_N2O\": 65.64, \"emissions_NOX\": 16268.82, \"emissions_PM\": 437.6, \"emissions_SOX\": 1251.06, \"in_a_eca\": 1, \"in_a_river\": 0, \"lat\": 57.041015625, \"lon\": 11.77734375, \"speed_knots\": 13.0, \"ssvid\": 319009700.0, \"timestamp\": \"2022-01-01 20:00:00\", \"total_power_demand_kw\": 2188.0}, {\"distance_from_port_m\": 294938.74029487185, \"distance_from_shore_m\": 11578.928964841403, \"draught_recent_m\": 3.15, \"emissions_CH4\": 21.880000000000003, \"emissions_CO\": 1181.5200000000002, \"emissions_CO2\": 1444644.0, \"emissions_N2O\": 65.64, \"emissions_NOX\": 16268.82, \"emissions_PM\": 437.6, \"emissions_SOX\": 1251.06, \"in_a_eca\": 1, \"in_a_river\": 0, \"lat\": 56.806640625, \"lon\": 11.77734375, \"speed_knots\": 13.0, \"ssvid\": 319009700.0, \"timestamp\": \"2022-01-01 21:00:00\", \"total_power_demand_kw\": 2188.0}, {\"distance_from_port_m\": 273781.2838639154, \"distance_from_shore_m\": 15521.425859920462, \"draught_recent_m\": 3.15, \"emissions_CH4\": 21.880000000000003, \"emissions_CO\": 1181.5200000000002, \"emissions_CO2\": 1444644.0, \"emissions_N2O\": 65.64, \"emissions_NOX\": 16268.82, \"emissions_PM\": 437.6, \"emissions_SOX\": 1251.06, \"in_a_eca\": 1, \"in_a_river\": 0, \"lat\": 56.6015625, \"lon\": 11.77734375, \"speed_knots\": 13.0, \"ssvid\": 319009700.0, \"timestamp\": \"2022-01-01 22:00:00\", \"total_power_demand_kw\": 2188.0}, {\"distance_from_port_m\": 264797.424329954, \"distance_from_shore_m\": 24467.62318893043, \"draught_recent_m\": 3.15, \"emissions_CH4\": 21.880000000000003, \"emissions_CO\": 1181.5200000000002, \"emissions_CO2\": 1444644.0, \"emissions_N2O\": 65.64, \"emissions_NOX\": 16268.82, \"emissions_PM\": 437.6, \"emissions_SOX\": 1251.06, \"in_a_eca\": 1, \"in_a_river\": 0, \"lat\": 56.513671875, \"lon\": 11.77734375, \"speed_knots\": 13.0, \"ssvid\": 319009700.0, \"timestamp\": \"2022-01-01 23:00:00\", \"total_power_demand_kw\": 2188.0}, {\"distance_from_port_m\": 238567.58456764428, \"distance_from_shore_m\": 38788.792586247124, \"draught_recent_m\": 3.15, \"emissions_CH4\": 12.135858350654892, \"emissions_CO\": 655.3363509353642, \"emissions_CO2\": 803479.4794730919, \"emissions_N2O\": 36.40757505196467, \"emissions_NOX\": 9214.061445874142, \"emissions_PM\": 242.71716701309785, \"emissions_SOX\": 695.6439259873288, \"in_a_eca\": 1, \"in_a_river\": 0, \"lat\": 56.337890625, \"lon\": 11.42578125, \"speed_knots\": 9.81559204626966, \"ssvid\": 319009700.0, \"timestamp\": \"2022-01-02 00:00:00\", \"total_power_demand_kw\": 1213.5858350654892}, {\"distance_from_port_m\": 220353.75514213543, \"distance_from_shore_m\": 21859.71599218433, \"draught_recent_m\": 3.15, \"emissions_CH4\": 10.154015058331378, \"emissions_CO\": 548.3168131498944, \"emissions_CO2\": 673074.1908382046, \"emissions_N2O\": 30.462045174994127, \"emissions_NOX\": 7779.2069022319165, \"emissions_PM\": 203.08030116662755, \"emissions_SOX\": 582.6788583248884, \"in_a_eca\": 1, \"in_a_river\": 0, \"lat\": 56.162109375, \"lon\": 11.42578125, \"speed_knots\": 9.17646640631882, \"ssvid\": 319009700.0, \"timestamp\": \"2022-01-02 01:00:00\", \"total_power_demand_kw\": 1015.4015058331377}, {\"distance_from_port_m\": 202388.51760120672, \"distance_from_shore_m\": 2314.694646022977, \"draught_recent_m\": 3.15, \"emissions_CH4\": 21.880000000000003, \"emissions_CO\": 1181.5200000000002, \"emissions_CO2\": 1444644.0, \"emissions_N2O\": 65.64, \"emissions_NOX\": 16268.82, \"emissions_PM\": 437.6, \"emissions_SOX\": 1251.06, \"in_a_eca\": 1, \"in_a_river\": 0, \"lat\": 55.986328125, \"lon\": 11.42578125, \"speed_knots\": 13.0, \"ssvid\": 319009700.0, \"timestamp\": \"2022-01-02 02:00:00\", \"total_power_demand_kw\": 2188.0}, {\"distance_from_port_m\": 184744.40820877693, \"distance_from_shore_m\": 0.0, \"draught_recent_m\": 3.15, \"emissions_CH4\": 21.880000000000003, \"emissions_CO\": 1181.5200000000002, \"emissions_CO2\": 1444644.0, \"emissions_N2O\": 65.64, \"emissions_NOX\": 16268.82, \"emissions_PM\": 437.6, \"emissions_SOX\": 1251.06, \"in_a_eca\": 1, \"in_a_river\": 0, \"lat\": 55.810546875, \"lon\": 11.42578125, \"speed_knots\": 13.0, \"ssvid\": 319009700.0, \"timestamp\": \"2022-01-02 03:00:00\", \"total_power_demand_kw\": 2188.0}, {\"distance_from_port_m\": 157785.26394771753, \"distance_from_shore_m\": 0.0, \"draught_recent_m\": 3.15, \"emissions_CH4\": 6.893516520901662, \"emissions_CO\": 372.2498921286898, \"emissions_CO2\": 458533.3870753294, \"emissions_N2O\": 20.680549562704986, \"emissions_NOX\": 5418.605961132804, \"emissions_PM\": 137.87033041803323, \"emissions_SOX\": 396.8304416913947, \"in_a_eca\": 1, \"in_a_river\": 0, \"lat\": 55.634765625, \"lon\": 11.07421875, \"speed_knots\": 7.99144694287444, \"ssvid\": 319009700.0, \"timestamp\": \"2022-01-02 04:00:00\", \"total_power_demand_kw\": 689.3516520901662}, {\"distance_from_port_m\": 157785.26394771753, \"distance_from_shore_m\": 0.0, \"draught_recent_m\": 3.15, \"emissions_CH4\": 6.893516520901662, \"emissions_CO\": 372.2498921286898, \"emissions_CO2\": 458533.3870753294, \"emissions_N2O\": 20.680549562704986, \"emissions_NOX\": 5418.605961132804, \"emissions_PM\": 137.87033041803323, \"emissions_SOX\": 396.8304416913947, \"in_a_eca\": 1, \"in_a_river\": 0, \"lat\": 55.634765625, \"lon\": 11.07421875, \"speed_knots\": 7.99144694287444, \"ssvid\": 319009700.0, \"timestamp\": \"2022-01-02 05:00:00\", \"total_power_demand_kw\": 689.3516520901662}, {\"distance_from_port_m\": 139926.92892546716, \"distance_from_shore_m\": 5449.702005905235, \"draught_recent_m\": 3.15, \"emissions_CH4\": 5.345636023627991, \"emissions_CO\": 282.2389233560318, \"emissions_CO2\": 286217.3899667072, \"emissions_N2O\": 13.359648937600744, \"emissions_NOX\": 3651.828610274313, \"emissions_PM\": 92.03905862098634, \"emissions_SOX\": 247.55974510793783, \"in_a_eca\": 1, \"in_a_river\": 0, \"lat\": 55.458984375, \"lon\": 11.07421875, \"speed_knots\": 6.47460202112309, \"ssvid\": 319009700.0, \"timestamp\": \"2022-01-02 06:00:00\", \"total_power_demand_kw\": 427.4732370314699}, {\"distance_from_port_m\": 131178.31270418942, \"distance_from_shore_m\": 1027.9401614434928, \"draught_recent_m\": 3.15, \"emissions_CH4\": 5.400770458130367, \"emissions_CO\": 285.12861636436224, \"emissions_CO2\": 288884.92363601335, \"emissions_N2O\": 13.488566218275418, \"emissions_NOX\": 3682.940647343801, \"emissions_PM\": 92.93904718418689, \"emissions_SOX\": 249.87052655399333, \"in_a_eca\": 1, \"in_a_river\": 0, \"lat\": 55.37109375, \"lon\": 11.07421875, \"speed_knots\": 6.50388164156272, \"ssvid\": 319009700.0, \"timestamp\": \"2022-01-02 07:00:00\", \"total_power_demand_kw\": 431.52723956840936}, {\"distance_from_port_m\": 122584.5486183079, \"distance_from_shore_m\": 5820.794570817758, \"draught_recent_m\": 3.15, \"emissions_CH4\": 5.4564035501116726, \"emissions_CO\": 288.0444448911471, \"emissions_CO2\": 291576.5835274618, \"emissions_N2O\": 13.618649477467, \"emissions_NOX\": 3714.3340738953693, \"emissions_PM\": 93.84717559741114, \"emissions_SOX\": 252.2022076149745, \"in_a_eca\": 1, \"in_a_river\": 0, \"lat\": 55.283203125, \"lon\": 11.07421875, \"speed_knots\": 6.53316126200235, \"ssvid\": 319009700.0, \"timestamp\": \"2022-01-02 08:00:00\", \"total_power_demand_kw\": 435.6179080964465}, {\"distance_from_port_m\": 106011.64032502323, \"distance_from_shore_m\": 9040.65144150266, \"draught_recent_m\": 3.15, \"emissions_CH4\": 5.418902866787566, \"emissions_CO\": 292.62075480652857, \"emissions_CO2\": 348597.91298535414, \"emissions_N2O\": 15.785976844158405, \"emissions_NOX\": 4237.382411723562, \"emissions_PM\": 106.02439855472986, \"emissions_SOX\": 301.5975841970393, \"in_a_eca\": 1, \"in_a_river\": 0, \"lat\": 55.107421875, \"lon\": 11.07421875, \"speed_knots\": 7.10004654552268, \"ssvid\": 319009700.0, \"timestamp\": \"2022-01-02 09:00:00\", \"total_power_demand_kw\": 522.2764635035777}, {\"distance_from_port_m\": 106011.64032502323, \"distance_from_shore_m\": 9040.65144150266, \"draught_recent_m\": 3.15, \"emissions_CH4\": 5.418902866787566, \"emissions_CO\": 292.62075480652857, \"emissions_CO2\": 348597.91298535414, \"emissions_N2O\": 15.785976844158405, \"emissions_NOX\": 4237.382411723562, \"emissions_PM\": 106.02439855472986, \"emissions_SOX\": 301.5975841970393, \"in_a_eca\": 1, \"in_a_river\": 0, \"lat\": 55.107421875, \"lon\": 11.07421875, \"speed_knots\": 7.10004654552268, \"ssvid\": 319009700.0, \"timestamp\": \"2022-01-02 10:00:00\", \"total_power_demand_kw\": 522.2764635035777}, {\"distance_from_port_m\": 77550.36277634275, \"distance_from_shore_m\": 0.0, \"draught_recent_m\": 3.15, \"emissions_CH4\": 5.88126146655426, \"emissions_CO\": 317.5881191939301, \"emissions_CO2\": 391927.00449927035, \"emissions_N2O\": 17.64378439966278, \"emissions_NOX\": 4685.733301785284, \"emissions_PM\": 117.62522933108522, \"emissions_SOX\": 339.1319035935928, \"in_a_eca\": 1, \"in_a_river\": 0, \"lat\": 54.931640625, \"lon\": 10.72265625, \"speed_knots\": 7.47696713483652, \"ssvid\": 319009700.0, \"timestamp\": \"2022-01-02 11:00:00\", \"total_power_demand_kw\": 588.126146655426}, {\"distance_from_port_m\": 77550.36277634275, \"distance_from_shore_m\": 0.0, \"draught_recent_m\": 3.15, \"emissions_CH4\": 5.88126146655426, \"emissions_CO\": 317.5881191939301, \"emissions_CO2\": 391927.00449927035, \"emissions_N2O\": 17.64378439966278, \"emissions_NOX\": 4685.733301785284, \"emissions_PM\": 117.62522933108522, \"emissions_SOX\": 339.1319035935928, \"in_a_eca\": 1, \"in_a_river\": 0, \"lat\": 54.931640625, \"lon\": 10.72265625, \"speed_knots\": 7.47696713483652, \"ssvid\": 319009700.0, \"timestamp\": \"2022-01-02 12:00:00\", \"total_power_demand_kw\": 588.126146655426}, {\"distance_from_port_m\": 61189.146543973846, \"distance_from_shore_m\": 0.0, \"draught_recent_m\": 3.15, \"emissions_CH4\": 5.751100981596065, \"emissions_CO\": 310.55945300618754, \"emissions_CO2\": 383362.4445890211, \"emissions_N2O\": 17.253302944788192, \"emissions_NOX\": 4591.497110675551, \"emissions_PM\": 115.0220196319213, \"emissions_SOX\": 331.71275595097563, \"in_a_eca\": 1, \"in_a_river\": 0, \"lat\": 54.755859375, \"lon\": 10.72265625, \"speed_knots\": 7.40547512979615, \"ssvid\": 319009700.0, \"timestamp\": \"2022-01-02 13:00:00\", \"total_power_demand_kw\": 575.1100981596064}, {\"distance_from_port_m\": 47310.13380841508, \"distance_from_shore_m\": 17316.99107741004, \"draught_recent_m\": 3.15, \"emissions_CH4\": 8.288278096550586, \"emissions_CO\": 447.5670172137316, \"emissions_CO2\": 550308.6987530285, \"emissions_N2O\": 24.864834289651753, \"emissions_NOX\": 6428.413341902624, \"emissions_PM\": 165.76556193101172, \"emissions_SOX\": 476.33185150338335, \"in_a_eca\": 1, \"in_a_river\": 0, \"lat\": 54.580078125, \"lon\": 10.72265625, \"speed_knots\": 8.4804478285769, \"ssvid\": 319009700.0, \"timestamp\": \"2022-01-02 14:00:00\", \"total_power_demand_kw\": 828.8278096550586}, {\"distance_from_port_m\": 47310.13380841508, \"distance_from_shore_m\": 17316.99107741004, \"draught_recent_m\": 3.15, \"emissions_CH4\": 8.288278096550586, \"emissions_CO\": 447.5670172137316, \"emissions_CO2\": 550308.6987530285, \"emissions_N2O\": 24.864834289651753, \"emissions_NOX\": 6428.413341902624, \"emissions_PM\": 165.76556193101172, \"emissions_SOX\": 476.33185150338335, \"in_a_eca\": 1, \"in_a_river\": 0, \"lat\": 54.580078125, \"lon\": 10.72265625, \"speed_knots\": 8.4804478285769, \"ssvid\": 319009700.0, \"timestamp\": \"2022-01-02 15:00:00\", \"total_power_demand_kw\": 828.8278096550586}, {\"distance_from_port_m\": 17474.51643478181, \"distance_from_shore_m\": 0.0, \"draught_recent_m\": 3.15, \"emissions_CH4\": 5.7231544691850536, \"emissions_CO\": 288.333730097667, \"emissions_CO2\": 238971.6143226411, \"emissions_N2O\": 11.821057238183439, \"emissions_NOX\": 3280.5151468149365, \"emissions_PM\": 84.67449806061806, \"emissions_SOX\": 206.63255344058575, \"in_a_eca\": 1, \"in_a_river\": 0, \"lat\": 54.404296875, \"lon\": 10.37109375, \"speed_knots\": 5.90503474138347, \"ssvid\": 319009700.0, \"timestamp\": \"2022-01-02 16:00:00\", \"total_power_demand_kw\": 355.6711463869925}, {\"distance_from_port_m\": 17474.51643478181, \"distance_from_shore_m\": 0.0, \"draught_recent_m\": 3.15, \"emissions_CH4\": 5.7231544691850536, \"emissions_CO\": 288.333730097667, \"emissions_CO2\": 238971.6143226411, \"emissions_N2O\": 11.821057238183439, \"emissions_NOX\": 3280.5151468149365, \"emissions_PM\": 84.67449806061806, \"emissions_SOX\": 206.63255344058575, \"in_a_eca\": 1, \"in_a_river\": 0, \"lat\": 54.404296875, \"lon\": 10.37109375, \"speed_knots\": 5.90503474138347, \"ssvid\": 319009700.0, \"timestamp\": \"2022-01-02 18:00:00\", \"total_power_demand_kw\": 355.6711463869925}, {\"distance_from_port_m\": 12322.774242502122, \"distance_from_shore_m\": 0.0, \"draught_recent_m\": 3.15, \"emissions_CH4\": 6.122379010660412, \"emissions_CO\": 277.3430984124586, \"emissions_CO2\": 180625.6076424588, \"emissions_N2O\": 9.859474061469541, \"emissions_NOX\": 2807.119740167983, \"emissions_PM\": 75.04578652887578, \"emissions_SOX\": 156.0896601158078, \"in_a_eca\": 1, \"in_a_river\": 0, \"lat\": 54.404296875, \"lon\": 10.01953125, \"speed_knots\": 5.0, \"ssvid\": 319009700.0, \"timestamp\": \"2022-01-01 03:00:00\", \"total_power_demand_kw\": 266.9994037119435}, {\"distance_from_port_m\": 32500.521920814692, \"distance_from_shore_m\": 0.0, \"draught_recent_m\": 3.15, \"emissions_CH4\": 6.223524538294914, \"emissions_CO\": 281.68775857675877, \"emissions_CO2\": 182516.3393806265, \"emissions_N2O\": 9.984469244767862, \"emissions_NOX\": 2837.2852444039772, \"emissions_PM\": 76.0744825201585, \"emissions_SOX\": 157.72752803488922, \"in_a_eca\": 1, \"in_a_river\": 0, \"lat\": 54.228515625, \"lon\": 9.66796875, \"speed_knots\": 5.03471540537981, \"ssvid\": 319009700.0, \"timestamp\": \"2022-01-01 04:00:00\", \"total_power_demand_kw\": 269.87285620156}, {\"distance_from_port_m\": 32500.521920814692, \"distance_from_shore_m\": 0.0, \"draught_recent_m\": 3.15, \"emissions_CH4\": 6.223524538294914, \"emissions_CO\": 281.68775857675877, \"emissions_CO2\": 182516.3393806265, \"emissions_N2O\": 9.984469244767862, \"emissions_NOX\": 2837.2852444039772, \"emissions_PM\": 76.0744825201585, \"emissions_SOX\": 157.72752803488922, \"in_a_eca\": 1, \"in_a_river\": 0, \"lat\": 54.228515625, \"lon\": 9.66796875, \"speed_knots\": 5.03471540537981, \"ssvid\": 319009700.0, \"timestamp\": \"2022-01-01 06:00:00\", \"total_power_demand_kw\": 269.87285620156}, {\"distance_from_port_m\": 61472.20638903379, \"distance_from_shore_m\": 0.0, \"draught_recent_m\": 3.15, \"emissions_CH4\": 5.321120805544606, \"emissions_CO\": 278.4776449892288, \"emissions_CO2\": 270473.02653390146, \"emissions_N2O\": 12.762878510179949, \"emissions_NOX\": 3507.8080137900943, \"emissions_PM\": 88.91549559695642, \"emissions_SOX\": 233.92101082723983, \"in_a_eca\": 1, \"in_a_river\": 0, \"lat\": 54.052734375, \"lon\": 9.31640625, \"speed_knots\": 6.29613030110646, \"ssvid\": 319009700.0, \"timestamp\": \"2022-01-01 07:00:00\", \"total_power_demand_kw\": 403.5456330302453}, {\"distance_from_port_m\": 61472.20638903379, \"distance_from_shore_m\": 0.0, \"draught_recent_m\": 3.15, \"emissions_CH4\": 5.321120805544606, \"emissions_CO\": 278.4776449892288, \"emissions_CO2\": 270473.02653390146, \"emissions_N2O\": 12.762878510179949, \"emissions_NOX\": 3507.8080137900943, \"emissions_PM\": 88.91549559695642, \"emissions_SOX\": 233.92101082723983, \"in_a_eca\": 1, \"in_a_river\": 0, \"lat\": 54.052734375, \"lon\": 9.31640625, \"speed_knots\": 6.29613030110646, \"ssvid\": 319009700.0, \"timestamp\": \"2022-01-01 08:00:00\", \"total_power_demand_kw\": 403.5456330302453}, {\"distance_from_port_m\": 82239.73902519584, \"distance_from_shore_m\": 2865.2135688938924, \"draught_recent_m\": 3.15, \"emissions_CH4\": 5.540172284170447, \"emissions_CO\": 292.4349120703452, \"emissions_CO2\": 295629.51198412897, \"emissions_N2O\": 13.814520487986782, \"emissions_NOX\": 3761.6042777674766, \"emissions_PM\": 95.21457699160584, \"emissions_SOX\": 255.7131030865555, \"in_a_eca\": 1, \"in_a_river\": 0, \"lat\": 54.052734375, \"lon\": 8.96484375, \"speed_knots\": 6.57675974375274, \"ssvid\": 319009700.0, \"timestamp\": \"2022-01-01 09:00:00\", \"total_power_demand_kw\": 441.7773738360623}, {\"distance_from_port_m\": 82239.73902519584, \"distance_from_shore_m\": 2865.2135688938924, \"draught_recent_m\": 3.15, \"emissions_CH4\": 5.540172284170447, \"emissions_CO\": 292.4349120703452, \"emissions_CO2\": 295629.51198412897, \"emissions_N2O\": 13.814520487986782, \"emissions_NOX\": 3761.6042777674766, \"emissions_PM\": 95.21457699160584, \"emissions_SOX\": 255.7131030865555, \"in_a_eca\": 1, \"in_a_river\": 0, \"lat\": 54.052734375, \"lon\": 8.96484375, \"speed_knots\": 6.57675974375274, \"ssvid\": 319009700.0, \"timestamp\": \"2022-01-01 10:00:00\", \"total_power_demand_kw\": 441.7773738360623}, {\"distance_from_port_m\": 103895.4214249565, \"distance_from_shore_m\": 3112.7458872975826, \"draught_recent_m\": 3.15, \"emissions_CH4\": 8.897640024425852, \"emissions_CO\": 480.47256131899604, \"emissions_CO2\": 590404.7136072211, \"emissions_N2O\": 26.692920073277556, \"emissions_NOX\": 6869.591377684317, \"emissions_PM\": 177.95280048851706, \"emissions_SOX\": 511.06548139227357, \"in_a_eca\": 1, \"in_a_river\": 0, \"lat\": 54.052734375, \"lon\": 8.61328125, \"speed_knots\": 8.85027331832182, \"ssvid\": 319009700.0, \"timestamp\": \"2022-01-01 11:00:00\", \"total_power_demand_kw\": 889.7640024425853}, {\"distance_from_port_m\": 114900.16710082431, \"distance_from_shore_m\": 14504.687495603572, \"draught_recent_m\": 3.15, \"emissions_CH4\": 16.24150874994866, \"emissions_CO\": 877.0414724972278, \"emissions_CO2\": 1073631.275746622, \"emissions_N2O\": 48.72452624984598, \"emissions_NOX\": 12186.552334962831, \"emissions_PM\": 324.83017499897323, \"emissions_SOX\": 929.6659987470737, \"in_a_eca\": 1, \"in_a_river\": 0, \"lat\": 54.052734375, \"lon\": 8.4375, \"speed_knots\": 10.92513665916091, \"ssvid\": 319009700.0, \"timestamp\": \"2022-01-01 12:00:00\", \"total_power_demand_kw\": 1624.1508749948662}, {\"distance_from_port_m\": 137121.2936846926, \"distance_from_shore_m\": 18202.864347009054, \"draught_recent_m\": 3.15, \"emissions_CH4\": 15.359240526819606, \"emissions_CO\": 829.3989884482588, \"emissions_CO2\": 1015578.02666473, \"emissions_N2O\": 46.077721580458814, \"emissions_NOX\": 11547.790141417394, \"emissions_PM\": 307.18481053639215, \"emissions_SOX\": 879.3767100287174, \"in_a_eca\": 1, \"in_a_river\": 0, \"lat\": 54.052734375, \"lon\": 8.0859375, \"speed_knots\": 10.7057232884269, \"ssvid\": 319009700.0, \"timestamp\": \"2022-01-01 13:00:00\", \"total_power_demand_kw\": 1535.9240526819606}, {\"distance_from_port_m\": 148305.8511570434, \"distance_from_shore_m\": 13965.939875448075, \"draught_recent_m\": 3.15, \"emissions_CH4\": 8.11908167133819, \"emissions_CO\": 438.4304102522623, \"emissions_CO2\": 539175.5739740529, \"emissions_N2O\": 24.35724501401457, \"emissions_NOX\": 6305.915130048849, \"emissions_PM\": 162.3816334267638, \"emissions_SOX\": 466.6876552662768, \"in_a_eca\": 1, \"in_a_river\": 0, \"lat\": 54.052734375, \"lon\": 7.91015625, \"speed_knots\": 8.4114465768538, \"ssvid\": 319009700.0, \"timestamp\": \"2022-01-01 14:00:00\", \"total_power_demand_kw\": 811.908167133819}, {\"distance_from_port_m\": 175579.0193984678, \"distance_from_shore_m\": 12744.424004111255, \"draught_recent_m\": 3.15, \"emissions_CH4\": 5.446495274178006, \"emissions_CO\": 294.11074480561234, \"emissions_CO2\": 363319.3890409128, \"emissions_N2O\": 16.339485822534016, \"emissions_NOX\": 4370.962578504877, \"emissions_PM\": 108.92990548356012, \"emissions_SOX\": 314.3502306281463, \"in_a_eca\": 1, \"in_a_river\": 0, \"lat\": 53.876953125, \"lon\": 7.55859375, \"speed_knots\": 7.12616354598178, \"ssvid\": 319009700.0, \"timestamp\": \"2022-01-01 15:00:00\", \"total_power_demand_kw\": 544.6495274178005}, {\"distance_from_port_m\": 175579.0193984678, \"distance_from_shore_m\": 12744.424004111255, \"draught_recent_m\": 3.15, \"emissions_CH4\": 5.446495274178006, \"emissions_CO\": 294.11074480561234, \"emissions_CO2\": 363319.3890409128, \"emissions_N2O\": 16.339485822534016, \"emissions_NOX\": 4370.962578504877, \"emissions_PM\": 108.92990548356012, \"emissions_SOX\": 314.3502306281463, \"in_a_eca\": 1, \"in_a_river\": 0, \"lat\": 53.876953125, \"lon\": 7.55859375, \"speed_knots\": 7.12616354598178, \"ssvid\": 319009700.0, \"timestamp\": \"2022-01-01 16:00:00\", \"total_power_demand_kw\": 544.6495274178005}, {\"distance_from_port_m\": 197680.9529774142, \"distance_from_shore_m\": 16554.348624439222, \"draught_recent_m\": 3.15, \"emissions_CH4\": 7.208948497178046, \"emissions_CO\": 389.2832188476145, \"emissions_CO2\": 479288.81111431547, \"emissions_N2O\": 21.626845491534137, \"emissions_NOX\": 5646.9787119569055, \"emissions_PM\": 144.17896994356093, \"emissions_SOX\": 414.8100643391486, \"in_a_eca\": 1, \"in_a_river\": 0, \"lat\": 53.876953125, \"lon\": 7.20703125, \"speed_knots\": 8.01922000755228, \"ssvid\": 319009700.0, \"timestamp\": \"2022-01-01 17:00:00\", \"total_power_demand_kw\": 720.8948497178046}, {\"distance_from_port_m\": 208797.5346803162, \"distance_from_shore_m\": 20361.434705718406, \"draught_recent_m\": 3.15, \"emissions_CH4\": 14.600673110519391, \"emissions_CO\": 788.4363479680471, \"emissions_CO2\": 965664.2906721758, \"emissions_N2O\": 43.802019331558164, \"emissions_NOX\": 10998.587332016039, \"emissions_PM\": 292.0134622103878, \"emissions_SOX\": 836.1383672996052, \"in_a_eca\": 1, \"in_a_river\": 0, \"lat\": 53.876953125, \"lon\": 7.03125, \"speed_knots\": 10.509610003776139, \"ssvid\": 319009700.0, \"timestamp\": \"2022-01-01 18:00:00\", \"total_power_demand_kw\": 1460.067311051939}, {\"distance_from_port_m\": 205215.3002889168, \"distance_from_shore_m\": 29325.561393764703, \"draught_recent_m\": 3.15, \"emissions_CH4\": 21.880000000000003, \"emissions_CO\": 1181.5200000000002, \"emissions_CO2\": 1444644.0, \"emissions_N2O\": 65.64, \"emissions_NOX\": 16268.82, \"emissions_PM\": 437.6, \"emissions_SOX\": 1251.06, \"in_a_eca\": 1, \"in_a_river\": 0, \"lat\": 53.876953125, \"lon\": 6.6796875, \"speed_knots\": 13.0, \"ssvid\": 319009700.0, \"timestamp\": \"2022-01-01 19:00:00\", \"total_power_demand_kw\": 2188.0}, {\"distance_from_port_m\": 191862.37213442542, \"distance_from_shore_m\": 36387.20875711313, \"draught_recent_m\": 3.15, \"emissions_CH4\": 21.880000000000003, \"emissions_CO\": 1181.5200000000002, \"emissions_CO2\": 1444644.0, \"emissions_N2O\": 65.64, \"emissions_NOX\": 16268.82, \"emissions_PM\": 437.6, \"emissions_SOX\": 1251.06, \"in_a_eca\": 1, \"in_a_river\": 0, \"lat\": 53.876953125, \"lon\": 6.328125, \"speed_knots\": 13.0, \"ssvid\": 319009700.0, \"timestamp\": \"2022-01-01 20:00:00\", \"total_power_demand_kw\": 2188.0}, {\"distance_from_port_m\": 185935.97332174826, \"distance_from_shore_m\": 41156.19807428341, \"draught_recent_m\": 3.15, \"emissions_CH4\": 21.880000000000003, \"emissions_CO\": 1181.5200000000002, \"emissions_CO2\": 1444644.0, \"emissions_N2O\": 65.64, \"emissions_NOX\": 16268.82, \"emissions_PM\": 437.6, \"emissions_SOX\": 1251.06, \"in_a_eca\": 1, \"in_a_river\": 0, \"lat\": 53.876953125, \"lon\": 6.15234375, \"speed_knots\": 13.0, \"ssvid\": 319009700.0, \"timestamp\": \"2022-01-01 21:00:00\", \"total_power_demand_kw\": 2188.0}, {\"distance_from_port_m\": 157958.52466252068, \"distance_from_shore_m\": 25574.080151982544, \"draught_recent_m\": 3.15, \"emissions_CH4\": 9.893469841029008, \"emissions_CO\": 534.2473714155665, \"emissions_CO2\": 655930.3155397087, \"emissions_N2O\": 29.680409523087018, \"emissions_NOX\": 7590.572164905001, \"emissions_PM\": 197.86939682058016, \"emissions_SOX\": 567.8277809386534, \"in_a_eca\": 1, \"in_a_river\": 0, \"lat\": 53.701171875, \"lon\": 5.80078125, \"speed_knots\": 9.08555746011319, \"ssvid\": 319009700.0, \"timestamp\": \"2022-01-01 22:00:00\", \"total_power_demand_kw\": 989.3469841029007}, {\"distance_from_port_m\": 157958.52466252068, \"distance_from_shore_m\": 25574.080151982544, \"draught_recent_m\": 3.15, \"emissions_CH4\": 9.893469841029008, \"emissions_CO\": 534.2473714155665, \"emissions_CO2\": 655930.3155397087, \"emissions_N2O\": 29.680409523087018, \"emissions_NOX\": 7590.572164905001, \"emissions_PM\": 197.86939682058016, \"emissions_SOX\": 567.8277809386534, \"in_a_eca\": 1, \"in_a_river\": 0, \"lat\": 53.701171875, \"lon\": 5.80078125, \"speed_knots\": 9.08555746011319, \"ssvid\": 319009700.0, \"timestamp\": \"2022-01-01 23:00:00\", \"total_power_demand_kw\": 989.3469841029007}, {\"distance_from_port_m\": 131039.79750554256, \"distance_from_shore_m\": 9625.476699262894, \"draught_recent_m\": 3.15, \"emissions_CH4\": 6.1677532992493225, \"emissions_CO\": 333.0586781594634, \"emissions_CO2\": 410778.1670906054, \"emissions_N2O\": 18.503259897747967, \"emissions_NOX\": 4893.153388656509, \"emissions_PM\": 123.35506598498645, \"emissions_SOX\": 355.46193805721134, \"in_a_eca\": 1, \"in_a_river\": 0, \"lat\": 53.525390625, \"lon\": 5.44921875, \"speed_knots\": 7.51746786405236, \"ssvid\": 319009700.0, \"timestamp\": \"2022-01-02 00:00:00\", \"total_power_demand_kw\": 616.7753299249323}, {\"distance_from_port_m\": 127667.76966300902, \"distance_from_shore_m\": 13099.02628648313, \"draught_recent_m\": 3.15, \"emissions_CH4\": 13.670724003867734, \"emissions_CO\": 738.2190962088576, \"emissions_CO2\": 904473.6394544968, \"emissions_N2O\": 41.0121720116032, \"emissions_NOX\": 10325.30417880024, \"emissions_PM\": 273.4144800773547, \"emissions_SOX\": 783.1312682204607, \"in_a_eca\": 1, \"in_a_river\": 0, \"lat\": 53.525390625, \"lon\": 5.2734375, \"speed_knots\": 10.25873393202618, \"ssvid\": 319009700.0, \"timestamp\": \"2022-01-02 01:00:00\", \"total_power_demand_kw\": 1367.0724003867733}, {\"distance_from_port_m\": 114286.19189409213, \"distance_from_shore_m\": 16954.26941741174, \"draught_recent_m\": 3.15, \"emissions_CH4\": 21.880000000000003, \"emissions_CO\": 1181.5200000000002, \"emissions_CO2\": 1444644.0, \"emissions_N2O\": 65.64, \"emissions_NOX\": 16268.82, \"emissions_PM\": 437.6, \"emissions_SOX\": 1251.06, \"in_a_eca\": 1, \"in_a_river\": 0, \"lat\": 53.4375, \"lon\": 4.921875, \"speed_knots\": 13.0, \"ssvid\": 319009700.0, \"timestamp\": \"2022-01-02 02:00:00\", \"total_power_demand_kw\": 2188.0}, {\"distance_from_port_m\": 104340.00189079113, \"distance_from_shore_m\": 16817.044537440128, \"draught_recent_m\": 3.15, \"emissions_CH4\": 21.880000000000003, \"emissions_CO\": 1181.5200000000002, \"emissions_CO2\": 1444644.0, \"emissions_N2O\": 65.64, \"emissions_NOX\": 16268.82, \"emissions_PM\": 437.6, \"emissions_SOX\": 1251.06, \"in_a_eca\": 1, \"in_a_river\": 0, \"lat\": 53.349609375, \"lon\": 4.74609375, \"speed_knots\": 13.0, \"ssvid\": 319009700.0, \"timestamp\": \"2022-01-02 03:00:00\", \"total_power_demand_kw\": 2188.0}, {\"distance_from_port_m\": 89154.4512810252, \"distance_from_shore_m\": 25098.60085204538, \"draught_recent_m\": 3.15, \"emissions_CH4\": 21.880000000000003, \"emissions_CO\": 1181.5200000000002, \"emissions_CO2\": 1444644.0, \"emissions_N2O\": 65.64, \"emissions_NOX\": 16268.82, \"emissions_PM\": 437.6, \"emissions_SOX\": 1251.06, \"in_a_eca\": 1, \"in_a_river\": 0, \"lat\": 53.173828125, \"lon\": 4.39453125, \"speed_knots\": 13.0, \"ssvid\": 319009700.0, \"timestamp\": \"2022-01-02 04:00:00\", \"total_power_demand_kw\": 2188.0}, {\"distance_from_port_m\": 83081.16421174006, \"distance_from_shore_m\": 47620.966934502605, \"draught_recent_m\": 3.15, \"emissions_CH4\": 21.880000000000003, \"emissions_CO\": 1181.5200000000002, \"emissions_CO2\": 1444644.0, \"emissions_N2O\": 65.64, \"emissions_NOX\": 16268.82, \"emissions_PM\": 437.6, \"emissions_SOX\": 1251.06, \"in_a_eca\": 1, \"in_a_river\": 0, \"lat\": 52.998046875, \"lon\": 4.04296875, \"speed_knots\": 13.0, \"ssvid\": 319009700.0, \"timestamp\": \"2022-01-02 05:00:00\", \"total_power_demand_kw\": 2188.0}, {\"distance_from_port_m\": 64803.048498170596, \"distance_from_shore_m\": 41711.18226370544, \"draught_recent_m\": 3.15, \"emissions_CH4\": 21.880000000000003, \"emissions_CO\": 1181.5200000000002, \"emissions_CO2\": 1444644.0, \"emissions_N2O\": 65.64, \"emissions_NOX\": 16268.82, \"emissions_PM\": 437.6, \"emissions_SOX\": 1251.06, \"in_a_eca\": 1, \"in_a_river\": 0, \"lat\": 52.763671875, \"lon\": 4.04296875, \"speed_knots\": 13.0, \"ssvid\": 319009700.0, \"timestamp\": \"2022-01-02 06:00:00\", \"total_power_demand_kw\": 2188.0}, {\"distance_from_port_m\": 57942.185348241495, \"distance_from_shore_m\": 49663.308254128766, \"draught_recent_m\": 3.15, \"emissions_CH4\": 21.880000000000003, \"emissions_CO\": 1181.5200000000002, \"emissions_CO2\": 1444644.0, \"emissions_N2O\": 65.64, \"emissions_NOX\": 16268.82, \"emissions_PM\": 437.6, \"emissions_SOX\": 1251.06, \"in_a_eca\": 1, \"in_a_river\": 0, \"lat\": 52.646484375, \"lon\": 4.04296875, \"speed_knots\": 13.0, \"ssvid\": 319009700.0, \"timestamp\": \"2022-01-02 07:00:00\", \"total_power_demand_kw\": 2188.0}, {\"distance_from_port_m\": 28769.032567975162, \"distance_from_shore_m\": 13191.658576802158, \"draught_recent_m\": 3.15, \"emissions_CH4\": 9.19634945525629, \"emissions_CO\": 496.60287058383966, \"emissions_CO2\": 610059.7941558638, \"emissions_N2O\": 27.589048365768868, \"emissions_NOX\": 7085.857005605553, \"emissions_PM\": 183.9269891051258, \"emissions_SOX\": 528.0919189496085, \"in_a_eca\": 1, \"in_a_river\": 0, \"lat\": 52.470703125, \"lon\": 4.39453125, \"speed_knots\": 8.83291762524718, \"ssvid\": 319009700.0, \"timestamp\": \"2022-01-02 08:00:00\", \"total_power_demand_kw\": 919.634945525629}, {\"distance_from_port_m\": 28769.032567975162, \"distance_from_shore_m\": 13191.658576802158, \"draught_recent_m\": 3.15, \"emissions_CH4\": 9.19634945525629, \"emissions_CO\": 496.60287058383966, \"emissions_CO2\": 610059.7941558638, \"emissions_N2O\": 27.589048365768868, \"emissions_NOX\": 7085.857005605553, \"emissions_PM\": 183.9269891051258, \"emissions_SOX\": 528.0919189496085, \"in_a_eca\": 1, \"in_a_river\": 0, \"lat\": 52.470703125, \"lon\": 4.39453125, \"speed_knots\": 8.83291762524718, \"ssvid\": 319009700.0, \"timestamp\": \"2022-01-02 09:00:00\", \"total_power_demand_kw\": 919.634945525629}, {\"distance_from_port_m\": 7756.2012752008895, \"distance_from_shore_m\": 0.0, \"draught_recent_m\": 3.15, \"emissions_CH4\": 6.122379010660412, \"emissions_CO\": 277.3430984124586, \"emissions_CO2\": 180625.6076424588, \"emissions_N2O\": 9.859474061469541, \"emissions_NOX\": 2807.119740167983, \"emissions_PM\": 75.04578652887578, \"emissions_SOX\": 156.0896601158078, \"in_a_eca\": 1, \"in_a_river\": 0, \"lat\": 52.470703125, \"lon\": 4.74609375, \"speed_knots\": 5.0, \"ssvid\": 319009700.0, \"timestamp\": \"2022-01-02 10:00:00\", \"total_power_demand_kw\": 266.9994037119435}, {\"distance_from_port_m\": 7756.2012752008895, \"distance_from_shore_m\": 0.0, \"draught_recent_m\": 3.15, \"emissions_CH4\": 6.122379010660412, \"emissions_CO\": 277.3430984124586, \"emissions_CO2\": 180625.6076424588, \"emissions_N2O\": 9.859474061469541, \"emissions_NOX\": 2807.119740167983, \"emissions_PM\": 75.04578652887578, \"emissions_SOX\": 156.0896601158078, \"in_a_eca\": 1, \"in_a_river\": 0, \"lat\": 52.470703125, \"lon\": 4.74609375, \"speed_knots\": 5.0, \"ssvid\": 319009700.0, \"timestamp\": \"2022-01-02 11:00:00\", \"total_power_demand_kw\": 266.9994037119435}], \"getColor\": \"@@=[10+speed_knots*255/25*2, 10+speed_knots*255/25, 10+speed_knots*255/25*4]\", \"getNormal\": [0, 0, 15], \"getPosition\": \"@@=[lon, lat]\", \"id\": \"31c318d7-00f5-41ae-9c2f-506bd7caa276\", \"pickable\": true, \"pointSize\": 5}], \"mapProvider\": \"carto\", \"mapStyle\": \"https://basemaps.cartocdn.com/gl/voyager-gl-style/style.json\", \"views\": [{\"@@type\": \"MapView\", \"controller\": true}]}"
      ]
     },
     "execution_count": 15,
     "metadata": {},
     "output_type": "execute_result"
    }
   ],
   "source": [
    "list_of_paths[mmsis.index(min_co2_mmsi)]"
   ]
  },
  {
   "cell_type": "markdown",
   "id": "bb9bb24e-606e-471e-b4a0-cb0cc31c1295",
   "metadata": {},
   "source": [
    "If you want to see the paths of the other vessels, uncomment the lines underneath. If there are more than two vessels you can also change the index to see the other (OBS, zero indexed). "
   ]
  },
  {
   "cell_type": "code",
   "execution_count": 16,
   "id": "1e445e45",
   "metadata": {},
   "outputs": [],
   "source": [
    "# max_co2_mmsi = int(df_summed_emissions.index[1])\n",
    "# list_of_paths[mmsis.index(max_co2_mmsi)]"
   ]
  },
  {
   "cell_type": "code",
   "execution_count": null,
   "id": "10088a2e",
   "metadata": {},
   "outputs": [],
   "source": []
  }
 ],
 "metadata": {
  "kernelspec": {
   "display_name": "Python 3 (ipykernel)",
   "language": "python",
   "name": "python3"
  },
  "language_info": {
   "codemirror_mode": {
    "name": "ipython",
    "version": 3
   },
   "file_extension": ".py",
   "mimetype": "text/x-python",
   "name": "python",
   "nbconvert_exporter": "python",
   "pygments_lexer": "ipython3",
   "version": "3.8.13"
  }
 },
 "nbformat": 4,
 "nbformat_minor": 5
}
