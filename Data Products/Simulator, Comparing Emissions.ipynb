{
 "cells": [
  {
   "cell_type": "code",
   "execution_count": 1,
   "id": "de896a7d",
   "metadata": {
    "tags": []
   },
   "outputs": [
    {
     "ename": "NameError",
     "evalue": "name 'CapacityBin' is not defined",
     "output_type": "error",
     "traceback": [
      "\u001b[0;31m---------------------------------------------------------------------------\u001b[0m",
      "\u001b[0;31mNameError\u001b[0m                                 Traceback (most recent call last)",
      "Input \u001b[0;32mIn [1]\u001b[0m, in \u001b[0;36m<cell line: 6>\u001b[0;34m()\u001b[0m\n\u001b[1;32m      4\u001b[0m \u001b[38;5;28;01mfrom\u001b[39;00m \u001b[38;5;21;01mos\u001b[39;00m \u001b[38;5;28;01mimport\u001b[39;00m environ, getenv, path\n\u001b[1;32m      5\u001b[0m \u001b[38;5;28;01mfrom\u001b[39;00m \u001b[38;5;21;01mtyping\u001b[39;00m \u001b[38;5;28;01mimport\u001b[39;00m TypedDict, Dict, Union, List\n\u001b[0;32m----> 6\u001b[0m \u001b[38;5;28;01mfrom\u001b[39;00m \u001b[38;5;21;01msimulator_funcs\u001b[39;00m \u001b[38;5;28;01mimport\u001b[39;00m simulate, load_ship, get_routing_table_from_mmsi, plot_df, get_routing_and_emissions, emissions_multiple_vessels\n\u001b[1;32m      8\u001b[0m \u001b[38;5;28;01mimport\u001b[39;00m \u001b[38;5;21;01msys\u001b[39;00m\n\u001b[1;32m      9\u001b[0m sys\u001b[38;5;241m.\u001b[39mpath\u001b[38;5;241m.\u001b[39mappend(\u001b[38;5;124m'\u001b[39m\u001b[38;5;124m/home/jovyan/odp-python-sdk\u001b[39m\u001b[38;5;124m'\u001b[39m)\n",
      "File \u001b[0;32m~/Ocean Data Platform Tutorials/Data Products/simulator_funcs.py:17\u001b[0m, in \u001b[0;36m<module>\u001b[0;34m\u001b[0m\n\u001b[1;32m     15\u001b[0m \u001b[38;5;28;01mfrom\u001b[39;00m \u001b[38;5;21;01modp\u001b[39;00m\u001b[38;5;21;01m.\u001b[39;00m\u001b[38;5;21;01mdatabase_functions\u001b[39;00m\u001b[38;5;21;01m.\u001b[39;00m\u001b[38;5;21;01mdatabase\u001b[39;00m \u001b[38;5;28;01mimport\u001b[39;00m get_engine\n\u001b[1;32m     16\u001b[0m \u001b[38;5;28;01mfrom\u001b[39;00m \u001b[38;5;21;01modp\u001b[39;00m\u001b[38;5;21;01m.\u001b[39;00m\u001b[38;5;21;01mdatabase_functions\u001b[39;00m\u001b[38;5;21;01m.\u001b[39;00m\u001b[38;5;21;01mais_from_db\u001b[39;00m \u001b[38;5;28;01mimport\u001b[39;00m get_vessel_type, get_closest_node_from_coord, get_best_path, check_in_regions\n\u001b[0;32m---> 17\u001b[0m \u001b[38;5;28;01mfrom\u001b[39;00m \u001b[38;5;21;01modp\u001b[39;00m\u001b[38;5;21;01m.\u001b[39;00m\u001b[38;5;21;01micct_model\u001b[39;00m\u001b[38;5;21;01m.\u001b[39;00m\u001b[38;5;21;01mclasses\u001b[39;00m\u001b[38;5;21;01m.\u001b[39;00m\u001b[38;5;21;01mship\u001b[39;00m \u001b[38;5;28;01mimport\u001b[39;00m Ship\n\u001b[1;32m     20\u001b[0m \u001b[38;5;28;01mdef\u001b[39;00m \u001b[38;5;21msimulate\u001b[39m(ssvid, lon0, lat0, lon1, lat1, tcp, routing_speed, draught, vessel_particulars, table_routing, dist_port\u001b[38;5;241m=\u001b[39m\u001b[38;5;28;01mNone\u001b[39;00m, dist_shore\u001b[38;5;241m=\u001b[39m\u001b[38;5;241m1000\u001b[39m, ddeg\u001b[38;5;241m=\u001b[39m\u001b[38;5;241m0.22\u001b[39m, FINE_ROUTING\u001b[38;5;241m=\u001b[39m\u001b[38;5;241m0\u001b[39m, resolution_minutes\u001b[38;5;241m=\u001b[39m\u001b[38;5;241m60\u001b[39m, cost_density\u001b[38;5;241m=\u001b[39m\u001b[38;5;241m0.3\u001b[39m):\n\u001b[1;32m     21\u001b[0m \n\u001b[1;32m     22\u001b[0m     \u001b[38;5;66;03m#lat0,lon0=(40.90715372, 28.96848188)\u001b[39;00m\n\u001b[1;32m     23\u001b[0m     \u001b[38;5;66;03m#lat1,lon1=(1.26332241, 103.75604561)\u001b[39;00m\n\u001b[1;32m     25\u001b[0m     engine \u001b[38;5;241m=\u001b[39m tcp\u001b[38;5;241m.\u001b[39mgetconn()\n",
      "File \u001b[0;32m~/odp-python-sdk/odp/icct_model/classes/ship.py:71\u001b[0m, in \u001b[0;36m<module>\u001b[0;34m\u001b[0m\n\u001b[1;32m     57\u001b[0m \u001b[38;5;66;03m# #  Ship class, storing static variables for a ship\u001b[39;00m\n\u001b[1;32m     58\u001b[0m \u001b[38;5;66;03m#\u001b[39;00m\n\u001b[1;32m     59\u001b[0m art \u001b[38;5;241m=\u001b[39m \u001b[38;5;124mr\u001b[39m\u001b[38;5;124m\"\"\"\u001b[39m\u001b[38;5;124m                      .   . .\u001b[39m\n\u001b[1;32m     60\u001b[0m \u001b[38;5;124m                   .  . .  \u001b[39m\u001b[38;5;124m'\u001b[39m\n\u001b[1;32m     61\u001b[0m \u001b[38;5;124m              . \u001b[39m\u001b[38;5;124m'\u001b[39m\u001b[38;5;124m. \u001b[39m\u001b[38;5;124m'\u001b[39m\n\u001b[0;32m   (...)\u001b[0m\n\u001b[1;32m     67\u001b[0m \u001b[38;5;124m       \u001b[39m\u001b[38;5;124m\\\u001b[39m\u001b[38;5;124m o o o \u001b[39m\u001b[38;5;124m'\u001b[39m\u001b[38;5;124m=-=-=-!\u001b[39m\n\u001b[1;32m     68\u001b[0m \u001b[38;5;124m~~~~~~~~\u001b[39m\u001b[38;5;124m\\\u001b[39m\u001b[38;5;124m_____________|~~~~ ODP ~~~~\u001b[39m\u001b[38;5;124m\"\"\"\u001b[39m\n\u001b[0;32m---> 71\u001b[0m \u001b[38;5;28;01mclass\u001b[39;00m \u001b[38;5;21;01mShip\u001b[39;00m:\n\u001b[1;32m     72\u001b[0m     \u001b[38;5;28;01mdef\u001b[39;00m \u001b[38;5;21m__init__\u001b[39m(\u001b[38;5;28mself\u001b[39m, ship_dict: ShipParticulars):\n\u001b[1;32m     73\u001b[0m         \u001b[38;5;124;03m\"\"\"\u001b[39;00m\n\u001b[1;32m     74\u001b[0m \u001b[38;5;124;03m        Ship class holds static data for a ship.\u001b[39;00m\n\u001b[1;32m     75\u001b[0m \n\u001b[1;32m     76\u001b[0m \u001b[38;5;124;03m        \"\"\"\u001b[39;00m\n",
      "File \u001b[0;32m~/odp-python-sdk/odp/icct_model/classes/ship.py:326\u001b[0m, in \u001b[0;36mShip\u001b[0;34m()\u001b[0m\n\u001b[1;32m    323\u001b[0m         logging\u001b[38;5;241m.\u001b[39mwarning(\u001b[38;5;124m\"\u001b[39m\u001b[38;5;124mNot able to assign fuel type, \u001b[39m\u001b[38;5;124m\"\u001b[39m)\n\u001b[1;32m    324\u001b[0m         \u001b[38;5;28;01mreturn\u001b[39;00m \u001b[38;5;28;01mNone\u001b[39;00m\n\u001b[0;32m--> 326\u001b[0m \u001b[38;5;28;01mdef\u001b[39;00m \u001b[38;5;21massign_capacity_bin\u001b[39m(\u001b[38;5;28mself\u001b[39m) \u001b[38;5;241m-\u001b[39m\u001b[38;5;241m>\u001b[39m \u001b[43mCapacityBin\u001b[49m:\n\u001b[1;32m    327\u001b[0m     \u001b[38;5;66;03m# returns a CapacityBin type\u001b[39;00m\n\u001b[1;32m    328\u001b[0m     \u001b[38;5;66;03m# different size indicators sets bins for different ship types:\u001b[39;00m\n\u001b[1;32m    329\u001b[0m     \u001b[38;5;66;03m# BaleCapacity(Liquefied gas tanker)\u001b[39;00m\n\u001b[1;32m    330\u001b[0m     \u001b[38;5;66;03m# TEU(container)\u001b[39;00m\n\u001b[1;32m    331\u001b[0m     \u001b[38;5;66;03m# GrossTonnage(Ro-ro, Vehicle, Yacht, Service-tug, Miscellaneous- All fishing, Offshore, Service-other, Miscellaneous-other, Cruise, Ferry-pax only, Ferry-ro-pax)\u001b[39;00m\n\u001b[1;32m    332\u001b[0m     \u001b[38;5;66;03m# Deadweight(Oil tanker, General cargo, Bulk carrier, Refrigerated bulk, Other liquid tankers)\u001b[39;00m\n\u001b[1;32m    333\u001b[0m     \u001b[38;5;28;01mreturn\u001b[39;00m get_capacity_bin(\u001b[38;5;28mself\u001b[39m\u001b[38;5;241m.\u001b[39mship_class, \u001b[38;5;28mself\u001b[39m\u001b[38;5;241m.\u001b[39mdwt, \u001b[38;5;28mself\u001b[39m\u001b[38;5;241m.\u001b[39mteu, \u001b[38;5;28mself\u001b[39m\u001b[38;5;241m.\u001b[39mgt, \u001b[38;5;28mself\u001b[39m\u001b[38;5;241m.\u001b[39mm3_liquid_tanker_bin_column)\n\u001b[1;32m    335\u001b[0m \u001b[38;5;28;01mdef\u001b[39;00m \u001b[38;5;21mget_engine_tier_from\u001b[39m(\u001b[38;5;28mself\u001b[39m) \u001b[38;5;241m-\u001b[39m\u001b[38;5;241m>\u001b[39m EngineTier:\n",
      "\u001b[0;31mNameError\u001b[0m: name 'CapacityBin' is not defined"
     ]
    }
   ],
   "source": [
    "import pandas as pd\n",
    "import numpy as np\n",
    "import pydeck as pdk\n",
    "from os import environ, getenv, path\n",
    "from typing import TypedDict, Dict, Union, List\n",
    "from simulator_funcs import simulate, load_ship, get_routing_table_from_mmsi, plot_df, get_routing_and_emissions, emissions_multiple_vessels\n",
    "\n",
    "import sys\n",
    "sys.path.append('/home/jovyan/odp-python-sdk')\n",
    "\n",
    "from odp.database_functions.lookup_ship_data import fetch_ship_data\n",
    "from odp.database_functions.database import get_connection_pool, get_engine\n",
    "import typing"
   ]
  },
  {
   "cell_type": "markdown",
   "id": "7094503f",
   "metadata": {},
   "source": [
    "## Color code explanation\n",
    "<p style=\"color:#FE774C; font-size:12pt;\"> Red means that values <i>have</i> to be inserted.</p> \n",
    "<p style=\"color:#9D59F4; font-size:12pt\"> Purple means that values <i>can</i> be inserted if other that the default values are needed.</p> \n"
   ]
  },
  {
   "cell_type": "markdown",
   "id": "e686c818",
   "metadata": {},
   "source": [
    "## Database connection\n",
    "Getting a connection pool to connect to the database"
   ]
  },
  {
   "cell_type": "code",
   "execution_count": null,
   "id": "501508a6",
   "metadata": {},
   "outputs": [],
   "source": [
    "#tcp = get_connection_pool()"
   ]
  },
  {
   "cell_type": "markdown",
   "id": "8b9a0f89",
   "metadata": {},
   "source": [
    "<p> </p> \n",
    " <p style=\"color:#FE774C; font-size:20pt; font-weight:bold\"> Insert all the mmsis for the vessels interest in here </p> \n",
    "<p> For example like the list under with two vessels (change the mmsis and add more of them if needed). </p> "
   ]
  },
  {
   "cell_type": "code",
   "execution_count": null,
   "id": "544cafef",
   "metadata": {},
   "outputs": [],
   "source": [
    "mmsis = [212552000, 319009700]"
   ]
  },
  {
   "cell_type": "markdown",
   "id": "b975130f",
   "metadata": {},
   "source": [
    "<p> </p> \n",
    " <p style=\"color:#FE774C; font-size:20pt; font-weight:bold\"> Insert the coordinates of the ports in the simulated paths </p> \n",
    "<p> For example like the list under where the path will go from Oslo to Kiel to Amsterdam. </p> "
   ]
  },
  {
   "cell_type": "code",
   "execution_count": null,
   "id": "6dad539d",
   "metadata": {},
   "outputs": [],
   "source": [
    "coordinates = [[10.736223,59.904479], [10.143301,54.320150],[4.8079,52.412]]"
   ]
  },
  {
   "cell_type": "markdown",
   "id": "1570fb6c",
   "metadata": {},
   "source": [
    "# Specifying properties needed for routing"
   ]
  },
  {
   "cell_type": "markdown",
   "id": "baf1dc4d",
   "metadata": {},
   "source": [
    "In the following cells we are specifying speed and draught for the vessels as well as graphing, time resolution, how detailed the routing should be and how much other vessel data should be weighed for the routing. "
   ]
  },
  {
   "cell_type": "markdown",
   "id": "070b7d8c",
   "metadata": {},
   "source": [
    "<p style=\"color:#9D59F4; font-size:15pt; font-weight:bold\"> Make a list for the speeds to simulate with for each vessel  </p> \n",
    "<p> If the speed is set to None, the maximum speed for the vessel is chosen. </p> "
   ]
  },
  {
   "cell_type": "code",
   "execution_count": null,
   "id": "42e99a12",
   "metadata": {},
   "outputs": [],
   "source": [
    "speeds = [None]*len(mmsis)\n",
    "#Or:\n",
    "#speeds = [10, 10] #Here, the speed for both vessels is set to 10 knots\n",
    "speeds"
   ]
  },
  {
   "cell_type": "markdown",
   "id": "06189491",
   "metadata": {},
   "source": [
    "<p style=\"color:#9D59F4; font-size:14pt; font-weight:bold\"> List of draught for the different vessels </p> \n",
    "<p> If they are set to None, the draught will be found in the data about the vessel particulars. </p> "
   ]
  },
  {
   "cell_type": "code",
   "execution_count": null,
   "id": "0593e375",
   "metadata": {},
   "outputs": [],
   "source": [
    "draughts = [None]*len(mmsis)\n",
    "#Or:\n",
    "#draughts = [7, 9] #here the draught for the first ship is 7m and for the second ship it is 9 m\n",
    "draughts"
   ]
  },
  {
   "cell_type": "markdown",
   "id": "984b882d",
   "metadata": {},
   "source": [
    "<p style=\"color:#9D59F4; font-size:14pt; font-weight:bold\"> Choose grapfing types for the vessels </p> \n",
    "<p> This is also found from the vessel particulars, but in the incidences where it cannot be found, it needs to be specified. Possible graph types are passenger, fishing, cargo, tanker and tug. </p> "
   ]
  },
  {
   "cell_type": "code",
   "execution_count": null,
   "id": "219fa6c1",
   "metadata": {},
   "outputs": [],
   "source": [
    "graphs = [None] * len(mmsis)\n",
    "#Or:\n",
    "#graphs = ['cargo', 'tug'] \n",
    "graphs"
   ]
  },
  {
   "cell_type": "markdown",
   "id": "47baf396",
   "metadata": {},
   "source": [
    "### Make a dataframe of the mmsis, speeds, draughts and graphs\n",
    "This is used as input in the function finding routes and emissions."
   ]
  },
  {
   "cell_type": "code",
   "execution_count": null,
   "id": "afe38726",
   "metadata": {},
   "outputs": [],
   "source": [
    "zipped_lists = list(zip(speeds, draughts, graphs))\n",
    "df_input_properties = pd.DataFrame(zipped_lists, index = mmsis, columns = [\"speeds\",\"draughts\",\"graphs\"])"
   ]
  },
  {
   "cell_type": "code",
   "execution_count": null,
   "id": "2aec83a1",
   "metadata": {},
   "outputs": [],
   "source": [
    "df_input_properties"
   ]
  },
  {
   "cell_type": "markdown",
   "id": "51d83810",
   "metadata": {},
   "source": [
    "<p> </p>\n",
    "<p style=\"color:#9D59F4; font-size:14pt; font-weight:bold\"> Choose the time resolution for the graphing </p> \n",
    "<p> The default value is every 60th minute. Choose a value between 5 and 240. </p> "
   ]
  },
  {
   "cell_type": "code",
   "execution_count": null,
   "id": "a9a497f5",
   "metadata": {},
   "outputs": [],
   "source": [
    "time_resolution = 60"
   ]
  },
  {
   "cell_type": "markdown",
   "id": "33fde227",
   "metadata": {},
   "source": [
    "<p> </p>\n",
    "<p style=\"color:#9D59F4; font-size:14pt; font-weight:bold\"> Decide how fine/coarse the routing should be </p> "
   ]
  },
  {
   "cell_type": "markdown",
   "id": "5818136d",
   "metadata": {},
   "source": [
    " * 0 = Coarse (fast)\n",
    " * 1 = Coarse + refined\n",
    " * 2 = Fine (slow)"
   ]
  },
  {
   "cell_type": "code",
   "execution_count": null,
   "id": "f99b0873",
   "metadata": {},
   "outputs": [],
   "source": [
    "detailed_routing = 0"
   ]
  },
  {
   "cell_type": "markdown",
   "id": "9e59dfab",
   "metadata": {},
   "source": [
    "<p> </p>\n",
    "<p style=\"color:#9D59F4; font-size:14pt; font-weight:bold\"> How much should popular routes be weighted in the routing? </p> \n",
    "<p> Choose a value between 0 and 0.95. Default is 0.3. </p> "
   ]
  },
  {
   "cell_type": "code",
   "execution_count": null,
   "id": "b5a72667",
   "metadata": {},
   "outputs": [],
   "source": [
    "cost_density = 0.3"
   ]
  },
  {
   "cell_type": "markdown",
   "id": "2eb8c9b7",
   "metadata": {},
   "source": [
    "## Finding paths and emissions for each vessel"
   ]
  },
  {
   "cell_type": "markdown",
   "id": "2233a8ac",
   "metadata": {},
   "source": [
    "Using a premade function called emissions_multiple_vessels that takes the coordinates chosen and the df_input_properties as arguments. OBS, this might take a while. "
   ]
  },
  {
   "cell_type": "code",
   "execution_count": null,
   "id": "b911dd34",
   "metadata": {},
   "outputs": [],
   "source": [
    "%%time\n",
    "df_summed_emissions, list_of_df_emissions, list_of_paths = emissions_multiple_vessels(coordinates,df_input_properties, 1000, 1000, time_resolution, detailed_routing, cost_density)\n"
   ]
  },
  {
   "cell_type": "markdown",
   "id": "5777a946",
   "metadata": {},
   "source": [
    "### Summed emissions for all vessels compared"
   ]
  },
  {
   "cell_type": "code",
   "execution_count": null,
   "id": "d0dcc5eb",
   "metadata": {},
   "outputs": [],
   "source": [
    "df_summed_emissions"
   ]
  },
  {
   "cell_type": "markdown",
   "id": "961ae9e1",
   "metadata": {},
   "source": [
    "## Show the paths\n",
    "This one is for the vessel that uses the least amount of CO2"
   ]
  },
  {
   "cell_type": "code",
   "execution_count": null,
   "id": "8b8b8349",
   "metadata": {},
   "outputs": [],
   "source": [
    "min_co2_mmsi = int(df_summed_emissions.index[0])\n",
    "min_co2_mmsi"
   ]
  },
  {
   "cell_type": "code",
   "execution_count": null,
   "id": "ce964785",
   "metadata": {},
   "outputs": [],
   "source": [
    "list_of_paths[mmsis.index(min_co2_mmsi)]"
   ]
  },
  {
   "cell_type": "code",
   "execution_count": null,
   "id": "1e445e45",
   "metadata": {},
   "outputs": [],
   "source": [
    "#max_co2_mmsi = int(df_summed_emissions.index[1])\n",
    "#list_of_paths[mmsis.index(max_co2_mmsi)]"
   ]
  },
  {
   "cell_type": "code",
   "execution_count": null,
   "id": "10088a2e",
   "metadata": {},
   "outputs": [],
   "source": []
  }
 ],
 "metadata": {
  "kernelspec": {
   "display_name": "Python 3 (ipykernel)",
   "language": "python",
   "name": "python3"
  },
  "language_info": {
   "codemirror_mode": {
    "name": "ipython",
    "version": 3
   },
   "file_extension": ".py",
   "mimetype": "text/x-python",
   "name": "python",
   "nbconvert_exporter": "python",
   "pygments_lexer": "ipython3",
   "version": "3.8.13"
  }
 },
 "nbformat": 4,
 "nbformat_minor": 5
}
