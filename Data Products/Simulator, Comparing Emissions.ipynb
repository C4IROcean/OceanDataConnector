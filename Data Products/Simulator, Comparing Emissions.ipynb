{
 "cells": [
  {
   "cell_type": "code",
   "execution_count": 1,
   "id": "de896a7d",
   "metadata": {
    "tags": []
   },
   "outputs": [],
   "source": [
    "import pandas as pd\n",
    "import numpy as np\n",
    "import pydeck as pdk\n",
    "from os import environ, getenv, path\n",
    "from typing import TypedDict, Dict, Union, List\n",
    "from simulator_funcs import *\n"

    "import warnings\n",
    "\n",
    "warnings.filterwarnings(\"ignore\")\n",
    "\n",
    "from odp.geospatial.odp_vessel_simulator.models.icct.database_functions.lookup_ship_data import fetch_ship_data\n",
    "from odp.geospatial.odp_vessel_simulator.models.icct.database_functions.database import get_connection_pool, get_engine\n",
    "import typing\n"
   ]
  },
  {
   "cell_type": "markdown",
   "id": "7094503f",
   "metadata": {},
   "source": [
    "## Color code explanation\n",
    "<p style=\"color:#FE774C; font-size:12pt;\"> Red means that values <i>have</i> to be inserted.</p> \n",
    "<p style=\"color:#9D59F4; font-size:12pt\"> Purple means that values <i>can</i> be inserted if other that the default values are needed.</p> \n"
   ]
  },
  {
   "cell_type": "markdown",
   "id": "8b9a0f89",
   "metadata": {},
   "source": [
    "<p> </p> \n",
    " <p style=\"color:#FE774C; font-size:20pt; font-weight:bold\"> Insert all the mmsis for the vessels interest in here </p> \n",
    "<p> For example like the list under with two vessels (change the mmsis and add more of them if needed). </p> "
   ]
  },
  {
   "cell_type": "code",
   "execution_count": 2,
   "id": "544cafef",
   "metadata": {},
   "outputs": [],
   "source": [
    "mmsis = [212552000, 319009700]"
   ]
  },
  {
   "cell_type": "markdown",
   "id": "b975130f",
   "metadata": {},
   "source": [
    "<p> </p> \n",
    " <p style=\"color:#FE774C; font-size:20pt; font-weight:bold\"> Insert the names of the ports in the simulated paths </p> \n",
    "<p> For example like the list under where the path will go from Oslo to Kiel to Amsterdam. </p> "
   ]
  },
  {
   "cell_type": "code",
   "execution_count": 3,
   "id": "6dad539d",
   "metadata": {},
   "outputs": [],
   "source": [
    "ports = ['oslo','kiel','amsterdam']"
   ]
  },
  {
   "cell_type": "code",
   "execution_count": 4,
   "id": "40e49244-5043-4dc1-809d-e0c115aef920",
   "metadata": {},
   "outputs": [],
   "source": [
    "df_ports, coordinates = get_lon_lat_ports(ports)"
   ]
  },
  {
   "cell_type": "code",
   "execution_count": 5,
   "id": "cce69bec-b590-4e63-ab27-f862b017a77d",
   "metadata": {},
   "outputs": [
    {
     "data": {
      "text/html": [
       "<div>\n",
       "<style scoped>\n",
       "    .dataframe tbody tr th:only-of-type {\n",
       "        vertical-align: middle;\n",
       "    }\n",
       "\n",
       "    .dataframe tbody tr th {\n",
       "        vertical-align: top;\n",
       "    }\n",
       "\n",
       "    .dataframe thead th {\n",
       "        text-align: right;\n",
       "    }\n",
       "</style>\n",
       "<table border=\"1\" class=\"dataframe\">\n",
       "  <thead>\n",
       "    <tr style=\"text-align: right;\">\n",
       "      <th></th>\n",
       "      <th>port_name</th>\n",
       "      <th>country</th>\n",
       "      <th>longitude</th>\n",
       "      <th>latitude</th>\n",
       "    </tr>\n",
       "  </thead>\n",
       "  <tbody>\n",
       "    <tr>\n",
       "      <th>0</th>\n",
       "      <td>OSLO</td>\n",
       "      <td>NO</td>\n",
       "      <td>10.750000</td>\n",
       "      <td>59.916667</td>\n",
       "    </tr>\n",
       "    <tr>\n",
       "      <th>1</th>\n",
       "      <td>KIEL</td>\n",
       "      <td>DE</td>\n",
       "      <td>10.133333</td>\n",
       "      <td>54.316667</td>\n",
       "    </tr>\n",
       "    <tr>\n",
       "      <th>2</th>\n",
       "      <td>AMSTERDAM</td>\n",
       "      <td>NL</td>\n",
       "      <td>4.900000</td>\n",
       "      <td>52.366667</td>\n",
       "    </tr>\n",
       "  </tbody>\n",
       "</table>\n",
       "</div>"
      ],
      "text/plain": [
       "   port_name country  longitude   latitude\n",
       "0       OSLO      NO  10.750000  59.916667\n",
       "1       KIEL      DE  10.133333  54.316667\n",
       "2  AMSTERDAM      NL   4.900000  52.366667"
      ]
     },
     "execution_count": 5,
     "metadata": {},
     "output_type": "execute_result"
    }
   ],
   "source": [
    "df_ports"
   ]
  },
  {
   "cell_type": "code",
   "execution_count": 6,
   "id": "54015ca4-aae0-4f7e-8a4c-3f8c2e47f1d4",
   "metadata": {},
   "outputs": [
    {
     "data": {
      "text/plain": [
       "[[10.75, 59.916667], [10.133333, 54.316667], [4.9, 52.366667]]"
      ]
     },
     "execution_count": 6,
     "metadata": {},
     "output_type": "execute_result"
    }
   ],
   "source": [
    "coordinates"
   ]
  },
  {
   "cell_type": "markdown",
   "id": "6a3220f8-eb8c-4065-b99a-61603c1eeadd",
   "metadata": {},
   "source": [
    "#### If the port does not exist, the coordinates must be added manually\n",
    "This is done by uncommenting the line below and changing the index, 'longitude' and 'latitude' with the actual numbers. Lists are 0-indexed such that if the missing port is the first one, the index is 0."
   ]
  },
  {
   "cell_type": "code",
   "execution_count": 7,
   "id": "7c3644ea-1a80-4367-bea0-0bad5f2a98ef",
   "metadata": {},
   "outputs": [],
   "source": [
    "#coordinates.inert(index,[longitude,latitude])"

   ]
  },
  {
   "cell_type": "markdown",
   "id": "1570fb6c",
   "metadata": {},
   "source": [
    "# Specifying properties needed for routing"
   ]
  },
  {
   "cell_type": "markdown",
   "id": "baf1dc4d",
   "metadata": {},
   "source": [
    "In the following cells we are specifying speed and draught for the vessels as well as graphing, time resolution, how detailed the routing should be and how much other vessel data should be weighed for the routing. "
   ]
  },
  {
   "cell_type": "markdown",
   "id": "070b7d8c",
   "metadata": {},
   "source": [
    "<p style=\"color:#9D59F4; font-size:15pt; font-weight:bold\"> Make a list for the speeds to simulate with for each vessel  </p> \n",
    "<p> If the speed is set to None, the maximum speed for the vessel is chosen. </p> "
   ]
  },
  {
   "cell_type": "code",
   "execution_count": 8,
   "id": "42e99a12",
   "metadata": {},
   "outputs": [
    {
     "data": {
      "text/plain": [
       "[None, None]"
      ]
     },
     "execution_count": 8,
     "metadata": {},
     "output_type": "execute_result"
    }
   ],
   "source": [
    "speeds = [None] * len(mmsis)\n",
    "# Or:\n",
    "# speeds = [10, 10] #Here, the speed for both vessels is set to 10 knots\n",
    "speeds"
   ]
  },
  {
   "cell_type": "markdown",
   "id": "06189491",
   "metadata": {},
   "source": [
    "<p style=\"color:#9D59F4; font-size:14pt; font-weight:bold\"> List of draught for the different vessels </p> \n",
    "<p> If they are set to None, the draught will be found in the data about the vessel particulars. </p> "
   ]
  },
  {
   "cell_type": "code",
   "execution_count": 9,
   "id": "0593e375",
   "metadata": {},
   "outputs": [
    {
     "data": {
      "text/plain": [
       "[None, None]"
      ]
     },
     "execution_count": 9,
     "metadata": {},
     "output_type": "execute_result"
    }
   ],
   "source": [
    "draughts = [None] * len(mmsis)\n",
    "# Or:\n",
    "# draughts = [7, 9] #here the draught for the first ship is 7m and for the second ship it is 9 m\n",
    "draughts"
   ]
  },
  {
   "cell_type": "markdown",
   "id": "984b882d",
   "metadata": {},
   "source": [
    "<p style=\"color:#9D59F4; font-size:14pt; font-weight:bold\"> Choose grapfing types for the vessels </p> \n",
    "<p> This is also found from the vessel particulars, but in the incidences where it cannot be found, it needs to be specified. Possible graph types are passenger, fishing, cargo, tanker and tug. </p> "
   ]
  },
  {
   "cell_type": "code",
   "execution_count": 10,
   "id": "219fa6c1",
   "metadata": {},
   "outputs": [
    {
     "data": {
      "text/plain": [
       "[None, None]"
      ]
     },
     "execution_count": 10,
     "metadata": {},
     "output_type": "execute_result"
    }
   ],
   "source": [
    "graphs = [None] * len(mmsis)\n",
    "# Or:\n",
    "# graphs = ['cargo', 'tug']\n",
    "graphs"
   ]
  },
  {
   "cell_type": "markdown",
   "id": "47baf396",
   "metadata": {},
   "source": [
    "### Make a dataframe of the mmsis, speeds, draughts and graphs\n",
    "This is used as input in the function finding routes and emissions."
   ]
  },
  {
   "cell_type": "code",
   "execution_count": 11,
   "id": "afe38726",
   "metadata": {},
   "outputs": [],
   "source": [
    "zipped_lists = list(zip(speeds, draughts, graphs))\n",
    "df_input_properties = pd.DataFrame(zipped_lists, index = mmsis, columns = [\"speeds\",\"draughts\",\"graphs\"])\n"

   ]
  },
  {
   "cell_type": "code",
   "execution_count": 12,
   "id": "2aec83a1",
   "metadata": {},
   "outputs": [
    {
     "data": {
      "text/html": [
       "<div>\n",
       "<style scoped>\n",
       "    .dataframe tbody tr th:only-of-type {\n",
       "        vertical-align: middle;\n",
       "    }\n",
       "\n",
       "    .dataframe tbody tr th {\n",
       "        vertical-align: top;\n",
       "    }\n",
       "\n",
       "    .dataframe thead th {\n",
       "        text-align: right;\n",
       "    }\n",
       "</style>\n",
       "<table border=\"1\" class=\"dataframe\">\n",
       "  <thead>\n",
       "    <tr style=\"text-align: right;\">\n",
       "      <th></th>\n",
       "      <th>speeds</th>\n",
       "      <th>draughts</th>\n",
       "      <th>graphs</th>\n",
       "    </tr>\n",
       "  </thead>\n",
       "  <tbody>\n",
       "    <tr>\n",
       "      <th>212552000</th>\n",
       "      <td>None</td>\n",
       "      <td>None</td>\n",
       "      <td>None</td>\n",
       "    </tr>\n",
       "    <tr>\n",
       "      <th>319009700</th>\n",
       "      <td>None</td>\n",
       "      <td>None</td>\n",
       "      <td>None</td>\n",
       "    </tr>\n",
       "  </tbody>\n",
       "</table>\n",
       "</div>"
      ],
      "text/plain": [
       "          speeds draughts graphs\n",
       "212552000   None     None   None\n",
       "319009700   None     None   None"
      ]
     },
     "execution_count": 12,
     "metadata": {},
     "output_type": "execute_result"
    }
   ],
   "source": [
    "df_input_properties"
   ]
  },
  {
   "cell_type": "markdown",
   "id": "51d83810",
   "metadata": {},
   "source": [
    "<p> </p>\n",
    "<p style=\"color:#9D59F4; font-size:14pt; font-weight:bold\"> Choose the time resolution for the graphing </p> \n",
    "<p> The default value is every 60th minute. Choose a value between 5 and 240. </p> "
   ]
  },
  {
   "cell_type": "code",
   "execution_count": 13,
   "id": "a9a497f5",
   "metadata": {},
   "outputs": [],
   "source": [
    "time_resolution = 60"
   ]
  },
  {
   "cell_type": "markdown",
   "id": "33fde227",
   "metadata": {},
   "source": [
    "<p> </p>\n",
    "<p style=\"color:#9D59F4; font-size:14pt; font-weight:bold\"> Decide how fine/coarse the routing should be </p> "
   ]
  },
  {
   "cell_type": "markdown",
   "id": "5818136d",
   "metadata": {},
   "source": [
    " * 0 = Coarse (fast)\n",
    " * 1 = Coarse + refined\n",
    " * 2 = Fine (slow)"
   ]
  },
  {
   "cell_type": "code",
   "execution_count": 14,
   "id": "f99b0873",
   "metadata": {},
   "outputs": [],
   "source": [
    "detailed_routing = 1"
   ]
  },
  {
   "cell_type": "markdown",
   "id": "9e59dfab",
   "metadata": {},
   "source": [
    "<p> </p>\n",
    "<p style=\"color:#9D59F4; font-size:14pt; font-weight:bold\"> How much should popular routes be weighted in the routing? </p> \n",
    "<p> Choose a value between 0 and 0.95. Default is 0.3. </p> "
   ]
  },
  {
   "cell_type": "code",
   "execution_count": 15,
   "id": "b5a72667",
   "metadata": {},
   "outputs": [],
   "source": [
    "cost_density = 0.3"
   ]
  },
  {
   "cell_type": "markdown",
   "id": "2eb8c9b7",
   "metadata": {},
   "source": [
    "## Finding paths and emissions for each vessel"
   ]
  },
  {
   "cell_type": "markdown",
   "id": "2233a8ac",
   "metadata": {},
   "source": [
    "Using a premade function called emissions_multiple_vessels that takes the coordinates chosen and the df_input_properties as arguments. OBS, this might take a while. "
   ]
  },
  {
   "cell_type": "code",
   "execution_count": 16,
   "id": "b911dd34",
   "metadata": {},
   "outputs": [
    {
     "name": "stdout",
     "output_type": "stream",
     "text": [
      "CPU times: user 11.4 s, sys: 577 ms, total: 12 s\n",
      "Wall time: 2min 18s\n"
     ]
    }
   ],
   "source": [
    "%%time\n",
    "df_summed_emissions, list_of_df_emissions, list_of_paths = emissions_multiple_vessels(\n",
    "    coordinates,\n",
    "    df_input_properties,\n",
    "    None,\n",
    "    None,\n",
    "    time_resolution,\n",
    "    detailed_routing,\n",
    "    cost_density,\n",
    ")"
   ]
  },
  {
   "cell_type": "markdown",
   "id": "5777a946",
   "metadata": {},
   "source": [
    "### Summed emissions for all vessels compared"
   ]
  },
  {
   "cell_type": "markdown",
   "id": "dae947e2-3f36-4d7f-9b8a-56c386ef8551",
   "metadata": {},
   "source": [
    "The vessel at the top is the one that emitts the least amount of CO2."
   ]
  },
  {
   "cell_type": "code",
   "execution_count": 17,
   "id": "d0dcc5eb",
   "metadata": {},
   "outputs": [
    {
     "data": {
      "text/html": [
       "<div>\n",
       "<style scoped>\n",
       "    .dataframe tbody tr th:only-of-type {\n",
       "        vertical-align: middle;\n",
       "    }\n",
       "\n",
       "    .dataframe tbody tr th {\n",
       "        vertical-align: top;\n",
       "    }\n",
       "\n",
       "    .dataframe thead th {\n",
       "        text-align: right;\n",
       "    }\n",
       "</style>\n",
       "<table border=\"1\" class=\"dataframe\">\n",
       "  <thead>\n",
       "    <tr style=\"text-align: right;\">\n",
       "      <th></th>\n",
       "      <th>emissions_CO2</th>\n",
       "      <th>emissions_CO</th>\n",
       "      <th>emissions_SOX</th>\n",
       "      <th>emissions_N2O</th>\n",
       "      <th>emissions_NOX</th>\n",
       "      <th>emissions_PM</th>\n",
       "      <th>emissions_CH4</th>\n",
       "    </tr>\n",
       "    <tr>\n",
       "      <th>ssvid</th>\n",
       "      <th></th>\n",
       "      <th></th>\n",
       "      <th></th>\n",
       "      <th></th>\n",
       "      <th></th>\n",
       "      <th></th>\n",
       "      <th></th>\n",
       "    </tr>\n",
       "  </thead>\n",
       "  <tbody>\n",
       "    <tr>\n",
       "      <th>319009700.0</th>\n",
       "      <td>7.091352e+07</td>\n",
       "      <td>59518.217649</td>\n",
       "      <td>61403.092085</td>\n",
       "      <td>3238.043329</td>\n",
       "      <td>8.113868e+05</td>\n",
       "      <td>21691.68098</td>\n",
       "      <td>1111.066002</td>\n",
       "    </tr>\n",
       "    <tr>\n",
       "      <th>212552000.0</th>\n",
       "      <td>9.860259e+07</td>\n",
       "      <td>81841.961699</td>\n",
       "      <td>74444.525525</td>\n",
       "      <td>4497.191361</td>\n",
       "      <td>1.979436e+06</td>\n",
       "      <td>30233.96444</td>\n",
       "      <td>1524.560974</td>\n",
       "    </tr>\n",
       "  </tbody>\n",
       "</table>\n",
       "</div>"
      ],
      "text/plain": [
       "             emissions_CO2  emissions_CO  emissions_SOX  emissions_N2O  \\\n",
       "ssvid                                                                    \n",
       "319009700.0   7.091352e+07  59518.217649   61403.092085    3238.043329   \n",
       "212552000.0   9.860259e+07  81841.961699   74444.525525    4497.191361   \n",
       "\n",
       "             emissions_NOX  emissions_PM  emissions_CH4  \n",
       "ssvid                                                    \n",
       "319009700.0   8.113868e+05   21691.68098    1111.066002  \n",
       "212552000.0   1.979436e+06   30233.96444    1524.560974  "
      ]
     },
     "execution_count": 17,
     "metadata": {},
     "output_type": "execute_result"
    }
   ],
   "source": [
    "df_summed_emissions"
   ]
  },
  {
   "cell_type": "markdown",
   "id": "961ae9e1",
   "metadata": {},
   "source": [
    "## Show the paths\n",
    "This one is for the vessel that uses the least amount of CO2"
   ]
  },
  {
   "cell_type": "code",
   "execution_count": 18,
   "id": "8b8b8349",
   "metadata": {},
   "outputs": [
    {
     "data": {
      "text/plain": [
       "319009700"
      ]
     },
     "execution_count": 18,
     "metadata": {},
     "output_type": "execute_result"
    }
   ],
   "source": [
    "min_co2_mmsi = int(df_summed_emissions.index[0])\n",
    "min_co2_mmsi"
   ]
  },
  {
   "cell_type": "code",
   "execution_count": 19,
   "id": "ce964785",
   "metadata": {},
   "outputs": [
    {
     "data": {
      "text/html": [
       "\n",
       "        <iframe\n",
       "            width=\"100%\"\n",
       "            height=500\n",
       "            frameborder=\"0\"\n",
       "            srcdoc=\"&lt;!DOCTYPE html&gt;\n",
       "&lt;html&gt;\n",
       "  &lt;head&gt;\n",
       "    &lt;meta http-equiv=&quot;content-type&quot; content=&quot;text/html; charset=UTF-8&quot; /&gt;\n",
       "    &lt;title&gt;pydeck&lt;/title&gt;\n",
       "        &lt;script src=&quot;https://api.tiles.mapbox.com/mapbox-gl-js/v1.13.0/mapbox-gl.js&quot;&gt;&lt;/script&gt;\n",
       "        &lt;link rel=&quot;stylesheet&quot; href=&quot;https://maxcdn.bootstrapcdn.com/bootstrap/3.2.0/css/bootstrap-theme.min.css&quot; /&gt;\n",
       "    &lt;link rel=&quot;stylesheet&quot; href=&quot;https://maxcdn.bootstrapcdn.com/font-awesome/4.6.3/css/font-awesome.min.css&quot; /&gt;\n",
       "    &lt;script src=&#x27;https://cdn.jsdelivr.net/npm/@deck.gl/jupyter-widget@~8.5.*/dist/index.js&#x27;&gt;&lt;/script&gt;\n",
       "    &lt;style&gt;\n",
       "    body {\n",
       "  margin: 0;\n",
       "  padding: 0;\n",
       "  overflow: hidden;\n",
       "}\n",
       "\n",
       "#deck-map-container {\n",
       "  width: 100%;\n",
       "  height: 100%;\n",
       "  background-color: black;\n",
       "}\n",
       "\n",
       "#map {\n",
       "  pointer-events: none;\n",
       "  height: 100%;\n",
       "  width: 100%;\n",
       "  position: absolute;\n",
       "  z-index: 1;\n",
       "}\n",
       "\n",
       "#deckgl-overlay {\n",
       "  z-index: 2;\n",
       "  background: none;\n",
       "}\n",
       "\n",
       "#deck-map-wrapper {\n",
       "  width: 100%;\n",
       "  height: 100%;\n",
       "}\n",
       "\n",
       "#deck-container {\n",
       "  width: 100vw;\n",
       "  height: 100vh;\n",
       "}\n",
       "    &lt;/style&gt;\n",
       "  &lt;/head&gt;\n",
       "  &lt;body&gt;\n",
       "    &lt;div id=&quot;deck-container&quot;&gt;\n",
       "    &lt;/div&gt;\n",
       "  &lt;/body&gt;\n",
       "  &lt;script&gt;\n",
       "    const jsonInput = {&quot;initialViewState&quot;: {&quot;latitude&quot;: 57.2, &quot;longitude&quot;: 10, &quot;zoom&quot;: 3}, &quot;layers&quot;: [{&quot;@@type&quot;: &quot;PathLayer&quot;, &quot;data&quot;: [{&quot;path&quot;: [[10.70068359375, 59.886474609375], [10.5908203125, 59.83154296875], [10.55419921875, 59.75830078125], [10.634765625, 59.677734375], [10.60400390625, 59.57666015625], [10.56884765625, 59.43603515625], [10.62158203125, 59.23828125], [10.669921875, 59.0185546875], [10.74951171875, 58.81103515625], [10.82763671875, 58.61083984375], [10.92529296875, 58.41552734375], [11.06689453125, 58.21533203125], [11.1796875, 58.0078125], [11.28662109375, 57.80029296875], [11.41845703125, 57.60009765625], [11.45751953125, 57.40478515625], [11.60888671875, 57.20458984375], [11.74560546875, 57.00927734375], [11.81884765625, 56.80908203125], [11.70166015625, 56.61376953125], [11.50146484375, 56.41357421875], [11.31591796875, 56.22802734375], [11.1181640625, 56.06103515625], [10.92041015625, 55.87646484375], [10.79736328125, 55.6787109375], [10.92041015625, 55.48095703125], [11.06689453125, 55.29541015625], [11.03271484375, 55.09521484375], [10.87646484375, 54.89990234375], [10.73583984375, 54.68994140625], [10.5029296875, 54.55078125], [10.292619977678571, 54.476492745535715], [10.18798828125, 54.39697265625], [10.12939453125, 54.33837890625], [10.01953125, 54.3603515625], [9.8876953125, 54.3603515625], [9.755859375, 54.345703125], [9.66064453125, 54.30908203125], [9.60205078125, 54.22119140625], [9.47021484375, 54.16259765625], [9.34716796875, 54.12744140625], [9.29443359375, 54.03076171875], [9.24169921875, 53.93408203125], [9.0966796875, 53.85498046875], [8.89892578125, 53.85498046875], [8.701171875, 53.9208984375], [8.525390625, 54.019775390625], [8.27197265625, 54.11865234375], [7.97607421875, 54.100341796875], [7.71240234375, 54.034423828125], [7.44873046875, 53.990478515625], [7.241559709821429, 53.91148158482143], [7.00927734375, 53.848702566964285], [6.70166015625, 53.817313058035715], [6.38232421875, 53.82275390625], [6.064453125, 53.782784598214285], [5.7907936789772725, 53.72713955965909], [5.59423828125, 53.61767578125], [5.38330078125, 53.56494140625], [5.1416015625, 53.51806640625], [4.866098257211538, 53.44257061298077], [4.63623046875, 53.31787109375], [4.482421875, 53.1298828125], [4.317626953125, 52.9541015625], [4.18701171875, 52.76611328125], [4.29443359375, 52.59033203125], [4.49462890625, 52.49267578125], [4.64501953125, 52.45751953125], [4.74609375, 52.40478515625], [4.84716796875, 52.36083984375]]}], &quot;getColor&quot;: &quot;@@=[0,0,0, 150]&quot;, &quot;id&quot;: &quot;19f5d3e1-405c-4ab1-8382-7f356b9bff72&quot;, &quot;widthMinPixels&quot;: 2}, {&quot;@@type&quot;: &quot;PointCloudLayer&quot;, &quot;autoHighlight&quot;: true, &quot;data&quot;: [{&quot;distance_from_port_m&quot;: 4339.785044274029, &quot;distance_from_shore_m&quot;: 1784.3634382570767, &quot;draught_recent_m&quot;: 3.15, &quot;emissions_CH4&quot;: 6.122379010660412, &quot;emissions_CO&quot;: 277.3430984124586, &quot;emissions_CO2&quot;: 180625.6076424588, &quot;emissions_N2O&quot;: 9.859474061469541, &quot;emissions_NOX&quot;: 2807.119740167983, &quot;emissions_PM&quot;: 75.04578652887578, &quot;emissions_SOX&quot;: 156.0896601158078, &quot;in_a_eca&quot;: 1, &quot;in_a_river&quot;: 0, &quot;lat&quot;: 59.886474609375, &quot;lon&quot;: 10.70068359375, &quot;speed_knots&quot;: 5.0, &quot;ssvid&quot;: 319009700.0, &quot;timestamp&quot;: &quot;2022-01-01 00:00:00&quot;, &quot;total_power_demand_kw&quot;: 266.9994037119435}, {&quot;distance_from_port_m&quot;: 12981.237303026408, &quot;distance_from_shore_m&quot;: 1437.4740912181348, &quot;draught_recent_m&quot;: 3.15, &quot;emissions_CH4&quot;: 5.377594809021392, &quot;emissions_CO&quot;: 290.3901196871552, &quot;emissions_CO2&quot;: 358785.7384336076, &quot;emissions_N2O&quot;: 16.132784427064177, &quot;emissions_NOX&quot;: 4321.0786417314885, &quot;emissions_PM&quot;: 107.55189618042786, &quot;emissions_SOX&quot;: 310.42290411421936, &quot;in_a_eca&quot;: 1, &quot;in_a_river&quot;: 0, &quot;lat&quot;: 59.83154296875, &quot;lon&quot;: 10.5908203125, &quot;speed_knots&quot;: 7.192255956870812, &quot;ssvid&quot;: 319009700.0, &quot;timestamp&quot;: &quot;2022-01-01 01:00:00&quot;, &quot;total_power_demand_kw&quot;: 537.7594809021393}, {&quot;distance_from_port_m&quot;: 20730.83339624317, &quot;distance_from_shore_m&quot;: 1072.7689531880287, &quot;draught_recent_m&quot;: 3.15, &quot;emissions_CH4&quot;: 5.350110039309836, &quot;emissions_CO&quot;: 285.4344192318942, &quot;emissions_CO2&quot;: 301985.74649729143, &quot;emissions_N2O&quot;: 14.02527509827459, &quot;emissions_NOX&quot;: 3812.466390383601, &quot;emissions_PM&quot;: 95.43045781674006, &quot;emissions_SOX&quot;: 261.219263683064, &quot;in_a_eca&quot;: 1, &quot;in_a_river&quot;: 0, &quot;lat&quot;: 59.75830078125, &quot;lon&quot;: 10.55419921875, &quot;speed_knots&quot;: 6.643993587816856, &quot;ssvid&quot;: 319009700.0, &quot;timestamp&quot;: &quot;2022-01-01 02:00:00&quot;, &quot;total_power_demand_kw&quot;: 451.43730470712984}, {&quot;distance_from_port_m&quot;: 27338.90678552361, &quot;distance_from_shore_m&quot;: 0.0, &quot;draught_recent_m&quot;: 3.15, &quot;emissions_CH4&quot;: 6.236035729845302, &quot;emissions_CO&quot;: 282.22517112290046, &quot;emissions_CO2&quot;: 182750.21335904003, &quot;emissions_N2O&quot;: 9.999930518416779, &quot;emissions_NOX&quot;: 2841.0165651112493, &quot;emissions_PM&quot;: 76.20172702513119, &quot;emissions_SOX&quot;: 157.93012403442674, &quot;in_a_eca&quot;: 1, &quot;in_a_river&quot;: 0, &quot;lat&quot;: 59.677734375, &quot;lon&quot;: 10.634765625, &quot;speed_knots&quot;: 5.038976377952755, &quot;ssvid&quot;: 319009700.0, &quot;timestamp&quot;: &quot;2022-01-01 03:00:00&quot;, &quot;total_power_demand_kw&quot;: 270.2282877796961}, {&quot;distance_from_port_m&quot;: 38681.673405866546, &quot;distance_from_shore_m&quot;: 466.26101234893247, &quot;draught_recent_m&quot;: 3.15, &quot;emissions_CH4&quot;: 5.892934251565771, &quot;emissions_CO&quot;: 318.21844958455165, &quot;emissions_CO2&quot;: 392695.07375302777, &quot;emissions_N2O&quot;: 17.678802754697312, &quot;emissions_NOX&quot;: 4694.184398133619, &quot;emissions_PM&quot;: 117.85868503131543, &quot;emissions_SOX&quot;: 339.7972523392489, &quot;in_a_eca&quot;: 1, &quot;in_a_river&quot;: 0, &quot;lat&quot;: 59.57666015625, &quot;lon&quot;: 10.60400390625, &quot;speed_knots&quot;: 7.483312040033999, &quot;ssvid&quot;: 319009700.0, &quot;timestamp&quot;: &quot;2022-01-01 04:00:00&quot;, &quot;total_power_demand_kw&quot;: 589.2934251565771}, {&quot;distance_from_port_m&quot;: 54402.87886754767, &quot;distance_from_shore_m&quot;: 1421.3912151084598, &quot;draught_recent_m&quot;: 3.15, &quot;emissions_CH4&quot;: 15.45674417266962, &quot;emissions_CO&quot;: 834.6641853241595, &quot;emissions_CO2&quot;: 1021993.7665616609, &quot;emissions_N2O&quot;: 46.370232518008855, &quot;emissions_NOX&quot;: 11618.382781012804, &quot;emissions_PM&quot;: 309.1348834533924, &quot;emissions_SOX&quot;: 884.9344178421682, &quot;in_a_eca&quot;: 1, &quot;in_a_river&quot;: 0, &quot;lat&quot;: 59.43603515625, &quot;lon&quot;: 10.56884765625, &quot;speed_knots&quot;: 10.890594136939724, &quot;ssvid&quot;: 319009700.0, &quot;timestamp&quot;: &quot;2022-01-01 05:00:00&quot;, &quot;total_power_demand_kw&quot;: 1545.6744172669619}, {&quot;distance_from_port_m&quot;: 75778.88289994975, &quot;distance_from_shore_m&quot;: 4260.512248684203, &quot;draught_recent_m&quot;: 3.15, &quot;emissions_CH4&quot;: 21.880000000000003, &quot;emissions_CO&quot;: 1181.5200000000002, &quot;emissions_CO2&quot;: 1444644.0, &quot;emissions_N2O&quot;: 65.64, &quot;emissions_NOX&quot;: 16268.82, &quot;emissions_PM&quot;: 437.6, &quot;emissions_SOX&quot;: 1251.06, &quot;in_a_eca&quot;: 1, &quot;in_a_river&quot;: 0, &quot;lat&quot;: 59.23828125, &quot;lon&quot;: 10.62158203125, &quot;speed_knots&quot;: 12.656797371303396, &quot;ssvid&quot;: 319009700.0, &quot;timestamp&quot;: &quot;2022-01-01 06:00:00&quot;, &quot;total_power_demand_kw&quot;: 2188.0}, {&quot;distance_from_port_m&quot;: 99968.05382681558, &quot;distance_from_shore_m&quot;: 12794.88636298762, &quot;draught_recent_m&quot;: 3.15, &quot;emissions_CH4&quot;: 21.880000000000003, &quot;emissions_CO&quot;: 1181.5200000000002, &quot;emissions_CO2&quot;: 1444644.0, &quot;emissions_N2O&quot;: 65.64, &quot;emissions_NOX&quot;: 16268.82, &quot;emissions_PM&quot;: 437.6, &quot;emissions_SOX&quot;: 1251.06, &quot;in_a_eca&quot;: 1, &quot;in_a_river&quot;: 0, &quot;lat&quot;: 59.0185546875, &quot;lon&quot;: 10.669921875, &quot;speed_knots&quot;: 13.0, &quot;ssvid&quot;: 319009700.0, &quot;timestamp&quot;: &quot;2022-01-01 07:00:00&quot;, &quot;total_power_demand_kw&quot;: 2188.0}, {&quot;distance_from_port_m&quot;: 122940.82854626408, &quot;distance_from_shore_m&quot;: 15451.687505210293, &quot;draught_recent_m&quot;: 3.15, &quot;emissions_CH4&quot;: 21.880000000000003, &quot;emissions_CO&quot;: 1181.5200000000002, &quot;emissions_CO2&quot;: 1444644.0, &quot;emissions_N2O&quot;: 65.64, &quot;emissions_NOX&quot;: 16268.82, &quot;emissions_PM&quot;: 437.6, &quot;emissions_SOX&quot;: 1251.06, &quot;in_a_eca&quot;: 1, &quot;in_a_river&quot;: 0, &quot;lat&quot;: 58.81103515625, &quot;lon&quot;: 10.74951171875, &quot;speed_knots&quot;: 13.0, &quot;ssvid&quot;: 319009700.0, &quot;timestamp&quot;: &quot;2022-01-01 08:00:00&quot;, &quot;total_power_demand_kw&quot;: 2188.0}, {&quot;distance_from_port_m&quot;: 145268.5507365798, &quot;distance_from_shore_m&quot;: 30440.859746588692, &quot;draught_recent_m&quot;: 3.15, &quot;emissions_CH4&quot;: 21.880000000000003, &quot;emissions_CO&quot;: 1181.5200000000002, &quot;emissions_CO2&quot;: 1444644.0, &quot;emissions_N2O&quot;: 65.64, &quot;emissions_NOX&quot;: 16268.82, &quot;emissions_PM&quot;: 437.6, &quot;emissions_SOX&quot;: 1251.06, &quot;in_a_eca&quot;: 1, &quot;in_a_river&quot;: 0, &quot;lat&quot;: 58.61083984375, &quot;lon&quot;: 10.82763671875, &quot;speed_knots&quot;: 13.0, &quot;ssvid&quot;: 319009700.0, &quot;timestamp&quot;: &quot;2022-01-01 09:00:00&quot;, &quot;total_power_demand_kw&quot;: 2188.0}, {&quot;distance_from_port_m&quot;: 167217.89845002268, &quot;distance_from_shore_m&quot;: 16334.550061735697, &quot;draught_recent_m&quot;: 3.15, &quot;emissions_CH4&quot;: 21.880000000000003, &quot;emissions_CO&quot;: 1181.5200000000002, &quot;emissions_CO2&quot;: 1444644.0, &quot;emissions_N2O&quot;: 65.64, &quot;emissions_NOX&quot;: 16268.82, &quot;emissions_PM&quot;: 437.6, &quot;emissions_SOX&quot;: 1251.06, &quot;in_a_eca&quot;: 1, &quot;in_a_river&quot;: 0, &quot;lat&quot;: 58.41552734375, &quot;lon&quot;: 10.92529296875, &quot;speed_knots&quot;: 13.0, &quot;ssvid&quot;: 319009700.0, &quot;timestamp&quot;: &quot;2022-01-01 10:00:00&quot;, &quot;total_power_demand_kw&quot;: 2188.0}, {&quot;distance_from_port_m&quot;: 190044.6856105913, &quot;distance_from_shore_m&quot;: 17116.767404632876, &quot;draught_recent_m&quot;: 3.15, &quot;emissions_CH4&quot;: 21.880000000000003, &quot;emissions_CO&quot;: 1181.5200000000002, &quot;emissions_CO2&quot;: 1444644.0, &quot;emissions_N2O&quot;: 65.64, &quot;emissions_NOX&quot;: 16268.82, &quot;emissions_PM&quot;: 437.6, &quot;emissions_SOX&quot;: 1251.06, &quot;in_a_eca&quot;: 1, &quot;in_a_river&quot;: 0, &quot;lat&quot;: 58.21533203125, &quot;lon&quot;: 11.06689453125, &quot;speed_knots&quot;: 13.0, &quot;ssvid&quot;: 319009700.0, &quot;timestamp&quot;: &quot;2022-01-01 11:00:00&quot;, &quot;total_power_demand_kw&quot;: 2188.0}, {&quot;distance_from_port_m&quot;: 213678.84329486682, &quot;distance_from_shore_m&quot;: 19130.172289783666, &quot;draught_recent_m&quot;: 3.15, &quot;emissions_CH4&quot;: 21.880000000000003, &quot;emissions_CO&quot;: 1181.5200000000002, &quot;emissions_CO2&quot;: 1444644.0, &quot;emissions_N2O&quot;: 65.64, &quot;emissions_NOX&quot;: 16268.82, &quot;emissions_PM&quot;: 437.6, &quot;emissions_SOX&quot;: 1251.06, &quot;in_a_eca&quot;: 1, &quot;in_a_river&quot;: 0, &quot;lat&quot;: 58.0078125, &quot;lon&quot;: 11.1796875, &quot;speed_knots&quot;: 13.0, &quot;ssvid&quot;: 319009700.0, &quot;timestamp&quot;: &quot;2022-01-01 12:00:00&quot;, &quot;total_power_demand_kw&quot;: 2188.0}, {&quot;distance_from_port_m&quot;: 237342.84715870986, &quot;distance_from_shore_m&quot;: 17660.43009496501, &quot;draught_recent_m&quot;: 3.15, &quot;emissions_CH4&quot;: 21.880000000000003, &quot;emissions_CO&quot;: 1181.5200000000002, &quot;emissions_CO2&quot;: 1444644.0, &quot;emissions_N2O&quot;: 65.64, &quot;emissions_NOX&quot;: 16268.82, &quot;emissions_PM&quot;: 437.6, &quot;emissions_SOX&quot;: 1251.06, &quot;in_a_eca&quot;: 1, &quot;in_a_river&quot;: 0, &quot;lat&quot;: 57.80029296875, &quot;lon&quot;: 11.28662109375, &quot;speed_knots&quot;: 13.0, &quot;ssvid&quot;: 319009700.0, &quot;timestamp&quot;: &quot;2022-01-01 13:00:00&quot;, &quot;total_power_demand_kw&quot;: 2188.0}, {&quot;distance_from_port_m&quot;: 260456.28212193248, &quot;distance_from_shore_m&quot;: 15616.592011838135, &quot;draught_recent_m&quot;: 3.15, &quot;emissions_CH4&quot;: 21.880000000000003, &quot;emissions_CO&quot;: 1181.5200000000002, &quot;emissions_CO2&quot;: 1444644.0, &quot;emissions_N2O&quot;: 65.64, &quot;emissions_NOX&quot;: 16268.82, &quot;emissions_PM&quot;: 437.6, &quot;emissions_SOX&quot;: 1251.06, &quot;in_a_eca&quot;: 1, &quot;in_a_river&quot;: 0, &quot;lat&quot;: 57.60009765625, &quot;lon&quot;: 11.41845703125, &quot;speed_knots&quot;: 13.0, &quot;ssvid&quot;: 319009700.0, &quot;timestamp&quot;: &quot;2022-01-01 14:00:00&quot;, &quot;total_power_demand_kw&quot;: 2188.0}, {&quot;distance_from_port_m&quot;: 282285.84885452886, &quot;distance_from_shore_m&quot;: 18625.68929615054, &quot;draught_recent_m&quot;: 3.15, &quot;emissions_CH4&quot;: 21.880000000000003, &quot;emissions_CO&quot;: 1181.5200000000002, &quot;emissions_CO2&quot;: 1444644.0, &quot;emissions_N2O&quot;: 65.64, &quot;emissions_NOX&quot;: 16268.82, &quot;emissions_PM&quot;: 437.6, &quot;emissions_SOX&quot;: 1251.06, &quot;in_a_eca&quot;: 1, &quot;in_a_river&quot;: 0, &quot;lat&quot;: 57.40478515625, &quot;lon&quot;: 11.45751953125, &quot;speed_knots&quot;: 13.0, &quot;ssvid&quot;: 319009700.0, &quot;timestamp&quot;: &quot;2022-01-01 15:00:00&quot;, &quot;total_power_demand_kw&quot;: 2188.0}, {&quot;distance_from_port_m&quot;: 305649.3398498197, &quot;distance_from_shore_m&quot;: 27533.889542223267, &quot;draught_recent_m&quot;: 3.15, &quot;emissions_CH4&quot;: 21.880000000000003, &quot;emissions_CO&quot;: 1181.5200000000002, &quot;emissions_CO2&quot;: 1444644.0, &quot;emissions_N2O&quot;: 65.64, &quot;emissions_NOX&quot;: 16268.82, &quot;emissions_PM&quot;: 437.6, &quot;emissions_SOX&quot;: 1251.06, &quot;in_a_eca&quot;: 1, &quot;in_a_river&quot;: 0, &quot;lat&quot;: 57.20458984375, &quot;lon&quot;: 11.60888671875, &quot;speed_knots&quot;: 13.0, &quot;ssvid&quot;: 319009700.0, &quot;timestamp&quot;: &quot;2022-01-01 16:00:00&quot;, &quot;total_power_demand_kw&quot;: 2188.0}, {&quot;distance_from_port_m&quot;: 315998.0298557312, &quot;distance_from_shore_m&quot;: 31638.815342656544, &quot;draught_recent_m&quot;: 3.15, &quot;emissions_CH4&quot;: 21.880000000000003, &quot;emissions_CO&quot;: 1181.5200000000002, &quot;emissions_CO2&quot;: 1444644.0, &quot;emissions_N2O&quot;: 65.64, &quot;emissions_NOX&quot;: 16268.82, &quot;emissions_PM&quot;: 437.6, &quot;emissions_SOX&quot;: 1251.06, &quot;in_a_eca&quot;: 1, &quot;in_a_river&quot;: 0, &quot;lat&quot;: 57.00927734375, &quot;lon&quot;: 11.74560546875, &quot;speed_knots&quot;: 13.0, &quot;ssvid&quot;: 319009700.0, &quot;timestamp&quot;: &quot;2022-01-01 17:00:00&quot;, &quot;total_power_demand_kw&quot;: 2188.0}, {&quot;distance_from_port_m&quot;: 296696.04409085086, &quot;distance_from_shore_m&quot;: 13587.276048582196, &quot;draught_recent_m&quot;: 3.15, &quot;emissions_CH4&quot;: 21.880000000000003, &quot;emissions_CO&quot;: 1181.5200000000002, &quot;emissions_CO2&quot;: 1444644.0, &quot;emissions_N2O&quot;: 65.64, &quot;emissions_NOX&quot;: 16268.82, &quot;emissions_PM&quot;: 437.6, &quot;emissions_SOX&quot;: 1251.06, &quot;in_a_eca&quot;: 1, &quot;in_a_river&quot;: 0, &quot;lat&quot;: 56.80908203125, &quot;lon&quot;: 11.81884765625, &quot;speed_knots&quot;: 13.0, &quot;ssvid&quot;: 319009700.0, &quot;timestamp&quot;: &quot;2022-01-01 18:00:00&quot;, &quot;total_power_demand_kw&quot;: 2188.0}, {&quot;distance_from_port_m&quot;: 273873.27229557064, &quot;distance_from_shore_m&quot;: 12467.272334219457, &quot;draught_recent_m&quot;: 3.15, &quot;emissions_CH4&quot;: 21.880000000000003, &quot;emissions_CO&quot;: 1181.5200000000002, &quot;emissions_CO2&quot;: 1444644.0, &quot;emissions_N2O&quot;: 65.64, &quot;emissions_NOX&quot;: 16268.82, &quot;emissions_PM&quot;: 437.6, &quot;emissions_SOX&quot;: 1251.06, &quot;in_a_eca&quot;: 1, &quot;in_a_river&quot;: 0, &quot;lat&quot;: 56.61376953125, &quot;lon&quot;: 11.70166015625, &quot;speed_knots&quot;: 13.0, &quot;ssvid&quot;: 319009700.0, &quot;timestamp&quot;: &quot;2022-01-01 19:00:00&quot;, &quot;total_power_demand_kw&quot;: 2188.0}, {&quot;distance_from_port_m&quot;: 248667.7244303527, &quot;distance_from_shore_m&quot;: 29589.3653109262, &quot;draught_recent_m&quot;: 3.15, &quot;emissions_CH4&quot;: 21.880000000000003, &quot;emissions_CO&quot;: 1181.5200000000002, &quot;emissions_CO2&quot;: 1444644.0, &quot;emissions_N2O&quot;: 65.64, &quot;emissions_NOX&quot;: 16268.82, &quot;emissions_PM&quot;: 437.6, &quot;emissions_SOX&quot;: 1251.06, &quot;in_a_eca&quot;: 1, &quot;in_a_river&quot;: 0, &quot;lat&quot;: 56.41357421875, &quot;lon&quot;: 11.50146484375, &quot;speed_knots&quot;: 13.0, &quot;ssvid&quot;: 319009700.0, &quot;timestamp&quot;: &quot;2022-01-01 20:00:00&quot;, &quot;total_power_demand_kw&quot;: 2188.0}, {&quot;distance_from_port_m&quot;: 225340.65859628492, &quot;distance_from_shore_m&quot;: 25876.651944771307, &quot;draught_recent_m&quot;: 3.15, &quot;emissions_CH4&quot;: 21.880000000000003, &quot;emissions_CO&quot;: 1181.5200000000002, &quot;emissions_CO2&quot;: 1444644.0, &quot;emissions_N2O&quot;: 65.64, &quot;emissions_NOX&quot;: 16268.82, &quot;emissions_PM&quot;: 437.6, &quot;emissions_SOX&quot;: 1251.06, &quot;in_a_eca&quot;: 1, &quot;in_a_river&quot;: 0, &quot;lat&quot;: 56.22802734375, &quot;lon&quot;: 11.31591796875, &quot;speed_knots&quot;: 13.0, &quot;ssvid&quot;: 319009700.0, &quot;timestamp&quot;: &quot;2022-01-01 21:00:00&quot;, &quot;total_power_demand_kw&quot;: 2188.0}, {&quot;distance_from_port_m&quot;: 203785.23244837363, &quot;distance_from_shore_m&quot;: 11979.249912625764, &quot;draught_recent_m&quot;: 3.15, &quot;emissions_CH4&quot;: 21.880000000000003, &quot;emissions_CO&quot;: 1181.5200000000002, &quot;emissions_CO2&quot;: 1444644.0, &quot;emissions_N2O&quot;: 65.64, &quot;emissions_NOX&quot;: 16268.82, &quot;emissions_PM&quot;: 437.6, &quot;emissions_SOX&quot;: 1251.06, &quot;in_a_eca&quot;: 1, &quot;in_a_river&quot;: 0, &quot;lat&quot;: 56.06103515625, &quot;lon&quot;: 11.1181640625, &quot;speed_knots&quot;: 13.0, &quot;ssvid&quot;: 319009700.0, &quot;timestamp&quot;: &quot;2022-01-01 22:00:00&quot;, &quot;total_power_demand_kw&quot;: 2188.0}, {&quot;distance_from_port_m&quot;: 180523.5332104288, &quot;distance_from_shore_m&quot;: 15206.220145225056, &quot;draught_recent_m&quot;: 3.15, &quot;emissions_CH4&quot;: 21.880000000000003, &quot;emissions_CO&quot;: 1181.5200000000002, &quot;emissions_CO2&quot;: 1444644.0, &quot;emissions_N2O&quot;: 65.64, &quot;emissions_NOX&quot;: 16268.82, &quot;emissions_PM&quot;: 437.6, &quot;emissions_SOX&quot;: 1251.06, &quot;in_a_eca&quot;: 1, &quot;in_a_river&quot;: 0, &quot;lat&quot;: 55.87646484375, &quot;lon&quot;: 10.92041015625, &quot;speed_knots&quot;: 13.0, &quot;ssvid&quot;: 319009700.0, &quot;timestamp&quot;: &quot;2022-01-01 23:00:00&quot;, &quot;total_power_demand_kw&quot;: 2188.0}, {&quot;distance_from_port_m&quot;: 157261.23200456268, &quot;distance_from_shore_m&quot;: 8079.551012719028, &quot;draught_recent_m&quot;: 3.15, &quot;emissions_CH4&quot;: 21.880000000000003, &quot;emissions_CO&quot;: 1181.5200000000002, &quot;emissions_CO2&quot;: 1444644.0, &quot;emissions_N2O&quot;: 65.64, &quot;emissions_NOX&quot;: 16268.82, &quot;emissions_PM&quot;: 437.6, &quot;emissions_SOX&quot;: 1251.06, &quot;in_a_eca&quot;: 1, &quot;in_a_river&quot;: 0, &quot;lat&quot;: 55.6787109375, &quot;lon&quot;: 10.79736328125, &quot;speed_knots&quot;: 13.0, &quot;ssvid&quot;: 319009700.0, &quot;timestamp&quot;: &quot;2022-01-02 00:00:00&quot;, &quot;total_power_demand_kw&quot;: 2188.0}, {&quot;distance_from_port_m&quot;: 138898.37743092154, &quot;distance_from_shore_m&quot;: 10721.638698492992, &quot;draught_recent_m&quot;: 3.15, &quot;emissions_CH4&quot;: 21.880000000000003, &quot;emissions_CO&quot;: 1181.5200000000002, &quot;emissions_CO2&quot;: 1444644.0, &quot;emissions_N2O&quot;: 65.64, &quot;emissions_NOX&quot;: 16268.82, &quot;emissions_PM&quot;: 437.6, &quot;emissions_SOX&quot;: 1251.06, &quot;in_a_eca&quot;: 1, &quot;in_a_river&quot;: 0, &quot;lat&quot;: 55.48095703125, &quot;lon&quot;: 10.92041015625, &quot;speed_knots&quot;: 13.0, &quot;ssvid&quot;: 319009700.0, &quot;timestamp&quot;: &quot;2022-01-02 01:00:00&quot;, &quot;total_power_demand_kw&quot;: 2188.0}, {&quot;distance_from_port_m&quot;: 124189.88463640302, &quot;distance_from_shore_m&quot;: 5060.59129351327, &quot;draught_recent_m&quot;: 3.15, &quot;emissions_CH4&quot;: 21.880000000000003, &quot;emissions_CO&quot;: 1181.5200000000002, &quot;emissions_CO2&quot;: 1444644.0, &quot;emissions_N2O&quot;: 65.64, &quot;emissions_NOX&quot;: 16268.82, &quot;emissions_PM&quot;: 437.6, &quot;emissions_SOX&quot;: 1251.06, &quot;in_a_eca&quot;: 1, &quot;in_a_river&quot;: 0, &quot;lat&quot;: 55.29541015625, &quot;lon&quot;: 11.06689453125, &quot;speed_knots&quot;: 13.0, &quot;ssvid&quot;: 319009700.0, &quot;timestamp&quot;: &quot;2022-01-02 02:00:00&quot;, &quot;total_power_demand_kw&quot;: 2188.0}, {&quot;distance_from_port_m&quot;: 104080.51327144078, &quot;distance_from_shore_m&quot;: 6586.96323561492, &quot;draught_recent_m&quot;: 3.15, &quot;emissions_CH4&quot;: 21.880000000000003, &quot;emissions_CO&quot;: 1181.5200000000002, &quot;emissions_CO2&quot;: 1444644.0, &quot;emissions_N2O&quot;: 65.64, &quot;emissions_NOX&quot;: 16268.82, &quot;emissions_PM&quot;: 437.6, &quot;emissions_SOX&quot;: 1251.06, &quot;in_a_eca&quot;: 1, &quot;in_a_river&quot;: 0, &quot;lat&quot;: 55.09521484375, &quot;lon&quot;: 11.03271484375, &quot;speed_knots&quot;: 13.0, &quot;ssvid&quot;: 319009700.0, &quot;timestamp&quot;: &quot;2022-01-02 03:00:00&quot;, &quot;total_power_demand_kw&quot;: 2188.0}, {&quot;distance_from_port_m&quot;: 80598.42971587187, &quot;distance_from_shore_m&quot;: 3952.905212949897, &quot;draught_recent_m&quot;: 3.15, &quot;emissions_CH4&quot;: 21.880000000000003, &quot;emissions_CO&quot;: 1181.5200000000002, &quot;emissions_CO2&quot;: 1444644.0, &quot;emissions_N2O&quot;: 65.64, &quot;emissions_NOX&quot;: 16268.82, &quot;emissions_PM&quot;: 437.6, &quot;emissions_SOX&quot;: 1251.06, &quot;in_a_eca&quot;: 1, &quot;in_a_river&quot;: 0, &quot;lat&quot;: 54.89990234375, &quot;lon&quot;: 10.87646484375, &quot;speed_knots&quot;: 13.0, &quot;ssvid&quot;: 319009700.0, &quot;timestamp&quot;: &quot;2022-01-02 04:00:00&quot;, &quot;total_power_demand_kw&quot;: 2188.0}, {&quot;distance_from_port_m&quot;: 56886.31410282931, &quot;distance_from_shore_m&quot;: 5308.932738652941, &quot;draught_recent_m&quot;: 3.15, &quot;emissions_CH4&quot;: 21.880000000000003, &quot;emissions_CO&quot;: 1181.5200000000002, &quot;emissions_CO2&quot;: 1444644.0, &quot;emissions_N2O&quot;: 65.64, &quot;emissions_NOX&quot;: 16268.82, &quot;emissions_PM&quot;: 437.6, &quot;emissions_SOX&quot;: 1251.06, &quot;in_a_eca&quot;: 1, &quot;in_a_river&quot;: 0, &quot;lat&quot;: 54.68994140625, &quot;lon&quot;: 10.73583984375, &quot;speed_knots&quot;: 13.0, &quot;ssvid&quot;: 319009700.0, &quot;timestamp&quot;: &quot;2022-01-02 05:00:00&quot;, &quot;total_power_demand_kw&quot;: 2188.0}, {&quot;distance_from_port_m&quot;: 35342.315954620964, &quot;distance_from_shore_m&quot;: 16839.957521417342, &quot;draught_recent_m&quot;: 3.15, &quot;emissions_CH4&quot;: 21.880000000000003, &quot;emissions_CO&quot;: 1181.5200000000002, &quot;emissions_CO2&quot;: 1444644.0, &quot;emissions_N2O&quot;: 65.64, &quot;emissions_NOX&quot;: 16268.82, &quot;emissions_PM&quot;: 437.6, &quot;emissions_SOX&quot;: 1251.06, &quot;in_a_eca&quot;: 1, &quot;in_a_river&quot;: 0, &quot;lat&quot;: 54.55078125, &quot;lon&quot;: 10.5029296875, &quot;speed_knots&quot;: 12.448241985522232, &quot;ssvid&quot;: 319009700.0, &quot;timestamp&quot;: &quot;2022-01-02 06:00:00&quot;, &quot;total_power_demand_kw&quot;: 2188.0}, {&quot;distance_from_port_m&quot;: 20546.587091434012, &quot;distance_from_shore_m&quot;: 4041.410064999205, &quot;draught_recent_m&quot;: 3.15, &quot;emissions_CH4&quot;: 11.919702372620339, &quot;emissions_CO&quot;: 643.6639281214983, &quot;emissions_CO2&quot;: 789256.4161184182, &quot;emissions_N2O&quot;: 35.759107117861014, &quot;emissions_NOX&quot;: 9057.564517777126, &quot;emissions_PM&quot;: 238.39404745240677, &quot;emissions_SOX&quot;: 683.3230352393592, &quot;in_a_eca&quot;: 1, &quot;in_a_river&quot;: 0, &quot;lat&quot;: 54.476492745535715, &quot;lon&quot;: 10.292619977678571, &quot;speed_knots&quot;: 9.895427483194112, &quot;ssvid&quot;: 319009700.0, &quot;timestamp&quot;: &quot;2022-01-02 07:00:00&quot;, &quot;total_power_demand_kw&quot;: 1191.9702372620338}, {&quot;distance_from_port_m&quot;: 9606.246716348354, &quot;distance_from_shore_m&quot;: 0.0, &quot;draught_recent_m&quot;: 3.15, &quot;emissions_CH4&quot;: 5.612211884277529, &quot;emissions_CO&quot;: 271.6418980226789, &quot;emissions_CO2&quot;: 203076.6436450244, &quot;emissions_N2O&quot;: 10.419653682181503, &quot;emissions_NOX&quot;: 2942.3097552998024, &quot;emissions_PM&quot;: 76.65137768833924, &quot;emissions_SOX&quot;: 175.5381259538965, &quot;in_a_eca&quot;: 1, &quot;in_a_river&quot;: 0, &quot;lat&quot;: 54.39697265625, &quot;lon&quot;: 10.18798828125, &quot;speed_knots&quot;: 5.384726246614747, &quot;ssvid&quot;: 319009700.0, &quot;timestamp&quot;: &quot;2022-01-02 08:00:00&quot;, &quot;total_power_demand_kw&quot;: 301.11951921736227}, {&quot;distance_from_port_m&quot;: 2427.7271428367394, &quot;distance_from_shore_m&quot;: 0.0, &quot;draught_recent_m&quot;: 3.15, &quot;emissions_CH4&quot;: 6.122379010660412, &quot;emissions_CO&quot;: 277.3430984124586, &quot;emissions_CO2&quot;: 180625.6076424588, &quot;emissions_N2O&quot;: 9.859474061469541, &quot;emissions_NOX&quot;: 2807.119740167983, &quot;emissions_PM&quot;: 75.04578652887578, &quot;emissions_SOX&quot;: 156.0896601158078, &quot;in_a_eca&quot;: 1, &quot;in_a_river&quot;: 0, &quot;lat&quot;: 54.33837890625, &quot;lon&quot;: 10.12939453125, &quot;speed_knots&quot;: 5.0, &quot;ssvid&quot;: 319009700.0, &quot;timestamp&quot;: &quot;2022-01-02 09:00:00&quot;, &quot;total_power_demand_kw&quot;: 266.9994037119435}, {&quot;distance_from_port_m&quot;: 8832.91821997088, &quot;distance_from_shore_m&quot;: 0.0, &quot;draught_recent_m&quot;: 3.15, &quot;emissions_CH4&quot;: 5.576558246825848, &quot;emissions_CO&quot;: 281.1041429276462, &quot;emissions_CO2&quot;: 234050.16971486778, &quot;emissions_N2O&quot;: 11.558530329774861, &quot;emissions_NOX&quot;: 3217.158652919, &quot;emissions_PM&quot;: 82.72985429462861, &quot;emissions_SOX&quot;: 202.36929595360886, &quot;in_a_eca&quot;: 1, &quot;in_a_river&quot;: 0, &quot;lat&quot;: 54.3603515625, &quot;lon&quot;: 10.01953125, &quot;speed_knots&quot;: 5.839063775751616, &quot;ssvid&quot;: 319009700.0, &quot;timestamp&quot;: &quot;2022-01-01 01:00:00&quot;, &quot;total_power_demand_kw&quot;: 348.1917472870331}, {&quot;distance_from_port_m&quot;: 16648.158236477833, &quot;distance_from_shore_m&quot;: 0.0, &quot;draught_recent_m&quot;: 3.15, &quot;emissions_CH4&quot;: 5.386981847898496, &quot;emissions_CO&quot;: 281.88897816257924, &quot;emissions_CO2&quot;: 273421.092239266, &quot;emissions_N2O&quot;: 12.908041623939543, &quot;emissions_NOX&quot;: 3542.8407119107433, &quot;emissions_PM&quot;: 89.94597449092885, &quot;emissions_SOX&quot;: 236.47480634708452, &quot;in_a_eca&quot;: 1, &quot;in_a_river&quot;: 0, &quot;lat&quot;: 54.3603515625, &quot;lon&quot;: 9.8876953125, &quot;speed_knots&quot;: 6.33031862609658, &quot;ssvid&quot;: 319009700.0, &quot;timestamp&quot;: &quot;2022-01-01 02:00:00&quot;, &quot;total_power_demand_kw&quot;: 408.02597604751674}, {&quot;distance_from_port_m&quot;: 24686.556278704164, &quot;distance_from_shore_m&quot;: 0.0, &quot;draught_recent_m&quot;: 3.15, &quot;emissions_CH4&quot;: 5.655332386980314, &quot;emissions_CO&quot;: 284.9889941456721, &quot;emissions_CO2&quot;: 236694.73013433913, &quot;emissions_N2O&quot;: 11.69960034607189, &quot;emissions_NOX&quot;: 3251.2035501853497, &quot;emissions_PM&quot;: 83.7748173783103, &quot;emissions_SOX&quot;: 204.6601765601418, &quot;in_a_eca&quot;: 1, &quot;in_a_river&quot;: 0, &quot;lat&quot;: 54.345703125, &quot;lon&quot;: 9.755859375, &quot;speed_knots&quot;: 5.874697694124677, &quot;ssvid&quot;: 319009700.0, &quot;timestamp&quot;: &quot;2022-01-01 03:00:00&quot;, &quot;total_power_demand_kw&quot;: 352.2108360704242}, {&quot;distance_from_port_m&quot;: 30673.24421735028, &quot;distance_from_shore_m&quot;: 0.0, &quot;draught_recent_m&quot;: 3.15, &quot;emissions_CH4&quot;: 5.64098548217219, &quot;emissions_CO&quot;: 264.8821624716545, &quot;emissions_CO2&quot;: 187306.0490599763, &quot;emissions_N2O&quot;: 9.859658034846566, &quot;emissions_NOX&quot;: 2807.1641390763043, &quot;emissions_PM&quot;: 73.38296017828628, &quot;emissions_SOX&quot;: 161.8766686385813, &quot;in_a_eca&quot;: 1, &quot;in_a_river&quot;: 0, &quot;lat&quot;: 54.30908203125, &quot;lon&quot;: 9.66064453125, &quot;speed_knots&quot;: 5.120580733764953, &quot;ssvid&quot;: 319009700.0, &quot;timestamp&quot;: &quot;2022-01-01 04:00:00&quot;, &quot;total_power_demand_kw&quot;: 277.1520502431251}, {&quot;distance_from_port_m&quot;: 36095.71656598129, &quot;distance_from_shore_m&quot;: 0.0, &quot;draught_recent_m&quot;: 3.15, &quot;emissions_CH4&quot;: 5.398684643364116, &quot;emissions_CO&quot;: 280.46252220457916, &quot;emissions_CO2&quot;: 259038.40595834926, &quot;emissions_N2O&quot;: 12.430387414001567, &quot;emissions_NOX&quot;: 3427.5668292457112, &quot;emissions_PM&quot;: 86.96793407004122, &quot;emissions_SOX&quot;: 224.01564041984662, &quot;in_a_eca&quot;: 1, &quot;in_a_river&quot;: 0, &quot;lat&quot;: 54.22119140625, &quot;lon&quot;: 9.60205078125, &quot;speed_knots&quot;: 6.15987575734351, &quot;ssvid&quot;: 319009700.0, &quot;timestamp&quot;: &quot;2022-01-01 05:00:00&quot;, &quot;total_power_demand_kw&quot;: 386.16779021025724}, {&quot;distance_from_port_m&quot;: 46371.20920653553, &quot;distance_from_shore_m&quot;: 0.0, &quot;draught_recent_m&quot;: 3.15, &quot;emissions_CH4&quot;: 5.590001877871991, &quot;emissions_CO&quot;: 286.0650944911043, &quot;emissions_CO2&quot;: 250867.57020680513, &quot;emissions_N2O&quot;: 12.23625364904671, &quot;emissions_NOX&quot;: 3380.7158806366056, &quot;emissions_PM&quot;: 86.45002646092351, &quot;emissions_SOX&quot;: 216.93756081744516, &quot;in_a_eca&quot;: 1, &quot;in_a_river&quot;: 0, &quot;lat&quot;: 54.16259765625, &quot;lon&quot;: 9.47021484375, &quot;speed_knots&quot;: 6.05868979052008, &quot;ssvid&quot;: 319009700.0, &quot;timestamp&quot;: &quot;2022-01-01 06:00:00&quot;, &quot;total_power_demand_kw&quot;: 373.75010669727226}, {&quot;distance_from_port_m&quot;: 55269.7237231957, &quot;distance_from_shore_m&quot;: 0.0, &quot;draught_recent_m&quot;: 3.15, &quot;emissions_CH4&quot;: 5.391768233890059, &quot;emissions_CO&quot;: 282.1368934206729, &quot;emissions_CO2&quot;: 273635.3399931741, &quot;emissions_N2O&quot;: 12.918591209390335, &quot;emissions_NOX&quot;: 3545.3866785328673, &quot;emissions_PM&quot;: 90.0208635234499, &quot;emissions_SOX&quot;: 236.6604009059411, &quot;in_a_eca&quot;: 1, &quot;in_a_river&quot;: 0, &quot;lat&quot;: 54.12744140625, &quot;lon&quot;: 9.34716796875, &quot;speed_knots&quot;: 6.332788870158904, &quot;ssvid&quot;: 319009700.0, &quot;timestamp&quot;: &quot;2022-01-01 07:00:00&quot;, &quot;total_power_demand_kw&quot;: 408.35158053673877}, {&quot;distance_from_port_m&quot;: 63180.80512792103, &quot;distance_from_shore_m&quot;: 0.0, &quot;draught_recent_m&quot;: 3.15, &quot;emissions_CH4&quot;: 5.569787762678127, &quot;emissions_CO&quot;: 280.7702475206468, &quot;emissions_CO2&quot;: 233822.87488990853, &quot;emissions_N2O&quot;: 11.546405636224604, &quot;emissions_NOX&quot;: 3214.2325602088713, &quot;emissions_PM&quot;: 82.64004174981189, &quot;emissions_SOX&quot;: 202.17239922074143, &quot;in_a_eca&quot;: 1, &quot;in_a_river&quot;: 0, &quot;lat&quot;: 54.03076171875, &quot;lon&quot;: 9.29443359375, &quot;speed_knots&quot;: 5.835980753739565, &quot;ssvid&quot;: 319009700.0, &quot;timestamp&quot;: &quot;2022-01-01 08:00:00&quot;, &quot;total_power_demand_kw&quot;: 347.84631442235343}, {&quot;distance_from_port_m&quot;: 72009.1814301086, &quot;distance_from_shore_m&quot;: 0.0, &quot;draught_recent_m&quot;: 3.15, &quot;emissions_CH4&quot;: 5.7741769997417425, &quot;emissions_CO&quot;: 311.8055579860541, &quot;emissions_CO2&quot;: 384880.84658300667, &quot;emissions_N2O&quot;: 17.322530999225226, &quot;emissions_NOX&quot;: 4608.204147813021, &quot;emissions_PM&quot;: 115.48353999483486, &quot;emissions_SOX&quot;: 333.0280889852793, &quot;in_a_eca&quot;: 1, &quot;in_a_river&quot;: 0, &quot;lat&quot;: 53.93408203125, &quot;lon&quot;: 9.24169921875, &quot;speed_knots&quot;: 7.41825057655254, &quot;ssvid&quot;: 319009700.0, &quot;timestamp&quot;: &quot;2022-01-01 09:00:00&quot;, &quot;total_power_demand_kw&quot;: 577.4176999741742}, {&quot;distance_from_port_m&quot;: 84894.12768940382, &quot;distance_from_shore_m&quot;: 0.0, &quot;draught_recent_m&quot;: 3.15, &quot;emissions_CH4&quot;: 6.27434249353016, &quot;emissions_CO&quot;: 338.8144946506286, &quot;emissions_CO2&quot;: 417791.7360742845, &quot;emissions_N2O&quot;: 18.82302748059048, &quot;emissions_NOX&quot;: 4970.323965315835, &quot;emissions_PM&quot;: 125.4868498706032, &quot;emissions_SOX&quot;: 361.5375221312191, &quot;in_a_eca&quot;: 1, &quot;in_a_river&quot;: 0, &quot;lat&quot;: 53.85498046875, &quot;lon&quot;: 9.0966796875, &quot;speed_knots&quot;: 7.6849728943855204, &quot;ssvid&quot;: 319009700.0, &quot;timestamp&quot;: &quot;2022-01-01 10:00:00&quot;, &quot;total_power_demand_kw&quot;: 627.434249353016}, {&quot;distance_from_port_m&quot;: 95485.37180941961, &quot;distance_from_shore_m&quot;: 2593.265231952064, &quot;draught_recent_m&quot;: 3.15, &quot;emissions_CH4&quot;: 6.996321692141104, &quot;emissions_CO&quot;: 377.8013713756197, &quot;emissions_CO2&quot;: 465297.9673428847, &quot;emissions_N2O&quot;: 20.988965076423312, &quot;emissions_NOX&quot;: 5493.03690511016, &quot;emissions_PM&quot;: 139.92643384282212, &quot;emissions_SOX&quot;: 402.69033645204297, &quot;in_a_eca&quot;: 1, &quot;in_a_river&quot;: 0, &quot;lat&quot;: 53.85498046875, &quot;lon&quot;: 8.89892578125, &quot;speed_knots&quot;: 8.040109210024042, &quot;ssvid&quot;: 319009700.0, &quot;timestamp&quot;: &quot;2022-01-01 11:00:00&quot;, &quot;total_power_demand_kw&quot;: 699.6321692141105}, {&quot;distance_from_port_m&quot;: 103188.86175334067, &quot;distance_from_shore_m&quot;: 3763.4342989437696, &quot;draught_recent_m&quot;: 3.15, &quot;emissions_CH4&quot;: 15.080736704054772, &quot;emissions_CO&quot;: 814.3597820189577, &quot;emissions_CO2&quot;: 997252.4751268039, &quot;emissions_N2O&quot;: 45.24221011216431, &quot;emissions_NOX&quot;: 11346.153373735653, &quot;emissions_PM&quot;: 301.61473408109543, &quot;emissions_SOX&quot;: 863.5019921311218, &quot;in_a_eca&quot;: 1, &quot;in_a_river&quot;: 0, &quot;lat&quot;: 53.9208984375, &quot;lon&quot;: 8.701171875, &quot;speed_knots&quot;: 10.793308498565187, &quot;ssvid&quot;: 319009700.0, &quot;timestamp&quot;: &quot;2022-01-01 12:00:00&quot;, &quot;total_power_demand_kw&quot;: 1508.073670405477}, {&quot;distance_from_port_m&quot;: 109747.99215990944, &quot;distance_from_shore_m&quot;: 9813.656087528174, &quot;draught_recent_m&quot;: 3.15, &quot;emissions_CH4&quot;: 13.216150188250023, &quot;emissions_CO&quot;: 713.6721101655013, &quot;emissions_CO2&quot;: 874562.6823868514, &quot;emissions_N2O&quot;: 39.648450564750064, &quot;emissions_NOX&quot;: 9996.192736293015, &quot;emissions_PM&quot;: 264.3230037650004, &quot;emissions_SOX&quot;: 757.2205607302511, &quot;in_a_eca&quot;: 1, &quot;in_a_river&quot;: 0, &quot;lat&quot;: 54.019775390625, &quot;lon&quot;: 8.525390625, &quot;speed_knots&quot;: 10.131507021419818, &quot;ssvid&quot;: 319009700.0, &quot;timestamp&quot;: &quot;2022-01-01 13:00:00&quot;, &quot;total_power_demand_kw&quot;: 1321.6150188250022}, {&quot;distance_from_port_m&quot;: 123002.1991710574, &quot;distance_from_shore_m&quot;: 23423.788500752205, &quot;draught_recent_m&quot;: 3.15, &quot;emissions_CH4&quot;: 21.880000000000003, &quot;emissions_CO&quot;: 1181.5200000000002, &quot;emissions_CO2&quot;: 1444644.0, &quot;emissions_N2O&quot;: 65.64, &quot;emissions_NOX&quot;: 16268.82, &quot;emissions_PM&quot;: 437.6, &quot;emissions_SOX&quot;: 1251.06, &quot;in_a_eca&quot;: 1, &quot;in_a_river&quot;: 0, &quot;lat&quot;: 54.11865234375, &quot;lon&quot;: 8.27197265625, &quot;speed_knots&quot;: 13.0, &quot;ssvid&quot;: 319009700.0, &quot;timestamp&quot;: &quot;2022-01-01 14:00:00&quot;, &quot;total_power_demand_kw&quot;: 2188.0}, {&quot;distance_from_port_m&quot;: 142330.1018712816, &quot;distance_from_shore_m&quot;: 10336.882080345895, &quot;draught_recent_m&quot;: 3.15, &quot;emissions_CH4&quot;: 18.39597414149675, &quot;emissions_CO&quot;: 993.3826036408245, &quot;emissions_CO2&quot;: 1215395.098510486, &quot;emissions_N2O&quot;: 55.187922424490246, &quot;emissions_NOX&quot;: 13746.385278443646, &quot;emissions_PM&quot;: 367.919482829935, &quot;emissions_SOX&quot;: 1052.4705260653145, &quot;in_a_eca&quot;: 1, &quot;in_a_river&quot;: 0, &quot;lat&quot;: 54.100341796875, &quot;lon&quot;: 7.97607421875, &quot;speed_knots&quot;: 11.4268539804172, &quot;ssvid&quot;: 319009700.0, &quot;timestamp&quot;: &quot;2022-01-01 15:00:00&quot;, &quot;total_power_demand_kw&quot;: 1839.597414149675}, {&quot;distance_from_port_m&quot;: 160647.82176069997, &quot;distance_from_shore_m&quot;: 20825.404134659188, &quot;draught_recent_m&quot;: 3.15, &quot;emissions_CH4&quot;: 15.468761239156661, &quot;emissions_CO&quot;: 835.3131069144598, &quot;emissions_CO2&quot;: 1022784.4895365083, &quot;emissions_N2O&quot;: 46.40628371746998, &quot;emissions_NOX&quot;: 11627.083137149422, &quot;emissions_PM&quot;: 309.3752247831332, &quot;emissions_SOX&quot;: 885.6193906319296, &quot;in_a_eca&quot;: 1, &quot;in_a_river&quot;: 0, &quot;lat&quot;: 54.034423828125, &quot;lon&quot;: 7.71240234375, &quot;speed_knots&quot;: 10.733450413997227, &quot;ssvid&quot;: 319009700.0, &quot;timestamp&quot;: &quot;2022-01-01 16:00:00&quot;, &quot;total_power_demand_kw&quot;: 1546.876123915666}, {&quot;distance_from_port_m&quot;: 178525.7554732462, &quot;distance_from_shore_m&quot;: 25593.3649740026, &quot;draught_recent_m&quot;: 3.15, &quot;emissions_CH4&quot;: 17.856191550687047, &quot;emissions_CO&quot;: 964.2343437371005, &quot;emissions_CO2&quot;: 1179877.4040352076, &quot;emissions_N2O&quot;: 53.56857465206113, &quot;emissions_NOX&quot;: 13355.58268269742, &quot;emissions_PM&quot;: 357.1238310137409, &quot;emissions_SOX&quot;: 1021.7029183891615, &quot;in_a_eca&quot;: 1, &quot;in_a_river&quot;: 0, &quot;lat&quot;: 53.990478515625, &quot;lon&quot;: 7.44873046875, &quot;speed_knots&quot;: 11.305303030303032, &quot;ssvid&quot;: 319009700.0, &quot;timestamp&quot;: &quot;2022-01-01 17:00:00&quot;, &quot;total_power_demand_kw&quot;: 1785.6191550687045}, {&quot;distance_from_port_m&quot;: 193779.31280776486, &quot;distance_from_shore_m&quot;: 20252.025185316987, &quot;draught_recent_m&quot;: 3.15, &quot;emissions_CH4&quot;: 12.178356712861905, &quot;emissions_CO&quot;: 657.631262494543, &quot;emissions_CO2&quot;: 806275.8717063133, &quot;emissions_N2O&quot;: 36.535070138585716, &quot;emissions_NOX&quot;: 9244.83026011202, &quot;emissions_PM&quot;: 243.5671342572381, &quot;emissions_SOX&quot;: 698.0663326331286, &quot;in_a_eca&quot;: 1, &quot;in_a_river&quot;: 0, &quot;lat&quot;: 53.91148158482143, &quot;lon&quot;: 7.241559709821429, &quot;speed_knots&quot;: 9.828407595239629, &quot;ssvid&quot;: 319009700.0, &quot;timestamp&quot;: &quot;2022-01-01 18:00:00&quot;, &quot;total_power_demand_kw&quot;: 1217.8356712861905}, {&quot;distance_from_port_m&quot;: 210297.8718555213, &quot;distance_from_shore_m&quot;: 17422.795598313678, &quot;draught_recent_m&quot;: 3.15, &quot;emissions_CH4&quot;: 21.880000000000003, &quot;emissions_CO&quot;: 1181.5200000000002, &quot;emissions_CO2&quot;: 1444644.0, &quot;emissions_N2O&quot;: 65.64, &quot;emissions_NOX&quot;: 16268.82, &quot;emissions_PM&quot;: 437.6, &quot;emissions_SOX&quot;: 1251.06, &quot;in_a_eca&quot;: 1, &quot;in_a_river&quot;: 0, &quot;lat&quot;: 53.848702566964285, &quot;lon&quot;: 7.00927734375, &quot;speed_knots&quot;: 13.0, &quot;ssvid&quot;: 319009700.0, &quot;timestamp&quot;: &quot;2022-01-01 19:00:00&quot;, &quot;total_power_demand_kw&quot;: 2188.0}, {&quot;distance_from_port_m&quot;: 201215.268117945, &quot;distance_from_shore_m&quot;: 22436.446410083474, &quot;draught_recent_m&quot;: 3.15, &quot;emissions_CH4&quot;: 21.880000000000003, &quot;emissions_CO&quot;: 1181.5200000000002, &quot;emissions_CO2&quot;: 1444644.0, &quot;emissions_N2O&quot;: 65.64, &quot;emissions_NOX&quot;: 16268.82, &quot;emissions_PM&quot;: 437.6, &quot;emissions_SOX&quot;: 1251.06, &quot;in_a_eca&quot;: 1, &quot;in_a_river&quot;: 0, &quot;lat&quot;: 53.817313058035715, &quot;lon&quot;: 6.70166015625, &quot;speed_knots&quot;: 12.481236673773989, &quot;ssvid&quot;: 319009700.0, &quot;timestamp&quot;: &quot;2022-01-01 20:00:00&quot;, &quot;total_power_demand_kw&quot;: 2188.0}, {&quot;distance_from_port_m&quot;: 189756.85131417785, &quot;distance_from_shore_m&quot;: 29844.65172315269, &quot;draught_recent_m&quot;: 3.15, &quot;emissions_CH4&quot;: 21.880000000000003, &quot;emissions_CO&quot;: 1181.5200000000002, &quot;emissions_CO2&quot;: 1444644.0, &quot;emissions_N2O&quot;: 65.64, &quot;emissions_NOX&quot;: 16268.82, &quot;emissions_PM&quot;: 437.6, &quot;emissions_SOX&quot;: 1251.06, &quot;in_a_eca&quot;: 1, &quot;in_a_river&quot;: 0, &quot;lat&quot;: 53.82275390625, &quot;lon&quot;: 6.38232421875, &quot;speed_knots&quot;: 13.0, &quot;ssvid&quot;: 319009700.0, &quot;timestamp&quot;: &quot;2022-01-01 21:00:00&quot;, &quot;total_power_demand_kw&quot;: 2188.0}, {&quot;distance_from_port_m&quot;: 175625.65213832087, &quot;distance_from_shore_m&quot;: 32485.749856991893, &quot;draught_recent_m&quot;: 3.15, &quot;emissions_CH4&quot;: 21.880000000000003, &quot;emissions_CO&quot;: 1181.5200000000002, &quot;emissions_CO2&quot;: 1444644.0, &quot;emissions_N2O&quot;: 65.64, &quot;emissions_NOX&quot;: 16268.82, &quot;emissions_PM&quot;: 437.6, &quot;emissions_SOX&quot;: 1251.06, &quot;in_a_eca&quot;: 1, &quot;in_a_river&quot;: 0, &quot;lat&quot;: 53.782784598214285, &quot;lon&quot;: 6.064453125, &quot;speed_knots&quot;: 12.355194805194804, &quot;ssvid&quot;: 319009700.0, &quot;timestamp&quot;: &quot;2022-01-01 22:00:00&quot;, &quot;total_power_demand_kw&quot;: 2188.0}, {&quot;distance_from_port_m&quot;: 162571.9447836402, &quot;distance_from_shore_m&quot;: 28487.594370584568, &quot;draught_recent_m&quot;: 3.15, &quot;emissions_CH4&quot;: 18.153809434347774, &quot;emissions_CO&quot;: 980.30570945478, &quot;emissions_CO2&quot;: 1199460.6607800836, &quot;emissions_N2O&quot;: 54.46142830304332, &quot;emissions_NOX&quot;: 13571.05803046779, &quot;emissions_PM&quot;: 363.0761886869555, &quot;emissions_SOX&quot;: 1038.6671377578232, &quot;in_a_eca&quot;: 1, &quot;in_a_river&quot;: 0, &quot;lat&quot;: 53.72713955965909, &quot;lon&quot;: 5.7907936789772725, &quot;speed_knots&quot;: 11.372643356643357, &quot;ssvid&quot;: 319009700.0, &quot;timestamp&quot;: &quot;2022-01-01 23:00:00&quot;, &quot;total_power_demand_kw&quot;: 1815.3809434347775}, {&quot;distance_from_port_m&quot;: 146659.55901465297, &quot;distance_from_shore_m&quot;: 16765.831528361137, &quot;draught_recent_m&quot;: 3.15, &quot;emissions_CH4&quot;: 18.01575334013406, &quot;emissions_CO&quot;: 972.8506803672394, &quot;emissions_CO2&quot;: 1190376.5697808212, &quot;emissions_N2O&quot;: 54.04726002040218, &quot;emissions_NOX&quot;: 13471.10541825706, &quot;emissions_PM&quot;: 360.31506680268126, &quot;emissions_SOX&quot;: 1030.7979403876413, &quot;in_a_eca&quot;: 1, &quot;in_a_river&quot;: 0, &quot;lat&quot;: 53.61767578125, &quot;lon&quot;: 5.59423828125, &quot;speed_knots&quot;: 11.341505602240897, &quot;ssvid&quot;: 319009700.0, &quot;timestamp&quot;: &quot;2022-01-02 00:00:00&quot;, &quot;total_power_demand_kw&quot;: 1801.575334013406}, {&quot;distance_from_port_m&quot;: 137116.39233376711, &quot;distance_from_shore_m&quot;: 14720.767186898343, &quot;draught_recent_m&quot;: 3.15, &quot;emissions_CH4&quot;: 13.776956151325905, &quot;emissions_CO&quot;: 743.9556321715988, &quot;emissions_CO2&quot;: 911463.7147572445, &quot;emissions_N2O&quot;: 41.33086845397771, &quot;emissions_NOX&quot;: 10402.216253559955, &quot;emissions_PM&quot;: 275.53912302651804, &quot;emissions_SOX&quot;: 789.1865006255764, &quot;in_a_eca&quot;: 1, &quot;in_a_river&quot;: 0, &quot;lat&quot;: 53.56494140625, &quot;lon&quot;: 5.38330078125, &quot;speed_knots&quot;: 10.288015500409864, &quot;ssvid&quot;: 319009700.0, &quot;timestamp&quot;: &quot;2022-01-02 01:00:00&quot;, &quot;total_power_demand_kw&quot;: 1377.6956151325903}, {&quot;distance_from_port_m&quot;: 129049.23941723288, &quot;distance_from_shore_m&quot;: 14952.235339670431, &quot;draught_recent_m&quot;: 3.15, &quot;emissions_CH4&quot;: 18.120396064995724, &quot;emissions_CO&quot;: 978.5013875097692, &quot;emissions_CO2&quot;: 1197262.0610767186, &quot;emissions_N2O&quot;: 54.361188194987164, &quot;emissions_NOX&quot;: 13546.866751056903, &quot;emissions_PM&quot;: 362.4079212999145, &quot;emissions_SOX&quot;: 1036.7625757047563, &quot;in_a_eca&quot;: 1, &quot;in_a_river&quot;: 0, &quot;lat&quot;: 53.51806640625, &quot;lon&quot;: 5.1416015625, &quot;speed_knots&quot;: 11.365122807017544, &quot;ssvid&quot;: 319009700.0, &quot;timestamp&quot;: &quot;2022-01-02 02:00:00&quot;, &quot;total_power_demand_kw&quot;: 1812.0396064995723}, {&quot;distance_from_port_m&quot;: 119656.79208389221, &quot;distance_from_shore_m&quot;: 19647.39160391921, &quot;draught_recent_m&quot;: 3.15, &quot;emissions_CH4&quot;: 21.880000000000003, &quot;emissions_CO&quot;: 1181.5200000000002, &quot;emissions_CO2&quot;: 1444644.0, &quot;emissions_N2O&quot;: 65.64, &quot;emissions_NOX&quot;: 16268.82, &quot;emissions_PM&quot;: 437.6, &quot;emissions_SOX&quot;: 1251.06, &quot;in_a_eca&quot;: 1, &quot;in_a_river&quot;: 0, &quot;lat&quot;: 53.44257061298077, &quot;lon&quot;: 4.866098257211538, &quot;speed_knots&quot;: 13.0, &quot;ssvid&quot;: 319009700.0, &quot;timestamp&quot;: &quot;2022-01-02 03:00:00&quot;, &quot;total_power_demand_kw&quot;: 2188.0}, {&quot;distance_from_port_m&quot;: 107242.36150634062, &quot;distance_from_shore_m&quot;: 24666.6134086326, &quot;draught_recent_m&quot;: 3.15, &quot;emissions_CH4&quot;: 21.880000000000003, &quot;emissions_CO&quot;: 1181.5200000000002, &quot;emissions_CO2&quot;: 1444644.0, &quot;emissions_N2O&quot;: 65.64, &quot;emissions_NOX&quot;: 16268.82, &quot;emissions_PM&quot;: 437.6, &quot;emissions_SOX&quot;: 1251.06, &quot;in_a_eca&quot;: 1, &quot;in_a_river&quot;: 0, &quot;lat&quot;: 53.31787109375, &quot;lon&quot;: 4.63623046875, &quot;speed_knots&quot;: 13.0, &quot;ssvid&quot;: 319009700.0, &quot;timestamp&quot;: &quot;2022-01-02 04:00:00&quot;, &quot;total_power_demand_kw&quot;: 2188.0}, {&quot;distance_from_port_m&quot;: 89398.61916857678, &quot;distance_from_shore_m&quot;: 17575.281991119642, &quot;draught_recent_m&quot;: 3.15, &quot;emissions_CH4&quot;: 21.880000000000003, &quot;emissions_CO&quot;: 1181.5200000000002, &quot;emissions_CO2&quot;: 1444644.0, &quot;emissions_N2O&quot;: 65.64, &quot;emissions_NOX&quot;: 16268.82, &quot;emissions_PM&quot;: 437.6, &quot;emissions_SOX&quot;: 1251.06, &quot;in_a_eca&quot;: 1, &quot;in_a_river&quot;: 0, &quot;lat&quot;: 53.1298828125, &quot;lon&quot;: 4.482421875, &quot;speed_knots&quot;: 13.0, &quot;ssvid&quot;: 319009700.0, &quot;timestamp&quot;: &quot;2022-01-02 05:00:00&quot;, &quot;total_power_demand_kw&quot;: 2188.0}, {&quot;distance_from_port_m&quot;: 76218.89530043052, &quot;distance_from_shore_m&quot;: 29398.878969442918, &quot;draught_recent_m&quot;: 3.15, &quot;emissions_CH4&quot;: 21.880000000000003, &quot;emissions_CO&quot;: 1181.5200000000002, &quot;emissions_CO2&quot;: 1444644.0, &quot;emissions_N2O&quot;: 65.64, &quot;emissions_NOX&quot;: 16268.82, &quot;emissions_PM&quot;: 437.6, &quot;emissions_SOX&quot;: 1251.06, &quot;in_a_eca&quot;: 1, &quot;in_a_river&quot;: 0, &quot;lat&quot;: 52.9541015625, &quot;lon&quot;: 4.317626953125, &quot;speed_knots&quot;: 12.24423076923077, &quot;ssvid&quot;: 319009700.0, &quot;timestamp&quot;: &quot;2022-01-02 06:00:00&quot;, &quot;total_power_demand_kw&quot;: 2188.0}, {&quot;distance_from_port_m&quot;: 65536.54407486197, &quot;distance_from_shore_m&quot;: 31888.97883707511, &quot;draught_recent_m&quot;: 3.15, &quot;emissions_CH4&quot;: 21.880000000000003, &quot;emissions_CO&quot;: 1181.5200000000002, &quot;emissions_CO2&quot;: 1444644.0, &quot;emissions_N2O&quot;: 65.64, &quot;emissions_NOX&quot;: 16268.82, &quot;emissions_PM&quot;: 437.6, &quot;emissions_SOX&quot;: 1251.06, &quot;in_a_eca&quot;: 1, &quot;in_a_river&quot;: 0, &quot;lat&quot;: 52.76611328125, &quot;lon&quot;: 4.18701171875, &quot;speed_knots&quot;: 13.0, &quot;ssvid&quot;: 319009700.0, &quot;timestamp&quot;: &quot;2022-01-02 07:00:00&quot;, &quot;total_power_demand_kw&quot;: 2188.0}, {&quot;distance_from_port_m&quot;: 47963.1993108445, &quot;distance_from_shore_m&quot;: 22672.49824830339, &quot;draught_recent_m&quot;: 3.15, &quot;emissions_CH4&quot;: 21.880000000000003, &quot;emissions_CO&quot;: 1181.5200000000002, &quot;emissions_CO2&quot;: 1444644.0, &quot;emissions_N2O&quot;: 65.64, &quot;emissions_NOX&quot;: 16268.82, &quot;emissions_PM&quot;: 437.6, &quot;emissions_SOX&quot;: 1251.06, &quot;in_a_eca&quot;: 1, &quot;in_a_river&quot;: 0, &quot;lat&quot;: 52.59033203125, &quot;lon&quot;: 4.29443359375, &quot;speed_knots&quot;: 13.0, &quot;ssvid&quot;: 319009700.0, &quot;timestamp&quot;: &quot;2022-01-02 08:00:00&quot;, &quot;total_power_demand_kw&quot;: 2188.0}, {&quot;distance_from_port_m&quot;: 30849.44166901559, &quot;distance_from_shore_m&quot;: 5749.245028998727, &quot;draught_recent_m&quot;: 3.15, &quot;emissions_CH4&quot;: 13.864467761589731, &quot;emissions_CO&quot;: 748.6812591258456, &quot;emissions_CO2&quot;: 917221.9787126043, &quot;emissions_N2O&quot;: 41.59340328476919, &quot;emissions_NOX&quot;: 10465.574659390964, &quot;emissions_PM&quot;: 277.2893552317946, &quot;emissions_SOX&quot;: 794.1746624106146, &quot;in_a_eca&quot;: 1, &quot;in_a_river&quot;: 0, &quot;lat&quot;: 52.49267578125, &quot;lon&quot;: 4.49462890625, &quot;speed_knots&quot;: 10.465945707349373, &quot;ssvid&quot;: 319009700.0, &quot;timestamp&quot;: &quot;2022-01-02 09:00:00&quot;, &quot;total_power_demand_kw&quot;: 1386.446776158973}, {&quot;distance_from_port_m&quot;: 20028.84659813192, &quot;distance_from_shore_m&quot;: 0.0, &quot;draught_recent_m&quot;: 3.15, &quot;emissions_CH4&quot;: 5.668658201883452, &quot;emissions_CO&quot;: 274.2787474308413, &quot;emissions_CO2&quot;: 204550.5197158457, &quot;emissions_N2O&quot;: 10.504995138561886, &quot;emissions_NOX&quot;: 2962.9054934396017, &quot;emissions_PM&quot;: 77.314397926885, &quot;emissions_SOX&quot;: 176.81488789974475, &quot;in_a_eca&quot;: 1, &quot;in_a_river&quot;: 0, &quot;lat&quot;: 52.45751953125, &quot;lon&quot;: 4.64501953125, &quot;speed_knots&quot;: 5.408119601998417, &quot;ssvid&quot;: 319009700.0, &quot;timestamp&quot;: &quot;2022-01-02 10:00:00&quot;, &quot;total_power_demand_kw&quot;: 303.3594524556926}, {&quot;distance_from_port_m&quot;: 11272.391512427916, &quot;distance_from_shore_m&quot;: 0.0, &quot;draught_recent_m&quot;: 3.15, &quot;emissions_CH4&quot;: 6.122379010660412, &quot;emissions_CO&quot;: 277.3430984124586, &quot;emissions_CO2&quot;: 180625.6076424588, &quot;emissions_N2O&quot;: 9.859474061469541, &quot;emissions_NOX&quot;: 2807.119740167983, &quot;emissions_PM&quot;: 75.04578652887578, &quot;emissions_SOX&quot;: 156.0896601158078, &quot;in_a_eca&quot;: 1, &quot;in_a_river&quot;: 0, &quot;lat&quot;: 52.40478515625, &quot;lon&quot;: 4.74609375, &quot;speed_knots&quot;: 5.0, &quot;ssvid&quot;: 319009700.0, &quot;timestamp&quot;: &quot;2022-01-02 11:00:00&quot;, &quot;total_power_demand_kw&quot;: 266.9994037119435}, {&quot;distance_from_port_m&quot;: 3645.387729449013, &quot;distance_from_shore_m&quot;: 0.0, &quot;draught_recent_m&quot;: 3.15, &quot;emissions_CH4&quot;: 6.122379010660412, &quot;emissions_CO&quot;: 277.3430984124586, &quot;emissions_CO2&quot;: 180625.6076424588, &quot;emissions_N2O&quot;: 9.859474061469541, &quot;emissions_NOX&quot;: 2807.119740167983, &quot;emissions_PM&quot;: 75.04578652887578, &quot;emissions_SOX&quot;: 156.0896601158078, &quot;in_a_eca&quot;: 0, &quot;in_a_river&quot;: 0, &quot;lat&quot;: 52.36083984375, &quot;lon&quot;: 4.84716796875, &quot;speed_knots&quot;: 5.0, &quot;ssvid&quot;: 319009700.0, &quot;timestamp&quot;: &quot;2022-01-02 12:00:00&quot;, &quot;total_power_demand_kw&quot;: 266.9994037119435}], &quot;getColor&quot;: &quot;@@=[10+speed_knots*255/25*2, 10+speed_knots*255/25, 10+speed_knots*255/25*4]&quot;, &quot;getNormal&quot;: [0, 0, 15], &quot;getPosition&quot;: &quot;@@=[lon, lat]&quot;, &quot;id&quot;: &quot;805ac65a-255f-4835-ba43-54cf04584f7f&quot;, &quot;pickable&quot;: true, &quot;pointSize&quot;: 5}], &quot;mapProvider&quot;: &quot;carto&quot;, &quot;mapStyle&quot;: &quot;https://basemaps.cartocdn.com/gl/voyager-gl-style/style.json&quot;, &quot;views&quot;: [{&quot;@@type&quot;: &quot;MapView&quot;, &quot;controller&quot;: true}]};\n",
       "    const tooltip = true;\n",
       "    const customLibraries = null;\n",
       "\n",
       "    const deckInstance = createDeck({\n",
       "                  container: document.getElementById(&#x27;deck-container&#x27;),\n",
       "      jsonInput,\n",
       "      tooltip,\n",
       "      customLibraries\n",
       "    });\n",
       "\n",
       "  &lt;/script&gt;\n",
       "&lt;/html&gt;\"\n",
       "        ></iframe>\n",
       "    "
      ],
      "text/plain": [
       "{\"initialViewState\": {\"latitude\": 57.2, \"longitude\": 10, \"zoom\": 3}, \"layers\": [{\"@@type\": \"PathLayer\", \"data\": [{\"path\": [[10.70068359375, 59.886474609375], [10.5908203125, 59.83154296875], [10.55419921875, 59.75830078125], [10.634765625, 59.677734375], [10.60400390625, 59.57666015625], [10.56884765625, 59.43603515625], [10.62158203125, 59.23828125], [10.669921875, 59.0185546875], [10.74951171875, 58.81103515625], [10.82763671875, 58.61083984375], [10.92529296875, 58.41552734375], [11.06689453125, 58.21533203125], [11.1796875, 58.0078125], [11.28662109375, 57.80029296875], [11.41845703125, 57.60009765625], [11.45751953125, 57.40478515625], [11.60888671875, 57.20458984375], [11.74560546875, 57.00927734375], [11.81884765625, 56.80908203125], [11.70166015625, 56.61376953125], [11.50146484375, 56.41357421875], [11.31591796875, 56.22802734375], [11.1181640625, 56.06103515625], [10.92041015625, 55.87646484375], [10.79736328125, 55.6787109375], [10.92041015625, 55.48095703125], [11.06689453125, 55.29541015625], [11.03271484375, 55.09521484375], [10.87646484375, 54.89990234375], [10.73583984375, 54.68994140625], [10.5029296875, 54.55078125], [10.292619977678571, 54.476492745535715], [10.18798828125, 54.39697265625], [10.12939453125, 54.33837890625], [10.01953125, 54.3603515625], [9.8876953125, 54.3603515625], [9.755859375, 54.345703125], [9.66064453125, 54.30908203125], [9.60205078125, 54.22119140625], [9.47021484375, 54.16259765625], [9.34716796875, 54.12744140625], [9.29443359375, 54.03076171875], [9.24169921875, 53.93408203125], [9.0966796875, 53.85498046875], [8.89892578125, 53.85498046875], [8.701171875, 53.9208984375], [8.525390625, 54.019775390625], [8.27197265625, 54.11865234375], [7.97607421875, 54.100341796875], [7.71240234375, 54.034423828125], [7.44873046875, 53.990478515625], [7.241559709821429, 53.91148158482143], [7.00927734375, 53.848702566964285], [6.70166015625, 53.817313058035715], [6.38232421875, 53.82275390625], [6.064453125, 53.782784598214285], [5.7907936789772725, 53.72713955965909], [5.59423828125, 53.61767578125], [5.38330078125, 53.56494140625], [5.1416015625, 53.51806640625], [4.866098257211538, 53.44257061298077], [4.63623046875, 53.31787109375], [4.482421875, 53.1298828125], [4.317626953125, 52.9541015625], [4.18701171875, 52.76611328125], [4.29443359375, 52.59033203125], [4.49462890625, 52.49267578125], [4.64501953125, 52.45751953125], [4.74609375, 52.40478515625], [4.84716796875, 52.36083984375]]}], \"getColor\": \"@@=[0,0,0, 150]\", \"id\": \"19f5d3e1-405c-4ab1-8382-7f356b9bff72\", \"widthMinPixels\": 2}, {\"@@type\": \"PointCloudLayer\", \"autoHighlight\": true, \"data\": [{\"distance_from_port_m\": 4339.785044274029, \"distance_from_shore_m\": 1784.3634382570767, \"draught_recent_m\": 3.15, \"emissions_CH4\": 6.122379010660412, \"emissions_CO\": 277.3430984124586, \"emissions_CO2\": 180625.6076424588, \"emissions_N2O\": 9.859474061469541, \"emissions_NOX\": 2807.119740167983, \"emissions_PM\": 75.04578652887578, \"emissions_SOX\": 156.0896601158078, \"in_a_eca\": 1, \"in_a_river\": 0, \"lat\": 59.886474609375, \"lon\": 10.70068359375, \"speed_knots\": 5.0, \"ssvid\": 319009700.0, \"timestamp\": \"2022-01-01 00:00:00\", \"total_power_demand_kw\": 266.9994037119435}, {\"distance_from_port_m\": 12981.237303026408, \"distance_from_shore_m\": 1437.4740912181348, \"draught_recent_m\": 3.15, \"emissions_CH4\": 5.377594809021392, \"emissions_CO\": 290.3901196871552, \"emissions_CO2\": 358785.7384336076, \"emissions_N2O\": 16.132784427064177, \"emissions_NOX\": 4321.0786417314885, \"emissions_PM\": 107.55189618042786, \"emissions_SOX\": 310.42290411421936, \"in_a_eca\": 1, \"in_a_river\": 0, \"lat\": 59.83154296875, \"lon\": 10.5908203125, \"speed_knots\": 7.192255956870812, \"ssvid\": 319009700.0, \"timestamp\": \"2022-01-01 01:00:00\", \"total_power_demand_kw\": 537.7594809021393}, {\"distance_from_port_m\": 20730.83339624317, \"distance_from_shore_m\": 1072.7689531880287, \"draught_recent_m\": 3.15, \"emissions_CH4\": 5.350110039309836, \"emissions_CO\": 285.4344192318942, \"emissions_CO2\": 301985.74649729143, \"emissions_N2O\": 14.02527509827459, \"emissions_NOX\": 3812.466390383601, \"emissions_PM\": 95.43045781674006, \"emissions_SOX\": 261.219263683064, \"in_a_eca\": 1, \"in_a_river\": 0, \"lat\": 59.75830078125, \"lon\": 10.55419921875, \"speed_knots\": 6.643993587816856, \"ssvid\": 319009700.0, \"timestamp\": \"2022-01-01 02:00:00\", \"total_power_demand_kw\": 451.43730470712984}, {\"distance_from_port_m\": 27338.90678552361, \"distance_from_shore_m\": 0.0, \"draught_recent_m\": 3.15, \"emissions_CH4\": 6.236035729845302, \"emissions_CO\": 282.22517112290046, \"emissions_CO2\": 182750.21335904003, \"emissions_N2O\": 9.999930518416779, \"emissions_NOX\": 2841.0165651112493, \"emissions_PM\": 76.20172702513119, \"emissions_SOX\": 157.93012403442674, \"in_a_eca\": 1, \"in_a_river\": 0, \"lat\": 59.677734375, \"lon\": 10.634765625, \"speed_knots\": 5.038976377952755, \"ssvid\": 319009700.0, \"timestamp\": \"2022-01-01 03:00:00\", \"total_power_demand_kw\": 270.2282877796961}, {\"distance_from_port_m\": 38681.673405866546, \"distance_from_shore_m\": 466.26101234893247, \"draught_recent_m\": 3.15, \"emissions_CH4\": 5.892934251565771, \"emissions_CO\": 318.21844958455165, \"emissions_CO2\": 392695.07375302777, \"emissions_N2O\": 17.678802754697312, \"emissions_NOX\": 4694.184398133619, \"emissions_PM\": 117.85868503131543, \"emissions_SOX\": 339.7972523392489, \"in_a_eca\": 1, \"in_a_river\": 0, \"lat\": 59.57666015625, \"lon\": 10.60400390625, \"speed_knots\": 7.483312040033999, \"ssvid\": 319009700.0, \"timestamp\": \"2022-01-01 04:00:00\", \"total_power_demand_kw\": 589.2934251565771}, {\"distance_from_port_m\": 54402.87886754767, \"distance_from_shore_m\": 1421.3912151084598, \"draught_recent_m\": 3.15, \"emissions_CH4\": 15.45674417266962, \"emissions_CO\": 834.6641853241595, \"emissions_CO2\": 1021993.7665616609, \"emissions_N2O\": 46.370232518008855, \"emissions_NOX\": 11618.382781012804, \"emissions_PM\": 309.1348834533924, \"emissions_SOX\": 884.9344178421682, \"in_a_eca\": 1, \"in_a_river\": 0, \"lat\": 59.43603515625, \"lon\": 10.56884765625, \"speed_knots\": 10.890594136939724, \"ssvid\": 319009700.0, \"timestamp\": \"2022-01-01 05:00:00\", \"total_power_demand_kw\": 1545.6744172669619}, {\"distance_from_port_m\": 75778.88289994975, \"distance_from_shore_m\": 4260.512248684203, \"draught_recent_m\": 3.15, \"emissions_CH4\": 21.880000000000003, \"emissions_CO\": 1181.5200000000002, \"emissions_CO2\": 1444644.0, \"emissions_N2O\": 65.64, \"emissions_NOX\": 16268.82, \"emissions_PM\": 437.6, \"emissions_SOX\": 1251.06, \"in_a_eca\": 1, \"in_a_river\": 0, \"lat\": 59.23828125, \"lon\": 10.62158203125, \"speed_knots\": 12.656797371303396, \"ssvid\": 319009700.0, \"timestamp\": \"2022-01-01 06:00:00\", \"total_power_demand_kw\": 2188.0}, {\"distance_from_port_m\": 99968.05382681558, \"distance_from_shore_m\": 12794.88636298762, \"draught_recent_m\": 3.15, \"emissions_CH4\": 21.880000000000003, \"emissions_CO\": 1181.5200000000002, \"emissions_CO2\": 1444644.0, \"emissions_N2O\": 65.64, \"emissions_NOX\": 16268.82, \"emissions_PM\": 437.6, \"emissions_SOX\": 1251.06, \"in_a_eca\": 1, \"in_a_river\": 0, \"lat\": 59.0185546875, \"lon\": 10.669921875, \"speed_knots\": 13.0, \"ssvid\": 319009700.0, \"timestamp\": \"2022-01-01 07:00:00\", \"total_power_demand_kw\": 2188.0}, {\"distance_from_port_m\": 122940.82854626408, \"distance_from_shore_m\": 15451.687505210293, \"draught_recent_m\": 3.15, \"emissions_CH4\": 21.880000000000003, \"emissions_CO\": 1181.5200000000002, \"emissions_CO2\": 1444644.0, \"emissions_N2O\": 65.64, \"emissions_NOX\": 16268.82, \"emissions_PM\": 437.6, \"emissions_SOX\": 1251.06, \"in_a_eca\": 1, \"in_a_river\": 0, \"lat\": 58.81103515625, \"lon\": 10.74951171875, \"speed_knots\": 13.0, \"ssvid\": 319009700.0, \"timestamp\": \"2022-01-01 08:00:00\", \"total_power_demand_kw\": 2188.0}, {\"distance_from_port_m\": 145268.5507365798, \"distance_from_shore_m\": 30440.859746588692, \"draught_recent_m\": 3.15, \"emissions_CH4\": 21.880000000000003, \"emissions_CO\": 1181.5200000000002, \"emissions_CO2\": 1444644.0, \"emissions_N2O\": 65.64, \"emissions_NOX\": 16268.82, \"emissions_PM\": 437.6, \"emissions_SOX\": 1251.06, \"in_a_eca\": 1, \"in_a_river\": 0, \"lat\": 58.61083984375, \"lon\": 10.82763671875, \"speed_knots\": 13.0, \"ssvid\": 319009700.0, \"timestamp\": \"2022-01-01 09:00:00\", \"total_power_demand_kw\": 2188.0}, {\"distance_from_port_m\": 167217.89845002268, \"distance_from_shore_m\": 16334.550061735697, \"draught_recent_m\": 3.15, \"emissions_CH4\": 21.880000000000003, \"emissions_CO\": 1181.5200000000002, \"emissions_CO2\": 1444644.0, \"emissions_N2O\": 65.64, \"emissions_NOX\": 16268.82, \"emissions_PM\": 437.6, \"emissions_SOX\": 1251.06, \"in_a_eca\": 1, \"in_a_river\": 0, \"lat\": 58.41552734375, \"lon\": 10.92529296875, \"speed_knots\": 13.0, \"ssvid\": 319009700.0, \"timestamp\": \"2022-01-01 10:00:00\", \"total_power_demand_kw\": 2188.0}, {\"distance_from_port_m\": 190044.6856105913, \"distance_from_shore_m\": 17116.767404632876, \"draught_recent_m\": 3.15, \"emissions_CH4\": 21.880000000000003, \"emissions_CO\": 1181.5200000000002, \"emissions_CO2\": 1444644.0, \"emissions_N2O\": 65.64, \"emissions_NOX\": 16268.82, \"emissions_PM\": 437.6, \"emissions_SOX\": 1251.06, \"in_a_eca\": 1, \"in_a_river\": 0, \"lat\": 58.21533203125, \"lon\": 11.06689453125, \"speed_knots\": 13.0, \"ssvid\": 319009700.0, \"timestamp\": \"2022-01-01 11:00:00\", \"total_power_demand_kw\": 2188.0}, {\"distance_from_port_m\": 213678.84329486682, \"distance_from_shore_m\": 19130.172289783666, \"draught_recent_m\": 3.15, \"emissions_CH4\": 21.880000000000003, \"emissions_CO\": 1181.5200000000002, \"emissions_CO2\": 1444644.0, \"emissions_N2O\": 65.64, \"emissions_NOX\": 16268.82, \"emissions_PM\": 437.6, \"emissions_SOX\": 1251.06, \"in_a_eca\": 1, \"in_a_river\": 0, \"lat\": 58.0078125, \"lon\": 11.1796875, \"speed_knots\": 13.0, \"ssvid\": 319009700.0, \"timestamp\": \"2022-01-01 12:00:00\", \"total_power_demand_kw\": 2188.0}, {\"distance_from_port_m\": 237342.84715870986, \"distance_from_shore_m\": 17660.43009496501, \"draught_recent_m\": 3.15, \"emissions_CH4\": 21.880000000000003, \"emissions_CO\": 1181.5200000000002, \"emissions_CO2\": 1444644.0, \"emissions_N2O\": 65.64, \"emissions_NOX\": 16268.82, \"emissions_PM\": 437.6, \"emissions_SOX\": 1251.06, \"in_a_eca\": 1, \"in_a_river\": 0, \"lat\": 57.80029296875, \"lon\": 11.28662109375, \"speed_knots\": 13.0, \"ssvid\": 319009700.0, \"timestamp\": \"2022-01-01 13:00:00\", \"total_power_demand_kw\": 2188.0}, {\"distance_from_port_m\": 260456.28212193248, \"distance_from_shore_m\": 15616.592011838135, \"draught_recent_m\": 3.15, \"emissions_CH4\": 21.880000000000003, \"emissions_CO\": 1181.5200000000002, \"emissions_CO2\": 1444644.0, \"emissions_N2O\": 65.64, \"emissions_NOX\": 16268.82, \"emissions_PM\": 437.6, \"emissions_SOX\": 1251.06, \"in_a_eca\": 1, \"in_a_river\": 0, \"lat\": 57.60009765625, \"lon\": 11.41845703125, \"speed_knots\": 13.0, \"ssvid\": 319009700.0, \"timestamp\": \"2022-01-01 14:00:00\", \"total_power_demand_kw\": 2188.0}, {\"distance_from_port_m\": 282285.84885452886, \"distance_from_shore_m\": 18625.68929615054, \"draught_recent_m\": 3.15, \"emissions_CH4\": 21.880000000000003, \"emissions_CO\": 1181.5200000000002, \"emissions_CO2\": 1444644.0, \"emissions_N2O\": 65.64, \"emissions_NOX\": 16268.82, \"emissions_PM\": 437.6, \"emissions_SOX\": 1251.06, \"in_a_eca\": 1, \"in_a_river\": 0, \"lat\": 57.40478515625, \"lon\": 11.45751953125, \"speed_knots\": 13.0, \"ssvid\": 319009700.0, \"timestamp\": \"2022-01-01 15:00:00\", \"total_power_demand_kw\": 2188.0}, {\"distance_from_port_m\": 305649.3398498197, \"distance_from_shore_m\": 27533.889542223267, \"draught_recent_m\": 3.15, \"emissions_CH4\": 21.880000000000003, \"emissions_CO\": 1181.5200000000002, \"emissions_CO2\": 1444644.0, \"emissions_N2O\": 65.64, \"emissions_NOX\": 16268.82, \"emissions_PM\": 437.6, \"emissions_SOX\": 1251.06, \"in_a_eca\": 1, \"in_a_river\": 0, \"lat\": 57.20458984375, \"lon\": 11.60888671875, \"speed_knots\": 13.0, \"ssvid\": 319009700.0, \"timestamp\": \"2022-01-01 16:00:00\", \"total_power_demand_kw\": 2188.0}, {\"distance_from_port_m\": 315998.0298557312, \"distance_from_shore_m\": 31638.815342656544, \"draught_recent_m\": 3.15, \"emissions_CH4\": 21.880000000000003, \"emissions_CO\": 1181.5200000000002, \"emissions_CO2\": 1444644.0, \"emissions_N2O\": 65.64, \"emissions_NOX\": 16268.82, \"emissions_PM\": 437.6, \"emissions_SOX\": 1251.06, \"in_a_eca\": 1, \"in_a_river\": 0, \"lat\": 57.00927734375, \"lon\": 11.74560546875, \"speed_knots\": 13.0, \"ssvid\": 319009700.0, \"timestamp\": \"2022-01-01 17:00:00\", \"total_power_demand_kw\": 2188.0}, {\"distance_from_port_m\": 296696.04409085086, \"distance_from_shore_m\": 13587.276048582196, \"draught_recent_m\": 3.15, \"emissions_CH4\": 21.880000000000003, \"emissions_CO\": 1181.5200000000002, \"emissions_CO2\": 1444644.0, \"emissions_N2O\": 65.64, \"emissions_NOX\": 16268.82, \"emissions_PM\": 437.6, \"emissions_SOX\": 1251.06, \"in_a_eca\": 1, \"in_a_river\": 0, \"lat\": 56.80908203125, \"lon\": 11.81884765625, \"speed_knots\": 13.0, \"ssvid\": 319009700.0, \"timestamp\": \"2022-01-01 18:00:00\", \"total_power_demand_kw\": 2188.0}, {\"distance_from_port_m\": 273873.27229557064, \"distance_from_shore_m\": 12467.272334219457, \"draught_recent_m\": 3.15, \"emissions_CH4\": 21.880000000000003, \"emissions_CO\": 1181.5200000000002, \"emissions_CO2\": 1444644.0, \"emissions_N2O\": 65.64, \"emissions_NOX\": 16268.82, \"emissions_PM\": 437.6, \"emissions_SOX\": 1251.06, \"in_a_eca\": 1, \"in_a_river\": 0, \"lat\": 56.61376953125, \"lon\": 11.70166015625, \"speed_knots\": 13.0, \"ssvid\": 319009700.0, \"timestamp\": \"2022-01-01 19:00:00\", \"total_power_demand_kw\": 2188.0}, {\"distance_from_port_m\": 248667.7244303527, \"distance_from_shore_m\": 29589.3653109262, \"draught_recent_m\": 3.15, \"emissions_CH4\": 21.880000000000003, \"emissions_CO\": 1181.5200000000002, \"emissions_CO2\": 1444644.0, \"emissions_N2O\": 65.64, \"emissions_NOX\": 16268.82, \"emissions_PM\": 437.6, \"emissions_SOX\": 1251.06, \"in_a_eca\": 1, \"in_a_river\": 0, \"lat\": 56.41357421875, \"lon\": 11.50146484375, \"speed_knots\": 13.0, \"ssvid\": 319009700.0, \"timestamp\": \"2022-01-01 20:00:00\", \"total_power_demand_kw\": 2188.0}, {\"distance_from_port_m\": 225340.65859628492, \"distance_from_shore_m\": 25876.651944771307, \"draught_recent_m\": 3.15, \"emissions_CH4\": 21.880000000000003, \"emissions_CO\": 1181.5200000000002, \"emissions_CO2\": 1444644.0, \"emissions_N2O\": 65.64, \"emissions_NOX\": 16268.82, \"emissions_PM\": 437.6, \"emissions_SOX\": 1251.06, \"in_a_eca\": 1, \"in_a_river\": 0, \"lat\": 56.22802734375, \"lon\": 11.31591796875, \"speed_knots\": 13.0, \"ssvid\": 319009700.0, \"timestamp\": \"2022-01-01 21:00:00\", \"total_power_demand_kw\": 2188.0}, {\"distance_from_port_m\": 203785.23244837363, \"distance_from_shore_m\": 11979.249912625764, \"draught_recent_m\": 3.15, \"emissions_CH4\": 21.880000000000003, \"emissions_CO\": 1181.5200000000002, \"emissions_CO2\": 1444644.0, \"emissions_N2O\": 65.64, \"emissions_NOX\": 16268.82, \"emissions_PM\": 437.6, \"emissions_SOX\": 1251.06, \"in_a_eca\": 1, \"in_a_river\": 0, \"lat\": 56.06103515625, \"lon\": 11.1181640625, \"speed_knots\": 13.0, \"ssvid\": 319009700.0, \"timestamp\": \"2022-01-01 22:00:00\", \"total_power_demand_kw\": 2188.0}, {\"distance_from_port_m\": 180523.5332104288, \"distance_from_shore_m\": 15206.220145225056, \"draught_recent_m\": 3.15, \"emissions_CH4\": 21.880000000000003, \"emissions_CO\": 1181.5200000000002, \"emissions_CO2\": 1444644.0, \"emissions_N2O\": 65.64, \"emissions_NOX\": 16268.82, \"emissions_PM\": 437.6, \"emissions_SOX\": 1251.06, \"in_a_eca\": 1, \"in_a_river\": 0, \"lat\": 55.87646484375, \"lon\": 10.92041015625, \"speed_knots\": 13.0, \"ssvid\": 319009700.0, \"timestamp\": \"2022-01-01 23:00:00\", \"total_power_demand_kw\": 2188.0}, {\"distance_from_port_m\": 157261.23200456268, \"distance_from_shore_m\": 8079.551012719028, \"draught_recent_m\": 3.15, \"emissions_CH4\": 21.880000000000003, \"emissions_CO\": 1181.5200000000002, \"emissions_CO2\": 1444644.0, \"emissions_N2O\": 65.64, \"emissions_NOX\": 16268.82, \"emissions_PM\": 437.6, \"emissions_SOX\": 1251.06, \"in_a_eca\": 1, \"in_a_river\": 0, \"lat\": 55.6787109375, \"lon\": 10.79736328125, \"speed_knots\": 13.0, \"ssvid\": 319009700.0, \"timestamp\": \"2022-01-02 00:00:00\", \"total_power_demand_kw\": 2188.0}, {\"distance_from_port_m\": 138898.37743092154, \"distance_from_shore_m\": 10721.638698492992, \"draught_recent_m\": 3.15, \"emissions_CH4\": 21.880000000000003, \"emissions_CO\": 1181.5200000000002, \"emissions_CO2\": 1444644.0, \"emissions_N2O\": 65.64, \"emissions_NOX\": 16268.82, \"emissions_PM\": 437.6, \"emissions_SOX\": 1251.06, \"in_a_eca\": 1, \"in_a_river\": 0, \"lat\": 55.48095703125, \"lon\": 10.92041015625, \"speed_knots\": 13.0, \"ssvid\": 319009700.0, \"timestamp\": \"2022-01-02 01:00:00\", \"total_power_demand_kw\": 2188.0}, {\"distance_from_port_m\": 124189.88463640302, \"distance_from_shore_m\": 5060.59129351327, \"draught_recent_m\": 3.15, \"emissions_CH4\": 21.880000000000003, \"emissions_CO\": 1181.5200000000002, \"emissions_CO2\": 1444644.0, \"emissions_N2O\": 65.64, \"emissions_NOX\": 16268.82, \"emissions_PM\": 437.6, \"emissions_SOX\": 1251.06, \"in_a_eca\": 1, \"in_a_river\": 0, \"lat\": 55.29541015625, \"lon\": 11.06689453125, \"speed_knots\": 13.0, \"ssvid\": 319009700.0, \"timestamp\": \"2022-01-02 02:00:00\", \"total_power_demand_kw\": 2188.0}, {\"distance_from_port_m\": 104080.51327144078, \"distance_from_shore_m\": 6586.96323561492, \"draught_recent_m\": 3.15, \"emissions_CH4\": 21.880000000000003, \"emissions_CO\": 1181.5200000000002, \"emissions_CO2\": 1444644.0, \"emissions_N2O\": 65.64, \"emissions_NOX\": 16268.82, \"emissions_PM\": 437.6, \"emissions_SOX\": 1251.06, \"in_a_eca\": 1, \"in_a_river\": 0, \"lat\": 55.09521484375, \"lon\": 11.03271484375, \"speed_knots\": 13.0, \"ssvid\": 319009700.0, \"timestamp\": \"2022-01-02 03:00:00\", \"total_power_demand_kw\": 2188.0}, {\"distance_from_port_m\": 80598.42971587187, \"distance_from_shore_m\": 3952.905212949897, \"draught_recent_m\": 3.15, \"emissions_CH4\": 21.880000000000003, \"emissions_CO\": 1181.5200000000002, \"emissions_CO2\": 1444644.0, \"emissions_N2O\": 65.64, \"emissions_NOX\": 16268.82, \"emissions_PM\": 437.6, \"emissions_SOX\": 1251.06, \"in_a_eca\": 1, \"in_a_river\": 0, \"lat\": 54.89990234375, \"lon\": 10.87646484375, \"speed_knots\": 13.0, \"ssvid\": 319009700.0, \"timestamp\": \"2022-01-02 04:00:00\", \"total_power_demand_kw\": 2188.0}, {\"distance_from_port_m\": 56886.31410282931, \"distance_from_shore_m\": 5308.932738652941, \"draught_recent_m\": 3.15, \"emissions_CH4\": 21.880000000000003, \"emissions_CO\": 1181.5200000000002, \"emissions_CO2\": 1444644.0, \"emissions_N2O\": 65.64, \"emissions_NOX\": 16268.82, \"emissions_PM\": 437.6, \"emissions_SOX\": 1251.06, \"in_a_eca\": 1, \"in_a_river\": 0, \"lat\": 54.68994140625, \"lon\": 10.73583984375, \"speed_knots\": 13.0, \"ssvid\": 319009700.0, \"timestamp\": \"2022-01-02 05:00:00\", \"total_power_demand_kw\": 2188.0}, {\"distance_from_port_m\": 35342.315954620964, \"distance_from_shore_m\": 16839.957521417342, \"draught_recent_m\": 3.15, \"emissions_CH4\": 21.880000000000003, \"emissions_CO\": 1181.5200000000002, \"emissions_CO2\": 1444644.0, \"emissions_N2O\": 65.64, \"emissions_NOX\": 16268.82, \"emissions_PM\": 437.6, \"emissions_SOX\": 1251.06, \"in_a_eca\": 1, \"in_a_river\": 0, \"lat\": 54.55078125, \"lon\": 10.5029296875, \"speed_knots\": 12.448241985522232, \"ssvid\": 319009700.0, \"timestamp\": \"2022-01-02 06:00:00\", \"total_power_demand_kw\": 2188.0}, {\"distance_from_port_m\": 20546.587091434012, \"distance_from_shore_m\": 4041.410064999205, \"draught_recent_m\": 3.15, \"emissions_CH4\": 11.919702372620339, \"emissions_CO\": 643.6639281214983, \"emissions_CO2\": 789256.4161184182, \"emissions_N2O\": 35.759107117861014, \"emissions_NOX\": 9057.564517777126, \"emissions_PM\": 238.39404745240677, \"emissions_SOX\": 683.3230352393592, \"in_a_eca\": 1, \"in_a_river\": 0, \"lat\": 54.476492745535715, \"lon\": 10.292619977678571, \"speed_knots\": 9.895427483194112, \"ssvid\": 319009700.0, \"timestamp\": \"2022-01-02 07:00:00\", \"total_power_demand_kw\": 1191.9702372620338}, {\"distance_from_port_m\": 9606.246716348354, \"distance_from_shore_m\": 0.0, \"draught_recent_m\": 3.15, \"emissions_CH4\": 5.612211884277529, \"emissions_CO\": 271.6418980226789, \"emissions_CO2\": 203076.6436450244, \"emissions_N2O\": 10.419653682181503, \"emissions_NOX\": 2942.3097552998024, \"emissions_PM\": 76.65137768833924, \"emissions_SOX\": 175.5381259538965, \"in_a_eca\": 1, \"in_a_river\": 0, \"lat\": 54.39697265625, \"lon\": 10.18798828125, \"speed_knots\": 5.384726246614747, \"ssvid\": 319009700.0, \"timestamp\": \"2022-01-02 08:00:00\", \"total_power_demand_kw\": 301.11951921736227}, {\"distance_from_port_m\": 2427.7271428367394, \"distance_from_shore_m\": 0.0, \"draught_recent_m\": 3.15, \"emissions_CH4\": 6.122379010660412, \"emissions_CO\": 277.3430984124586, \"emissions_CO2\": 180625.6076424588, \"emissions_N2O\": 9.859474061469541, \"emissions_NOX\": 2807.119740167983, \"emissions_PM\": 75.04578652887578, \"emissions_SOX\": 156.0896601158078, \"in_a_eca\": 1, \"in_a_river\": 0, \"lat\": 54.33837890625, \"lon\": 10.12939453125, \"speed_knots\": 5.0, \"ssvid\": 319009700.0, \"timestamp\": \"2022-01-02 09:00:00\", \"total_power_demand_kw\": 266.9994037119435}, {\"distance_from_port_m\": 8832.91821997088, \"distance_from_shore_m\": 0.0, \"draught_recent_m\": 3.15, \"emissions_CH4\": 5.576558246825848, \"emissions_CO\": 281.1041429276462, \"emissions_CO2\": 234050.16971486778, \"emissions_N2O\": 11.558530329774861, \"emissions_NOX\": 3217.158652919, \"emissions_PM\": 82.72985429462861, \"emissions_SOX\": 202.36929595360886, \"in_a_eca\": 1, \"in_a_river\": 0, \"lat\": 54.3603515625, \"lon\": 10.01953125, \"speed_knots\": 5.839063775751616, \"ssvid\": 319009700.0, \"timestamp\": \"2022-01-01 01:00:00\", \"total_power_demand_kw\": 348.1917472870331}, {\"distance_from_port_m\": 16648.158236477833, \"distance_from_shore_m\": 0.0, \"draught_recent_m\": 3.15, \"emissions_CH4\": 5.386981847898496, \"emissions_CO\": 281.88897816257924, \"emissions_CO2\": 273421.092239266, \"emissions_N2O\": 12.908041623939543, \"emissions_NOX\": 3542.8407119107433, \"emissions_PM\": 89.94597449092885, \"emissions_SOX\": 236.47480634708452, \"in_a_eca\": 1, \"in_a_river\": 0, \"lat\": 54.3603515625, \"lon\": 9.8876953125, \"speed_knots\": 6.33031862609658, \"ssvid\": 319009700.0, \"timestamp\": \"2022-01-01 02:00:00\", \"total_power_demand_kw\": 408.02597604751674}, {\"distance_from_port_m\": 24686.556278704164, \"distance_from_shore_m\": 0.0, \"draught_recent_m\": 3.15, \"emissions_CH4\": 5.655332386980314, \"emissions_CO\": 284.9889941456721, \"emissions_CO2\": 236694.73013433913, \"emissions_N2O\": 11.69960034607189, \"emissions_NOX\": 3251.2035501853497, \"emissions_PM\": 83.7748173783103, \"emissions_SOX\": 204.6601765601418, \"in_a_eca\": 1, \"in_a_river\": 0, \"lat\": 54.345703125, \"lon\": 9.755859375, \"speed_knots\": 5.874697694124677, \"ssvid\": 319009700.0, \"timestamp\": \"2022-01-01 03:00:00\", \"total_power_demand_kw\": 352.2108360704242}, {\"distance_from_port_m\": 30673.24421735028, \"distance_from_shore_m\": 0.0, \"draught_recent_m\": 3.15, \"emissions_CH4\": 5.64098548217219, \"emissions_CO\": 264.8821624716545, \"emissions_CO2\": 187306.0490599763, \"emissions_N2O\": 9.859658034846566, \"emissions_NOX\": 2807.1641390763043, \"emissions_PM\": 73.38296017828628, \"emissions_SOX\": 161.8766686385813, \"in_a_eca\": 1, \"in_a_river\": 0, \"lat\": 54.30908203125, \"lon\": 9.66064453125, \"speed_knots\": 5.120580733764953, \"ssvid\": 319009700.0, \"timestamp\": \"2022-01-01 04:00:00\", \"total_power_demand_kw\": 277.1520502431251}, {\"distance_from_port_m\": 36095.71656598129, \"distance_from_shore_m\": 0.0, \"draught_recent_m\": 3.15, \"emissions_CH4\": 5.398684643364116, \"emissions_CO\": 280.46252220457916, \"emissions_CO2\": 259038.40595834926, \"emissions_N2O\": 12.430387414001567, \"emissions_NOX\": 3427.5668292457112, \"emissions_PM\": 86.96793407004122, \"emissions_SOX\": 224.01564041984662, \"in_a_eca\": 1, \"in_a_river\": 0, \"lat\": 54.22119140625, \"lon\": 9.60205078125, \"speed_knots\": 6.15987575734351, \"ssvid\": 319009700.0, \"timestamp\": \"2022-01-01 05:00:00\", \"total_power_demand_kw\": 386.16779021025724}, {\"distance_from_port_m\": 46371.20920653553, \"distance_from_shore_m\": 0.0, \"draught_recent_m\": 3.15, \"emissions_CH4\": 5.590001877871991, \"emissions_CO\": 286.0650944911043, \"emissions_CO2\": 250867.57020680513, \"emissions_N2O\": 12.23625364904671, \"emissions_NOX\": 3380.7158806366056, \"emissions_PM\": 86.45002646092351, \"emissions_SOX\": 216.93756081744516, \"in_a_eca\": 1, \"in_a_river\": 0, \"lat\": 54.16259765625, \"lon\": 9.47021484375, \"speed_knots\": 6.05868979052008, \"ssvid\": 319009700.0, \"timestamp\": \"2022-01-01 06:00:00\", \"total_power_demand_kw\": 373.75010669727226}, {\"distance_from_port_m\": 55269.7237231957, \"distance_from_shore_m\": 0.0, \"draught_recent_m\": 3.15, \"emissions_CH4\": 5.391768233890059, \"emissions_CO\": 282.1368934206729, \"emissions_CO2\": 273635.3399931741, \"emissions_N2O\": 12.918591209390335, \"emissions_NOX\": 3545.3866785328673, \"emissions_PM\": 90.0208635234499, \"emissions_SOX\": 236.6604009059411, \"in_a_eca\": 1, \"in_a_river\": 0, \"lat\": 54.12744140625, \"lon\": 9.34716796875, \"speed_knots\": 6.332788870158904, \"ssvid\": 319009700.0, \"timestamp\": \"2022-01-01 07:00:00\", \"total_power_demand_kw\": 408.35158053673877}, {\"distance_from_port_m\": 63180.80512792103, \"distance_from_shore_m\": 0.0, \"draught_recent_m\": 3.15, \"emissions_CH4\": 5.569787762678127, \"emissions_CO\": 280.7702475206468, \"emissions_CO2\": 233822.87488990853, \"emissions_N2O\": 11.546405636224604, \"emissions_NOX\": 3214.2325602088713, \"emissions_PM\": 82.64004174981189, \"emissions_SOX\": 202.17239922074143, \"in_a_eca\": 1, \"in_a_river\": 0, \"lat\": 54.03076171875, \"lon\": 9.29443359375, \"speed_knots\": 5.835980753739565, \"ssvid\": 319009700.0, \"timestamp\": \"2022-01-01 08:00:00\", \"total_power_demand_kw\": 347.84631442235343}, {\"distance_from_port_m\": 72009.1814301086, \"distance_from_shore_m\": 0.0, \"draught_recent_m\": 3.15, \"emissions_CH4\": 5.7741769997417425, \"emissions_CO\": 311.8055579860541, \"emissions_CO2\": 384880.84658300667, \"emissions_N2O\": 17.322530999225226, \"emissions_NOX\": 4608.204147813021, \"emissions_PM\": 115.48353999483486, \"emissions_SOX\": 333.0280889852793, \"in_a_eca\": 1, \"in_a_river\": 0, \"lat\": 53.93408203125, \"lon\": 9.24169921875, \"speed_knots\": 7.41825057655254, \"ssvid\": 319009700.0, \"timestamp\": \"2022-01-01 09:00:00\", \"total_power_demand_kw\": 577.4176999741742}, {\"distance_from_port_m\": 84894.12768940382, \"distance_from_shore_m\": 0.0, \"draught_recent_m\": 3.15, \"emissions_CH4\": 6.27434249353016, \"emissions_CO\": 338.8144946506286, \"emissions_CO2\": 417791.7360742845, \"emissions_N2O\": 18.82302748059048, \"emissions_NOX\": 4970.323965315835, \"emissions_PM\": 125.4868498706032, \"emissions_SOX\": 361.5375221312191, \"in_a_eca\": 1, \"in_a_river\": 0, \"lat\": 53.85498046875, \"lon\": 9.0966796875, \"speed_knots\": 7.6849728943855204, \"ssvid\": 319009700.0, \"timestamp\": \"2022-01-01 10:00:00\", \"total_power_demand_kw\": 627.434249353016}, {\"distance_from_port_m\": 95485.37180941961, \"distance_from_shore_m\": 2593.265231952064, \"draught_recent_m\": 3.15, \"emissions_CH4\": 6.996321692141104, \"emissions_CO\": 377.8013713756197, \"emissions_CO2\": 465297.9673428847, \"emissions_N2O\": 20.988965076423312, \"emissions_NOX\": 5493.03690511016, \"emissions_PM\": 139.92643384282212, \"emissions_SOX\": 402.69033645204297, \"in_a_eca\": 1, \"in_a_river\": 0, \"lat\": 53.85498046875, \"lon\": 8.89892578125, \"speed_knots\": 8.040109210024042, \"ssvid\": 319009700.0, \"timestamp\": \"2022-01-01 11:00:00\", \"total_power_demand_kw\": 699.6321692141105}, {\"distance_from_port_m\": 103188.86175334067, \"distance_from_shore_m\": 3763.4342989437696, \"draught_recent_m\": 3.15, \"emissions_CH4\": 15.080736704054772, \"emissions_CO\": 814.3597820189577, \"emissions_CO2\": 997252.4751268039, \"emissions_N2O\": 45.24221011216431, \"emissions_NOX\": 11346.153373735653, \"emissions_PM\": 301.61473408109543, \"emissions_SOX\": 863.5019921311218, \"in_a_eca\": 1, \"in_a_river\": 0, \"lat\": 53.9208984375, \"lon\": 8.701171875, \"speed_knots\": 10.793308498565187, \"ssvid\": 319009700.0, \"timestamp\": \"2022-01-01 12:00:00\", \"total_power_demand_kw\": 1508.073670405477}, {\"distance_from_port_m\": 109747.99215990944, \"distance_from_shore_m\": 9813.656087528174, \"draught_recent_m\": 3.15, \"emissions_CH4\": 13.216150188250023, \"emissions_CO\": 713.6721101655013, \"emissions_CO2\": 874562.6823868514, \"emissions_N2O\": 39.648450564750064, \"emissions_NOX\": 9996.192736293015, \"emissions_PM\": 264.3230037650004, \"emissions_SOX\": 757.2205607302511, \"in_a_eca\": 1, \"in_a_river\": 0, \"lat\": 54.019775390625, \"lon\": 8.525390625, \"speed_knots\": 10.131507021419818, \"ssvid\": 319009700.0, \"timestamp\": \"2022-01-01 13:00:00\", \"total_power_demand_kw\": 1321.6150188250022}, {\"distance_from_port_m\": 123002.1991710574, \"distance_from_shore_m\": 23423.788500752205, \"draught_recent_m\": 3.15, \"emissions_CH4\": 21.880000000000003, \"emissions_CO\": 1181.5200000000002, \"emissions_CO2\": 1444644.0, \"emissions_N2O\": 65.64, \"emissions_NOX\": 16268.82, \"emissions_PM\": 437.6, \"emissions_SOX\": 1251.06, \"in_a_eca\": 1, \"in_a_river\": 0, \"lat\": 54.11865234375, \"lon\": 8.27197265625, \"speed_knots\": 13.0, \"ssvid\": 319009700.0, \"timestamp\": \"2022-01-01 14:00:00\", \"total_power_demand_kw\": 2188.0}, {\"distance_from_port_m\": 142330.1018712816, \"distance_from_shore_m\": 10336.882080345895, \"draught_recent_m\": 3.15, \"emissions_CH4\": 18.39597414149675, \"emissions_CO\": 993.3826036408245, \"emissions_CO2\": 1215395.098510486, \"emissions_N2O\": 55.187922424490246, \"emissions_NOX\": 13746.385278443646, \"emissions_PM\": 367.919482829935, \"emissions_SOX\": 1052.4705260653145, \"in_a_eca\": 1, \"in_a_river\": 0, \"lat\": 54.100341796875, \"lon\": 7.97607421875, \"speed_knots\": 11.4268539804172, \"ssvid\": 319009700.0, \"timestamp\": \"2022-01-01 15:00:00\", \"total_power_demand_kw\": 1839.597414149675}, {\"distance_from_port_m\": 160647.82176069997, \"distance_from_shore_m\": 20825.404134659188, \"draught_recent_m\": 3.15, \"emissions_CH4\": 15.468761239156661, \"emissions_CO\": 835.3131069144598, \"emissions_CO2\": 1022784.4895365083, \"emissions_N2O\": 46.40628371746998, \"emissions_NOX\": 11627.083137149422, \"emissions_PM\": 309.3752247831332, \"emissions_SOX\": 885.6193906319296, \"in_a_eca\": 1, \"in_a_river\": 0, \"lat\": 54.034423828125, \"lon\": 7.71240234375, \"speed_knots\": 10.733450413997227, \"ssvid\": 319009700.0, \"timestamp\": \"2022-01-01 16:00:00\", \"total_power_demand_kw\": 1546.876123915666}, {\"distance_from_port_m\": 178525.7554732462, \"distance_from_shore_m\": 25593.3649740026, \"draught_recent_m\": 3.15, \"emissions_CH4\": 17.856191550687047, \"emissions_CO\": 964.2343437371005, \"emissions_CO2\": 1179877.4040352076, \"emissions_N2O\": 53.56857465206113, \"emissions_NOX\": 13355.58268269742, \"emissions_PM\": 357.1238310137409, \"emissions_SOX\": 1021.7029183891615, \"in_a_eca\": 1, \"in_a_river\": 0, \"lat\": 53.990478515625, \"lon\": 7.44873046875, \"speed_knots\": 11.305303030303032, \"ssvid\": 319009700.0, \"timestamp\": \"2022-01-01 17:00:00\", \"total_power_demand_kw\": 1785.6191550687045}, {\"distance_from_port_m\": 193779.31280776486, \"distance_from_shore_m\": 20252.025185316987, \"draught_recent_m\": 3.15, \"emissions_CH4\": 12.178356712861905, \"emissions_CO\": 657.631262494543, \"emissions_CO2\": 806275.8717063133, \"emissions_N2O\": 36.535070138585716, \"emissions_NOX\": 9244.83026011202, \"emissions_PM\": 243.5671342572381, \"emissions_SOX\": 698.0663326331286, \"in_a_eca\": 1, \"in_a_river\": 0, \"lat\": 53.91148158482143, \"lon\": 7.241559709821429, \"speed_knots\": 9.828407595239629, \"ssvid\": 319009700.0, \"timestamp\": \"2022-01-01 18:00:00\", \"total_power_demand_kw\": 1217.8356712861905}, {\"distance_from_port_m\": 210297.8718555213, \"distance_from_shore_m\": 17422.795598313678, \"draught_recent_m\": 3.15, \"emissions_CH4\": 21.880000000000003, \"emissions_CO\": 1181.5200000000002, \"emissions_CO2\": 1444644.0, \"emissions_N2O\": 65.64, \"emissions_NOX\": 16268.82, \"emissions_PM\": 437.6, \"emissions_SOX\": 1251.06, \"in_a_eca\": 1, \"in_a_river\": 0, \"lat\": 53.848702566964285, \"lon\": 7.00927734375, \"speed_knots\": 13.0, \"ssvid\": 319009700.0, \"timestamp\": \"2022-01-01 19:00:00\", \"total_power_demand_kw\": 2188.0}, {\"distance_from_port_m\": 201215.268117945, \"distance_from_shore_m\": 22436.446410083474, \"draught_recent_m\": 3.15, \"emissions_CH4\": 21.880000000000003, \"emissions_CO\": 1181.5200000000002, \"emissions_CO2\": 1444644.0, \"emissions_N2O\": 65.64, \"emissions_NOX\": 16268.82, \"emissions_PM\": 437.6, \"emissions_SOX\": 1251.06, \"in_a_eca\": 1, \"in_a_river\": 0, \"lat\": 53.817313058035715, \"lon\": 6.70166015625, \"speed_knots\": 12.481236673773989, \"ssvid\": 319009700.0, \"timestamp\": \"2022-01-01 20:00:00\", \"total_power_demand_kw\": 2188.0}, {\"distance_from_port_m\": 189756.85131417785, \"distance_from_shore_m\": 29844.65172315269, \"draught_recent_m\": 3.15, \"emissions_CH4\": 21.880000000000003, \"emissions_CO\": 1181.5200000000002, \"emissions_CO2\": 1444644.0, \"emissions_N2O\": 65.64, \"emissions_NOX\": 16268.82, \"emissions_PM\": 437.6, \"emissions_SOX\": 1251.06, \"in_a_eca\": 1, \"in_a_river\": 0, \"lat\": 53.82275390625, \"lon\": 6.38232421875, \"speed_knots\": 13.0, \"ssvid\": 319009700.0, \"timestamp\": \"2022-01-01 21:00:00\", \"total_power_demand_kw\": 2188.0}, {\"distance_from_port_m\": 175625.65213832087, \"distance_from_shore_m\": 32485.749856991893, \"draught_recent_m\": 3.15, \"emissions_CH4\": 21.880000000000003, \"emissions_CO\": 1181.5200000000002, \"emissions_CO2\": 1444644.0, \"emissions_N2O\": 65.64, \"emissions_NOX\": 16268.82, \"emissions_PM\": 437.6, \"emissions_SOX\": 1251.06, \"in_a_eca\": 1, \"in_a_river\": 0, \"lat\": 53.782784598214285, \"lon\": 6.064453125, \"speed_knots\": 12.355194805194804, \"ssvid\": 319009700.0, \"timestamp\": \"2022-01-01 22:00:00\", \"total_power_demand_kw\": 2188.0}, {\"distance_from_port_m\": 162571.9447836402, \"distance_from_shore_m\": 28487.594370584568, \"draught_recent_m\": 3.15, \"emissions_CH4\": 18.153809434347774, \"emissions_CO\": 980.30570945478, \"emissions_CO2\": 1199460.6607800836, \"emissions_N2O\": 54.46142830304332, \"emissions_NOX\": 13571.05803046779, \"emissions_PM\": 363.0761886869555, \"emissions_SOX\": 1038.6671377578232, \"in_a_eca\": 1, \"in_a_river\": 0, \"lat\": 53.72713955965909, \"lon\": 5.7907936789772725, \"speed_knots\": 11.372643356643357, \"ssvid\": 319009700.0, \"timestamp\": \"2022-01-01 23:00:00\", \"total_power_demand_kw\": 1815.3809434347775}, {\"distance_from_port_m\": 146659.55901465297, \"distance_from_shore_m\": 16765.831528361137, \"draught_recent_m\": 3.15, \"emissions_CH4\": 18.01575334013406, \"emissions_CO\": 972.8506803672394, \"emissions_CO2\": 1190376.5697808212, \"emissions_N2O\": 54.04726002040218, \"emissions_NOX\": 13471.10541825706, \"emissions_PM\": 360.31506680268126, \"emissions_SOX\": 1030.7979403876413, \"in_a_eca\": 1, \"in_a_river\": 0, \"lat\": 53.61767578125, \"lon\": 5.59423828125, \"speed_knots\": 11.341505602240897, \"ssvid\": 319009700.0, \"timestamp\": \"2022-01-02 00:00:00\", \"total_power_demand_kw\": 1801.575334013406}, {\"distance_from_port_m\": 137116.39233376711, \"distance_from_shore_m\": 14720.767186898343, \"draught_recent_m\": 3.15, \"emissions_CH4\": 13.776956151325905, \"emissions_CO\": 743.9556321715988, \"emissions_CO2\": 911463.7147572445, \"emissions_N2O\": 41.33086845397771, \"emissions_NOX\": 10402.216253559955, \"emissions_PM\": 275.53912302651804, \"emissions_SOX\": 789.1865006255764, \"in_a_eca\": 1, \"in_a_river\": 0, \"lat\": 53.56494140625, \"lon\": 5.38330078125, \"speed_knots\": 10.288015500409864, \"ssvid\": 319009700.0, \"timestamp\": \"2022-01-02 01:00:00\", \"total_power_demand_kw\": 1377.6956151325903}, {\"distance_from_port_m\": 129049.23941723288, \"distance_from_shore_m\": 14952.235339670431, \"draught_recent_m\": 3.15, \"emissions_CH4\": 18.120396064995724, \"emissions_CO\": 978.5013875097692, \"emissions_CO2\": 1197262.0610767186, \"emissions_N2O\": 54.361188194987164, \"emissions_NOX\": 13546.866751056903, \"emissions_PM\": 362.4079212999145, \"emissions_SOX\": 1036.7625757047563, \"in_a_eca\": 1, \"in_a_river\": 0, \"lat\": 53.51806640625, \"lon\": 5.1416015625, \"speed_knots\": 11.365122807017544, \"ssvid\": 319009700.0, \"timestamp\": \"2022-01-02 02:00:00\", \"total_power_demand_kw\": 1812.0396064995723}, {\"distance_from_port_m\": 119656.79208389221, \"distance_from_shore_m\": 19647.39160391921, \"draught_recent_m\": 3.15, \"emissions_CH4\": 21.880000000000003, \"emissions_CO\": 1181.5200000000002, \"emissions_CO2\": 1444644.0, \"emissions_N2O\": 65.64, \"emissions_NOX\": 16268.82, \"emissions_PM\": 437.6, \"emissions_SOX\": 1251.06, \"in_a_eca\": 1, \"in_a_river\": 0, \"lat\": 53.44257061298077, \"lon\": 4.866098257211538, \"speed_knots\": 13.0, \"ssvid\": 319009700.0, \"timestamp\": \"2022-01-02 03:00:00\", \"total_power_demand_kw\": 2188.0}, {\"distance_from_port_m\": 107242.36150634062, \"distance_from_shore_m\": 24666.6134086326, \"draught_recent_m\": 3.15, \"emissions_CH4\": 21.880000000000003, \"emissions_CO\": 1181.5200000000002, \"emissions_CO2\": 1444644.0, \"emissions_N2O\": 65.64, \"emissions_NOX\": 16268.82, \"emissions_PM\": 437.6, \"emissions_SOX\": 1251.06, \"in_a_eca\": 1, \"in_a_river\": 0, \"lat\": 53.31787109375, \"lon\": 4.63623046875, \"speed_knots\": 13.0, \"ssvid\": 319009700.0, \"timestamp\": \"2022-01-02 04:00:00\", \"total_power_demand_kw\": 2188.0}, {\"distance_from_port_m\": 89398.61916857678, \"distance_from_shore_m\": 17575.281991119642, \"draught_recent_m\": 3.15, \"emissions_CH4\": 21.880000000000003, \"emissions_CO\": 1181.5200000000002, \"emissions_CO2\": 1444644.0, \"emissions_N2O\": 65.64, \"emissions_NOX\": 16268.82, \"emissions_PM\": 437.6, \"emissions_SOX\": 1251.06, \"in_a_eca\": 1, \"in_a_river\": 0, \"lat\": 53.1298828125, \"lon\": 4.482421875, \"speed_knots\": 13.0, \"ssvid\": 319009700.0, \"timestamp\": \"2022-01-02 05:00:00\", \"total_power_demand_kw\": 2188.0}, {\"distance_from_port_m\": 76218.89530043052, \"distance_from_shore_m\": 29398.878969442918, \"draught_recent_m\": 3.15, \"emissions_CH4\": 21.880000000000003, \"emissions_CO\": 1181.5200000000002, \"emissions_CO2\": 1444644.0, \"emissions_N2O\": 65.64, \"emissions_NOX\": 16268.82, \"emissions_PM\": 437.6, \"emissions_SOX\": 1251.06, \"in_a_eca\": 1, \"in_a_river\": 0, \"lat\": 52.9541015625, \"lon\": 4.317626953125, \"speed_knots\": 12.24423076923077, \"ssvid\": 319009700.0, \"timestamp\": \"2022-01-02 06:00:00\", \"total_power_demand_kw\": 2188.0}, {\"distance_from_port_m\": 65536.54407486197, \"distance_from_shore_m\": 31888.97883707511, \"draught_recent_m\": 3.15, \"emissions_CH4\": 21.880000000000003, \"emissions_CO\": 1181.5200000000002, \"emissions_CO2\": 1444644.0, \"emissions_N2O\": 65.64, \"emissions_NOX\": 16268.82, \"emissions_PM\": 437.6, \"emissions_SOX\": 1251.06, \"in_a_eca\": 1, \"in_a_river\": 0, \"lat\": 52.76611328125, \"lon\": 4.18701171875, \"speed_knots\": 13.0, \"ssvid\": 319009700.0, \"timestamp\": \"2022-01-02 07:00:00\", \"total_power_demand_kw\": 2188.0}, {\"distance_from_port_m\": 47963.1993108445, \"distance_from_shore_m\": 22672.49824830339, \"draught_recent_m\": 3.15, \"emissions_CH4\": 21.880000000000003, \"emissions_CO\": 1181.5200000000002, \"emissions_CO2\": 1444644.0, \"emissions_N2O\": 65.64, \"emissions_NOX\": 16268.82, \"emissions_PM\": 437.6, \"emissions_SOX\": 1251.06, \"in_a_eca\": 1, \"in_a_river\": 0, \"lat\": 52.59033203125, \"lon\": 4.29443359375, \"speed_knots\": 13.0, \"ssvid\": 319009700.0, \"timestamp\": \"2022-01-02 08:00:00\", \"total_power_demand_kw\": 2188.0}, {\"distance_from_port_m\": 30849.44166901559, \"distance_from_shore_m\": 5749.245028998727, \"draught_recent_m\": 3.15, \"emissions_CH4\": 13.864467761589731, \"emissions_CO\": 748.6812591258456, \"emissions_CO2\": 917221.9787126043, \"emissions_N2O\": 41.59340328476919, \"emissions_NOX\": 10465.574659390964, \"emissions_PM\": 277.2893552317946, \"emissions_SOX\": 794.1746624106146, \"in_a_eca\": 1, \"in_a_river\": 0, \"lat\": 52.49267578125, \"lon\": 4.49462890625, \"speed_knots\": 10.465945707349373, \"ssvid\": 319009700.0, \"timestamp\": \"2022-01-02 09:00:00\", \"total_power_demand_kw\": 1386.446776158973}, {\"distance_from_port_m\": 20028.84659813192, \"distance_from_shore_m\": 0.0, \"draught_recent_m\": 3.15, \"emissions_CH4\": 5.668658201883452, \"emissions_CO\": 274.2787474308413, \"emissions_CO2\": 204550.5197158457, \"emissions_N2O\": 10.504995138561886, \"emissions_NOX\": 2962.9054934396017, \"emissions_PM\": 77.314397926885, \"emissions_SOX\": 176.81488789974475, \"in_a_eca\": 1, \"in_a_river\": 0, \"lat\": 52.45751953125, \"lon\": 4.64501953125, \"speed_knots\": 5.408119601998417, \"ssvid\": 319009700.0, \"timestamp\": \"2022-01-02 10:00:00\", \"total_power_demand_kw\": 303.3594524556926}, {\"distance_from_port_m\": 11272.391512427916, \"distance_from_shore_m\": 0.0, \"draught_recent_m\": 3.15, \"emissions_CH4\": 6.122379010660412, \"emissions_CO\": 277.3430984124586, \"emissions_CO2\": 180625.6076424588, \"emissions_N2O\": 9.859474061469541, \"emissions_NOX\": 2807.119740167983, \"emissions_PM\": 75.04578652887578, \"emissions_SOX\": 156.0896601158078, \"in_a_eca\": 1, \"in_a_river\": 0, \"lat\": 52.40478515625, \"lon\": 4.74609375, \"speed_knots\": 5.0, \"ssvid\": 319009700.0, \"timestamp\": \"2022-01-02 11:00:00\", \"total_power_demand_kw\": 266.9994037119435}, {\"distance_from_port_m\": 3645.387729449013, \"distance_from_shore_m\": 0.0, \"draught_recent_m\": 3.15, \"emissions_CH4\": 6.122379010660412, \"emissions_CO\": 277.3430984124586, \"emissions_CO2\": 180625.6076424588, \"emissions_N2O\": 9.859474061469541, \"emissions_NOX\": 2807.119740167983, \"emissions_PM\": 75.04578652887578, \"emissions_SOX\": 156.0896601158078, \"in_a_eca\": 0, \"in_a_river\": 0, \"lat\": 52.36083984375, \"lon\": 4.84716796875, \"speed_knots\": 5.0, \"ssvid\": 319009700.0, \"timestamp\": \"2022-01-02 12:00:00\", \"total_power_demand_kw\": 266.9994037119435}], \"getColor\": \"@@=[10+speed_knots*255/25*2, 10+speed_knots*255/25, 10+speed_knots*255/25*4]\", \"getNormal\": [0, 0, 15], \"getPosition\": \"@@=[lon, lat]\", \"id\": \"805ac65a-255f-4835-ba43-54cf04584f7f\", \"pickable\": true, \"pointSize\": 5}], \"mapProvider\": \"carto\", \"mapStyle\": \"https://basemaps.cartocdn.com/gl/voyager-gl-style/style.json\", \"views\": [{\"@@type\": \"MapView\", \"controller\": true}]}"
      ]
     },
     "execution_count": 19,
     "metadata": {},
     "output_type": "execute_result"
    }
   ],
   "source": [
    "list_of_paths[mmsis.index(min_co2_mmsi)]"
   ]
  },
  {
   "cell_type": "markdown",
   "id": "bb9bb24e-606e-471e-b4a0-cb0cc31c1295",
   "metadata": {},
   "source": [
    "If you want to see the paths of the other vessels, uncomment the lines underneath. If there are more than two vessels you can also change the index to see the other (OBS, zero indexed). "
   ]
  },
  {
   "cell_type": "code",
   "execution_count": 16,
   "id": "1e445e45",
   "metadata": {},
   "outputs": [],
   "source": [
    "# max_co2_mmsi = int(df_summed_emissions.index[1])\n",
    "# list_of_paths[mmsis.index(max_co2_mmsi)]"
   ]
  },
  {
   "cell_type": "code",
   "execution_count": null,
   "id": "10088a2e",
   "metadata": {},
   "outputs": [],
   "source": []
  }
 ],
 "metadata": {
  "kernelspec": {
   "display_name": "Python 3 (ipykernel)",
   "language": "python",
   "name": "python3"
  },
  "language_info": {
   "codemirror_mode": {
    "name": "ipython",
    "version": 3
   },
   "file_extension": ".py",
   "mimetype": "text/x-python",
   "name": "python",
   "nbconvert_exporter": "python",
   "pygments_lexer": "ipython3",
   "version": "3.9.12"
  }
 },
 "nbformat": 4,
 "nbformat_minor": 5
}
