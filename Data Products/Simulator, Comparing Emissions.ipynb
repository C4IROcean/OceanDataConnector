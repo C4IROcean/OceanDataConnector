{
 "cells": [
  {
   "cell_type": "code",
   "execution_count": 1,
   "id": "8c8a9567-96fc-41e7-b73e-6cc3cfd42003",
   "metadata": {},
   "outputs": [
    {
     "name": "stdout",
     "output_type": "stream",
     "text": [
      "Collecting xlrd\n",
      "  Using cached xlrd-2.0.1-py2.py3-none-any.whl (96 kB)\n",
      "Installing collected packages: xlrd\n",
      "Successfully installed xlrd-2.0.1\n",
      "Note: you may need to restart the kernel to use updated packages.\n"
     ]
    }
   ],
   "source": [
    "%pip install xlrd\n"
   ]
  },
  {
   "cell_type": "code",
   "execution_count": 2,
   "id": "67d0481b-ae3a-441d-b148-a53e1ea7ce0b",
   "metadata": {},
   "outputs": [
    {
     "name": "stdout",
     "output_type": "stream",
     "text": [
      "Collecting geopy\n",
      "  Using cached geopy-2.2.0-py3-none-any.whl (118 kB)\n",
      "Collecting geographiclib<2,>=1.49\n",
      "  Using cached geographiclib-1.52-py3-none-any.whl (38 kB)\n",
      "Installing collected packages: geographiclib, geopy\n",
      "Successfully installed geographiclib-1.52 geopy-2.2.0\n",
      "Note: you may need to restart the kernel to use updated packages.\n"
     ]
    }
   ],
   "source": [
    "%pip install geopy"
   ]
  },
  {
   "cell_type": "code",
   "execution_count": 3,
   "id": "de896a7d",
   "metadata": {
    "tags": []
   },
   "outputs": [
    {
     "ename": "FileNotFoundError",
     "evalue": "[Errno 2] No such file or directory: '/srv/conda/envs/notebook/lib/python3.8/site-packages/odp-0.0.1-py3.8.egg/odp_vessel_simulator/models/icct/data/project_data/ShipData.xlsx'",
     "output_type": "error",
     "traceback": [
      "\u001b[0;31m---------------------------------------------------------------------------\u001b[0m",
      "\u001b[0;31mFileNotFoundError\u001b[0m                         Traceback (most recent call last)",
      "Input \u001b[0;32mIn [3]\u001b[0m, in \u001b[0;36m<cell line: 6>\u001b[0;34m()\u001b[0m\n\u001b[1;32m      4\u001b[0m \u001b[38;5;28;01mfrom\u001b[39;00m \u001b[38;5;21;01mos\u001b[39;00m \u001b[38;5;28;01mimport\u001b[39;00m environ, getenv, path\n\u001b[1;32m      5\u001b[0m \u001b[38;5;28;01mfrom\u001b[39;00m \u001b[38;5;21;01mtyping\u001b[39;00m \u001b[38;5;28;01mimport\u001b[39;00m TypedDict, Dict, Union, List\n\u001b[0;32m----> 6\u001b[0m \u001b[38;5;28;01mfrom\u001b[39;00m \u001b[38;5;21;01msimulator_funcs\u001b[39;00m \u001b[38;5;28;01mimport\u001b[39;00m simulate, load_ship, get_routing_table_from_mmsi, plot_df, get_routing_and_emissions, emissions_multiple_vessels\n\u001b[1;32m      8\u001b[0m \u001b[38;5;28;01mimport\u001b[39;00m \u001b[38;5;21;01mwarnings\u001b[39;00m\n\u001b[1;32m      9\u001b[0m warnings\u001b[38;5;241m.\u001b[39mfilterwarnings(\u001b[38;5;124m\"\u001b[39m\u001b[38;5;124mignore\u001b[39m\u001b[38;5;124m\"\u001b[39m)\n",
      "File \u001b[0;32m~/Ocean Data Platform Tutorials/Data Products/simulator_funcs.py:19\u001b[0m, in \u001b[0;36m<module>\u001b[0;34m\u001b[0m\n\u001b[1;32m     17\u001b[0m \u001b[38;5;28;01mfrom\u001b[39;00m \u001b[38;5;21;01modp_vessel_simulator\u001b[39;00m\u001b[38;5;21;01m.\u001b[39;00m\u001b[38;5;21;01mmodels\u001b[39;00m\u001b[38;5;21;01m.\u001b[39;00m\u001b[38;5;21;01micct\u001b[39;00m\u001b[38;5;21;01m.\u001b[39;00m\u001b[38;5;21;01mdatabase_functions\u001b[39;00m\u001b[38;5;21;01m.\u001b[39;00m\u001b[38;5;21;01mdatabase\u001b[39;00m \u001b[38;5;28;01mimport\u001b[39;00m get_engine\n\u001b[1;32m     18\u001b[0m \u001b[38;5;28;01mfrom\u001b[39;00m \u001b[38;5;21;01modp_vessel_simulator\u001b[39;00m\u001b[38;5;21;01m.\u001b[39;00m\u001b[38;5;21;01mmodels\u001b[39;00m\u001b[38;5;21;01m.\u001b[39;00m\u001b[38;5;21;01micct\u001b[39;00m\u001b[38;5;21;01m.\u001b[39;00m\u001b[38;5;21;01mdatabase_functions\u001b[39;00m\u001b[38;5;21;01m.\u001b[39;00m\u001b[38;5;21;01mais_from_db\u001b[39;00m \u001b[38;5;28;01mimport\u001b[39;00m get_vessel_type, get_closest_node_from_coord, get_best_path, check_in_regions\n\u001b[0;32m---> 19\u001b[0m \u001b[38;5;28;01mfrom\u001b[39;00m \u001b[38;5;21;01modp_vessel_simulator\u001b[39;00m\u001b[38;5;21;01m.\u001b[39;00m\u001b[38;5;21;01mmodels\u001b[39;00m\u001b[38;5;21;01m.\u001b[39;00m\u001b[38;5;21;01micct\u001b[39;00m\u001b[38;5;21;01m.\u001b[39;00m\u001b[38;5;21;01mclasses\u001b[39;00m\u001b[38;5;21;01m.\u001b[39;00m\u001b[38;5;21;01mship\u001b[39;00m \u001b[38;5;28;01mimport\u001b[39;00m Ship\n\u001b[1;32m     20\u001b[0m \u001b[38;5;28;01mfrom\u001b[39;00m \u001b[38;5;21;01modp_vessel_simulator\u001b[39;00m\u001b[38;5;21;01m.\u001b[39;00m\u001b[38;5;21;01mmodels\u001b[39;00m\u001b[38;5;21;01m.\u001b[39;00m\u001b[38;5;21;01micct\u001b[39;00m\u001b[38;5;21;01m.\u001b[39;00m\u001b[38;5;21;01mclasses\u001b[39;00m\u001b[38;5;21;01m.\u001b[39;00m\u001b[38;5;21;01mpollutants\u001b[39;00m \u001b[38;5;28;01mimport\u001b[39;00m Pollutant\n\u001b[1;32m     25\u001b[0m \u001b[38;5;28;01mdef\u001b[39;00m \u001b[38;5;21mdistance_from_shore\u001b[39m(df):\n",
      "File \u001b[0;32m/srv/conda/envs/notebook/lib/python3.8/site-packages/odp-0.0.1-py3.8.egg/odp_vessel_simulator/models/icct/classes/ship.py:35\u001b[0m, in \u001b[0;36m<module>\u001b[0;34m\u001b[0m\n\u001b[1;32m     32\u001b[0m \u001b[38;5;28;01mfrom\u001b[39;00m \u001b[38;5;21;01m.\u001b[39;00m\u001b[38;5;21;01m.\u001b[39;00m\u001b[38;5;21;01maux_functions\u001b[39;00m\u001b[38;5;21;01m.\u001b[39;00m\u001b[38;5;21;01massign_ship_category\u001b[39;00m \u001b[38;5;28;01mimport\u001b[39;00m assign_ship_category_type1\n\u001b[1;32m     34\u001b[0m \u001b[38;5;66;03m# getting and setting fallback values\u001b[39;00m\n\u001b[0;32m---> 35\u001b[0m \u001b[38;5;28;01mfrom\u001b[39;00m \u001b[38;5;21;01m.\u001b[39;00m\u001b[38;5;21;01m.\u001b[39;00m\u001b[38;5;21;01maux_functions\u001b[39;00m\u001b[38;5;21;01m.\u001b[39;00m\u001b[38;5;21;01mfallback_ship_data\u001b[39;00m \u001b[38;5;28;01mimport\u001b[39;00m save_daf\n\u001b[1;32m     36\u001b[0m \u001b[38;5;28;01mfrom\u001b[39;00m \u001b[38;5;21;01m.\u001b[39;00m\u001b[38;5;21;01m.\u001b[39;00m\u001b[38;5;21;01maux_functions\u001b[39;00m\u001b[38;5;21;01m.\u001b[39;00m\u001b[38;5;21;01mfallback_ship_data\u001b[39;00m \u001b[38;5;28;01mimport\u001b[39;00m get_average_daf_from_ship, get_number_of_daf_recordings_for_ship\n\u001b[1;32m     37\u001b[0m \u001b[38;5;28;01mfrom\u001b[39;00m \u001b[38;5;21;01m.\u001b[39;00m\u001b[38;5;21;01m.\u001b[39;00m\u001b[38;5;21;01maux_functions\u001b[39;00m\u001b[38;5;21;01m.\u001b[39;00m\u001b[38;5;21;01mfallback_ship_data\u001b[39;00m \u001b[38;5;28;01mimport\u001b[39;00m get_average_rpm, get_average_max_speed, \\\n\u001b[1;32m     38\u001b[0m     get_average_engine_power, get_average_length_between_perpendiculars, get_average_design_draught\n",
      "File \u001b[0;32m/srv/conda/envs/notebook/lib/python3.8/site-packages/odp-0.0.1-py3.8.egg/odp_vessel_simulator/models/icct/aux_functions/fallback_ship_data.py:26\u001b[0m, in \u001b[0;36m<module>\u001b[0;34m\u001b[0m\n\u001b[1;32m     21\u001b[0m DEFAULT_YEAR \u001b[38;5;241m=\u001b[39m \u001b[38;5;241m2020\u001b[39m  \u001b[38;5;66;03m# the year we compute emissions for, if non other are given\u001b[39;00m\n\u001b[1;32m     24\u001b[0m filepath \u001b[38;5;241m=\u001b[39m os\u001b[38;5;241m.\u001b[39mpath\u001b[38;5;241m.\u001b[39mjoin(\n\u001b[1;32m     25\u001b[0m     DATA_DIR, \u001b[38;5;124m'\u001b[39m\u001b[38;5;124mproject_data/ShipData.xlsx\u001b[39m\u001b[38;5;124m'\u001b[39m)\n\u001b[0;32m---> 26\u001b[0m ships \u001b[38;5;241m=\u001b[39m \u001b[43mpd\u001b[49m\u001b[38;5;241;43m.\u001b[39;49m\u001b[43mread_excel\u001b[49m\u001b[43m(\u001b[49m\u001b[43mfilepath\u001b[49m\u001b[43m,\u001b[49m\n\u001b[1;32m     27\u001b[0m \u001b[43m                      \u001b[49m\u001b[43mengine\u001b[49m\u001b[38;5;241;43m=\u001b[39;49m\u001b[38;5;124;43m'\u001b[39;49m\u001b[38;5;124;43mopenpyxl\u001b[39;49m\u001b[38;5;124;43m'\u001b[39;49m\u001b[43m,\u001b[49m\u001b[43m \u001b[49m\u001b[43msheet_name\u001b[49m\u001b[38;5;241;43m=\u001b[39;49m\u001b[38;5;124;43m'\u001b[39;49m\u001b[38;5;124;43mShips\u001b[39;49m\u001b[38;5;124;43m'\u001b[39;49m\u001b[43m)\u001b[49m\n\u001b[1;32m     30\u001b[0m \u001b[38;5;28;01mdef\u001b[39;00m \u001b[38;5;21mcreate_connection\u001b[39m(db_file: \u001b[38;5;28mstr\u001b[39m) \u001b[38;5;241m-\u001b[39m\u001b[38;5;241m>\u001b[39m Union[sqlite3\u001b[38;5;241m.\u001b[39mConnection, \u001b[38;5;28;01mNone\u001b[39;00m]:\n\u001b[1;32m     31\u001b[0m     \u001b[38;5;124;03m\"\"\" create a database connection to a SQLite database \"\"\"\u001b[39;00m\n",
      "File \u001b[0;32m/srv/conda/envs/notebook/lib/python3.8/site-packages/pandas/util/_decorators.py:311\u001b[0m, in \u001b[0;36mdeprecate_nonkeyword_arguments.<locals>.decorate.<locals>.wrapper\u001b[0;34m(*args, **kwargs)\u001b[0m\n\u001b[1;32m    305\u001b[0m \u001b[38;5;28;01mif\u001b[39;00m \u001b[38;5;28mlen\u001b[39m(args) \u001b[38;5;241m>\u001b[39m num_allow_args:\n\u001b[1;32m    306\u001b[0m     warnings\u001b[38;5;241m.\u001b[39mwarn(\n\u001b[1;32m    307\u001b[0m         msg\u001b[38;5;241m.\u001b[39mformat(arguments\u001b[38;5;241m=\u001b[39marguments),\n\u001b[1;32m    308\u001b[0m         \u001b[38;5;167;01mFutureWarning\u001b[39;00m,\n\u001b[1;32m    309\u001b[0m         stacklevel\u001b[38;5;241m=\u001b[39mstacklevel,\n\u001b[1;32m    310\u001b[0m     )\n\u001b[0;32m--> 311\u001b[0m \u001b[38;5;28;01mreturn\u001b[39;00m \u001b[43mfunc\u001b[49m\u001b[43m(\u001b[49m\u001b[38;5;241;43m*\u001b[39;49m\u001b[43margs\u001b[49m\u001b[43m,\u001b[49m\u001b[43m \u001b[49m\u001b[38;5;241;43m*\u001b[39;49m\u001b[38;5;241;43m*\u001b[39;49m\u001b[43mkwargs\u001b[49m\u001b[43m)\u001b[49m\n",
      "File \u001b[0;32m/srv/conda/envs/notebook/lib/python3.8/site-packages/pandas/io/excel/_base.py:457\u001b[0m, in \u001b[0;36mread_excel\u001b[0;34m(io, sheet_name, header, names, index_col, usecols, squeeze, dtype, engine, converters, true_values, false_values, skiprows, nrows, na_values, keep_default_na, na_filter, verbose, parse_dates, date_parser, thousands, decimal, comment, skipfooter, convert_float, mangle_dupe_cols, storage_options)\u001b[0m\n\u001b[1;32m    455\u001b[0m \u001b[38;5;28;01mif\u001b[39;00m \u001b[38;5;129;01mnot\u001b[39;00m \u001b[38;5;28misinstance\u001b[39m(io, ExcelFile):\n\u001b[1;32m    456\u001b[0m     should_close \u001b[38;5;241m=\u001b[39m \u001b[38;5;28;01mTrue\u001b[39;00m\n\u001b[0;32m--> 457\u001b[0m     io \u001b[38;5;241m=\u001b[39m \u001b[43mExcelFile\u001b[49m\u001b[43m(\u001b[49m\u001b[43mio\u001b[49m\u001b[43m,\u001b[49m\u001b[43m \u001b[49m\u001b[43mstorage_options\u001b[49m\u001b[38;5;241;43m=\u001b[39;49m\u001b[43mstorage_options\u001b[49m\u001b[43m,\u001b[49m\u001b[43m \u001b[49m\u001b[43mengine\u001b[49m\u001b[38;5;241;43m=\u001b[39;49m\u001b[43mengine\u001b[49m\u001b[43m)\u001b[49m\n\u001b[1;32m    458\u001b[0m \u001b[38;5;28;01melif\u001b[39;00m engine \u001b[38;5;129;01mand\u001b[39;00m engine \u001b[38;5;241m!=\u001b[39m io\u001b[38;5;241m.\u001b[39mengine:\n\u001b[1;32m    459\u001b[0m     \u001b[38;5;28;01mraise\u001b[39;00m \u001b[38;5;167;01mValueError\u001b[39;00m(\n\u001b[1;32m    460\u001b[0m         \u001b[38;5;124m\"\u001b[39m\u001b[38;5;124mEngine should not be specified when passing \u001b[39m\u001b[38;5;124m\"\u001b[39m\n\u001b[1;32m    461\u001b[0m         \u001b[38;5;124m\"\u001b[39m\u001b[38;5;124man ExcelFile - ExcelFile already has the engine set\u001b[39m\u001b[38;5;124m\"\u001b[39m\n\u001b[1;32m    462\u001b[0m     )\n",
      "File \u001b[0;32m/srv/conda/envs/notebook/lib/python3.8/site-packages/pandas/io/excel/_base.py:1419\u001b[0m, in \u001b[0;36mExcelFile.__init__\u001b[0;34m(self, path_or_buffer, engine, storage_options)\u001b[0m\n\u001b[1;32m   1416\u001b[0m \u001b[38;5;28mself\u001b[39m\u001b[38;5;241m.\u001b[39mengine \u001b[38;5;241m=\u001b[39m engine\n\u001b[1;32m   1417\u001b[0m \u001b[38;5;28mself\u001b[39m\u001b[38;5;241m.\u001b[39mstorage_options \u001b[38;5;241m=\u001b[39m storage_options\n\u001b[0;32m-> 1419\u001b[0m \u001b[38;5;28mself\u001b[39m\u001b[38;5;241m.\u001b[39m_reader \u001b[38;5;241m=\u001b[39m \u001b[38;5;28;43mself\u001b[39;49m\u001b[38;5;241;43m.\u001b[39;49m\u001b[43m_engines\u001b[49m\u001b[43m[\u001b[49m\u001b[43mengine\u001b[49m\u001b[43m]\u001b[49m\u001b[43m(\u001b[49m\u001b[38;5;28;43mself\u001b[39;49m\u001b[38;5;241;43m.\u001b[39;49m\u001b[43m_io\u001b[49m\u001b[43m,\u001b[49m\u001b[43m \u001b[49m\u001b[43mstorage_options\u001b[49m\u001b[38;5;241;43m=\u001b[39;49m\u001b[43mstorage_options\u001b[49m\u001b[43m)\u001b[49m\n",
      "File \u001b[0;32m/srv/conda/envs/notebook/lib/python3.8/site-packages/pandas/io/excel/_openpyxl.py:525\u001b[0m, in \u001b[0;36mOpenpyxlReader.__init__\u001b[0;34m(self, filepath_or_buffer, storage_options)\u001b[0m\n\u001b[1;32m    514\u001b[0m \u001b[38;5;124;03m\"\"\"\u001b[39;00m\n\u001b[1;32m    515\u001b[0m \u001b[38;5;124;03mReader using openpyxl engine.\u001b[39;00m\n\u001b[1;32m    516\u001b[0m \n\u001b[0;32m   (...)\u001b[0m\n\u001b[1;32m    522\u001b[0m \u001b[38;5;124;03m    passed to fsspec for appropriate URLs (see ``_get_filepath_or_buffer``)\u001b[39;00m\n\u001b[1;32m    523\u001b[0m \u001b[38;5;124;03m\"\"\"\u001b[39;00m\n\u001b[1;32m    524\u001b[0m import_optional_dependency(\u001b[38;5;124m\"\u001b[39m\u001b[38;5;124mopenpyxl\u001b[39m\u001b[38;5;124m\"\u001b[39m)\n\u001b[0;32m--> 525\u001b[0m \u001b[38;5;28;43msuper\u001b[39;49m\u001b[43m(\u001b[49m\u001b[43m)\u001b[49m\u001b[38;5;241;43m.\u001b[39;49m\u001b[38;5;21;43m__init__\u001b[39;49m\u001b[43m(\u001b[49m\u001b[43mfilepath_or_buffer\u001b[49m\u001b[43m,\u001b[49m\u001b[43m \u001b[49m\u001b[43mstorage_options\u001b[49m\u001b[38;5;241;43m=\u001b[39;49m\u001b[43mstorage_options\u001b[49m\u001b[43m)\u001b[49m\n",
      "File \u001b[0;32m/srv/conda/envs/notebook/lib/python3.8/site-packages/pandas/io/excel/_base.py:508\u001b[0m, in \u001b[0;36mBaseExcelReader.__init__\u001b[0;34m(self, filepath_or_buffer, storage_options)\u001b[0m\n\u001b[1;32m    504\u001b[0m \u001b[38;5;28mself\u001b[39m\u001b[38;5;241m.\u001b[39mhandles \u001b[38;5;241m=\u001b[39m IOHandles(\n\u001b[1;32m    505\u001b[0m     handle\u001b[38;5;241m=\u001b[39mfilepath_or_buffer, compression\u001b[38;5;241m=\u001b[39m{\u001b[38;5;124m\"\u001b[39m\u001b[38;5;124mmethod\u001b[39m\u001b[38;5;124m\"\u001b[39m: \u001b[38;5;28;01mNone\u001b[39;00m}\n\u001b[1;32m    506\u001b[0m )\n\u001b[1;32m    507\u001b[0m \u001b[38;5;28;01mif\u001b[39;00m \u001b[38;5;129;01mnot\u001b[39;00m \u001b[38;5;28misinstance\u001b[39m(filepath_or_buffer, (ExcelFile, \u001b[38;5;28mself\u001b[39m\u001b[38;5;241m.\u001b[39m_workbook_class)):\n\u001b[0;32m--> 508\u001b[0m     \u001b[38;5;28mself\u001b[39m\u001b[38;5;241m.\u001b[39mhandles \u001b[38;5;241m=\u001b[39m \u001b[43mget_handle\u001b[49m\u001b[43m(\u001b[49m\n\u001b[1;32m    509\u001b[0m \u001b[43m        \u001b[49m\u001b[43mfilepath_or_buffer\u001b[49m\u001b[43m,\u001b[49m\u001b[43m \u001b[49m\u001b[38;5;124;43m\"\u001b[39;49m\u001b[38;5;124;43mrb\u001b[39;49m\u001b[38;5;124;43m\"\u001b[39;49m\u001b[43m,\u001b[49m\u001b[43m \u001b[49m\u001b[43mstorage_options\u001b[49m\u001b[38;5;241;43m=\u001b[39;49m\u001b[43mstorage_options\u001b[49m\u001b[43m,\u001b[49m\u001b[43m \u001b[49m\u001b[43mis_text\u001b[49m\u001b[38;5;241;43m=\u001b[39;49m\u001b[38;5;28;43;01mFalse\u001b[39;49;00m\n\u001b[1;32m    510\u001b[0m \u001b[43m    \u001b[49m\u001b[43m)\u001b[49m\n\u001b[1;32m    512\u001b[0m \u001b[38;5;28;01mif\u001b[39;00m \u001b[38;5;28misinstance\u001b[39m(\u001b[38;5;28mself\u001b[39m\u001b[38;5;241m.\u001b[39mhandles\u001b[38;5;241m.\u001b[39mhandle, \u001b[38;5;28mself\u001b[39m\u001b[38;5;241m.\u001b[39m_workbook_class):\n\u001b[1;32m    513\u001b[0m     \u001b[38;5;28mself\u001b[39m\u001b[38;5;241m.\u001b[39mbook \u001b[38;5;241m=\u001b[39m \u001b[38;5;28mself\u001b[39m\u001b[38;5;241m.\u001b[39mhandles\u001b[38;5;241m.\u001b[39mhandle\n",
      "File \u001b[0;32m/srv/conda/envs/notebook/lib/python3.8/site-packages/pandas/io/common.py:798\u001b[0m, in \u001b[0;36mget_handle\u001b[0;34m(path_or_buf, mode, encoding, compression, memory_map, is_text, errors, storage_options)\u001b[0m\n\u001b[1;32m    789\u001b[0m         handle \u001b[38;5;241m=\u001b[39m \u001b[38;5;28mopen\u001b[39m(\n\u001b[1;32m    790\u001b[0m             handle,\n\u001b[1;32m    791\u001b[0m             ioargs\u001b[38;5;241m.\u001b[39mmode,\n\u001b[0;32m   (...)\u001b[0m\n\u001b[1;32m    794\u001b[0m             newline\u001b[38;5;241m=\u001b[39m\u001b[38;5;124m\"\u001b[39m\u001b[38;5;124m\"\u001b[39m,\n\u001b[1;32m    795\u001b[0m         )\n\u001b[1;32m    796\u001b[0m     \u001b[38;5;28;01melse\u001b[39;00m:\n\u001b[1;32m    797\u001b[0m         \u001b[38;5;66;03m# Binary mode\u001b[39;00m\n\u001b[0;32m--> 798\u001b[0m         handle \u001b[38;5;241m=\u001b[39m \u001b[38;5;28;43mopen\u001b[39;49m\u001b[43m(\u001b[49m\u001b[43mhandle\u001b[49m\u001b[43m,\u001b[49m\u001b[43m \u001b[49m\u001b[43mioargs\u001b[49m\u001b[38;5;241;43m.\u001b[39;49m\u001b[43mmode\u001b[49m\u001b[43m)\u001b[49m\n\u001b[1;32m    799\u001b[0m     handles\u001b[38;5;241m.\u001b[39mappend(handle)\n\u001b[1;32m    801\u001b[0m \u001b[38;5;66;03m# Convert BytesIO or file objects passed with an encoding\u001b[39;00m\n",
      "\u001b[0;31mFileNotFoundError\u001b[0m: [Errno 2] No such file or directory: '/srv/conda/envs/notebook/lib/python3.8/site-packages/odp-0.0.1-py3.8.egg/odp_vessel_simulator/models/icct/data/project_data/ShipData.xlsx'"
     ]
    }
   ],
   "source": [
    "import pandas as pd\n",
    "import numpy as np\n",
    "import pydeck as pdk\n",
    "from os import environ, getenv, path\n",
    "from typing import TypedDict, Dict, Union, List\n",
    "from simulator_funcs import simulate, load_ship, get_routing_table_from_mmsi, plot_df, get_routing_and_emissions, emissions_multiple_vessels\n",
    "\n",
    "import warnings\n",
    "warnings.filterwarnings(\"ignore\")\n",
    "\n",
    "from odp_vessel_simulator.models.icct.database_functions.lookup_ship_data import fetch_ship_data\n",
    "from odp_vessel_simulator.models.icct.database_functions.database import get_connection_pool, get_engine\n",
    "import typing"
   ]
  },
  {
   "cell_type": "markdown",
   "id": "7094503f",
   "metadata": {},
   "source": [
    "## Color code explanation\n",
    "<p style=\"color:#FE774C; font-size:12pt;\"> Red means that values <i>have</i> to be inserted.</p> \n",
    "<p style=\"color:#9D59F4; font-size:12pt\"> Purple means that values <i>can</i> be inserted if other that the default values are needed.</p> \n"
   ]
  },
  {
   "cell_type": "markdown",
   "id": "8b9a0f89",
   "metadata": {},
   "source": [
    "<p> </p> \n",
    " <p style=\"color:#FE774C; font-size:20pt; font-weight:bold\"> Insert all the mmsis for the vessels interest in here </p> \n",
    "<p> For example like the list under with two vessels (change the mmsis and add more of them if needed). </p> "
   ]
  },
  {
   "cell_type": "code",
   "execution_count": null,
   "id": "544cafef",
   "metadata": {},
   "outputs": [],
   "source": [
    "mmsis = [212552000, 319009700]"
   ]
  },
  {
   "cell_type": "markdown",
   "id": "b975130f",
   "metadata": {},
   "source": [
    "<p> </p> \n",
    " <p style=\"color:#FE774C; font-size:20pt; font-weight:bold\"> Insert the coordinates of the ports in the simulated paths </p> \n",
    "<p> For example like the list under where the path will go from Oslo to Kiel to Amsterdam. </p> "
   ]
  },
  {
   "cell_type": "code",
   "execution_count": null,
   "id": "6dad539d",
   "metadata": {},
   "outputs": [],
   "source": [
    "coordinates = [[10.736223,59.904479], [10.143301,54.320150],[4.8079,52.412]]"
   ]
  },
  {
   "cell_type": "markdown",
   "id": "1570fb6c",
   "metadata": {},
   "source": [
    "# Specifying properties needed for routing"
   ]
  },
  {
   "cell_type": "markdown",
   "id": "baf1dc4d",
   "metadata": {},
   "source": [
    "In the following cells we are specifying speed and draught for the vessels as well as graphing, time resolution, how detailed the routing should be and how much other vessel data should be weighed for the routing. "
   ]
  },
  {
   "cell_type": "markdown",
   "id": "070b7d8c",
   "metadata": {},
   "source": [
    "<p style=\"color:#9D59F4; font-size:15pt; font-weight:bold\"> Make a list for the speeds to simulate with for each vessel  </p> \n",
    "<p> If the speed is set to None, the maximum speed for the vessel is chosen. </p> "
   ]
  },
  {
   "cell_type": "code",
   "execution_count": null,
   "id": "42e99a12",
   "metadata": {},
   "outputs": [],
   "source": [
    "speeds = [None]*len(mmsis)\n",
    "#Or:\n",
    "#speeds = [10, 10] #Here, the speed for both vessels is set to 10 knots\n",
    "speeds"
   ]
  },
  {
   "cell_type": "markdown",
   "id": "06189491",
   "metadata": {},
   "source": [
    "<p style=\"color:#9D59F4; font-size:14pt; font-weight:bold\"> List of draught for the different vessels </p> \n",
    "<p> If they are set to None, the draught will be found in the data about the vessel particulars. </p> "
   ]
  },
  {
   "cell_type": "code",
   "execution_count": null,
   "id": "0593e375",
   "metadata": {},
   "outputs": [],
   "source": [
    "draughts = [None]*len(mmsis)\n",
    "#Or:\n",
    "#draughts = [7, 9] #here the draught for the first ship is 7m and for the second ship it is 9 m\n",
    "draughts"
   ]
  },
  {
   "cell_type": "markdown",
   "id": "984b882d",
   "metadata": {},
   "source": [
    "<p style=\"color:#9D59F4; font-size:14pt; font-weight:bold\"> Choose grapfing types for the vessels </p> \n",
    "<p> This is also found from the vessel particulars, but in the incidences where it cannot be found, it needs to be specified. Possible graph types are passenger, fishing, cargo, tanker and tug. </p> "
   ]
  },
  {
   "cell_type": "code",
   "execution_count": null,
   "id": "219fa6c1",
   "metadata": {},
   "outputs": [],
   "source": [
    "graphs = [None] * len(mmsis)\n",
    "#Or:\n",
    "#graphs = ['cargo', 'tug'] \n",
    "graphs"
   ]
  },
  {
   "cell_type": "markdown",
   "id": "47baf396",
   "metadata": {},
   "source": [
    "### Make a dataframe of the mmsis, speeds, draughts and graphs\n",
    "This is used as input in the function finding routes and emissions."
   ]
  },
  {
   "cell_type": "code",
   "execution_count": null,
   "id": "afe38726",
   "metadata": {},
   "outputs": [],
   "source": [
    "zipped_lists = list(zip(speeds, draughts, graphs))\n",
    "df_input_properties = pd.DataFrame(zipped_lists, index = mmsis, columns = [\"speeds\",\"draughts\",\"graphs\"])"
   ]
  },
  {
   "cell_type": "code",
   "execution_count": null,
   "id": "2aec83a1",
   "metadata": {},
   "outputs": [],
   "source": [
    "df_input_properties"
   ]
  },
  {
   "cell_type": "markdown",
   "id": "51d83810",
   "metadata": {},
   "source": [
    "<p> </p>\n",
    "<p style=\"color:#9D59F4; font-size:14pt; font-weight:bold\"> Choose the time resolution for the graphing </p> \n",
    "<p> The default value is every 60th minute. Choose a value between 5 and 240. </p> "
   ]
  },
  {
   "cell_type": "code",
   "execution_count": null,
   "id": "a9a497f5",
   "metadata": {},
   "outputs": [],
   "source": [
    "time_resolution = 60"
   ]
  },
  {
   "cell_type": "markdown",
   "id": "33fde227",
   "metadata": {},
   "source": [
    "<p> </p>\n",
    "<p style=\"color:#9D59F4; font-size:14pt; font-weight:bold\"> Decide how fine/coarse the routing should be </p> "
   ]
  },
  {
   "cell_type": "markdown",
   "id": "5818136d",
   "metadata": {},
   "source": [
    " * 0 = Coarse (fast)\n",
    " * 1 = Coarse + refined\n",
    " * 2 = Fine (slow)"
   ]
  },
  {
   "cell_type": "code",
   "execution_count": null,
   "id": "f99b0873",
   "metadata": {},
   "outputs": [],
   "source": [
    "detailed_routing = 0"
   ]
  },
  {
   "cell_type": "markdown",
   "id": "9e59dfab",
   "metadata": {},
   "source": [
    "<p> </p>\n",
    "<p style=\"color:#9D59F4; font-size:14pt; font-weight:bold\"> How much should popular routes be weighted in the routing? </p> \n",
    "<p> Choose a value between 0 and 0.95. Default is 0.3. </p> "
   ]
  },
  {
   "cell_type": "code",
   "execution_count": null,
   "id": "b5a72667",
   "metadata": {},
   "outputs": [],
   "source": [
    "cost_density = 0.3"
   ]
  },
  {
   "cell_type": "markdown",
   "id": "2eb8c9b7",
   "metadata": {},
   "source": [
    "## Finding paths and emissions for each vessel"
   ]
  },
  {
   "cell_type": "markdown",
   "id": "2233a8ac",
   "metadata": {},
   "source": [
    "Using a premade function called emissions_multiple_vessels that takes the coordinates chosen and the df_input_properties as arguments. OBS, this might take a while. "
   ]
  },
  {
   "cell_type": "code",
   "execution_count": null,
   "id": "b911dd34",
   "metadata": {},
   "outputs": [],
   "source": [
    "%%time\n",
    "df_summed_emissions, list_of_df_emissions, list_of_paths = emissions_multiple_vessels(coordinates,df_input_properties, None, None, time_resolution, detailed_routing, cost_density)\n"
   ]
  },
  {
   "cell_type": "markdown",
   "id": "5777a946",
   "metadata": {},
   "source": [
    "### Summed emissions for all vessels compared"
   ]
  },
  {
   "cell_type": "markdown",
   "id": "dae947e2-3f36-4d7f-9b8a-56c386ef8551",
   "metadata": {},
   "source": [
    "The vessel at the top is the one that emitts the least amount of CO2."
   ]
  },
  {
   "cell_type": "code",
   "execution_count": null,
   "id": "d0dcc5eb",
   "metadata": {},
   "outputs": [],
   "source": [
    "df_summed_emissions"
   ]
  },
  {
   "cell_type": "markdown",
   "id": "961ae9e1",
   "metadata": {},
   "source": [
    "## Show the paths\n",
    "This one is for the vessel that uses the least amount of CO2"
   ]
  },
  {
   "cell_type": "code",
   "execution_count": null,
   "id": "8b8b8349",
   "metadata": {},
   "outputs": [],
   "source": [
    "min_co2_mmsi = int(df_summed_emissions.index[0])\n",
    "min_co2_mmsi"
   ]
  },
  {
   "cell_type": "code",
   "execution_count": null,
   "id": "ce964785",
   "metadata": {},
   "outputs": [],
   "source": [
    "list_of_paths[mmsis.index(min_co2_mmsi)]"
   ]
  },
  {
   "cell_type": "markdown",
   "id": "bb9bb24e-606e-471e-b4a0-cb0cc31c1295",
   "metadata": {},
   "source": [
    "If you want to see the paths of the other vessels, uncomment the lines underneath. If there are more than two vessels you can also change the index to see the other (OBS, zero indexed). "
   ]
  },
  {
   "cell_type": "code",
   "execution_count": 18,
   "id": "1e445e45",
   "metadata": {},
   "outputs": [],
   "source": [
    "#max_co2_mmsi = int(df_summed_emissions.index[1])\n",
    "#list_of_paths[mmsis.index(max_co2_mmsi)]"
   ]
  },
  {
   "cell_type": "code",
   "execution_count": null,
   "id": "10088a2e",
   "metadata": {},
   "outputs": [],
   "source": []
  }
 ],
 "metadata": {
  "kernelspec": {
   "display_name": "Python 3 (ipykernel)",
   "language": "python",
   "name": "python3"
  },
  "language_info": {
   "codemirror_mode": {
    "name": "ipython",
    "version": 3
   },
   "file_extension": ".py",
   "mimetype": "text/x-python",
   "name": "python",
   "nbconvert_exporter": "python",
   "pygments_lexer": "ipython3",
   "version": "3.8.13"
  }
 },
 "nbformat": 4,
 "nbformat_minor": 5
}
