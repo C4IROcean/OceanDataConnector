{
 "cells": [
  {
   "cell_type": "code",
   "execution_count": 1,
   "id": "21073953-ea17-491e-8ba6-b6f46bcba7ff",
   "metadata": {},
   "outputs": [],
   "source": [
    "import odp"
   ]
  },
  {
   "cell_type": "code",
   "execution_count": null,
   "id": "11f85750-0062-47e0-a564-176ecc093efe",
   "metadata": {},
   "outputs": [],
   "source": [
    "odp."
   ]
  },
  {
   "cell_type": "code",
   "execution_count": 1,
   "id": "de896a7d",
   "metadata": {},
   "outputs": [
    {
     "ename": "ModuleNotFoundError",
     "evalue": "No module named 'odp_vessel_simulator'",
     "output_type": "error",
     "traceback": [
      "\u001b[0;31m---------------------------------------------------------------------------\u001b[0m",
      "\u001b[0;31mModuleNotFoundError\u001b[0m                       Traceback (most recent call last)",
      "Input \u001b[0;32mIn [1]\u001b[0m, in \u001b[0;36m<cell line: 6>\u001b[0;34m()\u001b[0m\n\u001b[1;32m      4\u001b[0m \u001b[38;5;28;01mfrom\u001b[39;00m \u001b[38;5;21;01mos\u001b[39;00m \u001b[38;5;28;01mimport\u001b[39;00m environ, getenv, path\n\u001b[1;32m      5\u001b[0m \u001b[38;5;28;01mfrom\u001b[39;00m \u001b[38;5;21;01mtyping\u001b[39;00m \u001b[38;5;28;01mimport\u001b[39;00m TypedDict, Dict, Union, List\n\u001b[0;32m----> 6\u001b[0m \u001b[38;5;28;01mfrom\u001b[39;00m \u001b[38;5;21;01msimulator_funcs\u001b[39;00m \u001b[38;5;28;01mimport\u001b[39;00m load_ship, get_routing_table_from_mmsi, plot_df, get_routing_and_emissions, emissions_multiple_vessels\n\u001b[1;32m      7\u001b[0m \u001b[38;5;28;01mimport\u001b[39;00m \u001b[38;5;21;01mos\u001b[39;00m\n\u001b[1;32m     10\u001b[0m \u001b[38;5;28;01mfrom\u001b[39;00m \u001b[38;5;21;01modp_vessel_simulator\u001b[39;00m\u001b[38;5;21;01m.\u001b[39;00m\u001b[38;5;21;01mmodels\u001b[39;00m\u001b[38;5;21;01m.\u001b[39;00m\u001b[38;5;21;01micct\u001b[39;00m\u001b[38;5;21;01m.\u001b[39;00m\u001b[38;5;21;01mdatabase_functions\u001b[39;00m\u001b[38;5;21;01m.\u001b[39;00m\u001b[38;5;21;01mlookup_ship_data\u001b[39;00m \u001b[38;5;28;01mimport\u001b[39;00m fetch_ship_data\n",
      "File \u001b[0;32m~/Ocean Data Platform Tutorials/Data Products/simulator_funcs.py:9\u001b[0m, in \u001b[0;36m<module>\u001b[0;34m\u001b[0m\n\u001b[1;32m      7\u001b[0m \u001b[38;5;28;01mfrom\u001b[39;00m \u001b[38;5;21;01mtyping\u001b[39;00m \u001b[38;5;28;01mimport\u001b[39;00m TypedDict, Dict, Union, List\n\u001b[1;32m      8\u001b[0m \u001b[38;5;28;01mimport\u001b[39;00m \u001b[38;5;21;01mos\u001b[39;00m\n\u001b[0;32m----> 9\u001b[0m \u001b[38;5;28;01mfrom\u001b[39;00m \u001b[38;5;21;01modp_vessel_simulator\u001b[39;00m\u001b[38;5;21;01m.\u001b[39;00m\u001b[38;5;21;01mapp\u001b[39;00m\u001b[38;5;21;01m.\u001b[39;00m\u001b[38;5;21;01mvessel_emissions_simulation\u001b[39;00m\u001b[38;5;21;01m.\u001b[39;00m\u001b[38;5;21;01memissions_from_routing\u001b[39;00m \u001b[38;5;28;01mimport\u001b[39;00m simulate\n\u001b[1;32m     10\u001b[0m \u001b[38;5;66;03m#from app.vessel_emissions_simulation.app import load_ship\u001b[39;00m\n\u001b[1;32m     12\u001b[0m \u001b[38;5;28;01mfrom\u001b[39;00m \u001b[38;5;21;01modp_vessel_simulator\u001b[39;00m\u001b[38;5;21;01m.\u001b[39;00m\u001b[38;5;21;01mmodels\u001b[39;00m\u001b[38;5;21;01m.\u001b[39;00m\u001b[38;5;21;01micct\u001b[39;00m\u001b[38;5;21;01m.\u001b[39;00m\u001b[38;5;21;01mdatabase_functions\u001b[39;00m\u001b[38;5;21;01m.\u001b[39;00m\u001b[38;5;21;01mlookup_ship_data\u001b[39;00m \u001b[38;5;28;01mimport\u001b[39;00m fetch_ship_data\n",
      "\u001b[0;31mModuleNotFoundError\u001b[0m: No module named 'odp_vessel_simulator'"
     ]
    }
   ],
   "source": [
    "import pandas as pd\n",
    "import numpy as np\n",
    "import pydeck as pdk\n",
    "from os import environ, getenv, path\n",
    "from typing import TypedDict, Dict, Union, List\n",
    "from simulator_funcs import load_ship, get_routing_table_from_mmsi, plot_df, get_routing_and_emissions, emissions_multiple_vessels\n",
    "import os\n",
    "\n",
    "\n",
    "from odp_vessel_simulator.models.icct.database_functions.lookup_ship_data import fetch_ship_data\n",
    "from odp_vessel_simulator.models.icct.database_functions.database import get_connection_pool, get_engine\n",
    "import typing"
   ]
  },
  {
   "cell_type": "markdown",
   "id": "7094503f",
   "metadata": {},
   "source": [
    "## Color code explanation\n",
    "<p style=\"color:#FE774C; font-size:12pt;\"> Red means that values <i>have</i> to be inserted.</p> \n",
    "<p style=\"color:#9D59F4; font-size:12pt\"> Purple means that values <i>can</i> be inserted if other than the default values are needed.</p> \n"
   ]
  },
  {
   "cell_type": "markdown",
   "id": "e686c818",
   "metadata": {},
   "source": [
    "## Database connection\n",
    "Getting a connection pool to connect to the database"
   ]
  },
  {
   "cell_type": "code",
   "execution_count": null,
   "id": "501508a6",
   "metadata": {},
   "outputs": [],
   "source": [
    "tcp = get_connection_pool()"
   ]
  },
  {
   "cell_type": "markdown",
   "id": "8b9a0f89",
   "metadata": {},
   "source": [
    "<p> </p> \n",
    " <p style=\"color:#FE774C; font-size:20pt; font-weight:bold\"> Insert all the mmsis for the vessels interest in here </p> \n",
    "<p> For example like the list under with two vessels (change the mmsis and add more of them if needed). </p> "
   ]
  },
  {
   "cell_type": "code",
   "execution_count": null,
   "id": "544cafef",
   "metadata": {},
   "outputs": [],
   "source": [
    "mmsis = [212552000, 319009700]"
   ]
  },
  {
   "cell_type": "markdown",
   "id": "b975130f",
   "metadata": {},
   "source": [
    "<p> </p> \n",
    " <p style=\"color:#FE774C; font-size:20pt; font-weight:bold\"> Insert the coordinates of the ports in the simulated paths </p> \n",
    "<p> For example like the list under where the path will go from Oslo to Kiel to Amsterdam. </p> "
   ]
  },
  {
   "cell_type": "code",
   "execution_count": null,
   "id": "6dad539d",
   "metadata": {},
   "outputs": [],
   "source": [
    "coordinates = [[10.736223,59.904479], [10.143301,54.320150],[4.8079,52.412]]"
   ]
  },
  {
   "cell_type": "markdown",
   "id": "1570fb6c",
   "metadata": {},
   "source": [
    "# Specifying properties needed for routing"
   ]
  },
  {
   "cell_type": "markdown",
   "id": "baf1dc4d",
   "metadata": {},
   "source": [
    "In the following cells we are specifying speed and draught for the vessels as well as graphing, time resolution, how detailed the routing should be and how much other vessel data should be weighed for the routing. "
   ]
  },
  {
   "cell_type": "markdown",
   "id": "070b7d8c",
   "metadata": {},
   "source": [
    "<p style=\"color:#9D59F4; font-size:15pt; font-weight:bold\"> Make a list for the speeds to simulate with for each vessel  </p> \n",
    "<p> If the speed is set to None, the maximum speed for the vessel is chosen. </p> "
   ]
  },
  {
   "cell_type": "code",
   "execution_count": null,
   "id": "42e99a12",
   "metadata": {},
   "outputs": [
    {
     "data": {
      "text/plain": [
       "[None, None]"
      ]
     },
     "execution_count": 5,
     "metadata": {},
     "output_type": "execute_result"
    }
   ],
   "source": [
    "speeds = [None]*len(mmsis)\n",
    "#Or:\n",
    "#speeds = [10, 10] #Here, the speed for both vessels is set to 10 knots\n",
    "speeds"
   ]
  },
  {
   "cell_type": "markdown",
   "id": "06189491",
   "metadata": {},
   "source": [
    "<p style=\"color:#9D59F4; font-size:14pt; font-weight:bold\"> List of draught for the different vessels </p> \n",
    "<p> If they are set to None, the draught will be found in the data about the vessel particulars. </p> "
   ]
  },
  {
   "cell_type": "code",
   "execution_count": null,
   "id": "0593e375",
   "metadata": {},
   "outputs": [
    {
     "data": {
      "text/plain": [
       "[None, None]"
      ]
     },
     "execution_count": 6,
     "metadata": {},
     "output_type": "execute_result"
    }
   ],
   "source": [
    "draughts = [None]*len(mmsis)\n",
    "#Or:\n",
    "#draughts = [7, 9] #here the draught for the first ship is 7m and for the second ship it is 9 m\n",
    "draughts"
   ]
  },
  {
   "cell_type": "markdown",
   "id": "984b882d",
   "metadata": {},
   "source": [
    "<p style=\"color:#9D59F4; font-size:14pt; font-weight:bold\"> Choose grapfing types for the vessels </p> \n",
    "<p> This is also found from the vessel particulars, but in the incidences where it cannot be found, it needs to be specified. Possible graph types are passenger, fishing, cargo, tanker and tug. </p> "
   ]
  },
  {
   "cell_type": "code",
   "execution_count": null,
   "id": "219fa6c1",
   "metadata": {},
   "outputs": [
    {
     "data": {
      "text/plain": [
       "[None, None]"
      ]
     },
     "execution_count": 7,
     "metadata": {},
     "output_type": "execute_result"
    }
   ],
   "source": [
    "graphs = [None] * len(mmsis)\n",
    "#Or:\n",
    "#graphs = ['cargo', 'tug'] \n",
    "graphs"
   ]
  },
  {
   "cell_type": "markdown",
   "id": "47baf396",
   "metadata": {},
   "source": [
    "### Make a dataframe of the mmsis, speeds, draughts and graphs\n",
    "This is used as input in the function finding routes and emissions."
   ]
  },
  {
   "cell_type": "code",
   "execution_count": null,
   "id": "afe38726",
   "metadata": {},
   "outputs": [],
   "source": [
    "zipped_lists = list(zip(speeds, draughts, graphs))\n",
    "df_input_properties = pd.DataFrame(zipped_lists, index = mmsis, columns = [\"speeds\",\"draughts\",\"graphs\"])"
   ]
  },
  {
   "cell_type": "code",
   "execution_count": null,
   "id": "2aec83a1",
   "metadata": {},
   "outputs": [
    {
     "data": {
      "text/html": [
       "<div>\n",
       "<style scoped>\n",
       "    .dataframe tbody tr th:only-of-type {\n",
       "        vertical-align: middle;\n",
       "    }\n",
       "\n",
       "    .dataframe tbody tr th {\n",
       "        vertical-align: top;\n",
       "    }\n",
       "\n",
       "    .dataframe thead th {\n",
       "        text-align: right;\n",
       "    }\n",
       "</style>\n",
       "<table border=\"1\" class=\"dataframe\">\n",
       "  <thead>\n",
       "    <tr style=\"text-align: right;\">\n",
       "      <th></th>\n",
       "      <th>speeds</th>\n",
       "      <th>draughts</th>\n",
       "      <th>graphs</th>\n",
       "    </tr>\n",
       "  </thead>\n",
       "  <tbody>\n",
       "    <tr>\n",
       "      <th>212552000</th>\n",
       "      <td>None</td>\n",
       "      <td>None</td>\n",
       "      <td>None</td>\n",
       "    </tr>\n",
       "    <tr>\n",
       "      <th>319009700</th>\n",
       "      <td>None</td>\n",
       "      <td>None</td>\n",
       "      <td>None</td>\n",
       "    </tr>\n",
       "  </tbody>\n",
       "</table>\n",
       "</div>"
      ],
      "text/plain": [
       "          speeds draughts graphs\n",
       "212552000   None     None   None\n",
       "319009700   None     None   None"
      ]
     },
     "execution_count": 9,
     "metadata": {},
     "output_type": "execute_result"
    }
   ],
   "source": [
    "df_input_properties"
   ]
  },
  {
   "cell_type": "markdown",
   "id": "51d83810",
   "metadata": {},
   "source": [
    "<p> </p>\n",
    "<p style=\"color:#9D59F4; font-size:14pt; font-weight:bold\"> Choose the time resolution for the graphing </p> \n",
    "<p> The default value is every 60th minute. Choose a value between 5 and 240. </p> "
   ]
  },
  {
   "cell_type": "code",
   "execution_count": null,
   "id": "a9a497f5",
   "metadata": {},
   "outputs": [],
   "source": [
    "time_resolution = 60"
   ]
  },
  {
   "cell_type": "markdown",
   "id": "33fde227",
   "metadata": {},
   "source": [
    "<p> </p>\n",
    "<p style=\"color:#9D59F4; font-size:14pt; font-weight:bold\"> Decide how fine/coarse the routing should be </p> "
   ]
  },
  {
   "cell_type": "markdown",
   "id": "5818136d",
   "metadata": {},
   "source": [
    " * 0 = Coarse (fast)\n",
    " * 1 = Coarse + refined\n",
    " * 2 = Fine (slow)"
   ]
  },
  {
   "cell_type": "code",
   "execution_count": null,
   "id": "f99b0873",
   "metadata": {},
   "outputs": [],
   "source": [
    "detailed_routing = 0"
   ]
  },
  {
   "cell_type": "markdown",
   "id": "9e59dfab",
   "metadata": {},
   "source": [
    "<p> </p>\n",
    "<p style=\"color:#9D59F4; font-size:14pt; font-weight:bold\"> How much should popular routes be weighted in the routing? </p> \n",
    "<p> Choose a value between 0 and 0.95. Default is 0.3. </p> "
   ]
  },
  {
   "cell_type": "code",
   "execution_count": null,
   "id": "b5a72667",
   "metadata": {},
   "outputs": [],
   "source": [
    "cost_density = 0.3"
   ]
  },
  {
   "cell_type": "markdown",
   "id": "2eb8c9b7",
   "metadata": {},
   "source": [
    "## Finding paths and emissions for each vessel"
   ]
  },
  {
   "cell_type": "markdown",
   "id": "2233a8ac",
   "metadata": {},
   "source": [
    "Using a premade function called emissions_multiple_vessels that takes the coordinates chosen and the df_input_properties as arguments. OBS, this might take a while. "
   ]
  },
  {
   "cell_type": "code",
   "execution_count": null,
   "id": "b911dd34",
   "metadata": {},
   "outputs": [
    {
     "name": "stdout",
     "output_type": "stream",
     "text": [
      "Distance from port set to 1000!!\n",
      "Distance from shore set to 1000!!\n",
      "Distance from port set to 1000!!\n",
      "Distance from shore set to 1000!!\n",
      "Distance from port set to 1000!!\n",
      "Distance from shore set to 1000!!\n",
      "Distance from port set to 1000!!\n",
      "Distance from shore set to 1000!!\n",
      "CPU times: user 804 ms, sys: 57 ms, total: 861 ms\n",
      "Wall time: 11 s\n"
     ]
    }
   ],
   "source": [
    "%%time\n",
    "df_summed_emissions, list_of_df_emissions, list_of_paths = emissions_multiple_vessels(coordinates,df_input_properties, 1000, 1000, time_resolution, detailed_routing, cost_density)\n"
   ]
  },
  {
   "cell_type": "markdown",
   "id": "5777a946",
   "metadata": {},
   "source": [
    "### Summed emissions for all vessels compared"
   ]
  },
  {
   "cell_type": "code",
   "execution_count": null,
   "id": "d0dcc5eb",
   "metadata": {},
   "outputs": [
    {
     "data": {
      "text/html": [
       "<div>\n",
       "<style scoped>\n",
       "    .dataframe tbody tr th:only-of-type {\n",
       "        vertical-align: middle;\n",
       "    }\n",
       "\n",
       "    .dataframe tbody tr th {\n",
       "        vertical-align: top;\n",
       "    }\n",
       "\n",
       "    .dataframe thead th {\n",
       "        text-align: right;\n",
       "    }\n",
       "</style>\n",
       "<table border=\"1\" class=\"dataframe\">\n",
       "  <thead>\n",
       "    <tr style=\"text-align: right;\">\n",
       "      <th></th>\n",
       "      <th>emissions_CO2</th>\n",
       "      <th>emissions_CO</th>\n",
       "      <th>emissions_SOX</th>\n",
       "      <th>emissions_N2O</th>\n",
       "      <th>emissions_NOX</th>\n",
       "      <th>emissions_PM</th>\n",
       "      <th>emissions_CH4</th>\n",
       "    </tr>\n",
       "    <tr>\n",
       "      <th>ssvid</th>\n",
       "      <th></th>\n",
       "      <th></th>\n",
       "      <th></th>\n",
       "      <th></th>\n",
       "      <th></th>\n",
       "      <th></th>\n",
       "      <th></th>\n",
       "    </tr>\n",
       "  </thead>\n",
       "  <tbody>\n",
       "    <tr>\n",
       "      <th>319009700.0</th>\n",
       "      <td>5.549073e+07</td>\n",
       "      <td>47641.310860</td>\n",
       "      <td>48041.787033</td>\n",
       "      <td>2544.491441</td>\n",
       "      <td>6.452927e+05</td>\n",
       "      <td>17122.822275</td>\n",
       "      <td>896.119971</td>\n",
       "    </tr>\n",
       "    <tr>\n",
       "      <th>212552000.0</th>\n",
       "      <td>9.273196e+07</td>\n",
       "      <td>74775.912829</td>\n",
       "      <td>96793.842970</td>\n",
       "      <td>4209.994992</td>\n",
       "      <td>1.791566e+06</td>\n",
       "      <td>30455.554108</td>\n",
       "      <td>1388.320104</td>\n",
       "    </tr>\n",
       "  </tbody>\n",
       "</table>\n",
       "</div>"
      ],
      "text/plain": [
       "             emissions_CO2  emissions_CO  emissions_SOX  emissions_N2O  \\\n",
       "ssvid                                                                    \n",
       "319009700.0   5.549073e+07  47641.310860   48041.787033    2544.491441   \n",
       "212552000.0   9.273196e+07  74775.912829   96793.842970    4209.994992   \n",
       "\n",
       "             emissions_NOX  emissions_PM  emissions_CH4  \n",
       "ssvid                                                    \n",
       "319009700.0   6.452927e+05  17122.822275     896.119971  \n",
       "212552000.0   1.791566e+06  30455.554108    1388.320104  "
      ]
     },
     "execution_count": 14,
     "metadata": {},
     "output_type": "execute_result"
    }
   ],
   "source": [
    "df_summed_emissions"
   ]
  },
  {
   "cell_type": "markdown",
   "id": "961ae9e1",
   "metadata": {},
   "source": [
    "## Show the paths\n",
    "This one is for the vessel that uses the least amount of CO2"
   ]
  },
  {
   "cell_type": "code",
   "execution_count": null,
   "id": "8b8b8349",
   "metadata": {},
   "outputs": [
    {
     "data": {
      "text/plain": [
       "319009700"
      ]
     },
     "execution_count": 15,
     "metadata": {},
     "output_type": "execute_result"
    }
   ],
   "source": [
    "min_co2_mmsi = int(df_summed_emissions.index[0])\n",
    "min_co2_mmsi"
   ]
  },
  {
   "cell_type": "code",
   "execution_count": null,
   "id": "ce964785",
   "metadata": {},
   "outputs": [
    {
     "data": {
      "text/html": [
       "\n",
       "        <iframe\n",
       "            width=\"100%\"\n",
       "            height=500\n",
       "            frameborder=\"0\"\n",
       "            srcdoc=\"&lt;!DOCTYPE html&gt;\n",
       "&lt;html&gt;\n",
       "  &lt;head&gt;\n",
       "    &lt;meta http-equiv=&quot;content-type&quot; content=&quot;text/html; charset=UTF-8&quot; /&gt;\n",
       "    &lt;title&gt;pydeck&lt;/title&gt;\n",
       "        &lt;script src=&quot;https://api.tiles.mapbox.com/mapbox-gl-js/v1.13.0/mapbox-gl.js&quot;&gt;&lt;/script&gt;\n",
       "        &lt;link rel=&quot;stylesheet&quot; href=&quot;https://maxcdn.bootstrapcdn.com/bootstrap/3.2.0/css/bootstrap-theme.min.css&quot; /&gt;\n",
       "    &lt;link rel=&quot;stylesheet&quot; href=&quot;https://maxcdn.bootstrapcdn.com/font-awesome/4.6.3/css/font-awesome.min.css&quot; /&gt;\n",
       "    &lt;script src=&#x27;https://cdn.jsdelivr.net/npm/@deck.gl/jupyter-widget@~8.5.*/dist/index.js&#x27;&gt;&lt;/script&gt;\n",
       "    &lt;style&gt;\n",
       "    body {\n",
       "  margin: 0;\n",
       "  padding: 0;\n",
       "  overflow: hidden;\n",
       "}\n",
       "\n",
       "#deck-map-container {\n",
       "  width: 100%;\n",
       "  height: 100%;\n",
       "  background-color: black;\n",
       "}\n",
       "\n",
       "#map {\n",
       "  pointer-events: none;\n",
       "  height: 100%;\n",
       "  width: 100%;\n",
       "  position: absolute;\n",
       "  z-index: 1;\n",
       "}\n",
       "\n",
       "#deckgl-overlay {\n",
       "  z-index: 2;\n",
       "  background: none;\n",
       "}\n",
       "\n",
       "#deck-map-wrapper {\n",
       "  width: 100%;\n",
       "  height: 100%;\n",
       "}\n",
       "\n",
       "#deck-container {\n",
       "  width: 100vw;\n",
       "  height: 100vh;\n",
       "}\n",
       "    &lt;/style&gt;\n",
       "  &lt;/head&gt;\n",
       "  &lt;body&gt;\n",
       "    &lt;div id=&quot;deck-container&quot;&gt;\n",
       "    &lt;/div&gt;\n",
       "  &lt;/body&gt;\n",
       "  &lt;script&gt;\n",
       "    const jsonInput = {&quot;initialViewState&quot;: {&quot;latitude&quot;: 57.2, &quot;longitude&quot;: 10, &quot;zoom&quot;: 3}, &quot;layers&quot;: [{&quot;@@type&quot;: &quot;PathLayer&quot;, &quot;data&quot;: [{&quot;path&quot;: [[10.72265625, 59.853515625], [10.72265625, 59.853515625], [10.72265625, 59.677734375], [10.72265625, 59.677734375], [10.72265625, 59.501953125], [10.72265625, 59.501953125], [10.72265625, 59.326171875], [10.72265625, 59.23828125], [10.72265625, 59.150390625], [10.72265625, 58.974609375], [10.72265625, 58.740234375], [10.72265625, 58.53515625], [10.8984375, 58.359375], [11.07421875, 58.18359375], [11.07421875, 58.0078125], [11.25, 57.83203125], [11.42578125, 57.626953125], [11.42578125, 57.392578125], [11.77734375, 57.216796875], [11.77734375, 57.041015625], [11.77734375, 56.806640625], [11.77734375, 56.6015625], [11.77734375, 56.513671875], [11.42578125, 56.337890625], [11.42578125, 56.162109375], [11.42578125, 55.986328125], [11.42578125, 55.810546875], [11.07421875, 55.634765625], [11.07421875, 55.634765625], [11.07421875, 55.458984375], [11.07421875, 55.37109375], [11.07421875, 55.283203125], [11.07421875, 55.107421875], [11.07421875, 55.107421875], [10.72265625, 54.931640625], [10.72265625, 54.931640625], [10.72265625, 54.755859375], [10.72265625, 54.580078125], [10.72265625, 54.580078125], [10.37109375, 54.404296875], [10.37109375, 54.404296875], [10.01953125, 54.404296875], [9.66796875, 54.228515625], [9.66796875, 54.228515625], [9.31640625, 54.052734375], [9.31640625, 54.052734375], [8.96484375, 54.052734375], [8.96484375, 54.052734375], [8.61328125, 54.052734375], [8.4375, 54.052734375], [8.0859375, 54.052734375], [7.91015625, 54.052734375], [7.55859375, 53.876953125], [7.55859375, 53.876953125], [7.20703125, 53.876953125], [7.03125, 53.876953125], [6.6796875, 53.876953125], [6.328125, 53.876953125], [6.15234375, 53.876953125], [5.80078125, 53.701171875], [5.80078125, 53.701171875], [5.44921875, 53.525390625], [5.2734375, 53.525390625], [4.921875, 53.4375], [4.74609375, 53.349609375], [4.39453125, 53.173828125], [4.04296875, 52.998046875], [4.04296875, 52.763671875], [4.04296875, 52.646484375], [4.39453125, 52.470703125], [4.39453125, 52.470703125], [4.74609375, 52.470703125], [4.74609375, 52.470703125]]}], &quot;getColor&quot;: &quot;@@=[0,0,0, 150]&quot;, &quot;id&quot;: &quot;dd5f4da8-11a8-490c-9a2e-5ecb551dc7da&quot;, &quot;widthMinPixels&quot;: 2}, {&quot;@@type&quot;: &quot;PointCloudLayer&quot;, &quot;autoHighlight&quot;: true, &quot;data&quot;: [{&quot;distance_from_port_m&quot;: 1000, &quot;distance_from_shore_m&quot;: 1000, &quot;draught_recent_m&quot;: 3.15, &quot;emissions_CH4&quot;: 6.122379010660412, &quot;emissions_CO&quot;: 277.3430984124586, &quot;emissions_CO2&quot;: 180625.6076424588, &quot;emissions_N2O&quot;: 9.859474061469541, &quot;emissions_NOX&quot;: 2807.119740167983, &quot;emissions_PM&quot;: 75.04578652887578, &quot;emissions_SOX&quot;: 156.0896601158078, &quot;in_a_eca&quot;: 1, &quot;in_a_river&quot;: 0, &quot;lat&quot;: 59.853515625, &quot;lon&quot;: 10.72265625, &quot;speed_knots&quot;: 5.0, &quot;ssvid&quot;: 319009700.0, &quot;timestamp&quot;: &quot;2022-01-01 01:00:00&quot;, &quot;total_power_demand_kw&quot;: 266.9994037119435}, {&quot;distance_from_port_m&quot;: 1000, &quot;distance_from_shore_m&quot;: 1000, &quot;draught_recent_m&quot;: 3.15, &quot;emissions_CH4&quot;: 6.122379010660412, &quot;emissions_CO&quot;: 277.3430984124586, &quot;emissions_CO2&quot;: 180625.6076424588, &quot;emissions_N2O&quot;: 9.859474061469541, &quot;emissions_NOX&quot;: 2807.119740167983, &quot;emissions_PM&quot;: 75.04578652887578, &quot;emissions_SOX&quot;: 156.0896601158078, &quot;in_a_eca&quot;: 1, &quot;in_a_river&quot;: 0, &quot;lat&quot;: 59.853515625, &quot;lon&quot;: 10.72265625, &quot;speed_knots&quot;: 5.0, &quot;ssvid&quot;: 319009700.0, &quot;timestamp&quot;: &quot;2022-01-01 02:00:00&quot;, &quot;total_power_demand_kw&quot;: 266.9994037119435}, {&quot;distance_from_port_m&quot;: 1000, &quot;distance_from_shore_m&quot;: 1000, &quot;draught_recent_m&quot;: 3.15, &quot;emissions_CH4&quot;: 6.122379010660412, &quot;emissions_CO&quot;: 277.3430984124586, &quot;emissions_CO2&quot;: 180625.6076424588, &quot;emissions_N2O&quot;: 9.859474061469541, &quot;emissions_NOX&quot;: 2807.119740167983, &quot;emissions_PM&quot;: 75.04578652887578, &quot;emissions_SOX&quot;: 156.0896601158078, &quot;in_a_eca&quot;: 1, &quot;in_a_river&quot;: 0, &quot;lat&quot;: 59.677734375, &quot;lon&quot;: 10.72265625, &quot;speed_knots&quot;: 5.0, &quot;ssvid&quot;: 319009700.0, &quot;timestamp&quot;: &quot;2022-01-01 03:00:00&quot;, &quot;total_power_demand_kw&quot;: 266.9994037119435}, {&quot;distance_from_port_m&quot;: 1000, &quot;distance_from_shore_m&quot;: 1000, &quot;draught_recent_m&quot;: 3.15, &quot;emissions_CH4&quot;: 6.122379010660412, &quot;emissions_CO&quot;: 277.3430984124586, &quot;emissions_CO2&quot;: 180625.6076424588, &quot;emissions_N2O&quot;: 9.859474061469541, &quot;emissions_NOX&quot;: 2807.119740167983, &quot;emissions_PM&quot;: 75.04578652887578, &quot;emissions_SOX&quot;: 156.0896601158078, &quot;in_a_eca&quot;: 1, &quot;in_a_river&quot;: 0, &quot;lat&quot;: 59.677734375, &quot;lon&quot;: 10.72265625, &quot;speed_knots&quot;: 5.0, &quot;ssvid&quot;: 319009700.0, &quot;timestamp&quot;: &quot;2022-01-01 04:00:00&quot;, &quot;total_power_demand_kw&quot;: 266.9994037119435}, {&quot;distance_from_port_m&quot;: 1000, &quot;distance_from_shore_m&quot;: 1000, &quot;draught_recent_m&quot;: 3.15, &quot;emissions_CH4&quot;: 6.394368411770515, &quot;emissions_CO&quot;: 289.02627950559713, &quot;emissions_CO2&quot;: 185709.95497002837, &quot;emissions_N2O&quot;: 10.195597327045947, &quot;emissions_NOX&quot;: 2888.2374882604217, &quot;emissions_PM&quot;: 77.81204236971149, &quot;emissions_SOX&quot;: 160.4940339406021, &quot;in_a_eca&quot;: 1, &quot;in_a_river&quot;: 0, &quot;lat&quot;: 59.501953125, &quot;lon&quot;: 10.72265625, &quot;speed_knots&quot;: 5.09228858008903, &quot;ssvid&quot;: 319009700.0, &quot;timestamp&quot;: &quot;2022-01-01 05:00:00&quot;, &quot;total_power_demand_kw&quot;: 274.7263753343896}, {&quot;distance_from_port_m&quot;: 1000, &quot;distance_from_shore_m&quot;: 1000, &quot;draught_recent_m&quot;: 3.15, &quot;emissions_CH4&quot;: 6.394368411770515, &quot;emissions_CO&quot;: 289.02627950559713, &quot;emissions_CO2&quot;: 185709.95497002837, &quot;emissions_N2O&quot;: 10.195597327045947, &quot;emissions_NOX&quot;: 2888.2374882604217, &quot;emissions_PM&quot;: 77.81204236971149, &quot;emissions_SOX&quot;: 160.4940339406021, &quot;in_a_eca&quot;: 1, &quot;in_a_river&quot;: 0, &quot;lat&quot;: 59.501953125, &quot;lon&quot;: 10.72265625, &quot;speed_knots&quot;: 5.09228858008903, &quot;ssvid&quot;: 319009700.0, &quot;timestamp&quot;: &quot;2022-01-01 06:00:00&quot;, &quot;total_power_demand_kw&quot;: 274.7263753343896}, {&quot;distance_from_port_m&quot;: 1000, &quot;distance_from_shore_m&quot;: 1000, &quot;draught_recent_m&quot;: 3.15, &quot;emissions_CH4&quot;: 5.80094947276044, &quot;emissions_CO&quot;: 292.1702938964409, &quot;emissions_CO2&quot;: 241583.3037283862, &quot;emissions_N2O&quot;: 11.960373800708748, &quot;emissions_NOX&quot;: 3314.136877237711, &quot;emissions_PM&quot;: 85.70647259784258, &quot;emissions_SOX&quot;: 208.8949591568087, &quot;in_a_eca&quot;: 1, &quot;in_a_river&quot;: 0, &quot;lat&quot;: 59.326171875, &quot;lon&quot;: 10.72265625, &quot;speed_knots&quot;: 5.93945323834507, &quot;ssvid&quot;: 319009700.0, &quot;timestamp&quot;: &quot;2022-01-01 07:00:00&quot;, &quot;total_power_demand_kw&quot;: 359.64027922247146}, {&quot;distance_from_port_m&quot;: 1000, &quot;distance_from_shore_m&quot;: 1000, &quot;draught_recent_m&quot;: 3.15, &quot;emissions_CH4&quot;: 5.772098233586175, &quot;emissions_CO&quot;: 290.7474567645101, &quot;emissions_CO2&quot;: 240614.72641325017, &quot;emissions_N2O&quot;: 11.908706530554834, &quot;emissions_NOX&quot;: 3301.6678427072334, &quot;emissions_PM&quot;: 85.32375207818396, &quot;emissions_SOX&quot;: 208.05591801755713, &quot;in_a_eca&quot;: 1, &quot;in_a_river&quot;: 0, &quot;lat&quot;: 59.23828125, &quot;lon&quot;: 10.72265625, &quot;speed_knots&quot;: 5.926735326353655, &quot;ssvid&quot;: 319009700.0, &quot;timestamp&quot;: &quot;2022-01-01 08:00:00&quot;, &quot;total_power_demand_kw&quot;: 358.16827722378446}, {&quot;distance_from_port_m&quot;: 1000, &quot;distance_from_shore_m&quot;: 1000, &quot;draught_recent_m&quot;: 3.15, &quot;emissions_CH4&quot;: 5.743370550215431, &quot;emissions_CO&quot;: 289.33071295093043, &quot;emissions_CO2&quot;: 239650.29704294662, &quot;emissions_N2O&quot;: 11.857260526151105, &quot;emissions_NOX&quot;: 3289.2522069777997, &quot;emissions_PM&quot;: 84.94267056408225, &quot;emissions_SOX&quot;: 207.2204700827957, &quot;in_a_eca&quot;: 1, &quot;in_a_river&quot;: 0, &quot;lat&quot;: 59.150390625, &quot;lon&quot;: 10.72265625, &quot;speed_knots&quot;: 5.91401741436224, &quot;ssvid&quot;: 319009700.0, &quot;timestamp&quot;: &quot;2022-01-01 09:00:00&quot;, &quot;total_power_demand_kw&quot;: 356.7025790926241}, {&quot;distance_from_port_m&quot;: 1000, &quot;distance_from_shore_m&quot;: 1000, &quot;draught_recent_m&quot;: 3.15, &quot;emissions_CH4&quot;: 21.880000000000003, &quot;emissions_CO&quot;: 1181.5200000000002, &quot;emissions_CO2&quot;: 1444644.0, &quot;emissions_N2O&quot;: 65.64, &quot;emissions_NOX&quot;: 16268.82, &quot;emissions_PM&quot;: 437.6, &quot;emissions_SOX&quot;: 1251.06, &quot;in_a_eca&quot;: 1, &quot;in_a_river&quot;: 0, &quot;lat&quot;: 58.974609375, &quot;lon&quot;: 10.72265625, &quot;speed_knots&quot;: 13.0, &quot;ssvid&quot;: 319009700.0, &quot;timestamp&quot;: &quot;2022-01-01 10:00:00&quot;, &quot;total_power_demand_kw&quot;: 2188.0}, {&quot;distance_from_port_m&quot;: 1000, &quot;distance_from_shore_m&quot;: 1000, &quot;draught_recent_m&quot;: 3.15, &quot;emissions_CH4&quot;: 21.880000000000003, &quot;emissions_CO&quot;: 1181.5200000000002, &quot;emissions_CO2&quot;: 1444644.0, &quot;emissions_N2O&quot;: 65.64, &quot;emissions_NOX&quot;: 16268.82, &quot;emissions_PM&quot;: 437.6, &quot;emissions_SOX&quot;: 1251.06, &quot;in_a_eca&quot;: 1, &quot;in_a_river&quot;: 0, &quot;lat&quot;: 58.740234375, &quot;lon&quot;: 10.72265625, &quot;speed_knots&quot;: 13.0, &quot;ssvid&quot;: 319009700.0, &quot;timestamp&quot;: &quot;2022-01-01 11:00:00&quot;, &quot;total_power_demand_kw&quot;: 2188.0}, {&quot;distance_from_port_m&quot;: 1000, &quot;distance_from_shore_m&quot;: 1000, &quot;draught_recent_m&quot;: 3.15, &quot;emissions_CH4&quot;: 21.880000000000003, &quot;emissions_CO&quot;: 1181.5200000000002, &quot;emissions_CO2&quot;: 1444644.0, &quot;emissions_N2O&quot;: 65.64, &quot;emissions_NOX&quot;: 16268.82, &quot;emissions_PM&quot;: 437.6, &quot;emissions_SOX&quot;: 1251.06, &quot;in_a_eca&quot;: 1, &quot;in_a_river&quot;: 0, &quot;lat&quot;: 58.53515625, &quot;lon&quot;: 10.72265625, &quot;speed_knots&quot;: 13.0, &quot;ssvid&quot;: 319009700.0, &quot;timestamp&quot;: &quot;2022-01-01 12:00:00&quot;, &quot;total_power_demand_kw&quot;: 2188.0}, {&quot;distance_from_port_m&quot;: 1000, &quot;distance_from_shore_m&quot;: 1000, &quot;draught_recent_m&quot;: 3.15, &quot;emissions_CH4&quot;: 21.880000000000003, &quot;emissions_CO&quot;: 1181.5200000000002, &quot;emissions_CO2&quot;: 1444644.0, &quot;emissions_N2O&quot;: 65.64, &quot;emissions_NOX&quot;: 16268.82, &quot;emissions_PM&quot;: 437.6, &quot;emissions_SOX&quot;: 1251.06, &quot;in_a_eca&quot;: 1, &quot;in_a_river&quot;: 0, &quot;lat&quot;: 58.359375, &quot;lon&quot;: 10.8984375, &quot;speed_knots&quot;: 13.0, &quot;ssvid&quot;: 319009700.0, &quot;timestamp&quot;: &quot;2022-01-01 13:00:00&quot;, &quot;total_power_demand_kw&quot;: 2188.0}, {&quot;distance_from_port_m&quot;: 1000, &quot;distance_from_shore_m&quot;: 1000, &quot;draught_recent_m&quot;: 3.15, &quot;emissions_CH4&quot;: 21.880000000000003, &quot;emissions_CO&quot;: 1181.5200000000002, &quot;emissions_CO2&quot;: 1444644.0, &quot;emissions_N2O&quot;: 65.64, &quot;emissions_NOX&quot;: 16268.82, &quot;emissions_PM&quot;: 437.6, &quot;emissions_SOX&quot;: 1251.06, &quot;in_a_eca&quot;: 1, &quot;in_a_river&quot;: 0, &quot;lat&quot;: 58.18359375, &quot;lon&quot;: 11.07421875, &quot;speed_knots&quot;: 13.0, &quot;ssvid&quot;: 319009700.0, &quot;timestamp&quot;: &quot;2022-01-01 14:00:00&quot;, &quot;total_power_demand_kw&quot;: 2188.0}, {&quot;distance_from_port_m&quot;: 1000, &quot;distance_from_shore_m&quot;: 1000, &quot;draught_recent_m&quot;: 3.15, &quot;emissions_CH4&quot;: 21.880000000000003, &quot;emissions_CO&quot;: 1181.5200000000002, &quot;emissions_CO2&quot;: 1444644.0, &quot;emissions_N2O&quot;: 65.64, &quot;emissions_NOX&quot;: 16268.82, &quot;emissions_PM&quot;: 437.6, &quot;emissions_SOX&quot;: 1251.06, &quot;in_a_eca&quot;: 1, &quot;in_a_river&quot;: 0, &quot;lat&quot;: 58.0078125, &quot;lon&quot;: 11.07421875, &quot;speed_knots&quot;: 13.0, &quot;ssvid&quot;: 319009700.0, &quot;timestamp&quot;: &quot;2022-01-01 15:00:00&quot;, &quot;total_power_demand_kw&quot;: 2188.0}, {&quot;distance_from_port_m&quot;: 1000, &quot;distance_from_shore_m&quot;: 1000, &quot;draught_recent_m&quot;: 3.15, &quot;emissions_CH4&quot;: 21.880000000000003, &quot;emissions_CO&quot;: 1181.5200000000002, &quot;emissions_CO2&quot;: 1444644.0, &quot;emissions_N2O&quot;: 65.64, &quot;emissions_NOX&quot;: 16268.82, &quot;emissions_PM&quot;: 437.6, &quot;emissions_SOX&quot;: 1251.06, &quot;in_a_eca&quot;: 1, &quot;in_a_river&quot;: 0, &quot;lat&quot;: 57.83203125, &quot;lon&quot;: 11.25, &quot;speed_knots&quot;: 13.0, &quot;ssvid&quot;: 319009700.0, &quot;timestamp&quot;: &quot;2022-01-01 16:00:00&quot;, &quot;total_power_demand_kw&quot;: 2188.0}, {&quot;distance_from_port_m&quot;: 1000, &quot;distance_from_shore_m&quot;: 1000, &quot;draught_recent_m&quot;: 3.15, &quot;emissions_CH4&quot;: 21.880000000000003, &quot;emissions_CO&quot;: 1181.5200000000002, &quot;emissions_CO2&quot;: 1444644.0, &quot;emissions_N2O&quot;: 65.64, &quot;emissions_NOX&quot;: 16268.82, &quot;emissions_PM&quot;: 437.6, &quot;emissions_SOX&quot;: 1251.06, &quot;in_a_eca&quot;: 1, &quot;in_a_river&quot;: 0, &quot;lat&quot;: 57.626953125, &quot;lon&quot;: 11.42578125, &quot;speed_knots&quot;: 13.0, &quot;ssvid&quot;: 319009700.0, &quot;timestamp&quot;: &quot;2022-01-01 17:00:00&quot;, &quot;total_power_demand_kw&quot;: 2188.0}, {&quot;distance_from_port_m&quot;: 1000, &quot;distance_from_shore_m&quot;: 1000, &quot;draught_recent_m&quot;: 3.15, &quot;emissions_CH4&quot;: 21.880000000000003, &quot;emissions_CO&quot;: 1181.5200000000002, &quot;emissions_CO2&quot;: 1444644.0, &quot;emissions_N2O&quot;: 65.64, &quot;emissions_NOX&quot;: 16268.82, &quot;emissions_PM&quot;: 437.6, &quot;emissions_SOX&quot;: 1251.06, &quot;in_a_eca&quot;: 1, &quot;in_a_river&quot;: 0, &quot;lat&quot;: 57.392578125, &quot;lon&quot;: 11.42578125, &quot;speed_knots&quot;: 13.0, &quot;ssvid&quot;: 319009700.0, &quot;timestamp&quot;: &quot;2022-01-01 18:00:00&quot;, &quot;total_power_demand_kw&quot;: 2188.0}, {&quot;distance_from_port_m&quot;: 1000, &quot;distance_from_shore_m&quot;: 1000, &quot;draught_recent_m&quot;: 3.15, &quot;emissions_CH4&quot;: 21.880000000000003, &quot;emissions_CO&quot;: 1181.5200000000002, &quot;emissions_CO2&quot;: 1444644.0, &quot;emissions_N2O&quot;: 65.64, &quot;emissions_NOX&quot;: 16268.82, &quot;emissions_PM&quot;: 437.6, &quot;emissions_SOX&quot;: 1251.06, &quot;in_a_eca&quot;: 1, &quot;in_a_river&quot;: 0, &quot;lat&quot;: 57.216796875, &quot;lon&quot;: 11.77734375, &quot;speed_knots&quot;: 13.0, &quot;ssvid&quot;: 319009700.0, &quot;timestamp&quot;: &quot;2022-01-01 19:00:00&quot;, &quot;total_power_demand_kw&quot;: 2188.0}, {&quot;distance_from_port_m&quot;: 1000, &quot;distance_from_shore_m&quot;: 1000, &quot;draught_recent_m&quot;: 3.15, &quot;emissions_CH4&quot;: 21.880000000000003, &quot;emissions_CO&quot;: 1181.5200000000002, &quot;emissions_CO2&quot;: 1444644.0, &quot;emissions_N2O&quot;: 65.64, &quot;emissions_NOX&quot;: 16268.82, &quot;emissions_PM&quot;: 437.6, &quot;emissions_SOX&quot;: 1251.06, &quot;in_a_eca&quot;: 1, &quot;in_a_river&quot;: 0, &quot;lat&quot;: 57.041015625, &quot;lon&quot;: 11.77734375, &quot;speed_knots&quot;: 13.0, &quot;ssvid&quot;: 319009700.0, &quot;timestamp&quot;: &quot;2022-01-01 20:00:00&quot;, &quot;total_power_demand_kw&quot;: 2188.0}, {&quot;distance_from_port_m&quot;: 1000, &quot;distance_from_shore_m&quot;: 1000, &quot;draught_recent_m&quot;: 3.15, &quot;emissions_CH4&quot;: 21.880000000000003, &quot;emissions_CO&quot;: 1181.5200000000002, &quot;emissions_CO2&quot;: 1444644.0, &quot;emissions_N2O&quot;: 65.64, &quot;emissions_NOX&quot;: 16268.82, &quot;emissions_PM&quot;: 437.6, &quot;emissions_SOX&quot;: 1251.06, &quot;in_a_eca&quot;: 1, &quot;in_a_river&quot;: 0, &quot;lat&quot;: 56.806640625, &quot;lon&quot;: 11.77734375, &quot;speed_knots&quot;: 13.0, &quot;ssvid&quot;: 319009700.0, &quot;timestamp&quot;: &quot;2022-01-01 21:00:00&quot;, &quot;total_power_demand_kw&quot;: 2188.0}, {&quot;distance_from_port_m&quot;: 1000, &quot;distance_from_shore_m&quot;: 1000, &quot;draught_recent_m&quot;: 3.15, &quot;emissions_CH4&quot;: 21.880000000000003, &quot;emissions_CO&quot;: 1181.5200000000002, &quot;emissions_CO2&quot;: 1444644.0, &quot;emissions_N2O&quot;: 65.64, &quot;emissions_NOX&quot;: 16268.82, &quot;emissions_PM&quot;: 437.6, &quot;emissions_SOX&quot;: 1251.06, &quot;in_a_eca&quot;: 1, &quot;in_a_river&quot;: 0, &quot;lat&quot;: 56.6015625, &quot;lon&quot;: 11.77734375, &quot;speed_knots&quot;: 13.0, &quot;ssvid&quot;: 319009700.0, &quot;timestamp&quot;: &quot;2022-01-01 22:00:00&quot;, &quot;total_power_demand_kw&quot;: 2188.0}, {&quot;distance_from_port_m&quot;: 1000, &quot;distance_from_shore_m&quot;: 1000, &quot;draught_recent_m&quot;: 3.15, &quot;emissions_CH4&quot;: 21.880000000000003, &quot;emissions_CO&quot;: 1181.5200000000002, &quot;emissions_CO2&quot;: 1444644.0, &quot;emissions_N2O&quot;: 65.64, &quot;emissions_NOX&quot;: 16268.82, &quot;emissions_PM&quot;: 437.6, &quot;emissions_SOX&quot;: 1251.06, &quot;in_a_eca&quot;: 1, &quot;in_a_river&quot;: 0, &quot;lat&quot;: 56.513671875, &quot;lon&quot;: 11.77734375, &quot;speed_knots&quot;: 13.0, &quot;ssvid&quot;: 319009700.0, &quot;timestamp&quot;: &quot;2022-01-01 23:00:00&quot;, &quot;total_power_demand_kw&quot;: 2188.0}, {&quot;distance_from_port_m&quot;: 1000, &quot;distance_from_shore_m&quot;: 1000, &quot;draught_recent_m&quot;: 3.15, &quot;emissions_CH4&quot;: 11.664734074539465, &quot;emissions_CO&quot;: 629.8956400251312, &quot;emissions_CO2&quot;: 772479.5021046968, &quot;emissions_N2O&quot;: 34.994202223618394, &quot;emissions_NOX&quot;: 8872.967469966572, &quot;emissions_PM&quot;: 233.29468149078932, &quot;emissions_SOX&quot;: 668.7898422487494, &quot;in_a_eca&quot;: 1, &quot;in_a_river&quot;: 0, &quot;lat&quot;: 56.337890625, &quot;lon&quot;: 11.42578125, &quot;speed_knots&quot;: 9.81559204626966, &quot;ssvid&quot;: 319009700.0, &quot;timestamp&quot;: &quot;2022-01-02 00:00:00&quot;, &quot;total_power_demand_kw&quot;: 1166.4734074539465}, {&quot;distance_from_port_m&quot;: 1000, &quot;distance_from_shore_m&quot;: 1000, &quot;draught_recent_m&quot;: 3.15, &quot;emissions_CH4&quot;: 9.769057881882189, &quot;emissions_CO&quot;: 527.5291256216382, &quot;emissions_CO2&quot;: 647744.0086278479, &quot;emissions_N2O&quot;: 29.307173645646557, &quot;emissions_NOX&quot;: 7500.497906482703, &quot;emissions_PM&quot;: 195.38115763764375, &quot;emissions_SOX&quot;: 560.7362992672846, &quot;in_a_eca&quot;: 1, &quot;in_a_river&quot;: 0, &quot;lat&quot;: 56.162109375, &quot;lon&quot;: 11.42578125, &quot;speed_knots&quot;: 9.17646640631882, &quot;ssvid&quot;: 319009700.0, &quot;timestamp&quot;: &quot;2022-01-02 01:00:00&quot;, &quot;total_power_demand_kw&quot;: 976.9057881882187}, {&quot;distance_from_port_m&quot;: 1000, &quot;distance_from_shore_m&quot;: 1000, &quot;draught_recent_m&quot;: 3.15, &quot;emissions_CH4&quot;: 21.880000000000003, &quot;emissions_CO&quot;: 1181.5200000000002, &quot;emissions_CO2&quot;: 1444644.0, &quot;emissions_N2O&quot;: 65.64, &quot;emissions_NOX&quot;: 16268.82, &quot;emissions_PM&quot;: 437.6, &quot;emissions_SOX&quot;: 1251.06, &quot;in_a_eca&quot;: 1, &quot;in_a_river&quot;: 0, &quot;lat&quot;: 55.986328125, &quot;lon&quot;: 11.42578125, &quot;speed_knots&quot;: 13.0, &quot;ssvid&quot;: 319009700.0, &quot;timestamp&quot;: &quot;2022-01-02 02:00:00&quot;, &quot;total_power_demand_kw&quot;: 2188.0}, {&quot;distance_from_port_m&quot;: 1000, &quot;distance_from_shore_m&quot;: 1000, &quot;draught_recent_m&quot;: 3.15, &quot;emissions_CH4&quot;: 21.880000000000003, &quot;emissions_CO&quot;: 1181.5200000000002, &quot;emissions_CO2&quot;: 1444644.0, &quot;emissions_N2O&quot;: 65.64, &quot;emissions_NOX&quot;: 16268.82, &quot;emissions_PM&quot;: 437.6, &quot;emissions_SOX&quot;: 1251.06, &quot;in_a_eca&quot;: 1, &quot;in_a_river&quot;: 0, &quot;lat&quot;: 55.810546875, &quot;lon&quot;: 11.42578125, &quot;speed_knots&quot;: 13.0, &quot;ssvid&quot;: 319009700.0, &quot;timestamp&quot;: &quot;2022-01-02 03:00:00&quot;, &quot;total_power_demand_kw&quot;: 2188.0}, {&quot;distance_from_port_m&quot;: 1000, &quot;distance_from_shore_m&quot;: 1000, &quot;draught_recent_m&quot;: 3.15, &quot;emissions_CH4&quot;: 6.893516520901662, &quot;emissions_CO&quot;: 372.2498921286898, &quot;emissions_CO2&quot;: 458533.3870753294, &quot;emissions_N2O&quot;: 20.680549562704986, &quot;emissions_NOX&quot;: 5418.605961132804, &quot;emissions_PM&quot;: 137.87033041803323, &quot;emissions_SOX&quot;: 396.8304416913947, &quot;in_a_eca&quot;: 1, &quot;in_a_river&quot;: 0, &quot;lat&quot;: 55.634765625, &quot;lon&quot;: 11.07421875, &quot;speed_knots&quot;: 7.99144694287444, &quot;ssvid&quot;: 319009700.0, &quot;timestamp&quot;: &quot;2022-01-02 04:00:00&quot;, &quot;total_power_demand_kw&quot;: 689.3516520901662}, {&quot;distance_from_port_m&quot;: 1000, &quot;distance_from_shore_m&quot;: 1000, &quot;draught_recent_m&quot;: 3.15, &quot;emissions_CH4&quot;: 6.893516520901662, &quot;emissions_CO&quot;: 372.2498921286898, &quot;emissions_CO2&quot;: 458533.3870753294, &quot;emissions_N2O&quot;: 20.680549562704986, &quot;emissions_NOX&quot;: 5418.605961132804, &quot;emissions_PM&quot;: 137.87033041803323, &quot;emissions_SOX&quot;: 396.8304416913947, &quot;in_a_eca&quot;: 1, &quot;in_a_river&quot;: 0, &quot;lat&quot;: 55.634765625, &quot;lon&quot;: 11.07421875, &quot;speed_knots&quot;: 7.99144694287444, &quot;ssvid&quot;: 319009700.0, &quot;timestamp&quot;: &quot;2022-01-02 05:00:00&quot;, &quot;total_power_demand_kw&quot;: 689.3516520901662}, {&quot;distance_from_port_m&quot;: 1000, &quot;distance_from_shore_m&quot;: 1000, &quot;draught_recent_m&quot;: 3.15, &quot;emissions_CH4&quot;: 5.345636023627991, &quot;emissions_CO&quot;: 282.2389233560318, &quot;emissions_CO2&quot;: 286217.3899667072, &quot;emissions_N2O&quot;: 13.359648937600744, &quot;emissions_NOX&quot;: 3651.828610274313, &quot;emissions_PM&quot;: 92.03905862098634, &quot;emissions_SOX&quot;: 247.55974510793783, &quot;in_a_eca&quot;: 1, &quot;in_a_river&quot;: 0, &quot;lat&quot;: 55.458984375, &quot;lon&quot;: 11.07421875, &quot;speed_knots&quot;: 6.47460202112309, &quot;ssvid&quot;: 319009700.0, &quot;timestamp&quot;: &quot;2022-01-02 06:00:00&quot;, &quot;total_power_demand_kw&quot;: 427.4732370314699}, {&quot;distance_from_port_m&quot;: 1000, &quot;distance_from_shore_m&quot;: 1000, &quot;draught_recent_m&quot;: 3.15, &quot;emissions_CH4&quot;: 5.400770458130367, &quot;emissions_CO&quot;: 285.12861636436224, &quot;emissions_CO2&quot;: 288884.92363601335, &quot;emissions_N2O&quot;: 13.488566218275418, &quot;emissions_NOX&quot;: 3682.940647343801, &quot;emissions_PM&quot;: 92.93904718418689, &quot;emissions_SOX&quot;: 249.87052655399333, &quot;in_a_eca&quot;: 1, &quot;in_a_river&quot;: 0, &quot;lat&quot;: 55.37109375, &quot;lon&quot;: 11.07421875, &quot;speed_knots&quot;: 6.50388164156272, &quot;ssvid&quot;: 319009700.0, &quot;timestamp&quot;: &quot;2022-01-02 07:00:00&quot;, &quot;total_power_demand_kw&quot;: 431.52723956840936}, {&quot;distance_from_port_m&quot;: 1000, &quot;distance_from_shore_m&quot;: 1000, &quot;draught_recent_m&quot;: 3.15, &quot;emissions_CH4&quot;: 5.4564035501116726, &quot;emissions_CO&quot;: 288.0444448911471, &quot;emissions_CO2&quot;: 291576.5835274618, &quot;emissions_N2O&quot;: 13.618649477467, &quot;emissions_NOX&quot;: 3714.3340738953693, &quot;emissions_PM&quot;: 93.84717559741114, &quot;emissions_SOX&quot;: 252.2022076149745, &quot;in_a_eca&quot;: 1, &quot;in_a_river&quot;: 0, &quot;lat&quot;: 55.283203125, &quot;lon&quot;: 11.07421875, &quot;speed_knots&quot;: 6.53316126200235, &quot;ssvid&quot;: 319009700.0, &quot;timestamp&quot;: &quot;2022-01-02 08:00:00&quot;, &quot;total_power_demand_kw&quot;: 435.6179080964465}, {&quot;distance_from_port_m&quot;: 1000, &quot;distance_from_shore_m&quot;: 1000, &quot;draught_recent_m&quot;: 3.15, &quot;emissions_CH4&quot;: 5.418902866787566, &quot;emissions_CO&quot;: 292.62075480652857, &quot;emissions_CO2&quot;: 348597.91298535414, &quot;emissions_N2O&quot;: 15.785976844158405, &quot;emissions_NOX&quot;: 4237.382411723562, &quot;emissions_PM&quot;: 106.02439855472986, &quot;emissions_SOX&quot;: 301.5975841970393, &quot;in_a_eca&quot;: 1, &quot;in_a_river&quot;: 0, &quot;lat&quot;: 55.107421875, &quot;lon&quot;: 11.07421875, &quot;speed_knots&quot;: 7.10004654552268, &quot;ssvid&quot;: 319009700.0, &quot;timestamp&quot;: &quot;2022-01-02 09:00:00&quot;, &quot;total_power_demand_kw&quot;: 522.2764635035777}, {&quot;distance_from_port_m&quot;: 1000, &quot;distance_from_shore_m&quot;: 1000, &quot;draught_recent_m&quot;: 3.15, &quot;emissions_CH4&quot;: 5.418902866787566, &quot;emissions_CO&quot;: 292.62075480652857, &quot;emissions_CO2&quot;: 348597.91298535414, &quot;emissions_N2O&quot;: 15.785976844158405, &quot;emissions_NOX&quot;: 4237.382411723562, &quot;emissions_PM&quot;: 106.02439855472986, &quot;emissions_SOX&quot;: 301.5975841970393, &quot;in_a_eca&quot;: 1, &quot;in_a_river&quot;: 0, &quot;lat&quot;: 55.107421875, &quot;lon&quot;: 11.07421875, &quot;speed_knots&quot;: 7.10004654552268, &quot;ssvid&quot;: 319009700.0, &quot;timestamp&quot;: &quot;2022-01-02 10:00:00&quot;, &quot;total_power_demand_kw&quot;: 522.2764635035777}, {&quot;distance_from_port_m&quot;: 1000, &quot;distance_from_shore_m&quot;: 1000, &quot;draught_recent_m&quot;: 3.15, &quot;emissions_CH4&quot;: 5.88126146655426, &quot;emissions_CO&quot;: 317.5881191939301, &quot;emissions_CO2&quot;: 391927.00449927035, &quot;emissions_N2O&quot;: 17.64378439966278, &quot;emissions_NOX&quot;: 4685.733301785284, &quot;emissions_PM&quot;: 117.62522933108522, &quot;emissions_SOX&quot;: 339.1319035935928, &quot;in_a_eca&quot;: 1, &quot;in_a_river&quot;: 0, &quot;lat&quot;: 54.931640625, &quot;lon&quot;: 10.72265625, &quot;speed_knots&quot;: 7.47696713483652, &quot;ssvid&quot;: 319009700.0, &quot;timestamp&quot;: &quot;2022-01-02 11:00:00&quot;, &quot;total_power_demand_kw&quot;: 588.126146655426}, {&quot;distance_from_port_m&quot;: 1000, &quot;distance_from_shore_m&quot;: 1000, &quot;draught_recent_m&quot;: 3.15, &quot;emissions_CH4&quot;: 5.88126146655426, &quot;emissions_CO&quot;: 317.5881191939301, &quot;emissions_CO2&quot;: 391927.00449927035, &quot;emissions_N2O&quot;: 17.64378439966278, &quot;emissions_NOX&quot;: 4685.733301785284, &quot;emissions_PM&quot;: 117.62522933108522, &quot;emissions_SOX&quot;: 339.1319035935928, &quot;in_a_eca&quot;: 1, &quot;in_a_river&quot;: 0, &quot;lat&quot;: 54.931640625, &quot;lon&quot;: 10.72265625, &quot;speed_knots&quot;: 7.47696713483652, &quot;ssvid&quot;: 319009700.0, &quot;timestamp&quot;: &quot;2022-01-02 12:00:00&quot;, &quot;total_power_demand_kw&quot;: 588.126146655426}, {&quot;distance_from_port_m&quot;: 1000, &quot;distance_from_shore_m&quot;: 1000, &quot;draught_recent_m&quot;: 3.15, &quot;emissions_CH4&quot;: 5.751100981596065, &quot;emissions_CO&quot;: 310.55945300618754, &quot;emissions_CO2&quot;: 383362.4445890211, &quot;emissions_N2O&quot;: 17.253302944788192, &quot;emissions_NOX&quot;: 4591.497110675551, &quot;emissions_PM&quot;: 115.0220196319213, &quot;emissions_SOX&quot;: 331.71275595097563, &quot;in_a_eca&quot;: 1, &quot;in_a_river&quot;: 0, &quot;lat&quot;: 54.755859375, &quot;lon&quot;: 10.72265625, &quot;speed_knots&quot;: 7.40547512979615, &quot;ssvid&quot;: 319009700.0, &quot;timestamp&quot;: &quot;2022-01-02 13:00:00&quot;, &quot;total_power_demand_kw&quot;: 575.1100981596064}, {&quot;distance_from_port_m&quot;: 1000, &quot;distance_from_shore_m&quot;: 1000, &quot;draught_recent_m&quot;: 3.15, &quot;emissions_CH4&quot;: 7.984439918439692, &quot;emissions_CO&quot;: 431.1597555957434, &quot;emissions_CO2&quot;: 530316.1466333318, &quot;emissions_N2O&quot;: 23.953319755319075, &quot;emissions_NOX&quot;: 6208.434500950337, &quot;emissions_PM&quot;: 159.68879836879384, &quot;emissions_SOX&quot;: 459.0130753510624, &quot;in_a_eca&quot;: 1, &quot;in_a_river&quot;: 0, &quot;lat&quot;: 54.580078125, &quot;lon&quot;: 10.72265625, &quot;speed_knots&quot;: 8.4804478285769, &quot;ssvid&quot;: 319009700.0, &quot;timestamp&quot;: &quot;2022-01-02 14:00:00&quot;, &quot;total_power_demand_kw&quot;: 798.4439918439692}, {&quot;distance_from_port_m&quot;: 1000, &quot;distance_from_shore_m&quot;: 1000, &quot;draught_recent_m&quot;: 3.15, &quot;emissions_CH4&quot;: 7.984439918439692, &quot;emissions_CO&quot;: 431.1597555957434, &quot;emissions_CO2&quot;: 530316.1466333318, &quot;emissions_N2O&quot;: 23.953319755319075, &quot;emissions_NOX&quot;: 6208.434500950337, &quot;emissions_PM&quot;: 159.68879836879384, &quot;emissions_SOX&quot;: 459.0130753510624, &quot;in_a_eca&quot;: 1, &quot;in_a_river&quot;: 0, &quot;lat&quot;: 54.580078125, &quot;lon&quot;: 10.72265625, &quot;speed_knots&quot;: 8.4804478285769, &quot;ssvid&quot;: 319009700.0, &quot;timestamp&quot;: &quot;2022-01-02 15:00:00&quot;, &quot;total_power_demand_kw&quot;: 798.4439918439692}, {&quot;distance_from_port_m&quot;: 1000, &quot;distance_from_shore_m&quot;: 1000, &quot;draught_recent_m&quot;: 3.15, &quot;emissions_CH4&quot;: 5.7231544691850536, &quot;emissions_CO&quot;: 288.333730097667, &quot;emissions_CO2&quot;: 238971.6143226411, &quot;emissions_N2O&quot;: 11.821057238183439, &quot;emissions_NOX&quot;: 3280.5151468149365, &quot;emissions_PM&quot;: 84.67449806061806, &quot;emissions_SOX&quot;: 206.63255344058575, &quot;in_a_eca&quot;: 1, &quot;in_a_river&quot;: 0, &quot;lat&quot;: 54.404296875, &quot;lon&quot;: 10.37109375, &quot;speed_knots&quot;: 5.90503474138347, &quot;ssvid&quot;: 319009700.0, &quot;timestamp&quot;: &quot;2022-01-02 16:00:00&quot;, &quot;total_power_demand_kw&quot;: 355.6711463869925}, {&quot;distance_from_port_m&quot;: 1000, &quot;distance_from_shore_m&quot;: 1000, &quot;draught_recent_m&quot;: 3.15, &quot;emissions_CH4&quot;: 5.7231544691850536, &quot;emissions_CO&quot;: 288.333730097667, &quot;emissions_CO2&quot;: 238971.6143226411, &quot;emissions_N2O&quot;: 11.821057238183439, &quot;emissions_NOX&quot;: 3280.5151468149365, &quot;emissions_PM&quot;: 84.67449806061806, &quot;emissions_SOX&quot;: 206.63255344058575, &quot;in_a_eca&quot;: 1, &quot;in_a_river&quot;: 0, &quot;lat&quot;: 54.404296875, &quot;lon&quot;: 10.37109375, &quot;speed_knots&quot;: 5.90503474138347, &quot;ssvid&quot;: 319009700.0, &quot;timestamp&quot;: &quot;2022-01-02 18:00:00&quot;, &quot;total_power_demand_kw&quot;: 355.6711463869925}, {&quot;distance_from_port_m&quot;: 1000, &quot;distance_from_shore_m&quot;: 1000, &quot;draught_recent_m&quot;: 3.15, &quot;emissions_CH4&quot;: 6.122379010660412, &quot;emissions_CO&quot;: 277.3430984124586, &quot;emissions_CO2&quot;: 180625.6076424588, &quot;emissions_N2O&quot;: 9.859474061469541, &quot;emissions_NOX&quot;: 2807.119740167983, &quot;emissions_PM&quot;: 75.04578652887578, &quot;emissions_SOX&quot;: 156.0896601158078, &quot;in_a_eca&quot;: 1, &quot;in_a_river&quot;: 0, &quot;lat&quot;: 54.404296875, &quot;lon&quot;: 10.01953125, &quot;speed_knots&quot;: 5.0, &quot;ssvid&quot;: 319009700.0, &quot;timestamp&quot;: &quot;2022-01-01 03:00:00&quot;, &quot;total_power_demand_kw&quot;: 266.9994037119435}, {&quot;distance_from_port_m&quot;: 1000, &quot;distance_from_shore_m&quot;: 1000, &quot;draught_recent_m&quot;: 3.15, &quot;emissions_CH4&quot;: 6.223524538294914, &quot;emissions_CO&quot;: 281.68775857675877, &quot;emissions_CO2&quot;: 182516.3393806265, &quot;emissions_N2O&quot;: 9.984469244767862, &quot;emissions_NOX&quot;: 2837.2852444039772, &quot;emissions_PM&quot;: 76.0744825201585, &quot;emissions_SOX&quot;: 157.72752803488922, &quot;in_a_eca&quot;: 1, &quot;in_a_river&quot;: 0, &quot;lat&quot;: 54.228515625, &quot;lon&quot;: 9.66796875, &quot;speed_knots&quot;: 5.03471540537981, &quot;ssvid&quot;: 319009700.0, &quot;timestamp&quot;: &quot;2022-01-01 04:00:00&quot;, &quot;total_power_demand_kw&quot;: 269.87285620156}, {&quot;distance_from_port_m&quot;: 1000, &quot;distance_from_shore_m&quot;: 1000, &quot;draught_recent_m&quot;: 3.15, &quot;emissions_CH4&quot;: 6.223524538294914, &quot;emissions_CO&quot;: 281.68775857675877, &quot;emissions_CO2&quot;: 182516.3393806265, &quot;emissions_N2O&quot;: 9.984469244767862, &quot;emissions_NOX&quot;: 2837.2852444039772, &quot;emissions_PM&quot;: 76.0744825201585, &quot;emissions_SOX&quot;: 157.72752803488922, &quot;in_a_eca&quot;: 1, &quot;in_a_river&quot;: 0, &quot;lat&quot;: 54.228515625, &quot;lon&quot;: 9.66796875, &quot;speed_knots&quot;: 5.03471540537981, &quot;ssvid&quot;: 319009700.0, &quot;timestamp&quot;: &quot;2022-01-01 06:00:00&quot;, &quot;total_power_demand_kw&quot;: 269.87285620156}, {&quot;distance_from_port_m&quot;: 1000, &quot;distance_from_shore_m&quot;: 1000, &quot;draught_recent_m&quot;: 3.15, &quot;emissions_CH4&quot;: 5.321120805544606, &quot;emissions_CO&quot;: 278.4776449892288, &quot;emissions_CO2&quot;: 270473.02653390146, &quot;emissions_N2O&quot;: 12.762878510179949, &quot;emissions_NOX&quot;: 3507.8080137900943, &quot;emissions_PM&quot;: 88.91549559695642, &quot;emissions_SOX&quot;: 233.92101082723983, &quot;in_a_eca&quot;: 1, &quot;in_a_river&quot;: 0, &quot;lat&quot;: 54.052734375, &quot;lon&quot;: 9.31640625, &quot;speed_knots&quot;: 6.29613030110646, &quot;ssvid&quot;: 319009700.0, &quot;timestamp&quot;: &quot;2022-01-01 07:00:00&quot;, &quot;total_power_demand_kw&quot;: 403.5456330302453}, {&quot;distance_from_port_m&quot;: 1000, &quot;distance_from_shore_m&quot;: 1000, &quot;draught_recent_m&quot;: 3.15, &quot;emissions_CH4&quot;: 5.321120805544606, &quot;emissions_CO&quot;: 278.4776449892288, &quot;emissions_CO2&quot;: 270473.02653390146, &quot;emissions_N2O&quot;: 12.762878510179949, &quot;emissions_NOX&quot;: 3507.8080137900943, &quot;emissions_PM&quot;: 88.91549559695642, &quot;emissions_SOX&quot;: 233.92101082723983, &quot;in_a_eca&quot;: 1, &quot;in_a_river&quot;: 0, &quot;lat&quot;: 54.052734375, &quot;lon&quot;: 9.31640625, &quot;speed_knots&quot;: 6.29613030110646, &quot;ssvid&quot;: 319009700.0, &quot;timestamp&quot;: &quot;2022-01-01 08:00:00&quot;, &quot;total_power_demand_kw&quot;: 403.5456330302453}, {&quot;distance_from_port_m&quot;: 1000, &quot;distance_from_shore_m&quot;: 1000, &quot;draught_recent_m&quot;: 3.15, &quot;emissions_CH4&quot;: 5.540172284170447, &quot;emissions_CO&quot;: 292.4349120703452, &quot;emissions_CO2&quot;: 295629.51198412897, &quot;emissions_N2O&quot;: 13.814520487986782, &quot;emissions_NOX&quot;: 3761.6042777674766, &quot;emissions_PM&quot;: 95.21457699160584, &quot;emissions_SOX&quot;: 255.7131030865555, &quot;in_a_eca&quot;: 1, &quot;in_a_river&quot;: 0, &quot;lat&quot;: 54.052734375, &quot;lon&quot;: 8.96484375, &quot;speed_knots&quot;: 6.57675974375274, &quot;ssvid&quot;: 319009700.0, &quot;timestamp&quot;: &quot;2022-01-01 09:00:00&quot;, &quot;total_power_demand_kw&quot;: 441.7773738360623}, {&quot;distance_from_port_m&quot;: 1000, &quot;distance_from_shore_m&quot;: 1000, &quot;draught_recent_m&quot;: 3.15, &quot;emissions_CH4&quot;: 5.540172284170447, &quot;emissions_CO&quot;: 292.4349120703452, &quot;emissions_CO2&quot;: 295629.51198412897, &quot;emissions_N2O&quot;: 13.814520487986782, &quot;emissions_NOX&quot;: 3761.6042777674766, &quot;emissions_PM&quot;: 95.21457699160584, &quot;emissions_SOX&quot;: 255.7131030865555, &quot;in_a_eca&quot;: 1, &quot;in_a_river&quot;: 0, &quot;lat&quot;: 54.052734375, &quot;lon&quot;: 8.96484375, &quot;speed_knots&quot;: 6.57675974375274, &quot;ssvid&quot;: 319009700.0, &quot;timestamp&quot;: &quot;2022-01-01 10:00:00&quot;, &quot;total_power_demand_kw&quot;: 441.7773738360623}, {&quot;distance_from_port_m&quot;: 1000, &quot;distance_from_shore_m&quot;: 1000, &quot;draught_recent_m&quot;: 3.15, &quot;emissions_CH4&quot;: 8.897640024425852, &quot;emissions_CO&quot;: 480.47256131899604, &quot;emissions_CO2&quot;: 590404.7136072211, &quot;emissions_N2O&quot;: 26.692920073277556, &quot;emissions_NOX&quot;: 6869.591377684317, &quot;emissions_PM&quot;: 177.95280048851706, &quot;emissions_SOX&quot;: 511.06548139227357, &quot;in_a_eca&quot;: 1, &quot;in_a_river&quot;: 0, &quot;lat&quot;: 54.052734375, &quot;lon&quot;: 8.61328125, &quot;speed_knots&quot;: 8.85027331832182, &quot;ssvid&quot;: 319009700.0, &quot;timestamp&quot;: &quot;2022-01-01 11:00:00&quot;, &quot;total_power_demand_kw&quot;: 889.7640024425853}, {&quot;distance_from_port_m&quot;: 1000, &quot;distance_from_shore_m&quot;: 1000, &quot;draught_recent_m&quot;: 3.15, &quot;emissions_CH4&quot;: 15.591877934733507, &quot;emissions_CO&quot;: 841.9614084756095, &quot;emissions_CO2&quot;: 1030885.5681054647, &quot;emissions_N2O&quot;: 46.77563380420052, &quot;emissions_NOX&quot;: 11716.219624747058, &quot;emissions_PM&quot;: 311.8375586946701, &quot;emissions_SOX&quot;: 892.6370422798099, &quot;in_a_eca&quot;: 1, &quot;in_a_river&quot;: 0, &quot;lat&quot;: 54.052734375, &quot;lon&quot;: 8.4375, &quot;speed_knots&quot;: 10.92513665916091, &quot;ssvid&quot;: 319009700.0, &quot;timestamp&quot;: &quot;2022-01-01 12:00:00&quot;, &quot;total_power_demand_kw&quot;: 1559.1877934733507}, {&quot;distance_from_port_m&quot;: 1000, &quot;distance_from_shore_m&quot;: 1000, &quot;draught_recent_m&quot;: 3.15, &quot;emissions_CH4&quot;: 14.747969199566583, &quot;emissions_CO&quot;: 796.3903367765955, &quot;emissions_CO2&quot;: 975356.3733314811, &quot;emissions_N2O&quot;: 44.24390759869974, &quot;emissions_NOX&quot;: 11105.229700486205, &quot;emissions_PM&quot;: 294.95938399133166, &quot;emissions_SOX&quot;: 844.5342443752951, &quot;in_a_eca&quot;: 1, &quot;in_a_river&quot;: 0, &quot;lat&quot;: 54.052734375, &quot;lon&quot;: 8.0859375, &quot;speed_knots&quot;: 10.7057232884269, &quot;ssvid&quot;: 319009700.0, &quot;timestamp&quot;: &quot;2022-01-01 13:00:00&quot;, &quot;total_power_demand_kw&quot;: 1474.7969199566583}, {&quot;distance_from_port_m&quot;: 1000, &quot;distance_from_shore_m&quot;: 1000, &quot;draught_recent_m&quot;: 3.15, &quot;emissions_CH4&quot;: 7.822599859540878, &quot;emissions_CO&quot;: 422.42039241520746, &quot;emissions_CO2&quot;: 519667.07075778977, &quot;emissions_N2O&quot;: 23.467799578622632, &quot;emissions_NOX&quot;: 6091.262298307595, &quot;emissions_PM&quot;: 156.45199719081756, &quot;emissions_SOX&quot;: 449.78819199383, &quot;in_a_eca&quot;: 1, &quot;in_a_river&quot;: 0, &quot;lat&quot;: 54.052734375, &quot;lon&quot;: 7.91015625, &quot;speed_knots&quot;: 8.4114465768538, &quot;ssvid&quot;: 319009700.0, &quot;timestamp&quot;: &quot;2022-01-01 14:00:00&quot;, &quot;total_power_demand_kw&quot;: 782.2599859540878}, {&quot;distance_from_port_m&quot;: 1000, &quot;distance_from_shore_m&quot;: 1000, &quot;draught_recent_m&quot;: 3.15, &quot;emissions_CH4&quot;: 5.464523514500519, &quot;emissions_CO&quot;: 295.08426978302805, &quot;emissions_CO2&quot;: 351456.8069086992, &quot;emissions_N2O&quot;: 15.917624998987213, &quot;emissions_NOX&quot;: 4269.153499755581, &quot;emissions_PM&quot;: 106.91074256743866, &quot;emissions_SOX&quot;: 304.07413364431386, &quot;in_a_eca&quot;: 1, &quot;in_a_river&quot;: 0, &quot;lat&quot;: 53.876953125, &quot;lon&quot;: 7.55859375, &quot;speed_knots&quot;: 7.12616354598178, &quot;ssvid&quot;: 319009700.0, &quot;timestamp&quot;: &quot;2022-01-01 15:00:00&quot;, &quot;total_power_demand_kw&quot;: 526.6212870952875}, {&quot;distance_from_port_m&quot;: 1000, &quot;distance_from_shore_m&quot;: 1000, &quot;draught_recent_m&quot;: 3.15, &quot;emissions_CH4&quot;: 5.464523514500519, &quot;emissions_CO&quot;: 295.08426978302805, &quot;emissions_CO2&quot;: 351456.8069086992, &quot;emissions_N2O&quot;: 15.917624998987213, &quot;emissions_NOX&quot;: 4269.153499755581, &quot;emissions_PM&quot;: 106.91074256743866, &quot;emissions_SOX&quot;: 304.07413364431386, &quot;in_a_eca&quot;: 1, &quot;in_a_river&quot;: 0, &quot;lat&quot;: 53.876953125, &quot;lon&quot;: 7.55859375, &quot;speed_knots&quot;: 7.12616354598178, &quot;ssvid&quot;: 319009700.0, &quot;timestamp&quot;: &quot;2022-01-01 16:00:00&quot;, &quot;total_power_demand_kw&quot;: 526.6212870952875}, {&quot;distance_from_port_m&quot;: 1000, &quot;distance_from_shore_m&quot;: 1000, &quot;draught_recent_m&quot;: 3.15, &quot;emissions_CH4&quot;: 6.952037692952914, &quot;emissions_CO&quot;: 375.41003541945736, &quot;emissions_CO2&quot;: 462384.08019630174, &quot;emissions_N2O&quot;: 20.85611307885874, &quot;emissions_NOX&quot;: 5460.97528969791, &quot;emissions_PM&quot;: 139.04075385905827, &quot;emissions_SOX&quot;: 400.1661484983161, &quot;in_a_eca&quot;: 1, &quot;in_a_river&quot;: 0, &quot;lat&quot;: 53.876953125, &quot;lon&quot;: 7.20703125, &quot;speed_knots&quot;: 8.01922000755228, &quot;ssvid&quot;: 319009700.0, &quot;timestamp&quot;: &quot;2022-01-01 17:00:00&quot;, &quot;total_power_demand_kw&quot;: 695.2037692952914}, {&quot;distance_from_port_m&quot;: 1000, &quot;distance_from_shore_m&quot;: 1000, &quot;draught_recent_m&quot;: 3.15, &quot;emissions_CH4&quot;: 14.022382975279417, &quot;emissions_CO&quot;: 757.2086806650885, &quot;emissions_CO2&quot;: 927612.7997733855, &quot;emissions_N2O&quot;: 42.06714892583825, &quot;emissions_NOX&quot;: 10579.905274102297, &quot;emissions_PM&quot;: 280.4476595055883, &quot;emissions_SOX&quot;: 803.1758295909266, &quot;in_a_eca&quot;: 1, &quot;in_a_river&quot;: 0, &quot;lat&quot;: 53.876953125, &quot;lon&quot;: 7.03125, &quot;speed_knots&quot;: 10.509610003776139, &quot;ssvid&quot;: 319009700.0, &quot;timestamp&quot;: &quot;2022-01-01 18:00:00&quot;, &quot;total_power_demand_kw&quot;: 1402.2382975279415}, {&quot;distance_from_port_m&quot;: 1000, &quot;distance_from_shore_m&quot;: 1000, &quot;draught_recent_m&quot;: 3.15, &quot;emissions_CH4&quot;: 21.880000000000003, &quot;emissions_CO&quot;: 1181.5200000000002, &quot;emissions_CO2&quot;: 1444644.0, &quot;emissions_N2O&quot;: 65.64, &quot;emissions_NOX&quot;: 16268.82, &quot;emissions_PM&quot;: 437.6, &quot;emissions_SOX&quot;: 1251.06, &quot;in_a_eca&quot;: 1, &quot;in_a_river&quot;: 0, &quot;lat&quot;: 53.876953125, &quot;lon&quot;: 6.6796875, &quot;speed_knots&quot;: 13.0, &quot;ssvid&quot;: 319009700.0, &quot;timestamp&quot;: &quot;2022-01-01 19:00:00&quot;, &quot;total_power_demand_kw&quot;: 2188.0}, {&quot;distance_from_port_m&quot;: 1000, &quot;distance_from_shore_m&quot;: 1000, &quot;draught_recent_m&quot;: 3.15, &quot;emissions_CH4&quot;: 21.880000000000003, &quot;emissions_CO&quot;: 1181.5200000000002, &quot;emissions_CO2&quot;: 1444644.0, &quot;emissions_N2O&quot;: 65.64, &quot;emissions_NOX&quot;: 16268.82, &quot;emissions_PM&quot;: 437.6, &quot;emissions_SOX&quot;: 1251.06, &quot;in_a_eca&quot;: 1, &quot;in_a_river&quot;: 0, &quot;lat&quot;: 53.876953125, &quot;lon&quot;: 6.328125, &quot;speed_knots&quot;: 13.0, &quot;ssvid&quot;: 319009700.0, &quot;timestamp&quot;: &quot;2022-01-01 20:00:00&quot;, &quot;total_power_demand_kw&quot;: 2188.0}, {&quot;distance_from_port_m&quot;: 1000, &quot;distance_from_shore_m&quot;: 1000, &quot;draught_recent_m&quot;: 3.15, &quot;emissions_CH4&quot;: 21.880000000000003, &quot;emissions_CO&quot;: 1181.5200000000002, &quot;emissions_CO2&quot;: 1444644.0, &quot;emissions_N2O&quot;: 65.64, &quot;emissions_NOX&quot;: 16268.82, &quot;emissions_PM&quot;: 437.6, &quot;emissions_SOX&quot;: 1251.06, &quot;in_a_eca&quot;: 1, &quot;in_a_river&quot;: 0, &quot;lat&quot;: 53.876953125, &quot;lon&quot;: 6.15234375, &quot;speed_knots&quot;: 13.0, &quot;ssvid&quot;: 319009700.0, &quot;timestamp&quot;: &quot;2022-01-01 21:00:00&quot;, &quot;total_power_demand_kw&quot;: 2188.0}, {&quot;distance_from_port_m&quot;: 1000, &quot;distance_from_shore_m&quot;: 1000, &quot;draught_recent_m&quot;: 3.15, &quot;emissions_CH4&quot;: 9.519840717506009, &quot;emissions_CO&quot;: 514.0713987453245, &quot;emissions_CO2&quot;: 631345.5192118953, &quot;emissions_N2O&quot;: 28.559522152518024, &quot;emissions_NOX&quot;: 7320.06467947435, &quot;emissions_PM&quot;: 190.39681435012017, &quot;emissions_SOX&quot;: 546.5309208978424, &quot;in_a_eca&quot;: 1, &quot;in_a_river&quot;: 0, &quot;lat&quot;: 53.701171875, &quot;lon&quot;: 5.80078125, &quot;speed_knots&quot;: 9.08555746011319, &quot;ssvid&quot;: 319009700.0, &quot;timestamp&quot;: &quot;2022-01-01 22:00:00&quot;, &quot;total_power_demand_kw&quot;: 951.9840717506008}, {&quot;distance_from_port_m&quot;: 1000, &quot;distance_from_shore_m&quot;: 1000, &quot;draught_recent_m&quot;: 3.15, &quot;emissions_CH4&quot;: 9.519840717506009, &quot;emissions_CO&quot;: 514.0713987453245, &quot;emissions_CO2&quot;: 631345.5192118953, &quot;emissions_N2O&quot;: 28.559522152518024, &quot;emissions_NOX&quot;: 7320.06467947435, &quot;emissions_PM&quot;: 190.39681435012017, &quot;emissions_SOX&quot;: 546.5309208978424, &quot;in_a_eca&quot;: 1, &quot;in_a_river&quot;: 0, &quot;lat&quot;: 53.701171875, &quot;lon&quot;: 5.80078125, &quot;speed_knots&quot;: 9.08555746011319, &quot;ssvid&quot;: 319009700.0, &quot;timestamp&quot;: &quot;2022-01-01 23:00:00&quot;, &quot;total_power_demand_kw&quot;: 951.9840717506008}, {&quot;distance_from_port_m&quot;: 1000, &quot;distance_from_shore_m&quot;: 1000, &quot;draught_recent_m&quot;: 3.15, &quot;emissions_CH4&quot;: 5.956111851455875, &quot;emissions_CO&quot;: 321.6300399786172, &quot;emissions_CO2&quot;: 396852.15982579655, &quot;emissions_N2O&quot;: 17.868335554367622, &quot;emissions_NOX&quot;: 4739.924980454053, &quot;emissions_PM&quot;: 119.1222370291175, &quot;emissions_SOX&quot;: 343.3983755329848, &quot;in_a_eca&quot;: 1, &quot;in_a_river&quot;: 0, &quot;lat&quot;: 53.525390625, &quot;lon&quot;: 5.44921875, &quot;speed_knots&quot;: 7.51746786405236, &quot;ssvid&quot;: 319009700.0, &quot;timestamp&quot;: &quot;2022-01-02 00:00:00&quot;, &quot;total_power_demand_kw&quot;: 595.6111851455875}, {&quot;distance_from_port_m&quot;: 1000, &quot;distance_from_shore_m&quot;: 1000, &quot;draught_recent_m&quot;: 3.15, &quot;emissions_CH4&quot;: 13.132866438482182, &quot;emissions_CO&quot;: 709.1747876780379, &quot;emissions_CO2&quot;: 869082.6116521275, &quot;emissions_N2O&quot;: 39.39859931544654, &quot;emissions_NOX&quot;: 9935.8953014611, &quot;emissions_PM&quot;: 262.65732876964364, &quot;emissions_SOX&quot;: 752.4733869934843, &quot;in_a_eca&quot;: 1, &quot;in_a_river&quot;: 0, &quot;lat&quot;: 53.525390625, &quot;lon&quot;: 5.2734375, &quot;speed_knots&quot;: 10.25873393202618, &quot;ssvid&quot;: 319009700.0, &quot;timestamp&quot;: &quot;2022-01-02 01:00:00&quot;, &quot;total_power_demand_kw&quot;: 1313.286643848218}, {&quot;distance_from_port_m&quot;: 1000, &quot;distance_from_shore_m&quot;: 1000, &quot;draught_recent_m&quot;: 3.15, &quot;emissions_CH4&quot;: 21.880000000000003, &quot;emissions_CO&quot;: 1181.5200000000002, &quot;emissions_CO2&quot;: 1444644.0, &quot;emissions_N2O&quot;: 65.64, &quot;emissions_NOX&quot;: 16268.82, &quot;emissions_PM&quot;: 437.6, &quot;emissions_SOX&quot;: 1251.06, &quot;in_a_eca&quot;: 1, &quot;in_a_river&quot;: 0, &quot;lat&quot;: 53.4375, &quot;lon&quot;: 4.921875, &quot;speed_knots&quot;: 13.0, &quot;ssvid&quot;: 319009700.0, &quot;timestamp&quot;: &quot;2022-01-02 02:00:00&quot;, &quot;total_power_demand_kw&quot;: 2188.0}, {&quot;distance_from_port_m&quot;: 1000, &quot;distance_from_shore_m&quot;: 1000, &quot;draught_recent_m&quot;: 3.15, &quot;emissions_CH4&quot;: 21.880000000000003, &quot;emissions_CO&quot;: 1181.5200000000002, &quot;emissions_CO2&quot;: 1444644.0, &quot;emissions_N2O&quot;: 65.64, &quot;emissions_NOX&quot;: 16268.82, &quot;emissions_PM&quot;: 437.6, &quot;emissions_SOX&quot;: 1251.06, &quot;in_a_eca&quot;: 1, &quot;in_a_river&quot;: 0, &quot;lat&quot;: 53.349609375, &quot;lon&quot;: 4.74609375, &quot;speed_knots&quot;: 13.0, &quot;ssvid&quot;: 319009700.0, &quot;timestamp&quot;: &quot;2022-01-02 03:00:00&quot;, &quot;total_power_demand_kw&quot;: 2188.0}, {&quot;distance_from_port_m&quot;: 1000, &quot;distance_from_shore_m&quot;: 1000, &quot;draught_recent_m&quot;: 3.15, &quot;emissions_CH4&quot;: 21.880000000000003, &quot;emissions_CO&quot;: 1181.5200000000002, &quot;emissions_CO2&quot;: 1444644.0, &quot;emissions_N2O&quot;: 65.64, &quot;emissions_NOX&quot;: 16268.82, &quot;emissions_PM&quot;: 437.6, &quot;emissions_SOX&quot;: 1251.06, &quot;in_a_eca&quot;: 1, &quot;in_a_river&quot;: 0, &quot;lat&quot;: 53.173828125, &quot;lon&quot;: 4.39453125, &quot;speed_knots&quot;: 13.0, &quot;ssvid&quot;: 319009700.0, &quot;timestamp&quot;: &quot;2022-01-02 04:00:00&quot;, &quot;total_power_demand_kw&quot;: 2188.0}, {&quot;distance_from_port_m&quot;: 1000, &quot;distance_from_shore_m&quot;: 1000, &quot;draught_recent_m&quot;: 3.15, &quot;emissions_CH4&quot;: 21.880000000000003, &quot;emissions_CO&quot;: 1181.5200000000002, &quot;emissions_CO2&quot;: 1444644.0, &quot;emissions_N2O&quot;: 65.64, &quot;emissions_NOX&quot;: 16268.82, &quot;emissions_PM&quot;: 437.6, &quot;emissions_SOX&quot;: 1251.06, &quot;in_a_eca&quot;: 1, &quot;in_a_river&quot;: 0, &quot;lat&quot;: 52.998046875, &quot;lon&quot;: 4.04296875, &quot;speed_knots&quot;: 13.0, &quot;ssvid&quot;: 319009700.0, &quot;timestamp&quot;: &quot;2022-01-02 05:00:00&quot;, &quot;total_power_demand_kw&quot;: 2188.0}, {&quot;distance_from_port_m&quot;: 1000, &quot;distance_from_shore_m&quot;: 1000, &quot;draught_recent_m&quot;: 3.15, &quot;emissions_CH4&quot;: 21.880000000000003, &quot;emissions_CO&quot;: 1181.5200000000002, &quot;emissions_CO2&quot;: 1444644.0, &quot;emissions_N2O&quot;: 65.64, &quot;emissions_NOX&quot;: 16268.82, &quot;emissions_PM&quot;: 437.6, &quot;emissions_SOX&quot;: 1251.06, &quot;in_a_eca&quot;: 1, &quot;in_a_river&quot;: 0, &quot;lat&quot;: 52.763671875, &quot;lon&quot;: 4.04296875, &quot;speed_knots&quot;: 13.0, &quot;ssvid&quot;: 319009700.0, &quot;timestamp&quot;: &quot;2022-01-02 06:00:00&quot;, &quot;total_power_demand_kw&quot;: 2188.0}, {&quot;distance_from_port_m&quot;: 1000, &quot;distance_from_shore_m&quot;: 1000, &quot;draught_recent_m&quot;: 3.15, &quot;emissions_CH4&quot;: 21.880000000000003, &quot;emissions_CO&quot;: 1181.5200000000002, &quot;emissions_CO2&quot;: 1444644.0, &quot;emissions_N2O&quot;: 65.64, &quot;emissions_NOX&quot;: 16268.82, &quot;emissions_PM&quot;: 437.6, &quot;emissions_SOX&quot;: 1251.06, &quot;in_a_eca&quot;: 1, &quot;in_a_river&quot;: 0, &quot;lat&quot;: 52.646484375, &quot;lon&quot;: 4.04296875, &quot;speed_knots&quot;: 13.0, &quot;ssvid&quot;: 319009700.0, &quot;timestamp&quot;: &quot;2022-01-02 07:00:00&quot;, &quot;total_power_demand_kw&quot;: 2188.0}, {&quot;distance_from_port_m&quot;: 1000, &quot;distance_from_shore_m&quot;: 1000, &quot;draught_recent_m&quot;: 3.15, &quot;emissions_CH4&quot;: 8.85302991372341, &quot;emissions_CO&quot;: 478.0636153410641, &quot;emissions_CO2&quot;: 587469.3683230004, &quot;emissions_N2O&quot;: 26.559089741170226, &quot;emissions_NOX&quot;: 6837.293657535748, &quot;emissions_PM&quot;: 177.0605982744682, &quot;emissions_SOX&quot;: 508.52270508223427, &quot;in_a_eca&quot;: 1, &quot;in_a_river&quot;: 0, &quot;lat&quot;: 52.470703125, &quot;lon&quot;: 4.39453125, &quot;speed_knots&quot;: 8.83291762524718, &quot;ssvid&quot;: 319009700.0, &quot;timestamp&quot;: &quot;2022-01-02 08:00:00&quot;, &quot;total_power_demand_kw&quot;: 885.3029913723409}, {&quot;distance_from_port_m&quot;: 1000, &quot;distance_from_shore_m&quot;: 1000, &quot;draught_recent_m&quot;: 3.15, &quot;emissions_CH4&quot;: 8.85302991372341, &quot;emissions_CO&quot;: 478.0636153410641, &quot;emissions_CO2&quot;: 587469.3683230004, &quot;emissions_N2O&quot;: 26.559089741170226, &quot;emissions_NOX&quot;: 6837.293657535748, &quot;emissions_PM&quot;: 177.0605982744682, &quot;emissions_SOX&quot;: 508.52270508223427, &quot;in_a_eca&quot;: 1, &quot;in_a_river&quot;: 0, &quot;lat&quot;: 52.470703125, &quot;lon&quot;: 4.39453125, &quot;speed_knots&quot;: 8.83291762524718, &quot;ssvid&quot;: 319009700.0, &quot;timestamp&quot;: &quot;2022-01-02 09:00:00&quot;, &quot;total_power_demand_kw&quot;: 885.3029913723409}, {&quot;distance_from_port_m&quot;: 1000, &quot;distance_from_shore_m&quot;: 1000, &quot;draught_recent_m&quot;: 3.15, &quot;emissions_CH4&quot;: 6.122379010660412, &quot;emissions_CO&quot;: 277.3430984124586, &quot;emissions_CO2&quot;: 180625.6076424588, &quot;emissions_N2O&quot;: 9.859474061469541, &quot;emissions_NOX&quot;: 2807.119740167983, &quot;emissions_PM&quot;: 75.04578652887578, &quot;emissions_SOX&quot;: 156.0896601158078, &quot;in_a_eca&quot;: 1, &quot;in_a_river&quot;: 0, &quot;lat&quot;: 52.470703125, &quot;lon&quot;: 4.74609375, &quot;speed_knots&quot;: 5.0, &quot;ssvid&quot;: 319009700.0, &quot;timestamp&quot;: &quot;2022-01-02 10:00:00&quot;, &quot;total_power_demand_kw&quot;: 266.9994037119435}, {&quot;distance_from_port_m&quot;: 1000, &quot;distance_from_shore_m&quot;: 1000, &quot;draught_recent_m&quot;: 3.15, &quot;emissions_CH4&quot;: 6.122379010660412, &quot;emissions_CO&quot;: 277.3430984124586, &quot;emissions_CO2&quot;: 180625.6076424588, &quot;emissions_N2O&quot;: 9.859474061469541, &quot;emissions_NOX&quot;: 2807.119740167983, &quot;emissions_PM&quot;: 75.04578652887578, &quot;emissions_SOX&quot;: 156.0896601158078, &quot;in_a_eca&quot;: 1, &quot;in_a_river&quot;: 0, &quot;lat&quot;: 52.470703125, &quot;lon&quot;: 4.74609375, &quot;speed_knots&quot;: 5.0, &quot;ssvid&quot;: 319009700.0, &quot;timestamp&quot;: &quot;2022-01-02 11:00:00&quot;, &quot;total_power_demand_kw&quot;: 266.9994037119435}], &quot;getColor&quot;: &quot;@@=[10+speed_knots*255/25*2, 10+speed_knots*255/25, 10+speed_knots*255/25*4]&quot;, &quot;getNormal&quot;: [0, 0, 15], &quot;getPosition&quot;: &quot;@@=[lon, lat]&quot;, &quot;id&quot;: &quot;4209c870-606c-426c-81ce-e11de25e3d8e&quot;, &quot;pickable&quot;: true, &quot;pointSize&quot;: 5}], &quot;mapProvider&quot;: &quot;carto&quot;, &quot;mapStyle&quot;: &quot;https://basemaps.cartocdn.com/gl/voyager-gl-style/style.json&quot;, &quot;views&quot;: [{&quot;@@type&quot;: &quot;MapView&quot;, &quot;controller&quot;: true}]};\n",
       "    const tooltip = true;\n",
       "    const customLibraries = null;\n",
       "\n",
       "    const deckInstance = createDeck({\n",
       "                  container: document.getElementById(&#x27;deck-container&#x27;),\n",
       "      jsonInput,\n",
       "      tooltip,\n",
       "      customLibraries\n",
       "    });\n",
       "\n",
       "  &lt;/script&gt;\n",
       "&lt;/html&gt;\"\n",
       "        ></iframe>\n",
       "    "
      ],
      "text/plain": [
       "{\"initialViewState\": {\"latitude\": 57.2, \"longitude\": 10, \"zoom\": 3}, \"layers\": [{\"@@type\": \"PathLayer\", \"data\": [{\"path\": [[10.72265625, 59.853515625], [10.72265625, 59.853515625], [10.72265625, 59.677734375], [10.72265625, 59.677734375], [10.72265625, 59.501953125], [10.72265625, 59.501953125], [10.72265625, 59.326171875], [10.72265625, 59.23828125], [10.72265625, 59.150390625], [10.72265625, 58.974609375], [10.72265625, 58.740234375], [10.72265625, 58.53515625], [10.8984375, 58.359375], [11.07421875, 58.18359375], [11.07421875, 58.0078125], [11.25, 57.83203125], [11.42578125, 57.626953125], [11.42578125, 57.392578125], [11.77734375, 57.216796875], [11.77734375, 57.041015625], [11.77734375, 56.806640625], [11.77734375, 56.6015625], [11.77734375, 56.513671875], [11.42578125, 56.337890625], [11.42578125, 56.162109375], [11.42578125, 55.986328125], [11.42578125, 55.810546875], [11.07421875, 55.634765625], [11.07421875, 55.634765625], [11.07421875, 55.458984375], [11.07421875, 55.37109375], [11.07421875, 55.283203125], [11.07421875, 55.107421875], [11.07421875, 55.107421875], [10.72265625, 54.931640625], [10.72265625, 54.931640625], [10.72265625, 54.755859375], [10.72265625, 54.580078125], [10.72265625, 54.580078125], [10.37109375, 54.404296875], [10.37109375, 54.404296875], [10.01953125, 54.404296875], [9.66796875, 54.228515625], [9.66796875, 54.228515625], [9.31640625, 54.052734375], [9.31640625, 54.052734375], [8.96484375, 54.052734375], [8.96484375, 54.052734375], [8.61328125, 54.052734375], [8.4375, 54.052734375], [8.0859375, 54.052734375], [7.91015625, 54.052734375], [7.55859375, 53.876953125], [7.55859375, 53.876953125], [7.20703125, 53.876953125], [7.03125, 53.876953125], [6.6796875, 53.876953125], [6.328125, 53.876953125], [6.15234375, 53.876953125], [5.80078125, 53.701171875], [5.80078125, 53.701171875], [5.44921875, 53.525390625], [5.2734375, 53.525390625], [4.921875, 53.4375], [4.74609375, 53.349609375], [4.39453125, 53.173828125], [4.04296875, 52.998046875], [4.04296875, 52.763671875], [4.04296875, 52.646484375], [4.39453125, 52.470703125], [4.39453125, 52.470703125], [4.74609375, 52.470703125], [4.74609375, 52.470703125]]}], \"getColor\": \"@@=[0,0,0, 150]\", \"id\": \"dd5f4da8-11a8-490c-9a2e-5ecb551dc7da\", \"widthMinPixels\": 2}, {\"@@type\": \"PointCloudLayer\", \"autoHighlight\": true, \"data\": [{\"distance_from_port_m\": 1000, \"distance_from_shore_m\": 1000, \"draught_recent_m\": 3.15, \"emissions_CH4\": 6.122379010660412, \"emissions_CO\": 277.3430984124586, \"emissions_CO2\": 180625.6076424588, \"emissions_N2O\": 9.859474061469541, \"emissions_NOX\": 2807.119740167983, \"emissions_PM\": 75.04578652887578, \"emissions_SOX\": 156.0896601158078, \"in_a_eca\": 1, \"in_a_river\": 0, \"lat\": 59.853515625, \"lon\": 10.72265625, \"speed_knots\": 5.0, \"ssvid\": 319009700.0, \"timestamp\": \"2022-01-01 01:00:00\", \"total_power_demand_kw\": 266.9994037119435}, {\"distance_from_port_m\": 1000, \"distance_from_shore_m\": 1000, \"draught_recent_m\": 3.15, \"emissions_CH4\": 6.122379010660412, \"emissions_CO\": 277.3430984124586, \"emissions_CO2\": 180625.6076424588, \"emissions_N2O\": 9.859474061469541, \"emissions_NOX\": 2807.119740167983, \"emissions_PM\": 75.04578652887578, \"emissions_SOX\": 156.0896601158078, \"in_a_eca\": 1, \"in_a_river\": 0, \"lat\": 59.853515625, \"lon\": 10.72265625, \"speed_knots\": 5.0, \"ssvid\": 319009700.0, \"timestamp\": \"2022-01-01 02:00:00\", \"total_power_demand_kw\": 266.9994037119435}, {\"distance_from_port_m\": 1000, \"distance_from_shore_m\": 1000, \"draught_recent_m\": 3.15, \"emissions_CH4\": 6.122379010660412, \"emissions_CO\": 277.3430984124586, \"emissions_CO2\": 180625.6076424588, \"emissions_N2O\": 9.859474061469541, \"emissions_NOX\": 2807.119740167983, \"emissions_PM\": 75.04578652887578, \"emissions_SOX\": 156.0896601158078, \"in_a_eca\": 1, \"in_a_river\": 0, \"lat\": 59.677734375, \"lon\": 10.72265625, \"speed_knots\": 5.0, \"ssvid\": 319009700.0, \"timestamp\": \"2022-01-01 03:00:00\", \"total_power_demand_kw\": 266.9994037119435}, {\"distance_from_port_m\": 1000, \"distance_from_shore_m\": 1000, \"draught_recent_m\": 3.15, \"emissions_CH4\": 6.122379010660412, \"emissions_CO\": 277.3430984124586, \"emissions_CO2\": 180625.6076424588, \"emissions_N2O\": 9.859474061469541, \"emissions_NOX\": 2807.119740167983, \"emissions_PM\": 75.04578652887578, \"emissions_SOX\": 156.0896601158078, \"in_a_eca\": 1, \"in_a_river\": 0, \"lat\": 59.677734375, \"lon\": 10.72265625, \"speed_knots\": 5.0, \"ssvid\": 319009700.0, \"timestamp\": \"2022-01-01 04:00:00\", \"total_power_demand_kw\": 266.9994037119435}, {\"distance_from_port_m\": 1000, \"distance_from_shore_m\": 1000, \"draught_recent_m\": 3.15, \"emissions_CH4\": 6.394368411770515, \"emissions_CO\": 289.02627950559713, \"emissions_CO2\": 185709.95497002837, \"emissions_N2O\": 10.195597327045947, \"emissions_NOX\": 2888.2374882604217, \"emissions_PM\": 77.81204236971149, \"emissions_SOX\": 160.4940339406021, \"in_a_eca\": 1, \"in_a_river\": 0, \"lat\": 59.501953125, \"lon\": 10.72265625, \"speed_knots\": 5.09228858008903, \"ssvid\": 319009700.0, \"timestamp\": \"2022-01-01 05:00:00\", \"total_power_demand_kw\": 274.7263753343896}, {\"distance_from_port_m\": 1000, \"distance_from_shore_m\": 1000, \"draught_recent_m\": 3.15, \"emissions_CH4\": 6.394368411770515, \"emissions_CO\": 289.02627950559713, \"emissions_CO2\": 185709.95497002837, \"emissions_N2O\": 10.195597327045947, \"emissions_NOX\": 2888.2374882604217, \"emissions_PM\": 77.81204236971149, \"emissions_SOX\": 160.4940339406021, \"in_a_eca\": 1, \"in_a_river\": 0, \"lat\": 59.501953125, \"lon\": 10.72265625, \"speed_knots\": 5.09228858008903, \"ssvid\": 319009700.0, \"timestamp\": \"2022-01-01 06:00:00\", \"total_power_demand_kw\": 274.7263753343896}, {\"distance_from_port_m\": 1000, \"distance_from_shore_m\": 1000, \"draught_recent_m\": 3.15, \"emissions_CH4\": 5.80094947276044, \"emissions_CO\": 292.1702938964409, \"emissions_CO2\": 241583.3037283862, \"emissions_N2O\": 11.960373800708748, \"emissions_NOX\": 3314.136877237711, \"emissions_PM\": 85.70647259784258, \"emissions_SOX\": 208.8949591568087, \"in_a_eca\": 1, \"in_a_river\": 0, \"lat\": 59.326171875, \"lon\": 10.72265625, \"speed_knots\": 5.93945323834507, \"ssvid\": 319009700.0, \"timestamp\": \"2022-01-01 07:00:00\", \"total_power_demand_kw\": 359.64027922247146}, {\"distance_from_port_m\": 1000, \"distance_from_shore_m\": 1000, \"draught_recent_m\": 3.15, \"emissions_CH4\": 5.772098233586175, \"emissions_CO\": 290.7474567645101, \"emissions_CO2\": 240614.72641325017, \"emissions_N2O\": 11.908706530554834, \"emissions_NOX\": 3301.6678427072334, \"emissions_PM\": 85.32375207818396, \"emissions_SOX\": 208.05591801755713, \"in_a_eca\": 1, \"in_a_river\": 0, \"lat\": 59.23828125, \"lon\": 10.72265625, \"speed_knots\": 5.926735326353655, \"ssvid\": 319009700.0, \"timestamp\": \"2022-01-01 08:00:00\", \"total_power_demand_kw\": 358.16827722378446}, {\"distance_from_port_m\": 1000, \"distance_from_shore_m\": 1000, \"draught_recent_m\": 3.15, \"emissions_CH4\": 5.743370550215431, \"emissions_CO\": 289.33071295093043, \"emissions_CO2\": 239650.29704294662, \"emissions_N2O\": 11.857260526151105, \"emissions_NOX\": 3289.2522069777997, \"emissions_PM\": 84.94267056408225, \"emissions_SOX\": 207.2204700827957, \"in_a_eca\": 1, \"in_a_river\": 0, \"lat\": 59.150390625, \"lon\": 10.72265625, \"speed_knots\": 5.91401741436224, \"ssvid\": 319009700.0, \"timestamp\": \"2022-01-01 09:00:00\", \"total_power_demand_kw\": 356.7025790926241}, {\"distance_from_port_m\": 1000, \"distance_from_shore_m\": 1000, \"draught_recent_m\": 3.15, \"emissions_CH4\": 21.880000000000003, \"emissions_CO\": 1181.5200000000002, \"emissions_CO2\": 1444644.0, \"emissions_N2O\": 65.64, \"emissions_NOX\": 16268.82, \"emissions_PM\": 437.6, \"emissions_SOX\": 1251.06, \"in_a_eca\": 1, \"in_a_river\": 0, \"lat\": 58.974609375, \"lon\": 10.72265625, \"speed_knots\": 13.0, \"ssvid\": 319009700.0, \"timestamp\": \"2022-01-01 10:00:00\", \"total_power_demand_kw\": 2188.0}, {\"distance_from_port_m\": 1000, \"distance_from_shore_m\": 1000, \"draught_recent_m\": 3.15, \"emissions_CH4\": 21.880000000000003, \"emissions_CO\": 1181.5200000000002, \"emissions_CO2\": 1444644.0, \"emissions_N2O\": 65.64, \"emissions_NOX\": 16268.82, \"emissions_PM\": 437.6, \"emissions_SOX\": 1251.06, \"in_a_eca\": 1, \"in_a_river\": 0, \"lat\": 58.740234375, \"lon\": 10.72265625, \"speed_knots\": 13.0, \"ssvid\": 319009700.0, \"timestamp\": \"2022-01-01 11:00:00\", \"total_power_demand_kw\": 2188.0}, {\"distance_from_port_m\": 1000, \"distance_from_shore_m\": 1000, \"draught_recent_m\": 3.15, \"emissions_CH4\": 21.880000000000003, \"emissions_CO\": 1181.5200000000002, \"emissions_CO2\": 1444644.0, \"emissions_N2O\": 65.64, \"emissions_NOX\": 16268.82, \"emissions_PM\": 437.6, \"emissions_SOX\": 1251.06, \"in_a_eca\": 1, \"in_a_river\": 0, \"lat\": 58.53515625, \"lon\": 10.72265625, \"speed_knots\": 13.0, \"ssvid\": 319009700.0, \"timestamp\": \"2022-01-01 12:00:00\", \"total_power_demand_kw\": 2188.0}, {\"distance_from_port_m\": 1000, \"distance_from_shore_m\": 1000, \"draught_recent_m\": 3.15, \"emissions_CH4\": 21.880000000000003, \"emissions_CO\": 1181.5200000000002, \"emissions_CO2\": 1444644.0, \"emissions_N2O\": 65.64, \"emissions_NOX\": 16268.82, \"emissions_PM\": 437.6, \"emissions_SOX\": 1251.06, \"in_a_eca\": 1, \"in_a_river\": 0, \"lat\": 58.359375, \"lon\": 10.8984375, \"speed_knots\": 13.0, \"ssvid\": 319009700.0, \"timestamp\": \"2022-01-01 13:00:00\", \"total_power_demand_kw\": 2188.0}, {\"distance_from_port_m\": 1000, \"distance_from_shore_m\": 1000, \"draught_recent_m\": 3.15, \"emissions_CH4\": 21.880000000000003, \"emissions_CO\": 1181.5200000000002, \"emissions_CO2\": 1444644.0, \"emissions_N2O\": 65.64, \"emissions_NOX\": 16268.82, \"emissions_PM\": 437.6, \"emissions_SOX\": 1251.06, \"in_a_eca\": 1, \"in_a_river\": 0, \"lat\": 58.18359375, \"lon\": 11.07421875, \"speed_knots\": 13.0, \"ssvid\": 319009700.0, \"timestamp\": \"2022-01-01 14:00:00\", \"total_power_demand_kw\": 2188.0}, {\"distance_from_port_m\": 1000, \"distance_from_shore_m\": 1000, \"draught_recent_m\": 3.15, \"emissions_CH4\": 21.880000000000003, \"emissions_CO\": 1181.5200000000002, \"emissions_CO2\": 1444644.0, \"emissions_N2O\": 65.64, \"emissions_NOX\": 16268.82, \"emissions_PM\": 437.6, \"emissions_SOX\": 1251.06, \"in_a_eca\": 1, \"in_a_river\": 0, \"lat\": 58.0078125, \"lon\": 11.07421875, \"speed_knots\": 13.0, \"ssvid\": 319009700.0, \"timestamp\": \"2022-01-01 15:00:00\", \"total_power_demand_kw\": 2188.0}, {\"distance_from_port_m\": 1000, \"distance_from_shore_m\": 1000, \"draught_recent_m\": 3.15, \"emissions_CH4\": 21.880000000000003, \"emissions_CO\": 1181.5200000000002, \"emissions_CO2\": 1444644.0, \"emissions_N2O\": 65.64, \"emissions_NOX\": 16268.82, \"emissions_PM\": 437.6, \"emissions_SOX\": 1251.06, \"in_a_eca\": 1, \"in_a_river\": 0, \"lat\": 57.83203125, \"lon\": 11.25, \"speed_knots\": 13.0, \"ssvid\": 319009700.0, \"timestamp\": \"2022-01-01 16:00:00\", \"total_power_demand_kw\": 2188.0}, {\"distance_from_port_m\": 1000, \"distance_from_shore_m\": 1000, \"draught_recent_m\": 3.15, \"emissions_CH4\": 21.880000000000003, \"emissions_CO\": 1181.5200000000002, \"emissions_CO2\": 1444644.0, \"emissions_N2O\": 65.64, \"emissions_NOX\": 16268.82, \"emissions_PM\": 437.6, \"emissions_SOX\": 1251.06, \"in_a_eca\": 1, \"in_a_river\": 0, \"lat\": 57.626953125, \"lon\": 11.42578125, \"speed_knots\": 13.0, \"ssvid\": 319009700.0, \"timestamp\": \"2022-01-01 17:00:00\", \"total_power_demand_kw\": 2188.0}, {\"distance_from_port_m\": 1000, \"distance_from_shore_m\": 1000, \"draught_recent_m\": 3.15, \"emissions_CH4\": 21.880000000000003, \"emissions_CO\": 1181.5200000000002, \"emissions_CO2\": 1444644.0, \"emissions_N2O\": 65.64, \"emissions_NOX\": 16268.82, \"emissions_PM\": 437.6, \"emissions_SOX\": 1251.06, \"in_a_eca\": 1, \"in_a_river\": 0, \"lat\": 57.392578125, \"lon\": 11.42578125, \"speed_knots\": 13.0, \"ssvid\": 319009700.0, \"timestamp\": \"2022-01-01 18:00:00\", \"total_power_demand_kw\": 2188.0}, {\"distance_from_port_m\": 1000, \"distance_from_shore_m\": 1000, \"draught_recent_m\": 3.15, \"emissions_CH4\": 21.880000000000003, \"emissions_CO\": 1181.5200000000002, \"emissions_CO2\": 1444644.0, \"emissions_N2O\": 65.64, \"emissions_NOX\": 16268.82, \"emissions_PM\": 437.6, \"emissions_SOX\": 1251.06, \"in_a_eca\": 1, \"in_a_river\": 0, \"lat\": 57.216796875, \"lon\": 11.77734375, \"speed_knots\": 13.0, \"ssvid\": 319009700.0, \"timestamp\": \"2022-01-01 19:00:00\", \"total_power_demand_kw\": 2188.0}, {\"distance_from_port_m\": 1000, \"distance_from_shore_m\": 1000, \"draught_recent_m\": 3.15, \"emissions_CH4\": 21.880000000000003, \"emissions_CO\": 1181.5200000000002, \"emissions_CO2\": 1444644.0, \"emissions_N2O\": 65.64, \"emissions_NOX\": 16268.82, \"emissions_PM\": 437.6, \"emissions_SOX\": 1251.06, \"in_a_eca\": 1, \"in_a_river\": 0, \"lat\": 57.041015625, \"lon\": 11.77734375, \"speed_knots\": 13.0, \"ssvid\": 319009700.0, \"timestamp\": \"2022-01-01 20:00:00\", \"total_power_demand_kw\": 2188.0}, {\"distance_from_port_m\": 1000, \"distance_from_shore_m\": 1000, \"draught_recent_m\": 3.15, \"emissions_CH4\": 21.880000000000003, \"emissions_CO\": 1181.5200000000002, \"emissions_CO2\": 1444644.0, \"emissions_N2O\": 65.64, \"emissions_NOX\": 16268.82, \"emissions_PM\": 437.6, \"emissions_SOX\": 1251.06, \"in_a_eca\": 1, \"in_a_river\": 0, \"lat\": 56.806640625, \"lon\": 11.77734375, \"speed_knots\": 13.0, \"ssvid\": 319009700.0, \"timestamp\": \"2022-01-01 21:00:00\", \"total_power_demand_kw\": 2188.0}, {\"distance_from_port_m\": 1000, \"distance_from_shore_m\": 1000, \"draught_recent_m\": 3.15, \"emissions_CH4\": 21.880000000000003, \"emissions_CO\": 1181.5200000000002, \"emissions_CO2\": 1444644.0, \"emissions_N2O\": 65.64, \"emissions_NOX\": 16268.82, \"emissions_PM\": 437.6, \"emissions_SOX\": 1251.06, \"in_a_eca\": 1, \"in_a_river\": 0, \"lat\": 56.6015625, \"lon\": 11.77734375, \"speed_knots\": 13.0, \"ssvid\": 319009700.0, \"timestamp\": \"2022-01-01 22:00:00\", \"total_power_demand_kw\": 2188.0}, {\"distance_from_port_m\": 1000, \"distance_from_shore_m\": 1000, \"draught_recent_m\": 3.15, \"emissions_CH4\": 21.880000000000003, \"emissions_CO\": 1181.5200000000002, \"emissions_CO2\": 1444644.0, \"emissions_N2O\": 65.64, \"emissions_NOX\": 16268.82, \"emissions_PM\": 437.6, \"emissions_SOX\": 1251.06, \"in_a_eca\": 1, \"in_a_river\": 0, \"lat\": 56.513671875, \"lon\": 11.77734375, \"speed_knots\": 13.0, \"ssvid\": 319009700.0, \"timestamp\": \"2022-01-01 23:00:00\", \"total_power_demand_kw\": 2188.0}, {\"distance_from_port_m\": 1000, \"distance_from_shore_m\": 1000, \"draught_recent_m\": 3.15, \"emissions_CH4\": 11.664734074539465, \"emissions_CO\": 629.8956400251312, \"emissions_CO2\": 772479.5021046968, \"emissions_N2O\": 34.994202223618394, \"emissions_NOX\": 8872.967469966572, \"emissions_PM\": 233.29468149078932, \"emissions_SOX\": 668.7898422487494, \"in_a_eca\": 1, \"in_a_river\": 0, \"lat\": 56.337890625, \"lon\": 11.42578125, \"speed_knots\": 9.81559204626966, \"ssvid\": 319009700.0, \"timestamp\": \"2022-01-02 00:00:00\", \"total_power_demand_kw\": 1166.4734074539465}, {\"distance_from_port_m\": 1000, \"distance_from_shore_m\": 1000, \"draught_recent_m\": 3.15, \"emissions_CH4\": 9.769057881882189, \"emissions_CO\": 527.5291256216382, \"emissions_CO2\": 647744.0086278479, \"emissions_N2O\": 29.307173645646557, \"emissions_NOX\": 7500.497906482703, \"emissions_PM\": 195.38115763764375, \"emissions_SOX\": 560.7362992672846, \"in_a_eca\": 1, \"in_a_river\": 0, \"lat\": 56.162109375, \"lon\": 11.42578125, \"speed_knots\": 9.17646640631882, \"ssvid\": 319009700.0, \"timestamp\": \"2022-01-02 01:00:00\", \"total_power_demand_kw\": 976.9057881882187}, {\"distance_from_port_m\": 1000, \"distance_from_shore_m\": 1000, \"draught_recent_m\": 3.15, \"emissions_CH4\": 21.880000000000003, \"emissions_CO\": 1181.5200000000002, \"emissions_CO2\": 1444644.0, \"emissions_N2O\": 65.64, \"emissions_NOX\": 16268.82, \"emissions_PM\": 437.6, \"emissions_SOX\": 1251.06, \"in_a_eca\": 1, \"in_a_river\": 0, \"lat\": 55.986328125, \"lon\": 11.42578125, \"speed_knots\": 13.0, \"ssvid\": 319009700.0, \"timestamp\": \"2022-01-02 02:00:00\", \"total_power_demand_kw\": 2188.0}, {\"distance_from_port_m\": 1000, \"distance_from_shore_m\": 1000, \"draught_recent_m\": 3.15, \"emissions_CH4\": 21.880000000000003, \"emissions_CO\": 1181.5200000000002, \"emissions_CO2\": 1444644.0, \"emissions_N2O\": 65.64, \"emissions_NOX\": 16268.82, \"emissions_PM\": 437.6, \"emissions_SOX\": 1251.06, \"in_a_eca\": 1, \"in_a_river\": 0, \"lat\": 55.810546875, \"lon\": 11.42578125, \"speed_knots\": 13.0, \"ssvid\": 319009700.0, \"timestamp\": \"2022-01-02 03:00:00\", \"total_power_demand_kw\": 2188.0}, {\"distance_from_port_m\": 1000, \"distance_from_shore_m\": 1000, \"draught_recent_m\": 3.15, \"emissions_CH4\": 6.893516520901662, \"emissions_CO\": 372.2498921286898, \"emissions_CO2\": 458533.3870753294, \"emissions_N2O\": 20.680549562704986, \"emissions_NOX\": 5418.605961132804, \"emissions_PM\": 137.87033041803323, \"emissions_SOX\": 396.8304416913947, \"in_a_eca\": 1, \"in_a_river\": 0, \"lat\": 55.634765625, \"lon\": 11.07421875, \"speed_knots\": 7.99144694287444, \"ssvid\": 319009700.0, \"timestamp\": \"2022-01-02 04:00:00\", \"total_power_demand_kw\": 689.3516520901662}, {\"distance_from_port_m\": 1000, \"distance_from_shore_m\": 1000, \"draught_recent_m\": 3.15, \"emissions_CH4\": 6.893516520901662, \"emissions_CO\": 372.2498921286898, \"emissions_CO2\": 458533.3870753294, \"emissions_N2O\": 20.680549562704986, \"emissions_NOX\": 5418.605961132804, \"emissions_PM\": 137.87033041803323, \"emissions_SOX\": 396.8304416913947, \"in_a_eca\": 1, \"in_a_river\": 0, \"lat\": 55.634765625, \"lon\": 11.07421875, \"speed_knots\": 7.99144694287444, \"ssvid\": 319009700.0, \"timestamp\": \"2022-01-02 05:00:00\", \"total_power_demand_kw\": 689.3516520901662}, {\"distance_from_port_m\": 1000, \"distance_from_shore_m\": 1000, \"draught_recent_m\": 3.15, \"emissions_CH4\": 5.345636023627991, \"emissions_CO\": 282.2389233560318, \"emissions_CO2\": 286217.3899667072, \"emissions_N2O\": 13.359648937600744, \"emissions_NOX\": 3651.828610274313, \"emissions_PM\": 92.03905862098634, \"emissions_SOX\": 247.55974510793783, \"in_a_eca\": 1, \"in_a_river\": 0, \"lat\": 55.458984375, \"lon\": 11.07421875, \"speed_knots\": 6.47460202112309, \"ssvid\": 319009700.0, \"timestamp\": \"2022-01-02 06:00:00\", \"total_power_demand_kw\": 427.4732370314699}, {\"distance_from_port_m\": 1000, \"distance_from_shore_m\": 1000, \"draught_recent_m\": 3.15, \"emissions_CH4\": 5.400770458130367, \"emissions_CO\": 285.12861636436224, \"emissions_CO2\": 288884.92363601335, \"emissions_N2O\": 13.488566218275418, \"emissions_NOX\": 3682.940647343801, \"emissions_PM\": 92.93904718418689, \"emissions_SOX\": 249.87052655399333, \"in_a_eca\": 1, \"in_a_river\": 0, \"lat\": 55.37109375, \"lon\": 11.07421875, \"speed_knots\": 6.50388164156272, \"ssvid\": 319009700.0, \"timestamp\": \"2022-01-02 07:00:00\", \"total_power_demand_kw\": 431.52723956840936}, {\"distance_from_port_m\": 1000, \"distance_from_shore_m\": 1000, \"draught_recent_m\": 3.15, \"emissions_CH4\": 5.4564035501116726, \"emissions_CO\": 288.0444448911471, \"emissions_CO2\": 291576.5835274618, \"emissions_N2O\": 13.618649477467, \"emissions_NOX\": 3714.3340738953693, \"emissions_PM\": 93.84717559741114, \"emissions_SOX\": 252.2022076149745, \"in_a_eca\": 1, \"in_a_river\": 0, \"lat\": 55.283203125, \"lon\": 11.07421875, \"speed_knots\": 6.53316126200235, \"ssvid\": 319009700.0, \"timestamp\": \"2022-01-02 08:00:00\", \"total_power_demand_kw\": 435.6179080964465}, {\"distance_from_port_m\": 1000, \"distance_from_shore_m\": 1000, \"draught_recent_m\": 3.15, \"emissions_CH4\": 5.418902866787566, \"emissions_CO\": 292.62075480652857, \"emissions_CO2\": 348597.91298535414, \"emissions_N2O\": 15.785976844158405, \"emissions_NOX\": 4237.382411723562, \"emissions_PM\": 106.02439855472986, \"emissions_SOX\": 301.5975841970393, \"in_a_eca\": 1, \"in_a_river\": 0, \"lat\": 55.107421875, \"lon\": 11.07421875, \"speed_knots\": 7.10004654552268, \"ssvid\": 319009700.0, \"timestamp\": \"2022-01-02 09:00:00\", \"total_power_demand_kw\": 522.2764635035777}, {\"distance_from_port_m\": 1000, \"distance_from_shore_m\": 1000, \"draught_recent_m\": 3.15, \"emissions_CH4\": 5.418902866787566, \"emissions_CO\": 292.62075480652857, \"emissions_CO2\": 348597.91298535414, \"emissions_N2O\": 15.785976844158405, \"emissions_NOX\": 4237.382411723562, \"emissions_PM\": 106.02439855472986, \"emissions_SOX\": 301.5975841970393, \"in_a_eca\": 1, \"in_a_river\": 0, \"lat\": 55.107421875, \"lon\": 11.07421875, \"speed_knots\": 7.10004654552268, \"ssvid\": 319009700.0, \"timestamp\": \"2022-01-02 10:00:00\", \"total_power_demand_kw\": 522.2764635035777}, {\"distance_from_port_m\": 1000, \"distance_from_shore_m\": 1000, \"draught_recent_m\": 3.15, \"emissions_CH4\": 5.88126146655426, \"emissions_CO\": 317.5881191939301, \"emissions_CO2\": 391927.00449927035, \"emissions_N2O\": 17.64378439966278, \"emissions_NOX\": 4685.733301785284, \"emissions_PM\": 117.62522933108522, \"emissions_SOX\": 339.1319035935928, \"in_a_eca\": 1, \"in_a_river\": 0, \"lat\": 54.931640625, \"lon\": 10.72265625, \"speed_knots\": 7.47696713483652, \"ssvid\": 319009700.0, \"timestamp\": \"2022-01-02 11:00:00\", \"total_power_demand_kw\": 588.126146655426}, {\"distance_from_port_m\": 1000, \"distance_from_shore_m\": 1000, \"draught_recent_m\": 3.15, \"emissions_CH4\": 5.88126146655426, \"emissions_CO\": 317.5881191939301, \"emissions_CO2\": 391927.00449927035, \"emissions_N2O\": 17.64378439966278, \"emissions_NOX\": 4685.733301785284, \"emissions_PM\": 117.62522933108522, \"emissions_SOX\": 339.1319035935928, \"in_a_eca\": 1, \"in_a_river\": 0, \"lat\": 54.931640625, \"lon\": 10.72265625, \"speed_knots\": 7.47696713483652, \"ssvid\": 319009700.0, \"timestamp\": \"2022-01-02 12:00:00\", \"total_power_demand_kw\": 588.126146655426}, {\"distance_from_port_m\": 1000, \"distance_from_shore_m\": 1000, \"draught_recent_m\": 3.15, \"emissions_CH4\": 5.751100981596065, \"emissions_CO\": 310.55945300618754, \"emissions_CO2\": 383362.4445890211, \"emissions_N2O\": 17.253302944788192, \"emissions_NOX\": 4591.497110675551, \"emissions_PM\": 115.0220196319213, \"emissions_SOX\": 331.71275595097563, \"in_a_eca\": 1, \"in_a_river\": 0, \"lat\": 54.755859375, \"lon\": 10.72265625, \"speed_knots\": 7.40547512979615, \"ssvid\": 319009700.0, \"timestamp\": \"2022-01-02 13:00:00\", \"total_power_demand_kw\": 575.1100981596064}, {\"distance_from_port_m\": 1000, \"distance_from_shore_m\": 1000, \"draught_recent_m\": 3.15, \"emissions_CH4\": 7.984439918439692, \"emissions_CO\": 431.1597555957434, \"emissions_CO2\": 530316.1466333318, \"emissions_N2O\": 23.953319755319075, \"emissions_NOX\": 6208.434500950337, \"emissions_PM\": 159.68879836879384, \"emissions_SOX\": 459.0130753510624, \"in_a_eca\": 1, \"in_a_river\": 0, \"lat\": 54.580078125, \"lon\": 10.72265625, \"speed_knots\": 8.4804478285769, \"ssvid\": 319009700.0, \"timestamp\": \"2022-01-02 14:00:00\", \"total_power_demand_kw\": 798.4439918439692}, {\"distance_from_port_m\": 1000, \"distance_from_shore_m\": 1000, \"draught_recent_m\": 3.15, \"emissions_CH4\": 7.984439918439692, \"emissions_CO\": 431.1597555957434, \"emissions_CO2\": 530316.1466333318, \"emissions_N2O\": 23.953319755319075, \"emissions_NOX\": 6208.434500950337, \"emissions_PM\": 159.68879836879384, \"emissions_SOX\": 459.0130753510624, \"in_a_eca\": 1, \"in_a_river\": 0, \"lat\": 54.580078125, \"lon\": 10.72265625, \"speed_knots\": 8.4804478285769, \"ssvid\": 319009700.0, \"timestamp\": \"2022-01-02 15:00:00\", \"total_power_demand_kw\": 798.4439918439692}, {\"distance_from_port_m\": 1000, \"distance_from_shore_m\": 1000, \"draught_recent_m\": 3.15, \"emissions_CH4\": 5.7231544691850536, \"emissions_CO\": 288.333730097667, \"emissions_CO2\": 238971.6143226411, \"emissions_N2O\": 11.821057238183439, \"emissions_NOX\": 3280.5151468149365, \"emissions_PM\": 84.67449806061806, \"emissions_SOX\": 206.63255344058575, \"in_a_eca\": 1, \"in_a_river\": 0, \"lat\": 54.404296875, \"lon\": 10.37109375, \"speed_knots\": 5.90503474138347, \"ssvid\": 319009700.0, \"timestamp\": \"2022-01-02 16:00:00\", \"total_power_demand_kw\": 355.6711463869925}, {\"distance_from_port_m\": 1000, \"distance_from_shore_m\": 1000, \"draught_recent_m\": 3.15, \"emissions_CH4\": 5.7231544691850536, \"emissions_CO\": 288.333730097667, \"emissions_CO2\": 238971.6143226411, \"emissions_N2O\": 11.821057238183439, \"emissions_NOX\": 3280.5151468149365, \"emissions_PM\": 84.67449806061806, \"emissions_SOX\": 206.63255344058575, \"in_a_eca\": 1, \"in_a_river\": 0, \"lat\": 54.404296875, \"lon\": 10.37109375, \"speed_knots\": 5.90503474138347, \"ssvid\": 319009700.0, \"timestamp\": \"2022-01-02 18:00:00\", \"total_power_demand_kw\": 355.6711463869925}, {\"distance_from_port_m\": 1000, \"distance_from_shore_m\": 1000, \"draught_recent_m\": 3.15, \"emissions_CH4\": 6.122379010660412, \"emissions_CO\": 277.3430984124586, \"emissions_CO2\": 180625.6076424588, \"emissions_N2O\": 9.859474061469541, \"emissions_NOX\": 2807.119740167983, \"emissions_PM\": 75.04578652887578, \"emissions_SOX\": 156.0896601158078, \"in_a_eca\": 1, \"in_a_river\": 0, \"lat\": 54.404296875, \"lon\": 10.01953125, \"speed_knots\": 5.0, \"ssvid\": 319009700.0, \"timestamp\": \"2022-01-01 03:00:00\", \"total_power_demand_kw\": 266.9994037119435}, {\"distance_from_port_m\": 1000, \"distance_from_shore_m\": 1000, \"draught_recent_m\": 3.15, \"emissions_CH4\": 6.223524538294914, \"emissions_CO\": 281.68775857675877, \"emissions_CO2\": 182516.3393806265, \"emissions_N2O\": 9.984469244767862, \"emissions_NOX\": 2837.2852444039772, \"emissions_PM\": 76.0744825201585, \"emissions_SOX\": 157.72752803488922, \"in_a_eca\": 1, \"in_a_river\": 0, \"lat\": 54.228515625, \"lon\": 9.66796875, \"speed_knots\": 5.03471540537981, \"ssvid\": 319009700.0, \"timestamp\": \"2022-01-01 04:00:00\", \"total_power_demand_kw\": 269.87285620156}, {\"distance_from_port_m\": 1000, \"distance_from_shore_m\": 1000, \"draught_recent_m\": 3.15, \"emissions_CH4\": 6.223524538294914, \"emissions_CO\": 281.68775857675877, \"emissions_CO2\": 182516.3393806265, \"emissions_N2O\": 9.984469244767862, \"emissions_NOX\": 2837.2852444039772, \"emissions_PM\": 76.0744825201585, \"emissions_SOX\": 157.72752803488922, \"in_a_eca\": 1, \"in_a_river\": 0, \"lat\": 54.228515625, \"lon\": 9.66796875, \"speed_knots\": 5.03471540537981, \"ssvid\": 319009700.0, \"timestamp\": \"2022-01-01 06:00:00\", \"total_power_demand_kw\": 269.87285620156}, {\"distance_from_port_m\": 1000, \"distance_from_shore_m\": 1000, \"draught_recent_m\": 3.15, \"emissions_CH4\": 5.321120805544606, \"emissions_CO\": 278.4776449892288, \"emissions_CO2\": 270473.02653390146, \"emissions_N2O\": 12.762878510179949, \"emissions_NOX\": 3507.8080137900943, \"emissions_PM\": 88.91549559695642, \"emissions_SOX\": 233.92101082723983, \"in_a_eca\": 1, \"in_a_river\": 0, \"lat\": 54.052734375, \"lon\": 9.31640625, \"speed_knots\": 6.29613030110646, \"ssvid\": 319009700.0, \"timestamp\": \"2022-01-01 07:00:00\", \"total_power_demand_kw\": 403.5456330302453}, {\"distance_from_port_m\": 1000, \"distance_from_shore_m\": 1000, \"draught_recent_m\": 3.15, \"emissions_CH4\": 5.321120805544606, \"emissions_CO\": 278.4776449892288, \"emissions_CO2\": 270473.02653390146, \"emissions_N2O\": 12.762878510179949, \"emissions_NOX\": 3507.8080137900943, \"emissions_PM\": 88.91549559695642, \"emissions_SOX\": 233.92101082723983, \"in_a_eca\": 1, \"in_a_river\": 0, \"lat\": 54.052734375, \"lon\": 9.31640625, \"speed_knots\": 6.29613030110646, \"ssvid\": 319009700.0, \"timestamp\": \"2022-01-01 08:00:00\", \"total_power_demand_kw\": 403.5456330302453}, {\"distance_from_port_m\": 1000, \"distance_from_shore_m\": 1000, \"draught_recent_m\": 3.15, \"emissions_CH4\": 5.540172284170447, \"emissions_CO\": 292.4349120703452, \"emissions_CO2\": 295629.51198412897, \"emissions_N2O\": 13.814520487986782, \"emissions_NOX\": 3761.6042777674766, \"emissions_PM\": 95.21457699160584, \"emissions_SOX\": 255.7131030865555, \"in_a_eca\": 1, \"in_a_river\": 0, \"lat\": 54.052734375, \"lon\": 8.96484375, \"speed_knots\": 6.57675974375274, \"ssvid\": 319009700.0, \"timestamp\": \"2022-01-01 09:00:00\", \"total_power_demand_kw\": 441.7773738360623}, {\"distance_from_port_m\": 1000, \"distance_from_shore_m\": 1000, \"draught_recent_m\": 3.15, \"emissions_CH4\": 5.540172284170447, \"emissions_CO\": 292.4349120703452, \"emissions_CO2\": 295629.51198412897, \"emissions_N2O\": 13.814520487986782, \"emissions_NOX\": 3761.6042777674766, \"emissions_PM\": 95.21457699160584, \"emissions_SOX\": 255.7131030865555, \"in_a_eca\": 1, \"in_a_river\": 0, \"lat\": 54.052734375, \"lon\": 8.96484375, \"speed_knots\": 6.57675974375274, \"ssvid\": 319009700.0, \"timestamp\": \"2022-01-01 10:00:00\", \"total_power_demand_kw\": 441.7773738360623}, {\"distance_from_port_m\": 1000, \"distance_from_shore_m\": 1000, \"draught_recent_m\": 3.15, \"emissions_CH4\": 8.897640024425852, \"emissions_CO\": 480.47256131899604, \"emissions_CO2\": 590404.7136072211, \"emissions_N2O\": 26.692920073277556, \"emissions_NOX\": 6869.591377684317, \"emissions_PM\": 177.95280048851706, \"emissions_SOX\": 511.06548139227357, \"in_a_eca\": 1, \"in_a_river\": 0, \"lat\": 54.052734375, \"lon\": 8.61328125, \"speed_knots\": 8.85027331832182, \"ssvid\": 319009700.0, \"timestamp\": \"2022-01-01 11:00:00\", \"total_power_demand_kw\": 889.7640024425853}, {\"distance_from_port_m\": 1000, \"distance_from_shore_m\": 1000, \"draught_recent_m\": 3.15, \"emissions_CH4\": 15.591877934733507, \"emissions_CO\": 841.9614084756095, \"emissions_CO2\": 1030885.5681054647, \"emissions_N2O\": 46.77563380420052, \"emissions_NOX\": 11716.219624747058, \"emissions_PM\": 311.8375586946701, \"emissions_SOX\": 892.6370422798099, \"in_a_eca\": 1, \"in_a_river\": 0, \"lat\": 54.052734375, \"lon\": 8.4375, \"speed_knots\": 10.92513665916091, \"ssvid\": 319009700.0, \"timestamp\": \"2022-01-01 12:00:00\", \"total_power_demand_kw\": 1559.1877934733507}, {\"distance_from_port_m\": 1000, \"distance_from_shore_m\": 1000, \"draught_recent_m\": 3.15, \"emissions_CH4\": 14.747969199566583, \"emissions_CO\": 796.3903367765955, \"emissions_CO2\": 975356.3733314811, \"emissions_N2O\": 44.24390759869974, \"emissions_NOX\": 11105.229700486205, \"emissions_PM\": 294.95938399133166, \"emissions_SOX\": 844.5342443752951, \"in_a_eca\": 1, \"in_a_river\": 0, \"lat\": 54.052734375, \"lon\": 8.0859375, \"speed_knots\": 10.7057232884269, \"ssvid\": 319009700.0, \"timestamp\": \"2022-01-01 13:00:00\", \"total_power_demand_kw\": 1474.7969199566583}, {\"distance_from_port_m\": 1000, \"distance_from_shore_m\": 1000, \"draught_recent_m\": 3.15, \"emissions_CH4\": 7.822599859540878, \"emissions_CO\": 422.42039241520746, \"emissions_CO2\": 519667.07075778977, \"emissions_N2O\": 23.467799578622632, \"emissions_NOX\": 6091.262298307595, \"emissions_PM\": 156.45199719081756, \"emissions_SOX\": 449.78819199383, \"in_a_eca\": 1, \"in_a_river\": 0, \"lat\": 54.052734375, \"lon\": 7.91015625, \"speed_knots\": 8.4114465768538, \"ssvid\": 319009700.0, \"timestamp\": \"2022-01-01 14:00:00\", \"total_power_demand_kw\": 782.2599859540878}, {\"distance_from_port_m\": 1000, \"distance_from_shore_m\": 1000, \"draught_recent_m\": 3.15, \"emissions_CH4\": 5.464523514500519, \"emissions_CO\": 295.08426978302805, \"emissions_CO2\": 351456.8069086992, \"emissions_N2O\": 15.917624998987213, \"emissions_NOX\": 4269.153499755581, \"emissions_PM\": 106.91074256743866, \"emissions_SOX\": 304.07413364431386, \"in_a_eca\": 1, \"in_a_river\": 0, \"lat\": 53.876953125, \"lon\": 7.55859375, \"speed_knots\": 7.12616354598178, \"ssvid\": 319009700.0, \"timestamp\": \"2022-01-01 15:00:00\", \"total_power_demand_kw\": 526.6212870952875}, {\"distance_from_port_m\": 1000, \"distance_from_shore_m\": 1000, \"draught_recent_m\": 3.15, \"emissions_CH4\": 5.464523514500519, \"emissions_CO\": 295.08426978302805, \"emissions_CO2\": 351456.8069086992, \"emissions_N2O\": 15.917624998987213, \"emissions_NOX\": 4269.153499755581, \"emissions_PM\": 106.91074256743866, \"emissions_SOX\": 304.07413364431386, \"in_a_eca\": 1, \"in_a_river\": 0, \"lat\": 53.876953125, \"lon\": 7.55859375, \"speed_knots\": 7.12616354598178, \"ssvid\": 319009700.0, \"timestamp\": \"2022-01-01 16:00:00\", \"total_power_demand_kw\": 526.6212870952875}, {\"distance_from_port_m\": 1000, \"distance_from_shore_m\": 1000, \"draught_recent_m\": 3.15, \"emissions_CH4\": 6.952037692952914, \"emissions_CO\": 375.41003541945736, \"emissions_CO2\": 462384.08019630174, \"emissions_N2O\": 20.85611307885874, \"emissions_NOX\": 5460.97528969791, \"emissions_PM\": 139.04075385905827, \"emissions_SOX\": 400.1661484983161, \"in_a_eca\": 1, \"in_a_river\": 0, \"lat\": 53.876953125, \"lon\": 7.20703125, \"speed_knots\": 8.01922000755228, \"ssvid\": 319009700.0, \"timestamp\": \"2022-01-01 17:00:00\", \"total_power_demand_kw\": 695.2037692952914}, {\"distance_from_port_m\": 1000, \"distance_from_shore_m\": 1000, \"draught_recent_m\": 3.15, \"emissions_CH4\": 14.022382975279417, \"emissions_CO\": 757.2086806650885, \"emissions_CO2\": 927612.7997733855, \"emissions_N2O\": 42.06714892583825, \"emissions_NOX\": 10579.905274102297, \"emissions_PM\": 280.4476595055883, \"emissions_SOX\": 803.1758295909266, \"in_a_eca\": 1, \"in_a_river\": 0, \"lat\": 53.876953125, \"lon\": 7.03125, \"speed_knots\": 10.509610003776139, \"ssvid\": 319009700.0, \"timestamp\": \"2022-01-01 18:00:00\", \"total_power_demand_kw\": 1402.2382975279415}, {\"distance_from_port_m\": 1000, \"distance_from_shore_m\": 1000, \"draught_recent_m\": 3.15, \"emissions_CH4\": 21.880000000000003, \"emissions_CO\": 1181.5200000000002, \"emissions_CO2\": 1444644.0, \"emissions_N2O\": 65.64, \"emissions_NOX\": 16268.82, \"emissions_PM\": 437.6, \"emissions_SOX\": 1251.06, \"in_a_eca\": 1, \"in_a_river\": 0, \"lat\": 53.876953125, \"lon\": 6.6796875, \"speed_knots\": 13.0, \"ssvid\": 319009700.0, \"timestamp\": \"2022-01-01 19:00:00\", \"total_power_demand_kw\": 2188.0}, {\"distance_from_port_m\": 1000, \"distance_from_shore_m\": 1000, \"draught_recent_m\": 3.15, \"emissions_CH4\": 21.880000000000003, \"emissions_CO\": 1181.5200000000002, \"emissions_CO2\": 1444644.0, \"emissions_N2O\": 65.64, \"emissions_NOX\": 16268.82, \"emissions_PM\": 437.6, \"emissions_SOX\": 1251.06, \"in_a_eca\": 1, \"in_a_river\": 0, \"lat\": 53.876953125, \"lon\": 6.328125, \"speed_knots\": 13.0, \"ssvid\": 319009700.0, \"timestamp\": \"2022-01-01 20:00:00\", \"total_power_demand_kw\": 2188.0}, {\"distance_from_port_m\": 1000, \"distance_from_shore_m\": 1000, \"draught_recent_m\": 3.15, \"emissions_CH4\": 21.880000000000003, \"emissions_CO\": 1181.5200000000002, \"emissions_CO2\": 1444644.0, \"emissions_N2O\": 65.64, \"emissions_NOX\": 16268.82, \"emissions_PM\": 437.6, \"emissions_SOX\": 1251.06, \"in_a_eca\": 1, \"in_a_river\": 0, \"lat\": 53.876953125, \"lon\": 6.15234375, \"speed_knots\": 13.0, \"ssvid\": 319009700.0, \"timestamp\": \"2022-01-01 21:00:00\", \"total_power_demand_kw\": 2188.0}, {\"distance_from_port_m\": 1000, \"distance_from_shore_m\": 1000, \"draught_recent_m\": 3.15, \"emissions_CH4\": 9.519840717506009, \"emissions_CO\": 514.0713987453245, \"emissions_CO2\": 631345.5192118953, \"emissions_N2O\": 28.559522152518024, \"emissions_NOX\": 7320.06467947435, \"emissions_PM\": 190.39681435012017, \"emissions_SOX\": 546.5309208978424, \"in_a_eca\": 1, \"in_a_river\": 0, \"lat\": 53.701171875, \"lon\": 5.80078125, \"speed_knots\": 9.08555746011319, \"ssvid\": 319009700.0, \"timestamp\": \"2022-01-01 22:00:00\", \"total_power_demand_kw\": 951.9840717506008}, {\"distance_from_port_m\": 1000, \"distance_from_shore_m\": 1000, \"draught_recent_m\": 3.15, \"emissions_CH4\": 9.519840717506009, \"emissions_CO\": 514.0713987453245, \"emissions_CO2\": 631345.5192118953, \"emissions_N2O\": 28.559522152518024, \"emissions_NOX\": 7320.06467947435, \"emissions_PM\": 190.39681435012017, \"emissions_SOX\": 546.5309208978424, \"in_a_eca\": 1, \"in_a_river\": 0, \"lat\": 53.701171875, \"lon\": 5.80078125, \"speed_knots\": 9.08555746011319, \"ssvid\": 319009700.0, \"timestamp\": \"2022-01-01 23:00:00\", \"total_power_demand_kw\": 951.9840717506008}, {\"distance_from_port_m\": 1000, \"distance_from_shore_m\": 1000, \"draught_recent_m\": 3.15, \"emissions_CH4\": 5.956111851455875, \"emissions_CO\": 321.6300399786172, \"emissions_CO2\": 396852.15982579655, \"emissions_N2O\": 17.868335554367622, \"emissions_NOX\": 4739.924980454053, \"emissions_PM\": 119.1222370291175, \"emissions_SOX\": 343.3983755329848, \"in_a_eca\": 1, \"in_a_river\": 0, \"lat\": 53.525390625, \"lon\": 5.44921875, \"speed_knots\": 7.51746786405236, \"ssvid\": 319009700.0, \"timestamp\": \"2022-01-02 00:00:00\", \"total_power_demand_kw\": 595.6111851455875}, {\"distance_from_port_m\": 1000, \"distance_from_shore_m\": 1000, \"draught_recent_m\": 3.15, \"emissions_CH4\": 13.132866438482182, \"emissions_CO\": 709.1747876780379, \"emissions_CO2\": 869082.6116521275, \"emissions_N2O\": 39.39859931544654, \"emissions_NOX\": 9935.8953014611, \"emissions_PM\": 262.65732876964364, \"emissions_SOX\": 752.4733869934843, \"in_a_eca\": 1, \"in_a_river\": 0, \"lat\": 53.525390625, \"lon\": 5.2734375, \"speed_knots\": 10.25873393202618, \"ssvid\": 319009700.0, \"timestamp\": \"2022-01-02 01:00:00\", \"total_power_demand_kw\": 1313.286643848218}, {\"distance_from_port_m\": 1000, \"distance_from_shore_m\": 1000, \"draught_recent_m\": 3.15, \"emissions_CH4\": 21.880000000000003, \"emissions_CO\": 1181.5200000000002, \"emissions_CO2\": 1444644.0, \"emissions_N2O\": 65.64, \"emissions_NOX\": 16268.82, \"emissions_PM\": 437.6, \"emissions_SOX\": 1251.06, \"in_a_eca\": 1, \"in_a_river\": 0, \"lat\": 53.4375, \"lon\": 4.921875, \"speed_knots\": 13.0, \"ssvid\": 319009700.0, \"timestamp\": \"2022-01-02 02:00:00\", \"total_power_demand_kw\": 2188.0}, {\"distance_from_port_m\": 1000, \"distance_from_shore_m\": 1000, \"draught_recent_m\": 3.15, \"emissions_CH4\": 21.880000000000003, \"emissions_CO\": 1181.5200000000002, \"emissions_CO2\": 1444644.0, \"emissions_N2O\": 65.64, \"emissions_NOX\": 16268.82, \"emissions_PM\": 437.6, \"emissions_SOX\": 1251.06, \"in_a_eca\": 1, \"in_a_river\": 0, \"lat\": 53.349609375, \"lon\": 4.74609375, \"speed_knots\": 13.0, \"ssvid\": 319009700.0, \"timestamp\": \"2022-01-02 03:00:00\", \"total_power_demand_kw\": 2188.0}, {\"distance_from_port_m\": 1000, \"distance_from_shore_m\": 1000, \"draught_recent_m\": 3.15, \"emissions_CH4\": 21.880000000000003, \"emissions_CO\": 1181.5200000000002, \"emissions_CO2\": 1444644.0, \"emissions_N2O\": 65.64, \"emissions_NOX\": 16268.82, \"emissions_PM\": 437.6, \"emissions_SOX\": 1251.06, \"in_a_eca\": 1, \"in_a_river\": 0, \"lat\": 53.173828125, \"lon\": 4.39453125, \"speed_knots\": 13.0, \"ssvid\": 319009700.0, \"timestamp\": \"2022-01-02 04:00:00\", \"total_power_demand_kw\": 2188.0}, {\"distance_from_port_m\": 1000, \"distance_from_shore_m\": 1000, \"draught_recent_m\": 3.15, \"emissions_CH4\": 21.880000000000003, \"emissions_CO\": 1181.5200000000002, \"emissions_CO2\": 1444644.0, \"emissions_N2O\": 65.64, \"emissions_NOX\": 16268.82, \"emissions_PM\": 437.6, \"emissions_SOX\": 1251.06, \"in_a_eca\": 1, \"in_a_river\": 0, \"lat\": 52.998046875, \"lon\": 4.04296875, \"speed_knots\": 13.0, \"ssvid\": 319009700.0, \"timestamp\": \"2022-01-02 05:00:00\", \"total_power_demand_kw\": 2188.0}, {\"distance_from_port_m\": 1000, \"distance_from_shore_m\": 1000, \"draught_recent_m\": 3.15, \"emissions_CH4\": 21.880000000000003, \"emissions_CO\": 1181.5200000000002, \"emissions_CO2\": 1444644.0, \"emissions_N2O\": 65.64, \"emissions_NOX\": 16268.82, \"emissions_PM\": 437.6, \"emissions_SOX\": 1251.06, \"in_a_eca\": 1, \"in_a_river\": 0, \"lat\": 52.763671875, \"lon\": 4.04296875, \"speed_knots\": 13.0, \"ssvid\": 319009700.0, \"timestamp\": \"2022-01-02 06:00:00\", \"total_power_demand_kw\": 2188.0}, {\"distance_from_port_m\": 1000, \"distance_from_shore_m\": 1000, \"draught_recent_m\": 3.15, \"emissions_CH4\": 21.880000000000003, \"emissions_CO\": 1181.5200000000002, \"emissions_CO2\": 1444644.0, \"emissions_N2O\": 65.64, \"emissions_NOX\": 16268.82, \"emissions_PM\": 437.6, \"emissions_SOX\": 1251.06, \"in_a_eca\": 1, \"in_a_river\": 0, \"lat\": 52.646484375, \"lon\": 4.04296875, \"speed_knots\": 13.0, \"ssvid\": 319009700.0, \"timestamp\": \"2022-01-02 07:00:00\", \"total_power_demand_kw\": 2188.0}, {\"distance_from_port_m\": 1000, \"distance_from_shore_m\": 1000, \"draught_recent_m\": 3.15, \"emissions_CH4\": 8.85302991372341, \"emissions_CO\": 478.0636153410641, \"emissions_CO2\": 587469.3683230004, \"emissions_N2O\": 26.559089741170226, \"emissions_NOX\": 6837.293657535748, \"emissions_PM\": 177.0605982744682, \"emissions_SOX\": 508.52270508223427, \"in_a_eca\": 1, \"in_a_river\": 0, \"lat\": 52.470703125, \"lon\": 4.39453125, \"speed_knots\": 8.83291762524718, \"ssvid\": 319009700.0, \"timestamp\": \"2022-01-02 08:00:00\", \"total_power_demand_kw\": 885.3029913723409}, {\"distance_from_port_m\": 1000, \"distance_from_shore_m\": 1000, \"draught_recent_m\": 3.15, \"emissions_CH4\": 8.85302991372341, \"emissions_CO\": 478.0636153410641, \"emissions_CO2\": 587469.3683230004, \"emissions_N2O\": 26.559089741170226, \"emissions_NOX\": 6837.293657535748, \"emissions_PM\": 177.0605982744682, \"emissions_SOX\": 508.52270508223427, \"in_a_eca\": 1, \"in_a_river\": 0, \"lat\": 52.470703125, \"lon\": 4.39453125, \"speed_knots\": 8.83291762524718, \"ssvid\": 319009700.0, \"timestamp\": \"2022-01-02 09:00:00\", \"total_power_demand_kw\": 885.3029913723409}, {\"distance_from_port_m\": 1000, \"distance_from_shore_m\": 1000, \"draught_recent_m\": 3.15, \"emissions_CH4\": 6.122379010660412, \"emissions_CO\": 277.3430984124586, \"emissions_CO2\": 180625.6076424588, \"emissions_N2O\": 9.859474061469541, \"emissions_NOX\": 2807.119740167983, \"emissions_PM\": 75.04578652887578, \"emissions_SOX\": 156.0896601158078, \"in_a_eca\": 1, \"in_a_river\": 0, \"lat\": 52.470703125, \"lon\": 4.74609375, \"speed_knots\": 5.0, \"ssvid\": 319009700.0, \"timestamp\": \"2022-01-02 10:00:00\", \"total_power_demand_kw\": 266.9994037119435}, {\"distance_from_port_m\": 1000, \"distance_from_shore_m\": 1000, \"draught_recent_m\": 3.15, \"emissions_CH4\": 6.122379010660412, \"emissions_CO\": 277.3430984124586, \"emissions_CO2\": 180625.6076424588, \"emissions_N2O\": 9.859474061469541, \"emissions_NOX\": 2807.119740167983, \"emissions_PM\": 75.04578652887578, \"emissions_SOX\": 156.0896601158078, \"in_a_eca\": 1, \"in_a_river\": 0, \"lat\": 52.470703125, \"lon\": 4.74609375, \"speed_knots\": 5.0, \"ssvid\": 319009700.0, \"timestamp\": \"2022-01-02 11:00:00\", \"total_power_demand_kw\": 266.9994037119435}], \"getColor\": \"@@=[10+speed_knots*255/25*2, 10+speed_knots*255/25, 10+speed_knots*255/25*4]\", \"getNormal\": [0, 0, 15], \"getPosition\": \"@@=[lon, lat]\", \"id\": \"4209c870-606c-426c-81ce-e11de25e3d8e\", \"pickable\": true, \"pointSize\": 5}], \"mapProvider\": \"carto\", \"mapStyle\": \"https://basemaps.cartocdn.com/gl/voyager-gl-style/style.json\", \"views\": [{\"@@type\": \"MapView\", \"controller\": true}]}"
      ]
     },
     "execution_count": 16,
     "metadata": {},
     "output_type": "execute_result"
    }
   ],
   "source": [
    "list_of_paths[mmsis.index(min_co2_mmsi)]"
   ]
  },
  {
   "cell_type": "code",
   "execution_count": null,
   "id": "1e445e45",
   "metadata": {},
   "outputs": [],
   "source": [
    "#max_co2_mmsi = int(df_summed_emissions.index[1])\n",
    "#list_of_paths[mmsis.index(max_co2_mmsi)]"
   ]
  },
  {
   "cell_type": "code",
   "execution_count": null,
   "id": "10088a2e",
   "metadata": {},
   "outputs": [],
   "source": []
  }
 ],
 "metadata": {
  "kernelspec": {
   "display_name": "Python 3 (ipykernel)",
   "language": "python",
   "name": "python3"
  },
  "language_info": {
   "codemirror_mode": {
    "name": "ipython",
    "version": 3
   },
   "file_extension": ".py",
   "mimetype": "text/x-python",
   "name": "python",
   "nbconvert_exporter": "python",
   "pygments_lexer": "ipython3",
   "version": "3.8.12"
  }
 },
 "nbformat": 4,
 "nbformat_minor": 5
}
