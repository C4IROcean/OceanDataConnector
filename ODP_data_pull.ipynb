{
 "cells": [
  {
   "cell_type": "markdown",
   "id": "5c81b8dd-ea24-4412-8103-b3d3a19fd863",
   "metadata": {},
   "source": [
    "### Prepare notebook with relevant modules"
   ]
  },
  {
   "cell_type": "code",
   "execution_count": 1,
   "id": "64804c1c-ceb4-4f31-877b-67159bc190ce",
   "metadata": {
    "tags": []
   },
   "outputs": [
    {
     "name": "stdout",
     "output_type": "stream",
     "text": [
      "Note: you may need to restart the kernel to use updated packages.\n"
     ]
    }
   ],
   "source": [
    "%pip install -U odp-sdk --quiet 2>/dev/null"
   ]
  },
  {
   "cell_type": "code",
   "execution_count": 2,
   "id": "1a07ed83-085a-4b50-bcb9-4680f0250631",
   "metadata": {},
   "outputs": [],
   "source": [
    "import pandas as pd\n",
    "import matplotlib.pyplot as plt\n",
    "from ODPworkspace_demotools import mapOQS, pydeck_plot\n",
    "##import the SDK\n",
    "from odp.client import OdpClient"
   ]
  },
  {
   "cell_type": "code",
   "execution_count": 4,
   "id": "367f9b0a-e021-468b-bd96-b5545b468be5",
   "metadata": {
    "tags": []
   },
   "outputs": [],
   "source": [
    "client = OdpClient()"
   ]
  },
  {
   "cell_type": "markdown",
   "id": "a53319d1-5155-45e1-b8aa-3169c4bf52e6",
   "metadata": {},
   "source": [
    "## Querying Tabular Data\n",
    "- Need to get the uuid from the dataset in the [catalog](https://app.hubocean.earth/catalog)\n",
    "- Example from [GLODAP dataset](https://app.hubocean.earth/catalog/dataset/glodap)\n",
    "- ![title](figs/API_uuid_pic2.png)"
   ]
  },
  {
   "cell_type": "code",
   "execution_count": 6,
   "id": "8866ceec-ca04-46e1-a21e-4fec21ddc311",
   "metadata": {},
   "outputs": [],
   "source": [
    "ref = \"8a477f7b-8fd5-403e-b021-89dda7848997\""
   ]
  },
  {
   "cell_type": "markdown",
   "id": "2b45f67d-18ed-4ef8-bd86-21bbb3e5efaa",
   "metadata": {},
   "source": [
    "#### Explore the dataset through the catalog functions"
   ]
  },
  {
   "cell_type": "code",
   "execution_count": 7,
   "id": "f37368b9-3298-47b5-8372-fd2edbc3be1e",
   "metadata": {},
   "outputs": [
    {
     "data": {
      "text/plain": [
       "'Global Ocean Data Analysis Project (GLODAP) data'"
      ]
     },
     "execution_count": 7,
     "metadata": {},
     "output_type": "execute_result"
    }
   ],
   "source": [
    "data_cat = client.catalog.get((\"8a477f7b-8fd5-403e-b021-89dda7848997\"))\n",
    "data_cat.metadata.display_name"
   ]
  },
  {
   "cell_type": "code",
   "execution_count": 8,
   "id": "e35560b0-b500-450a-af46-f0b3f11011d0",
   "metadata": {},
   "outputs": [
    {
     "data": {
      "text/plain": [
       "'This dataset consists of the GLODAPv2.2022 data product composed of data from 1085 scientific cruises covering the global ocean between 1972 and 2021. It includes full depth discrete bottle measurements of salinity, oxygen, nitrate, silicate, phosphate, dissolved inorganic carbon (TCO2), total alkalinity (TAlk), CO2 fugacity (fCO2), pH, chlorofluorocarbons (CFC-11, CFC-12, CFC-113, and CCl4), SF6, and various isotopes and organic compounds.'"
      ]
     },
     "execution_count": 8,
     "metadata": {},
     "output_type": "execute_result"
    }
   ],
   "source": [
    "data_cat.metadata.description"
   ]
  },
  {
   "cell_type": "markdown",
   "id": "c9c84617-a3f6-439f-b32b-df9593f1f7e7",
   "metadata": {},
   "source": [
    "#### Pull the data\n",
    "- See [documentation](https://docs.hubocean.earth/) to see otherways to interact with the data through the SDK"
   ]
  },
  {
   "cell_type": "code",
   "execution_count": 9,
   "id": "ddb1725f-4f55-43d3-9f54-cf29021e9684",
   "metadata": {},
   "outputs": [],
   "source": [
    "data = client.tabular.select_as_list(data_cat, limit=100)"
   ]
  },
  {
   "cell_type": "code",
   "execution_count": 10,
   "id": "66f54ccc-7d83-4a7a-907f-b5e7818f87cd",
   "metadata": {},
   "outputs": [
    {
     "data": {
      "text/plain": [
       "[{'G2fco2': -9999.0,\n",
       "  'G2c14err': -9999.0,\n",
       "  'G2silicate': -9999.0,\n",
       "  'G2region': 4,\n",
       "  'G2talk': -9999.0,\n",
       "  'G2cruise': 1,\n",
       "  'G2tco2f': 9,\n",
       "  'G2pcfc12': -9999.0,\n",
       "  'G2he': -9999.0,\n",
       "  'G2aouf': 9,\n",
       "  'G2nitrateqc': 1,\n",
       "  'G2ccl4f': 9,\n",
       "  'G2salinityf': 2,\n",
       "  'G2talkf': 9,\n",
       "  'G2donf': 9,\n",
       "  'G2hef': 9,\n",
       "  'G2tco2': -9999.0,\n",
       "  'G2phosphatef': 9,\n",
       "  'G2phtsinsitutp': -9999.0,\n",
       "  'G2toc': -9999.0,\n",
       "  'G2year': 1984,\n",
       "  'G2c14f': 9,\n",
       "  'G2oxygenqc': 1,\n",
       "  'G2oxygenf': 9,\n",
       "  'G2cfc113qc': 0,\n",
       "  'G2c13f': 9,\n",
       "  'G2depth': 9.0,\n",
       "  'G2phosphate': -9999.0,\n",
       "  'G2temperature': 0.4049,\n",
       "  'G2silicateqc': 1,\n",
       "  'G2sigma3': 40.593,\n",
       "  'G2hour': 14,\n",
       "  'G2chla': -9999.0,\n",
       "  'G2fco2f': 9,\n",
       "  'G2neon': -9999.0,\n",
       "  'G2day': 20,\n",
       "  'G2talkqc': 0,\n",
       "  'G2chlaf': 9,\n",
       "  'G2phosphateqc': 1,\n",
       "  'G2pcfc113': -9999.0,\n",
       "  'G2psf6': -9999.0,\n",
       "  'G2h3err': -9999.0,\n",
       "  'G2nitratef': 9,\n",
       "  'G2sf6qc': 0,\n",
       "  'G2ccl4': -9999.0,\n",
       "  'G2tocf': 9,\n",
       "  'G2fco2temp': -9999,\n",
       "  'G2c14': -9999.0,\n",
       "  'G2bottle': 1,\n",
       "  'G2c13qc': 0,\n",
       "  'G2sigma4': 44.99,\n",
       "  'G2salinity': 33.381,\n",
       "  'G2c13': -9999.0,\n",
       "  'G2cfc113': -9999.0,\n",
       "  'G2oxygen': -9999.0,\n",
       "  'G2neonerr': -9999.0,\n",
       "  'G2pcfc11': -9999.0,\n",
       "  'G2salinityqc': 1,\n",
       "  'G2heerr': -9999.0,\n",
       "  'G2expocode': '06AQ19840719',\n",
       "  'G2o18f': 9,\n",
       "  'G2pressure': 8.6,\n",
       "  'G2cfc11qc': 0,\n",
       "  'G2o18': -9999.0,\n",
       "  'G2tco2qc': 0,\n",
       "  'G2phts25p0f': 9,\n",
       "  'G2cast': 1,\n",
       "  'G2pccl4': -9999.0,\n",
       "  'G2cfc12': -9999.0,\n",
       "  'G2cfc11f': 9,\n",
       "  'G2phtsqc': 0,\n",
       "  'G2sf6': -9999.0,\n",
       "  'G2h3': -9999.0,\n",
       "  'G2gamma': -9999.0,\n",
       "  'G2station': 319.0,\n",
       "  'G2h3f': 9,\n",
       "  'G2don': -9999.0,\n",
       "  'G2month': 7,\n",
       "  'G2cfc11': -9999.0,\n",
       "  'G2phtsinsitutpf': 9,\n",
       "  'G2neonf': 9,\n",
       "  'G2he3err': -9999.0,\n",
       "  'G2cfc12qc': 0,\n",
       "  'G2silicatef': 9,\n",
       "  'G2sigma0': 26.778,\n",
       "  'G2sigma1': 31.489,\n",
       "  'G2cfc12f': 9,\n",
       "  'G2doi': 'https://doi.org/10.3334/cdiac/otg.carina_06aq19840719                                      ',\n",
       "  'G2minute': 46,\n",
       "  'G2theta': 0.40459,\n",
       "  'G2he3f': 9,\n",
       "  'G2maxsampdepth': 724.0,\n",
       "  'G2doc': -9999.0,\n",
       "  'G2aou': -9999.0,\n",
       "  'G2cfc113f': 9,\n",
       "  'G2nitritef': 9,\n",
       "  'G2bottomdepth': 733.0,\n",
       "  'G2sf6f': 9,\n",
       "  'G2docf': 9,\n",
       "  'G2nitrite': -9999.0,\n",
       "  'G2tdnf': 9,\n",
       "  'G2nitrate': -9999.0,\n",
       "  'G2he3': -9999.0,\n",
       "  'G2tdn': -9999.0,\n",
       "  'G2sigma2': 36.093,\n",
       "  'G2ccl4qc': 0,\n",
       "  'geometry': {\"coordinates\": [7.2267, 80.567], \"type\": \"Point\"},\n",
       "  'G2phts25p0': -9999.0}]"
      ]
     },
     "execution_count": 10,
     "metadata": {},
     "output_type": "execute_result"
    }
   ],
   "source": [
    "data[0:1]"
   ]
  },
  {
   "cell_type": "code",
   "execution_count": 11,
   "id": "4193fc2e-15ab-45cf-80b0-4bd80714104e",
   "metadata": {},
   "outputs": [
    {
     "data": {
      "text/html": [
       "<div>\n",
       "<style scoped>\n",
       "    .dataframe tbody tr th:only-of-type {\n",
       "        vertical-align: middle;\n",
       "    }\n",
       "\n",
       "    .dataframe tbody tr th {\n",
       "        vertical-align: top;\n",
       "    }\n",
       "\n",
       "    .dataframe thead th {\n",
       "        text-align: right;\n",
       "    }\n",
       "</style>\n",
       "<table border=\"1\" class=\"dataframe\">\n",
       "  <thead>\n",
       "    <tr style=\"text-align: right;\">\n",
       "      <th></th>\n",
       "      <th>G2fco2</th>\n",
       "      <th>G2c14err</th>\n",
       "      <th>G2silicate</th>\n",
       "      <th>G2region</th>\n",
       "      <th>G2talk</th>\n",
       "      <th>G2cruise</th>\n",
       "      <th>G2tco2f</th>\n",
       "      <th>G2pcfc12</th>\n",
       "      <th>G2he</th>\n",
       "      <th>G2aouf</th>\n",
       "      <th>...</th>\n",
       "      <th>G2docf</th>\n",
       "      <th>G2nitrite</th>\n",
       "      <th>G2tdnf</th>\n",
       "      <th>G2nitrate</th>\n",
       "      <th>G2he3</th>\n",
       "      <th>G2tdn</th>\n",
       "      <th>G2sigma2</th>\n",
       "      <th>G2ccl4qc</th>\n",
       "      <th>geometry</th>\n",
       "      <th>G2phts25p0</th>\n",
       "    </tr>\n",
       "  </thead>\n",
       "  <tbody>\n",
       "    <tr>\n",
       "      <th>0</th>\n",
       "      <td>-9999.0</td>\n",
       "      <td>-9999.0</td>\n",
       "      <td>-9999.0</td>\n",
       "      <td>4</td>\n",
       "      <td>-9999.0</td>\n",
       "      <td>1</td>\n",
       "      <td>9</td>\n",
       "      <td>-9999.0</td>\n",
       "      <td>-9999.0</td>\n",
       "      <td>9</td>\n",
       "      <td>...</td>\n",
       "      <td>9</td>\n",
       "      <td>-9999.0</td>\n",
       "      <td>9</td>\n",
       "      <td>-9999.0</td>\n",
       "      <td>-9999.0</td>\n",
       "      <td>-9999.0</td>\n",
       "      <td>36.093</td>\n",
       "      <td>0</td>\n",
       "      <td>{'type': 'Point', 'coordinates': [7.2267, 80.5...</td>\n",
       "      <td>-9999.0</td>\n",
       "    </tr>\n",
       "    <tr>\n",
       "      <th>1</th>\n",
       "      <td>-9999.0</td>\n",
       "      <td>-9999.0</td>\n",
       "      <td>-9999.0</td>\n",
       "      <td>4</td>\n",
       "      <td>-9999.0</td>\n",
       "      <td>1</td>\n",
       "      <td>9</td>\n",
       "      <td>-9999.0</td>\n",
       "      <td>-9999.0</td>\n",
       "      <td>9</td>\n",
       "      <td>...</td>\n",
       "      <td>9</td>\n",
       "      <td>-9999.0</td>\n",
       "      <td>9</td>\n",
       "      <td>-9999.0</td>\n",
       "      <td>-9999.0</td>\n",
       "      <td>-9999.0</td>\n",
       "      <td>35.974</td>\n",
       "      <td>0</td>\n",
       "      <td>{'type': 'Point', 'coordinates': [7.2267, 80.5...</td>\n",
       "      <td>-9999.0</td>\n",
       "    </tr>\n",
       "    <tr>\n",
       "      <th>2</th>\n",
       "      <td>-9999.0</td>\n",
       "      <td>-9999.0</td>\n",
       "      <td>-9999.0</td>\n",
       "      <td>4</td>\n",
       "      <td>-9999.0</td>\n",
       "      <td>1</td>\n",
       "      <td>9</td>\n",
       "      <td>-9999.0</td>\n",
       "      <td>-9999.0</td>\n",
       "      <td>9</td>\n",
       "      <td>...</td>\n",
       "      <td>9</td>\n",
       "      <td>-9999.0</td>\n",
       "      <td>9</td>\n",
       "      <td>-9999.0</td>\n",
       "      <td>-9999.0</td>\n",
       "      <td>-9999.0</td>\n",
       "      <td>36.968</td>\n",
       "      <td>0</td>\n",
       "      <td>{'type': 'Point', 'coordinates': [7.2267, 80.5...</td>\n",
       "      <td>-9999.0</td>\n",
       "    </tr>\n",
       "    <tr>\n",
       "      <th>3</th>\n",
       "      <td>-9999.0</td>\n",
       "      <td>-9999.0</td>\n",
       "      <td>-9999.0</td>\n",
       "      <td>4</td>\n",
       "      <td>-9999.0</td>\n",
       "      <td>1</td>\n",
       "      <td>9</td>\n",
       "      <td>-9999.0</td>\n",
       "      <td>-9999.0</td>\n",
       "      <td>9</td>\n",
       "      <td>...</td>\n",
       "      <td>9</td>\n",
       "      <td>-9999.0</td>\n",
       "      <td>9</td>\n",
       "      <td>-9999.0</td>\n",
       "      <td>-9999.0</td>\n",
       "      <td>-9999.0</td>\n",
       "      <td>36.965</td>\n",
       "      <td>0</td>\n",
       "      <td>{'type': 'Point', 'coordinates': [7.2267, 80.5...</td>\n",
       "      <td>-9999.0</td>\n",
       "    </tr>\n",
       "    <tr>\n",
       "      <th>4</th>\n",
       "      <td>-9999.0</td>\n",
       "      <td>-9999.0</td>\n",
       "      <td>-9999.0</td>\n",
       "      <td>4</td>\n",
       "      <td>-9999.0</td>\n",
       "      <td>1</td>\n",
       "      <td>9</td>\n",
       "      <td>-9999.0</td>\n",
       "      <td>-9999.0</td>\n",
       "      <td>9</td>\n",
       "      <td>...</td>\n",
       "      <td>9</td>\n",
       "      <td>-9999.0</td>\n",
       "      <td>9</td>\n",
       "      <td>-9999.0</td>\n",
       "      <td>-9999.0</td>\n",
       "      <td>-9999.0</td>\n",
       "      <td>37.091</td>\n",
       "      <td>0</td>\n",
       "      <td>{'type': 'Point', 'coordinates': [7.2267, 80.5...</td>\n",
       "      <td>-9999.0</td>\n",
       "    </tr>\n",
       "  </tbody>\n",
       "</table>\n",
       "<p>5 rows × 108 columns</p>\n",
       "</div>"
      ],
      "text/plain": [
       "   G2fco2  G2c14err  G2silicate  G2region  G2talk  G2cruise  G2tco2f  \\\n",
       "0 -9999.0   -9999.0     -9999.0         4 -9999.0         1        9   \n",
       "1 -9999.0   -9999.0     -9999.0         4 -9999.0         1        9   \n",
       "2 -9999.0   -9999.0     -9999.0         4 -9999.0         1        9   \n",
       "3 -9999.0   -9999.0     -9999.0         4 -9999.0         1        9   \n",
       "4 -9999.0   -9999.0     -9999.0         4 -9999.0         1        9   \n",
       "\n",
       "   G2pcfc12    G2he  G2aouf  ...  G2docf  G2nitrite  G2tdnf  G2nitrate  \\\n",
       "0   -9999.0 -9999.0       9  ...       9    -9999.0       9    -9999.0   \n",
       "1   -9999.0 -9999.0       9  ...       9    -9999.0       9    -9999.0   \n",
       "2   -9999.0 -9999.0       9  ...       9    -9999.0       9    -9999.0   \n",
       "3   -9999.0 -9999.0       9  ...       9    -9999.0       9    -9999.0   \n",
       "4   -9999.0 -9999.0       9  ...       9    -9999.0       9    -9999.0   \n",
       "\n",
       "    G2he3   G2tdn  G2sigma2  G2ccl4qc  \\\n",
       "0 -9999.0 -9999.0    36.093         0   \n",
       "1 -9999.0 -9999.0    35.974         0   \n",
       "2 -9999.0 -9999.0    36.968         0   \n",
       "3 -9999.0 -9999.0    36.965         0   \n",
       "4 -9999.0 -9999.0    37.091         0   \n",
       "\n",
       "                                            geometry  G2phts25p0  \n",
       "0  {'type': 'Point', 'coordinates': [7.2267, 80.5...     -9999.0  \n",
       "1  {'type': 'Point', 'coordinates': [7.2267, 80.5...     -9999.0  \n",
       "2  {'type': 'Point', 'coordinates': [7.2267, 80.5...     -9999.0  \n",
       "3  {'type': 'Point', 'coordinates': [7.2267, 80.5...     -9999.0  \n",
       "4  {'type': 'Point', 'coordinates': [7.2267, 80.5...     -9999.0  \n",
       "\n",
       "[5 rows x 108 columns]"
      ]
     },
     "execution_count": 11,
     "metadata": {},
     "output_type": "execute_result"
    }
   ],
   "source": [
    "df = pd.DataFrame(data[0:100])\n",
    "df.head()"
   ]
  },
  {
   "cell_type": "markdown",
   "id": "edb8cb48-4b1e-418b-93e8-56edcb4511f2",
   "metadata": {},
   "source": [
    "## Geospatial query of data\n",
    "- Either define a polygon manually\n",
    "- Or use the interactive map to create a polygon"
   ]
  },
  {
   "attachments": {
    "1f5e5ed8-1e10-4d6c-8830-99a8366fb8c9.png": {
     "image/png": "[encoded data removed]"
    }
   },
   "cell_type": "markdown",
   "id": "6d2074af-d2d6-4000-bb50-05dddda0ab20",
   "metadata": {},
   "source": [
    "### Use a map to create a geospatial query for the API call\n",
    "- Run the cell below, zoome into an area of choice and click on the ![image.png](attachment:1f5e5ed8-1e10-4d6c-8830-99a8366fb8c9.png) button to create a polygon for the query"
   ]
  },
  {
   "cell_type": "code",
   "execution_count": 12,
   "id": "7ebe4660-bbbd-425f-b1ba-cedeb30c0ee8",
   "metadata": {},
   "outputs": [
    {
     "data": {
      "application/vnd.jupyter.widget-view+json": {
       "model_id": "04cf3cb7ec68467a9e2bf3fabc8bce9c",
       "version_major": 2,
       "version_minor": 0
      },
      "text/plain": [
       "VBox(children=(Map(center=[52.204793, 0.121558], controls=(ZoomControl(options=['position', 'zoom_in_text', 'z…"
      ]
     },
     "metadata": {},
     "output_type": "display_data"
    }
   ],
   "source": [
    "query_geometry = mapOQS()"
   ]
  },
  {
   "cell_type": "markdown",
   "id": "6c03da98-c7be-4c59-ad30-a698a84d8f5c",
   "metadata": {},
   "source": [
    "#### Or define the query geometry manually (just remove the '#' and edit coordinates below)"
   ]
  },
  {
   "cell_type": "code",
   "execution_count": 69,
   "id": "cd44f9f1-4039-4ae4-9b17-d1c909e115e7",
   "metadata": {},
   "outputs": [],
   "source": [
    "#query_geometry.value = \"POLYGON((-37.397 -11.953, -35.640 -9.015, -32.256 -10.272, -36.079 -16.678, -37.397 -11.953))\""
   ]
  },
  {
   "cell_type": "markdown",
   "id": "9e4eb945-181e-42f0-b863-fe03db56e108",
   "metadata": {},
   "source": [
    "#### Let's stick with the same dataset for now"
   ]
  },
  {
   "cell_type": "markdown",
   "id": "f41cc8ed-84fe-47bb-b320-673807a2b78c",
   "metadata": {},
   "source": [
    "#### Request geospatially filtered data from ODP API"
   ]
  },
  {
   "cell_type": "code",
   "execution_count": 13,
   "id": "60743ec7-3e95-4450-9836-92f8d2c0e882",
   "metadata": {},
   "outputs": [],
   "source": [
    "filter_query = {'#ST_WITHIN': ['$geometry',query_geometry.value]}\n",
    "\n",
    "filtered_data = client.tabular.select_as_list(data_cat, filter_query, limit=1000)"
   ]
  },
  {
   "cell_type": "code",
   "execution_count": 14,
   "id": "0c7dc025-2319-4935-a959-c72fb86e348e",
   "metadata": {},
   "outputs": [
    {
     "data": {
      "text/plain": [
       "[{'G2fco2': -9999.0,\n",
       "  'G2c14err': -9999.0,\n",
       "  'G2silicate': -9999.0,\n",
       "  'G2region': 1,\n",
       "  'G2talk': -9999.0,\n",
       "  'G2cruise': 344,\n",
       "  'G2tco2f': 9,\n",
       "  'G2pcfc12': -9999.0,\n",
       "  'G2he': -9999.0,\n",
       "  'G2aouf': 2,\n",
       "  'G2nitrateqc': 1,\n",
       "  'G2ccl4f': 9,\n",
       "  'G2salinityf': 2,\n",
       "  'G2talkf': 9,\n",
       "  'G2donf': 9,\n",
       "  'G2hef': 9,\n",
       "  'G2tco2': -9999.0,\n",
       "  'G2phosphatef': 9,\n",
       "  'G2phtsinsitutp': -9999.0,\n",
       "  'G2toc': -9999.0,\n",
       "  'G2year': 2007,\n",
       "  'G2c14f': 9,\n",
       "  'G2oxygenqc': 1,\n",
       "  'G2oxygenf': 2,\n",
       "  'G2cfc113qc': 1,\n",
       "  'G2c13f': 9,\n",
       "  'G2depth': 3.8,\n",
       "  'G2phosphate': -9999.0,\n",
       "  'G2temperature': 29.072,\n",
       "  'G2silicateqc': 0,\n",
       "  'G2sigma3': 30.662,\n",
       "  'G2hour': 4,\n",
       "  'G2chla': -9999.0,\n",
       "  'G2fco2f': 9,\n",
       "  'G2neon': -9999.0,\n",
       "  'G2day': 11,\n",
       "  'G2talkqc': 1,\n",
       "  'G2chlaf': 9,\n",
       "  'G2phosphateqc': 1,\n",
       "  'G2pcfc113': -9999.0,\n",
       "  'G2psf6': -9999.0,\n",
       "  'G2h3err': -9999.0,\n",
       "  'G2nitratef': 9,\n",
       "  'G2sf6qc': 0,\n",
       "  'G2ccl4': -9999.0,\n",
       "  'G2tocf': 9,\n",
       "  'G2fco2temp': -9999,\n",
       "  'G2c14': -9999.0,\n",
       "  'G2bottle': 18,\n",
       "  'G2c13qc': 0,\n",
       "  'G2sigma4': 34.575,\n",
       "  'G2salinity': 30.142,\n",
       "  'G2c13': -9999.0,\n",
       "  'G2cfc113': -9999.0,\n",
       "  'G2oxygen': 233.79,\n",
       "  'G2neonerr': -9999.0,\n",
       "  'G2pcfc11': -9999.0,\n",
       "  'G2salinityqc': 1,\n",
       "  'G2heerr': -9999.0,\n",
       "  'G2expocode': '33RO20070710',\n",
       "  'G2o18f': 9,\n",
       "  'G2pressure': 3.8,\n",
       "  'G2cfc11qc': 1,\n",
       "  'G2o18': -9999.0,\n",
       "  'G2tco2qc': 1,\n",
       "  'G2phts25p0f': 9,\n",
       "  'G2cast': 1,\n",
       "  'G2pccl4': -9999.0,\n",
       "  'G2cfc12': -9999.0,\n",
       "  'G2cfc11f': 9,\n",
       "  'G2phtsqc': 0,\n",
       "  'G2sf6': -9999.0,\n",
       "  'G2h3': -9999.0,\n",
       "  'G2gamma': 18.4487274533468,\n",
       "  'G2station': 1.0,\n",
       "  'G2h3f': 9,\n",
       "  'G2don': -9999.0,\n",
       "  'G2month': 7,\n",
       "  'G2cfc11': -9999.0,\n",
       "  'G2phtsinsitutpf': 9,\n",
       "  'G2neonf': 9,\n",
       "  'G2he3err': -9999.0,\n",
       "  'G2cfc12qc': 1,\n",
       "  'G2silicatef': 9,\n",
       "  'G2sigma0': 18.401,\n",
       "  'G2sigma1': 22.578,\n",
       "  'G2cfc12f': 9,\n",
       "  'G2doi': 'https://doi.org/10.3334/cdiac/otg.clivar_nacp_east_coast_cruise_2007                       ',\n",
       "  'G2minute': 24,\n",
       "  'G2theta': 29.071,\n",
       "  'G2he3f': 9,\n",
       "  'G2maxsampdepth': 13.6,\n",
       "  'G2doc': -9999.0,\n",
       "  'G2aou': -34.25,\n",
       "  'G2cfc113f': 9,\n",
       "  'G2nitritef': 9,\n",
       "  'G2bottomdepth': 23.6,\n",
       "  'G2sf6f': 9,\n",
       "  'G2docf': 9,\n",
       "  'G2nitrite': -9999.0,\n",
       "  'G2tdnf': 9,\n",
       "  'G2nitrate': -9999.0,\n",
       "  'G2he3': -9999.0,\n",
       "  'G2tdn': -9999.0,\n",
       "  'G2sigma2': 26.664,\n",
       "  'G2ccl4qc': 0,\n",
       "  'geometry': {\"coordinates\": [-94.999, 28.998], \"type\": \"Point\"},\n",
       "  'G2phts25p0': -9999.0}]"
      ]
     },
     "execution_count": 14,
     "metadata": {},
     "output_type": "execute_result"
    }
   ],
   "source": [
    "filtered_data[0:1]"
   ]
  },
  {
   "cell_type": "code",
   "execution_count": 15,
   "id": "8dc0dc5c-1f29-493b-ab0c-64f3ba255520",
   "metadata": {},
   "outputs": [],
   "source": [
    "df = pd.DataFrame(filtered_data[0::100]).head()"
   ]
  },
  {
   "cell_type": "code",
   "execution_count": 16,
   "id": "dc0632de-bb67-4b3e-8f13-4f03eb4684a2",
   "metadata": {},
   "outputs": [
    {
     "data": {
      "text/html": [
       "<div>\n",
       "<style scoped>\n",
       "    .dataframe tbody tr th:only-of-type {\n",
       "        vertical-align: middle;\n",
       "    }\n",
       "\n",
       "    .dataframe tbody tr th {\n",
       "        vertical-align: top;\n",
       "    }\n",
       "\n",
       "    .dataframe thead th {\n",
       "        text-align: right;\n",
       "    }\n",
       "</style>\n",
       "<table border=\"1\" class=\"dataframe\">\n",
       "  <thead>\n",
       "    <tr style=\"text-align: right;\">\n",
       "      <th></th>\n",
       "      <th>G2fco2</th>\n",
       "      <th>G2c14err</th>\n",
       "      <th>G2silicate</th>\n",
       "      <th>G2region</th>\n",
       "      <th>G2talk</th>\n",
       "      <th>G2cruise</th>\n",
       "      <th>G2tco2f</th>\n",
       "      <th>G2pcfc12</th>\n",
       "      <th>G2he</th>\n",
       "      <th>G2aouf</th>\n",
       "      <th>...</th>\n",
       "      <th>G2docf</th>\n",
       "      <th>G2nitrite</th>\n",
       "      <th>G2tdnf</th>\n",
       "      <th>G2nitrate</th>\n",
       "      <th>G2he3</th>\n",
       "      <th>G2tdn</th>\n",
       "      <th>G2sigma2</th>\n",
       "      <th>G2ccl4qc</th>\n",
       "      <th>geometry</th>\n",
       "      <th>G2phts25p0</th>\n",
       "    </tr>\n",
       "  </thead>\n",
       "  <tbody>\n",
       "    <tr>\n",
       "      <th>0</th>\n",
       "      <td>-9999.00</td>\n",
       "      <td>-9999.0</td>\n",
       "      <td>-9999.0</td>\n",
       "      <td>1</td>\n",
       "      <td>-9999.0</td>\n",
       "      <td>344</td>\n",
       "      <td>9</td>\n",
       "      <td>-9999.0</td>\n",
       "      <td>-9999.0</td>\n",
       "      <td>2</td>\n",
       "      <td>...</td>\n",
       "      <td>9</td>\n",
       "      <td>-9999.00</td>\n",
       "      <td>9</td>\n",
       "      <td>-9999.000</td>\n",
       "      <td>-9999.0</td>\n",
       "      <td>-9999.0</td>\n",
       "      <td>26.664</td>\n",
       "      <td>0</td>\n",
       "      <td>{'type': 'Point', 'coordinates': [-94.999, 28....</td>\n",
       "      <td>-9999.0000</td>\n",
       "    </tr>\n",
       "    <tr>\n",
       "      <th>1</th>\n",
       "      <td>437.20</td>\n",
       "      <td>-9999.0</td>\n",
       "      <td>2.7</td>\n",
       "      <td>1</td>\n",
       "      <td>2385.5</td>\n",
       "      <td>344</td>\n",
       "      <td>2</td>\n",
       "      <td>-9999.0</td>\n",
       "      <td>-9999.0</td>\n",
       "      <td>2</td>\n",
       "      <td>...</td>\n",
       "      <td>9</td>\n",
       "      <td>0.08</td>\n",
       "      <td>9</td>\n",
       "      <td>5.047</td>\n",
       "      <td>-9999.0</td>\n",
       "      <td>-9999.0</td>\n",
       "      <td>34.456</td>\n",
       "      <td>0</td>\n",
       "      <td>{'type': 'Point', 'coordinates': [-95.0, 27.499]}</td>\n",
       "      <td>7.9473</td>\n",
       "    </tr>\n",
       "    <tr>\n",
       "      <th>2</th>\n",
       "      <td>263.20</td>\n",
       "      <td>-9999.0</td>\n",
       "      <td>1.1</td>\n",
       "      <td>1</td>\n",
       "      <td>2396.9</td>\n",
       "      <td>344</td>\n",
       "      <td>2</td>\n",
       "      <td>-9999.0</td>\n",
       "      <td>-9999.0</td>\n",
       "      <td>2</td>\n",
       "      <td>...</td>\n",
       "      <td>2</td>\n",
       "      <td>0.03</td>\n",
       "      <td>9</td>\n",
       "      <td>0.000</td>\n",
       "      <td>-9999.0</td>\n",
       "      <td>-9999.0</td>\n",
       "      <td>30.244</td>\n",
       "      <td>0</td>\n",
       "      <td>{'type': 'Point', 'coordinates': [-90.0, 28.082]}</td>\n",
       "      <td>8.1260</td>\n",
       "    </tr>\n",
       "    <tr>\n",
       "      <th>3</th>\n",
       "      <td>-9999.00</td>\n",
       "      <td>-9999.0</td>\n",
       "      <td>4.4</td>\n",
       "      <td>1</td>\n",
       "      <td>-9999.0</td>\n",
       "      <td>344</td>\n",
       "      <td>9</td>\n",
       "      <td>-9999.0</td>\n",
       "      <td>-9999.0</td>\n",
       "      <td>2</td>\n",
       "      <td>...</td>\n",
       "      <td>9</td>\n",
       "      <td>-9999.00</td>\n",
       "      <td>9</td>\n",
       "      <td>0.000</td>\n",
       "      <td>-9999.0</td>\n",
       "      <td>-9999.0</td>\n",
       "      <td>30.496</td>\n",
       "      <td>0</td>\n",
       "      <td>{'type': 'Point', 'coordinates': [-83.001, 28.0]}</td>\n",
       "      <td>-9999.0000</td>\n",
       "    </tr>\n",
       "    <tr>\n",
       "      <th>4</th>\n",
       "      <td>277.94</td>\n",
       "      <td>-9999.0</td>\n",
       "      <td>1.4</td>\n",
       "      <td>1</td>\n",
       "      <td>2362.9</td>\n",
       "      <td>344</td>\n",
       "      <td>2</td>\n",
       "      <td>-9999.0</td>\n",
       "      <td>-9999.0</td>\n",
       "      <td>2</td>\n",
       "      <td>...</td>\n",
       "      <td>9</td>\n",
       "      <td>0.11</td>\n",
       "      <td>9</td>\n",
       "      <td>0.000</td>\n",
       "      <td>-9999.0</td>\n",
       "      <td>-9999.0</td>\n",
       "      <td>31.297</td>\n",
       "      <td>0</td>\n",
       "      <td>{'type': 'Point', 'coordinates': [-85.997, 25....</td>\n",
       "      <td>8.1039</td>\n",
       "    </tr>\n",
       "  </tbody>\n",
       "</table>\n",
       "<p>5 rows × 108 columns</p>\n",
       "</div>"
      ],
      "text/plain": [
       "    G2fco2  G2c14err  G2silicate  G2region  G2talk  G2cruise  G2tco2f  \\\n",
       "0 -9999.00   -9999.0     -9999.0         1 -9999.0       344        9   \n",
       "1   437.20   -9999.0         2.7         1  2385.5       344        2   \n",
       "2   263.20   -9999.0         1.1         1  2396.9       344        2   \n",
       "3 -9999.00   -9999.0         4.4         1 -9999.0       344        9   \n",
       "4   277.94   -9999.0         1.4         1  2362.9       344        2   \n",
       "\n",
       "   G2pcfc12    G2he  G2aouf  ...  G2docf  G2nitrite  G2tdnf  G2nitrate  \\\n",
       "0   -9999.0 -9999.0       2  ...       9   -9999.00       9  -9999.000   \n",
       "1   -9999.0 -9999.0       2  ...       9       0.08       9      5.047   \n",
       "2   -9999.0 -9999.0       2  ...       2       0.03       9      0.000   \n",
       "3   -9999.0 -9999.0       2  ...       9   -9999.00       9      0.000   \n",
       "4   -9999.0 -9999.0       2  ...       9       0.11       9      0.000   \n",
       "\n",
       "    G2he3   G2tdn  G2sigma2  G2ccl4qc  \\\n",
       "0 -9999.0 -9999.0    26.664         0   \n",
       "1 -9999.0 -9999.0    34.456         0   \n",
       "2 -9999.0 -9999.0    30.244         0   \n",
       "3 -9999.0 -9999.0    30.496         0   \n",
       "4 -9999.0 -9999.0    31.297         0   \n",
       "\n",
       "                                            geometry  G2phts25p0  \n",
       "0  {'type': 'Point', 'coordinates': [-94.999, 28....  -9999.0000  \n",
       "1  {'type': 'Point', 'coordinates': [-95.0, 27.499]}      7.9473  \n",
       "2  {'type': 'Point', 'coordinates': [-90.0, 28.082]}      8.1260  \n",
       "3  {'type': 'Point', 'coordinates': [-83.001, 28.0]}  -9999.0000  \n",
       "4  {'type': 'Point', 'coordinates': [-85.997, 25....      8.1039  \n",
       "\n",
       "[5 rows x 108 columns]"
      ]
     },
     "execution_count": 16,
     "metadata": {},
     "output_type": "execute_result"
    }
   ],
   "source": [
    "df.head()"
   ]
  },
  {
   "cell_type": "markdown",
   "id": "3ed89fc4-0ca1-40f4-84c8-2b48e9b9c36b",
   "metadata": {},
   "source": [
    "### Downloading raw data\n"
   ]
  },
  {
   "cell_type": "markdown",
   "id": "b3e924ac-aa84-4583-911e-0bacfaf7bd27",
   "metadata": {},
   "source": [
    "#### Get uuid from catalog - this is the id for the dataset\n"
   ]
  },
  {
   "cell_type": "code",
   "execution_count": 21,
   "id": "fd5c0cdc-03c7-4062-be19-728b11620e3c",
   "metadata": {},
   "outputs": [
    {
     "data": {
      "text/plain": [
       "ResourceDto(kind='catalog.hubocean.io/dataset', version='v1alpha3', metadata=Metadata(name='1e3401d4-9630-40cd-a9cf-d875cb310449-wpi-file', display_name='world-port-index-file', description='The World Port Index (Pub 150) contains the location and physical characteristics of, and the facilities and services offered by major ports and terminals world-wide.', uuid=UUID('83330068-ef1c-4204-b675-c7f1652a513c'), labels={'catalog.hubocean.io/released': True}, owner=UUID('ad43fbc5-2453-4559-b1b1-322e00921a7a')), status=ResourceStatus(num_updates=1, created_time=datetime.datetime(2024, 4, 9, 9, 31, 34, 694468), created_by=UUID('ad43fbc5-2453-4559-b1b1-322e00921a7a'), updated_time=datetime.datetime(2024, 4, 12, 11, 39, 14, 814270), updated_by=UUID('f075a9ec-fe09-447e-9f39-6217c0e97500'), deleted_time=None, deleted_by=None), spec=DatasetSpec(storage_class='registry.hubocean.io/storageClass/raw', storage_controller='registry.hubocean.io/storageController/storage-raw-cdffs', data_collection='catalog.hubocean.io/dataCollection/1e3401d4-9630-40cd-a9cf-d875cb310449-world-port-index', maintainer=ContactInfo(contact='Maritime Safety Information <MCDPUBS@nga.mil>', organization=None), citation=None, documentation=['https://msi.nga.mil/api/publications/download?key=16920959/SFH00000/WPI_Explanation_of_Data_Fields.pdf&type=view'], facets=None, tags={'wpi', 'ports', 'harbor', 'sailing'}))"
      ]
     },
     "execution_count": 21,
     "metadata": {},
     "output_type": "execute_result"
    }
   ],
   "source": [
    "resource_manifest = client.catalog.get( \"83330068-ef1c-4204-b675-c7f1652a513c\"÷)\n",
    "resource_manifest"
   ]
  },
  {
   "cell_type": "markdown",
   "id": "4ba9b3e7-3d3c-4c0b-ac57-0a0954fa0368",
   "metadata": {},
   "source": [
    "#### Need to also get the file uuid within the dataset"
   ]
  },
  {
   "cell_type": "markdown",
   "id": "a14ef15b-eb42-4476-a9cd-5fdf07669e1a",
   "metadata": {},
   "source": [
    "There may be multiple files within a dataset, by running the code below you can download all the files"
   ]
  },
  {
   "cell_type": "code",
   "execution_count": 37,
   "id": "9dfb592b-f86e-483b-ac11-0800ebafbf29",
   "metadata": {},
   "outputs": [
    {
     "name": "stdout",
     "output_type": "stream",
     "text": [
      "name='UpdatedPub150.csv' mime_type='text/csv' dataset=UUID('83330068-ef1c-4204-b675-c7f1652a513c') metadata={'hubocean.io/app': 'odcat', 'hubocean.io/dataset': '83330068-ef1c-4204-b675-c7f1652a513c'} geo_location=None size_bytes=3521207 checksum='ea58b96fc0d420eefac2465ac0c3e255' created_time=datetime.datetime(2024, 4, 9, 9, 31, 37, 16000) modified_time=datetime.datetime(2024, 4, 9, 9, 31, 44, 56000) deleted_time=None\n"
     ]
    }
   ],
   "source": [
    "for file_metadata in client.raw.list(resource_manifest):\n",
    "    print(file_metadata)\n",
    "\n",
    "    client.raw.download_file(data_cat, file_metadata, \"name_of_downloaded_file.csv\")"
   ]
  },
  {
   "cell_type": "code",
   "execution_count": null,
   "id": "19d4b658-2ebc-4b00-b5e0-052d27890710",
   "metadata": {},
   "outputs": [],
   "source": []
  },
  {
   "cell_type": "code",
   "execution_count": null,
   "id": "9cff9f76-3579-4dee-b353-cd94b7fa38bb",
   "metadata": {},
   "outputs": [],
   "source": []
  }
 ],
 "metadata": {
  "kernelspec": {
   "display_name": "Python 3 (ipykernel)",
   "language": "python",
   "name": "python3"
  },
  "language_info": {
   "codemirror_mode": {
    "name": "ipython",
    "version": 3
   },
   "file_extension": ".py",
   "mimetype": "text/x-python",
   "name": "python",
   "nbconvert_exporter": "python",
   "pygments_lexer": "ipython3",
   "version": "3.11.9"
  }
 },
 "nbformat": 4,
 "nbformat_minor": 5
}
