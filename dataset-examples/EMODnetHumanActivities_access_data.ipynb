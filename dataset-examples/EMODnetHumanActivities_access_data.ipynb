{
 "cells": [
  {
   "cell_type": "markdown",
   "id": "920c90fd",
   "metadata": {},
   "source": [
    "# EMODnet Human Activites tutorial/Quickstart"
   ]
  },
  {
   "cell_type": "markdown",
   "id": "7a97a52a",
   "metadata": {},
   "source": [
    "## 1.1 Setup ODP Client"
   ]
  },
  {
   "cell_type": "code",
   "execution_count": null,
   "id": "9d44fedb",
   "metadata": {},
   "outputs": [],
   "source": [
    "!pip install -U odp-sdk --quiet && pip list | grep odp\n",
    "!pip install -U pydeck --quiet && pip list | grep pydeck"
   ]
  },
  {
   "cell_type": "code",
   "execution_count": null,
   "id": "b1391e1f",
   "metadata": {},
   "outputs": [],
   "source": [
    "from odp.client import OdpClient # The SDK\n",
    "import pandas as pd\n",
    "import pydeck as pdk\n",
    "from helper_functions import convert_geometry_field, wkt_to_edges"
   ]
  },
  {
   "cell_type": "markdown",
   "id": "386be9c2",
   "metadata": {},
   "source": [
    "### 1.1.2 Geometric Plot Helper"
   ]
  },
  {
   "cell_type": "code",
   "execution_count": null,
   "id": "d0f524ea",
   "metadata": {},
   "outputs": [],
   "source": [
    "# loading a simple function to make a nice map display of points\n",
    "def simple_pydeck_plot(geojson_lists, size=1, lat=0, lon=0, zoom=2, fillopacity=0.9):\n",
    "    colors = [(3, 255, 209), (157, 89, 244), (254, 119, 76), (255, 216, 11)]  # Cyan, Yellow, Purple, Orange\n",
    "    layers = []\n",
    "    for i, geojson_list in enumerate(geojson_lists):\n",
    "        layer = pdk.Layer(\"GeoJsonLayer\", data=convert_geometry_field(geojson_list), opacity=fillopacity, lineWidthMinPixels=size, pointRadiusMinPixels=size, pickable=True, get_line_color=colors[i % len(colors)], get_fill_color=colors[i % len(colors)],)\n",
    "        layers.append(layer)\n",
    "    r = pdk.Deck(layers=layers, initial_view_state=(pdk.ViewState(latitude=lat, longitude=lon, zoom=zoom)), map_provider=\"mapbox\", map_style='mapbox://styles/oceandatafoundation/clwg6xklg00an01pcgmeufjxq', api_keys={'mapbox': 'pk.eyJ1Ijoib2NlYW5kYXRhZm91bmRhdGlvbiIsImEiOiJjazk5bGxpNWkwYWU1M2Vya3hkcHh4czdrIn0.yf7kIiPfDNE7KP9_9wTN6A'})\n",
    "    return r"
   ]
  },
  {
   "cell_type": "code",
   "execution_count": null,
   "id": "efcea6cd",
   "metadata": {},
   "outputs": [],
   "source": [
    "client = OdpClient()\n"
   ]
  },
  {
   "cell_type": "markdown",
   "id": "d23a230a",
   "metadata": {},
   "source": [
    "### 2.1 Fetch Metadata from Catalog\n",
    " - Option 1) via API calls to the catalog\n",
    " - Option 2) getting UUID or qualified name from the landing page:\n",
    "https://app.hubocean.earth/catalog/dataset/ec6bd5ff-1713-4703-8261-caa2de45953c\n",
    "![image.png](attachment:2549655c-c3b0-4240-952c-97a4ef791e6e.png)"
   ]
  },
  {
   "cell_type": "code",
   "execution_count": null,
   "id": "2ef860a1",
   "metadata": {},
   "outputs": [],
   "source": [
    "## Request the dataset from the catalog using the UUID:\n",
    "OilWells = client.catalog.get(\"ec6bd5ff-1713-4703-8261-caa2de45953c\")\n",
    "OilWells.metadata.display_name\n"
   ]
  },
  {
   "cell_type": "code",
   "execution_count": null,
   "id": "e2807c9f",
   "metadata": {},
   "outputs": [],
   "source": [
    "Ports = client.catalog.get(\"03b0590a-7ddb-4828-8b11-06fb5c78cafe\")\n",
    "Ports.metadata.display_name\n"
   ]
  },
  {
   "cell_type": "code",
   "execution_count": null,
   "id": "d2e12dba",
   "metadata": {},
   "outputs": [],
   "source": [
    "TeleCables = client.catalog.get(\"3c55c6eb-45a2-4a72-8b65-4d9a5896a058\")\n",
    "TeleCables.metadata.display_name\n"
   ]
  },
  {
   "cell_type": "markdown",
   "id": "58d18ab5",
   "metadata": {},
   "source": [
    "### 2.2 Fetch data from the tabular v2"
   ]
  },
  {
   "cell_type": "code",
   "execution_count": null,
   "id": "f87629ba",
   "metadata": {},
   "outputs": [],
   "source": [
    "OilWells_dataset = client.table_v2(OilWells)\n",
    "pages = list(OilWells_dataset.select().pages())\n",
    "OilWells_data = [row for page in pages for row in page]"
   ]
  },
  {
   "cell_type": "markdown",
   "id": "a273f85c",
   "metadata": {},
   "source": [
    "The ports dataset is large, so we will only fetch 10 000 rows."
   ]
  },
  {
   "cell_type": "code",
   "execution_count": null,
   "id": "f11afad2",
   "metadata": {},
   "outputs": [],
   "source": [
    "Ports_dataset = client.table_v2(Ports)\n",
    "\n",
    "Ports_data = []\n",
    "cursor = Ports_dataset.select()\n",
    "for i, row in enumerate(cursor.rows()):\n",
    "    if i >= 10_000:  \n",
    "        break\n",
    "    Ports_data.append(row)"
   ]
  },
  {
   "cell_type": "code",
   "execution_count": null,
   "id": "acaa19b3",
   "metadata": {},
   "outputs": [],
   "source": [
    "TeleCables_dataset = client.table_v2(TeleCables)\n",
    "pages = list(TeleCables_dataset.select().pages())\n",
    "TeleCables_data = [row for page in pages for row in page]"
   ]
  },
  {
   "cell_type": "markdown",
   "id": "857f9e67",
   "metadata": {},
   "source": [
    "Limit the Port data, as pydeck is unable to handle large amounts of data"
   ]
  },
  {
   "cell_type": "code",
   "execution_count": null,
   "id": "b19d1d13",
   "metadata": {},
   "outputs": [],
   "source": [
    "len(OilWells_data), len(Ports_data), len(TeleCables_data)"
   ]
  },
  {
   "cell_type": "code",
   "execution_count": null,
   "id": "a3df55b3",
   "metadata": {},
   "outputs": [],
   "source": [
    "Ports_data[0]"
   ]
  },
  {
   "cell_type": "markdown",
   "id": "edfbfd79",
   "metadata": {},
   "source": [
    "## 3.1 Visualize data\n",
    "\n",
    "### 3.1.1 Plot datapoints from query on a map"
   ]
  },
  {
   "cell_type": "code",
   "execution_count": null,
   "id": "bbe2abb3",
   "metadata": {},
   "outputs": [],
   "source": [
    "simple_pydeck_plot([Ports_data, OilWells_data, TeleCables_data], lat=55, lon=7, zoom=3)\n"
   ]
  },
  {
   "cell_type": "markdown",
   "id": "23f9a5ac",
   "metadata": {},
   "source": [
    "## 4.1 Test a geospatial query of some points"
   ]
  },
  {
   "cell_type": "markdown",
   "id": "ec191513",
   "metadata": {},
   "source": [
    "### 4.1.1 Create geospatial query"
   ]
  },
  {
   "cell_type": "code",
   "execution_count": null,
   "id": "870ad18e",
   "metadata": {},
   "outputs": [],
   "source": [
    "bbox_lat_min = 52\n",
    "bbox_lat_max = 57\n",
    "bbox_lon_min = 4\n",
    "bbox_lon_max = 12"
   ]
  },
  {
   "cell_type": "code",
   "execution_count": null,
   "id": "7f53526d",
   "metadata": {},
   "outputs": [],
   "source": [
    "from shapely.geometry import box, LineString, mapping\n",
    "\n",
    "geospatial_query = box(\n",
    "    bbox_lon_min, bbox_lat_min,\n",
    "    bbox_lon_max, bbox_lat_max\n",
    ").wkt\n",
    "bbox_list = wkt_to_edges(geospatial_query)"
   ]
  },
  {
   "cell_type": "code",
   "execution_count": null,
   "id": "7d84cb54",
   "metadata": {},
   "outputs": [],
   "source": [
    "geospatial_query"
   ]
  },
  {
   "cell_type": "markdown",
   "id": "16a62985",
   "metadata": {},
   "source": [
    "## 4.2 Fetch filtered data"
   ]
  },
  {
   "cell_type": "markdown",
   "id": "b9b4a675",
   "metadata": {},
   "source": [
    "We query the data again; this time, we want all ports within the bounding box that are dated after 2015, or any ports located in Norway."
   ]
  },
  {
   "cell_type": "code",
   "execution_count": null,
   "id": "7de6d2b4",
   "metadata": {},
   "outputs": [],
   "source": [
    "filtered_pages = list(Ports_dataset.select(f\"geometry within '{geospatial_query}' AND year > 2015 OR country == 'NO'\").pages())\n",
    "Ports_subset = [row for page in filtered_pages for row in page]"
   ]
  },
  {
   "cell_type": "markdown",
   "id": "39bb0909",
   "metadata": {},
   "source": [
    "### 4.2.1 Plot filtered data with bounding box"
   ]
  },
  {
   "cell_type": "code",
   "execution_count": null,
   "id": "50280585",
   "metadata": {},
   "outputs": [],
   "source": [
    "# comparing the full dataset to the geospatial subset\n",
    "simple_pydeck_plot([Ports_subset, bbox_list], size=2, lat=55, lon=7, zoom=3)"
   ]
  },
  {
   "cell_type": "code",
   "execution_count": null,
   "id": "dad10b94",
   "metadata": {},
   "outputs": [],
   "source": []
  }
 ],
 "metadata": {
  "kernelspec": {
   "display_name": ".venv",
   "language": "python",
   "name": "python3"
  },
  "language_info": {
   "codemirror_mode": {
    "name": "ipython",
    "version": 3
   },
   "file_extension": ".py",
   "mimetype": "text/x-python",
   "name": "python",
   "nbconvert_exporter": "python",
   "pygments_lexer": "ipython3",
   "version": "3.12.3"
  }
 },
 "nbformat": 4,
 "nbformat_minor": 5
}
