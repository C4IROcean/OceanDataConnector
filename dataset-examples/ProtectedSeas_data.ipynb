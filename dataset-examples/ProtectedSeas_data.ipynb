{
 "cells": [
  {
   "cell_type": "code",
   "execution_count": 1,
   "id": "86d48100-2b3c-40b6-802b-48c54cc7aee3",
   "metadata": {},
   "outputs": [
    {
     "name": "stdout",
     "output_type": "stream",
     "text": [
      "\u001b[31mERROR: pip's dependency resolver does not currently take into account all the packages that are installed. This behaviour is the source of the following dependency conflicts.\n",
      "azure-cli-core 2.68.0 requires microsoft-security-utilities-secret-masker~=1.0.0b2, which is not installed.\n",
      "azure-cli-core 2.68.0 requires argcomplete~=3.5.2, but you have argcomplete 3.6.0 which is incompatible.\n",
      "azure-cli-core 2.68.0 requires knack~=0.11.0, but you have knack 0.12.0 which is incompatible.\n",
      "azure-cli-core 2.68.0 requires msal[broker]==1.31.1, but you have msal 1.32.0 which is incompatible.\n",
      "azure-cli-core 2.68.0 requires msal-extensions==1.2.0, but you have msal-extensions 1.3.1 which is incompatible.\n",
      "awscli 2.24.27 requires cryptography<43.0.2,>=40.0.0, but you have cryptography 44.0.2 which is incompatible.\u001b[0m\u001b[31m\n",
      "\u001b[0m"
     ]
    }
   ],
   "source": [
    "!pip install -U odp-sdk --quiet"
   ]
  },
  {
   "cell_type": "code",
   "execution_count": 2,
   "id": "0e745f19-fe89-409c-9f26-d844abe0bbf4",
   "metadata": {},
   "outputs": [],
   "source": [
    "# Standard library imports\n",
    "import json\n",
    "import pandas as pd\n",
    "import geojson\n",
    "\n",
    "import shapely\n",
    "from shapely import wkt\n",
    "from shapely.geometry import box, MultiPolygon, Polygon\n",
    "import geopandas as gpd\n",
    "\n",
    "from odp.client import OdpClient  # The SDK"
   ]
  },
  {
   "cell_type": "code",
   "execution_count": 3,
   "id": "7cbfc5ba-6908-4fc0-9518-7ccc04883a6b",
   "metadata": {},
   "outputs": [
    {
     "name": "stderr",
     "output_type": "stream",
     "text": [
      "WARNING:odp.client.auth:Encryption unavailable. Opting in to plaintext\n"
     ]
    }
   ],
   "source": [
    "client = OdpClient()"
   ]
  },
  {
   "cell_type": "code",
   "execution_count": 4,
   "id": "84466713-6580-464d-a540-e371a556f095",
   "metadata": {},
   "outputs": [
    {
     "data": {
      "text/plain": [
       "'ProtectedSeas Navigator - Comprehensive Database of Marine Life Protections'"
      ]
     },
     "execution_count": 4,
     "metadata": {},
     "output_type": "execute_result"
    }
   ],
   "source": [
    "## Request the dataset from the catalog using the UUID:\n",
    "proSeas_dataset = client.catalog.get((\"3e32fd06-4eb7-4da2-9acb-dd0ecb58aa88\"))\n",
    "proSeas_dataset.metadata.display_name"
   ]
  },
  {
   "cell_type": "code",
   "execution_count": 5,
   "id": "055815bb-90bf-4043-9a9f-b2ff9225bda7",
   "metadata": {},
   "outputs": [],
   "source": [
    "proSeas_data = client.table_v2(proSeas_dataset)"
   ]
  },
  {
   "cell_type": "markdown",
   "id": "256d5c63-8bb1-4ab3-b2d8-cb6b4a22439d",
   "metadata": {},
   "source": [
    "## Create a geographic query and search for specific types of MPAs"
   ]
  },
  {
   "cell_type": "code",
   "execution_count": 6,
   "id": "c73fee73-893e-438a-966d-860bb23dacc6",
   "metadata": {
    "tags": []
   },
   "outputs": [
    {
     "data": {
      "text/plain": [
       "'POLYGON ((12 56, 12 62, 8 62, 8 56, 12 56))'"
      ]
     },
     "execution_count": 6,
     "metadata": {},
     "output_type": "execute_result"
    }
   ],
   "source": [
    "## Bounding box for Southern Norway\n",
    "## Enter min and max latitude and longitude values to create a bounding box polygon below. Or use the structure below to add any Well-Known-Text or GeoJSON defined polygon.\n",
    "lat_min = 56\n",
    "lat_max = 62\n",
    "lon_min = 8\n",
    "lon_max = 12\n",
    "query_geometry = box(lon_min, lat_min, lon_max, lat_max).wkt\n",
    "query_geometry"
   ]
  },
  {
   "cell_type": "markdown",
   "id": "ec6a7f35-b8d0-4321-a71b-125c6626f008",
   "metadata": {},
   "source": [
    "### Fetch data from ODP "
   ]
  },
  {
   "cell_type": "code",
   "execution_count": 7,
   "id": "355ea543-1e97-413d-bff5-23dbf970250a",
   "metadata": {},
   "outputs": [
    {
     "data": {
      "text/html": [
       "<div>\n",
       "<style scoped>\n",
       "    .dataframe tbody tr th:only-of-type {\n",
       "        vertical-align: middle;\n",
       "    }\n",
       "\n",
       "    .dataframe tbody tr th {\n",
       "        vertical-align: top;\n",
       "    }\n",
       "\n",
       "    .dataframe thead th {\n",
       "        text-align: right;\n",
       "    }\n",
       "</style>\n",
       "<table border=\"1\" class=\"dataframe\">\n",
       "  <thead>\n",
       "    <tr style=\"text-align: right;\">\n",
       "      <th></th>\n",
       "      <th>geometry_reduced</th>\n",
       "      <th>dredging_prohibited</th>\n",
       "      <th>gillnets_entangling_nets</th>\n",
       "      <th>boundary_source</th>\n",
       "      <th>last_update</th>\n",
       "      <th>dip_scoop_nets</th>\n",
       "      <th>landing_prohibited</th>\n",
       "      <th>season</th>\n",
       "      <th>mooring</th>\n",
       "      <th>spear_fishing</th>\n",
       "      <th>...</th>\n",
       "      <th>url</th>\n",
       "      <th>site_major_version</th>\n",
       "      <th>misc_gear</th>\n",
       "      <th>longlining</th>\n",
       "      <th>traps_n_pots</th>\n",
       "      <th>removal_of_historic_artifacts_prohibited</th>\n",
       "      <th>construction_prohibited</th>\n",
       "      <th>diving_prohibited</th>\n",
       "      <th>recreational_restrictions</th>\n",
       "      <th>gillnetting</th>\n",
       "    </tr>\n",
       "  </thead>\n",
       "  <tbody>\n",
       "    <tr>\n",
       "      <th>0</th>\n",
       "      <td>MULTIPOLYGON Z (((8.507997 56.744095 0, 8.5084...</td>\n",
       "      <td>3.0</td>\n",
       "      <td>NaN</td>\n",
       "      <td>Natura2000</td>\n",
       "      <td>2021-08-03</td>\n",
       "      <td>NaN</td>\n",
       "      <td>3.0</td>\n",
       "      <td>Year-round</td>\n",
       "      <td>NaN</td>\n",
       "      <td>3.0</td>\n",
       "      <td>...</td>\n",
       "      <td>MPA Website|https://natura2000.eea.europa.eu/N...</td>\n",
       "      <td>1</td>\n",
       "      <td>3.0</td>\n",
       "      <td>3.0</td>\n",
       "      <td>3.0</td>\n",
       "      <td>3.0</td>\n",
       "      <td>3.0</td>\n",
       "      <td>3.0</td>\n",
       "      <td>3.0</td>\n",
       "      <td>3.0</td>\n",
       "    </tr>\n",
       "    <tr>\n",
       "      <th>1</th>\n",
       "      <td>MULTIPOLYGON Z (((8.444085 57.014151 0, 8.4448...</td>\n",
       "      <td>3.0</td>\n",
       "      <td>NaN</td>\n",
       "      <td>Natura2000</td>\n",
       "      <td>2021-08-03</td>\n",
       "      <td>NaN</td>\n",
       "      <td>3.0</td>\n",
       "      <td>Year-Round</td>\n",
       "      <td>NaN</td>\n",
       "      <td>3.0</td>\n",
       "      <td>...</td>\n",
       "      <td>https://natura2000.eea.europa.eu/Natura2000/SD...</td>\n",
       "      <td>1</td>\n",
       "      <td>3.0</td>\n",
       "      <td>3.0</td>\n",
       "      <td>3.0</td>\n",
       "      <td>3.0</td>\n",
       "      <td>3.0</td>\n",
       "      <td>3.0</td>\n",
       "      <td>3.0</td>\n",
       "      <td>3.0</td>\n",
       "    </tr>\n",
       "    <tr>\n",
       "      <th>2</th>\n",
       "      <td>MULTIPOLYGON Z (((9.463926 57.191341 0, 9.4909...</td>\n",
       "      <td>3.0</td>\n",
       "      <td>NaN</td>\n",
       "      <td>Natura2000</td>\n",
       "      <td>2021-08-03</td>\n",
       "      <td>NaN</td>\n",
       "      <td>3.0</td>\n",
       "      <td>Year-Round</td>\n",
       "      <td>NaN</td>\n",
       "      <td>3.0</td>\n",
       "      <td>...</td>\n",
       "      <td>https://natura2000.eea.europa.eu/Natura2000/SD...</td>\n",
       "      <td>1</td>\n",
       "      <td>3.0</td>\n",
       "      <td>3.0</td>\n",
       "      <td>3.0</td>\n",
       "      <td>3.0</td>\n",
       "      <td>3.0</td>\n",
       "      <td>3.0</td>\n",
       "      <td>3.0</td>\n",
       "      <td>3.0</td>\n",
       "    </tr>\n",
       "    <tr>\n",
       "      <th>3</th>\n",
       "      <td>MULTIPOLYGON Z (((9.247454 56.569421 0, 9.2468...</td>\n",
       "      <td>3.0</td>\n",
       "      <td>NaN</td>\n",
       "      <td>Natura2000</td>\n",
       "      <td>2021-08-03</td>\n",
       "      <td>NaN</td>\n",
       "      <td>3.0</td>\n",
       "      <td>Year-round</td>\n",
       "      <td>NaN</td>\n",
       "      <td>3.0</td>\n",
       "      <td>...</td>\n",
       "      <td>MPA Website|https://natura2000.eea.europa.eu/N...</td>\n",
       "      <td>1</td>\n",
       "      <td>3.0</td>\n",
       "      <td>3.0</td>\n",
       "      <td>3.0</td>\n",
       "      <td>3.0</td>\n",
       "      <td>3.0</td>\n",
       "      <td>3.0</td>\n",
       "      <td>3.0</td>\n",
       "      <td>3.0</td>\n",
       "    </tr>\n",
       "    <tr>\n",
       "      <th>4</th>\n",
       "      <td>MULTIPOLYGON Z (((9.19706 56.929287 0, 9.19709...</td>\n",
       "      <td>3.0</td>\n",
       "      <td>NaN</td>\n",
       "      <td>Natura2000</td>\n",
       "      <td>2023-01-26</td>\n",
       "      <td>NaN</td>\n",
       "      <td>3.0</td>\n",
       "      <td>Year-round</td>\n",
       "      <td>NaN</td>\n",
       "      <td>3.0</td>\n",
       "      <td>...</td>\n",
       "      <td>MPA Website|https://natura2000.eea.europa.eu/N...</td>\n",
       "      <td>1</td>\n",
       "      <td>3.0</td>\n",
       "      <td>3.0</td>\n",
       "      <td>3.0</td>\n",
       "      <td>3.0</td>\n",
       "      <td>3.0</td>\n",
       "      <td>3.0</td>\n",
       "      <td>3.0</td>\n",
       "      <td>3.0</td>\n",
       "    </tr>\n",
       "  </tbody>\n",
       "</table>\n",
       "<p>5 rows × 88 columns</p>\n",
       "</div>"
      ],
      "text/plain": [
       "                                    geometry_reduced  dredging_prohibited  \\\n",
       "0  MULTIPOLYGON Z (((8.507997 56.744095 0, 8.5084...                  3.0   \n",
       "1  MULTIPOLYGON Z (((8.444085 57.014151 0, 8.4448...                  3.0   \n",
       "2  MULTIPOLYGON Z (((9.463926 57.191341 0, 9.4909...                  3.0   \n",
       "3  MULTIPOLYGON Z (((9.247454 56.569421 0, 9.2468...                  3.0   \n",
       "4  MULTIPOLYGON Z (((9.19706 56.929287 0, 9.19709...                  3.0   \n",
       "\n",
       "   gillnets_entangling_nets boundary_source last_update  dip_scoop_nets  \\\n",
       "0                       NaN      Natura2000  2021-08-03             NaN   \n",
       "1                       NaN      Natura2000  2021-08-03             NaN   \n",
       "2                       NaN      Natura2000  2021-08-03             NaN   \n",
       "3                       NaN      Natura2000  2021-08-03             NaN   \n",
       "4                       NaN      Natura2000  2023-01-26             NaN   \n",
       "\n",
       "   landing_prohibited      season  mooring  spear_fishing  ...  \\\n",
       "0                 3.0  Year-round      NaN            3.0  ...   \n",
       "1                 3.0  Year-Round      NaN            3.0  ...   \n",
       "2                 3.0  Year-Round      NaN            3.0  ...   \n",
       "3                 3.0  Year-round      NaN            3.0  ...   \n",
       "4                 3.0  Year-round      NaN            3.0  ...   \n",
       "\n",
       "                                                 url  site_major_version  \\\n",
       "0  MPA Website|https://natura2000.eea.europa.eu/N...                   1   \n",
       "1  https://natura2000.eea.europa.eu/Natura2000/SD...                   1   \n",
       "2  https://natura2000.eea.europa.eu/Natura2000/SD...                   1   \n",
       "3  MPA Website|https://natura2000.eea.europa.eu/N...                   1   \n",
       "4  MPA Website|https://natura2000.eea.europa.eu/N...                   1   \n",
       "\n",
       "   misc_gear  longlining traps_n_pots  \\\n",
       "0        3.0         3.0          3.0   \n",
       "1        3.0         3.0          3.0   \n",
       "2        3.0         3.0          3.0   \n",
       "3        3.0         3.0          3.0   \n",
       "4        3.0         3.0          3.0   \n",
       "\n",
       "   removal_of_historic_artifacts_prohibited construction_prohibited  \\\n",
       "0                                       3.0                     3.0   \n",
       "1                                       3.0                     3.0   \n",
       "2                                       3.0                     3.0   \n",
       "3                                       3.0                     3.0   \n",
       "4                                       3.0                     3.0   \n",
       "\n",
       "   diving_prohibited  recreational_restrictions  gillnetting  \n",
       "0                3.0                        3.0          3.0  \n",
       "1                3.0                        3.0          3.0  \n",
       "2                3.0                        3.0          3.0  \n",
       "3                3.0                        3.0          3.0  \n",
       "4                3.0                        3.0          3.0  \n",
       "\n",
       "[5 rows x 88 columns]"
      ]
     },
     "execution_count": 7,
     "metadata": {},
     "output_type": "execute_result"
    }
   ],
   "source": [
    "# Find Natura2000 sites within the search area\n",
    "df_geo = pd.concat(proSeas_data.select(f\"geometry within '{query_geometry}' AND boundary_source == 'Natura2000'\").dataframes(), ignore_index=True)\n",
    "df_geo.head()"
   ]
  },
  {
   "cell_type": "markdown",
   "id": "1c2c87e8-5628-498a-9889-9bb41af260dc",
   "metadata": {},
   "source": [
    "## Export the data in your prefered file format"
   ]
  },
  {
   "cell_type": "markdown",
   "id": "6f683b83-de9f-492a-8b29-f6d330d954b2",
   "metadata": {},
   "source": [
    "### Pandas"
   ]
  },
  {
   "cell_type": "code",
   "execution_count": 8,
   "id": "e72d11e7-735f-4acb-abfc-6725453e0f8a",
   "metadata": {},
   "outputs": [],
   "source": [
    "# Uncomment the line below to select the output format\n",
    "\n",
    "# Export to CSV\n",
    "df_geo.to_csv('df_country.csv', index=False)\n",
    "\n",
    "# Export to JSON\n",
    "# df_country.to_json('df_country.json', orient='records', lines=True)\n",
    "\n",
    "# Export to Parquet\n",
    "# df_country.to_parquet('df_country.parquet', index=False)"
   ]
  },
  {
   "cell_type": "markdown",
   "id": "2569d5c7-559f-4184-9cf9-42e5d29a0426",
   "metadata": {},
   "source": [
    "### GeoPandas"
   ]
  },
  {
   "cell_type": "code",
   "execution_count": 9,
   "id": "aed19cf7-e065-4e2a-89ac-56143c46eb64",
   "metadata": {},
   "outputs": [],
   "source": [
    "# Function to convert WKT string to 2D Shapely geometry\n",
    "def convert_wkt_to_2d(geometry_wkt):\n",
    "    if not geometry_wkt:  # Check if it's None or empty\n",
    "        return None  \n",
    "\n",
    "    try:\n",
    "        geom = wkt.loads(geometry_wkt)  # Convert text to Shapely geometry\n",
    "        if geom and hasattr(geom, \"has_z\") and geom.has_z:  # Ensure geom exists and has Z\n",
    "            # Remove Z by keeping only X, Y coordinates\n",
    "            return MultiPolygon([\n",
    "                Polygon([(x, y) for x, y, *_ in polygon.exterior.coords])\n",
    "                for polygon in geom.geoms\n",
    "            ]) if isinstance(geom, MultiPolygon) else Polygon([(x, y) for x, y, *_ in geom.exterior.coords])\n",
    "        \n",
    "        return geom  # Already 2D\n",
    "    except Exception as e:\n",
    "        print(f\"Error converting geometry: {e}\")\n",
    "        return None  # Return None instead of breaking"
   ]
  },
  {
   "cell_type": "code",
   "execution_count": 10,
   "id": "bbad4f0c-f0b7-45ca-ac40-b4946c993fd7",
   "metadata": {},
   "outputs": [],
   "source": [
    "# Convert DataFrame to GeoDataFrame\n",
    "df_geo['geometry'] = df_geo['geometry'].apply(convert_wkt_to_2d)\n",
    "gdf = gpd.GeoDataFrame(df_geo, geometry='geometry', crs=\"EPSG:4326\")"
   ]
  },
  {
   "cell_type": "code",
   "execution_count": 11,
   "id": "1ee5b207-c26f-4a85-bcb4-aa74fbb1e8a3",
   "metadata": {},
   "outputs": [
    {
     "name": "stdout",
     "output_type": "stream",
     "text": [
      "GeoJSON saved successfully!\n"
     ]
    }
   ],
   "source": [
    "gdf.to_file(\"df_geo.geojson\", driver=\"GeoJSON\")\n",
    "print(\"GeoJSON saved successfully!\")"
   ]
  }
 ],
 "metadata": {
  "kernelspec": {
   "display_name": ".venv",
   "language": "python",
   "name": "python3"
  },
  "language_info": {
   "codemirror_mode": {
    "name": "ipython",
    "version": 3
   },
   "file_extension": ".py",
   "mimetype": "text/x-python",
   "name": "python",
   "nbconvert_exporter": "python",
   "pygments_lexer": "ipython3",
   "version": "3.12.3"
  }
 },
 "nbformat": 4,
 "nbformat_minor": 5
}
