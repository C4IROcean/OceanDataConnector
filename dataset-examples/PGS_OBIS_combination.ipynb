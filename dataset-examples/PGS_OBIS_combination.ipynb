{
 "cells": [
  {
   "cell_type": "code",
   "execution_count": 1,
   "id": "88f2c82a-803c-4511-b9e6-11fbee2bfefa",
   "metadata": {
    "tags": []
   },
   "outputs": [],
   "source": [
    "import pandas as pd\n",
    "import pydeck as pdk"
   ]
  },
  {
   "cell_type": "code",
   "execution_count": 2,
   "id": "7324d036-ab06-494b-a020-8e3752764dfe",
   "metadata": {
    "tags": []
   },
   "outputs": [],
   "source": [
    "from odp.client import OdpClient # The SDK\n",
    "from odp.dto import ResourceDto # Resource Data Transfer Object\n",
    "from odp.client.dto.table_spec import TableSpec # Table Specification\n",
    "from odp.client.exc import OdpResourceNotFoundError"
   ]
  },
  {
   "cell_type": "code",
   "execution_count": 3,
   "id": "367f9b0a-e021-468b-bd96-b5545b468be5",
   "metadata": {
    "tags": []
   },
   "outputs": [
    {
     "name": "stderr",
     "output_type": "stream",
     "text": [
      "WARNING:odp.client.auth:Encryption unavailable. Opting in to plaintext\n"
     ]
    }
   ],
   "source": [
    "client = OdpClient()"
   ]
  },
  {
   "cell_type": "code",
   "execution_count": null,
   "id": "6ba95feb-e449-4b42-a017-8d8f6304eed2",
   "metadata": {},
   "outputs": [],
   "source": [
    "## Import PGS data from ODP and filter for humpback whales"
   ]
  },
  {
   "cell_type": "code",
   "execution_count": 4,
   "id": "a9783888-0957-4806-ad57-1d54a4e05154",
   "metadata": {
    "tags": []
   },
   "outputs": [
    {
     "ename": "OdpResourceNotFoundError",
     "evalue": "Resource not found: c571f34a-490e-4a23-97ef-81c9efa41558",
     "output_type": "error",
     "traceback": [
      "\u001b[31m---------------------------------------------------------------------------\u001b[39m",
      "\u001b[31mHTTPError\u001b[39m                                 Traceback (most recent call last)",
      "\u001b[36mFile \u001b[39m\u001b[32m~/ExampleNotebooks/.venv/lib/python3.12/site-packages/odp/client/resource_client.py:60\u001b[39m, in \u001b[36mOdpResourceClient.get\u001b[39m\u001b[34m(self, ref, tp, assert_type, raise_unknown_kind)\u001b[39m\n\u001b[32m     59\u001b[39m \u001b[38;5;28;01mtry\u001b[39;00m:\n\u001b[32m---> \u001b[39m\u001b[32m60\u001b[39m     \u001b[43mres\u001b[49m\u001b[43m.\u001b[49m\u001b[43mraise_for_status\u001b[49m\u001b[43m(\u001b[49m\u001b[43m)\u001b[49m\n\u001b[32m     61\u001b[39m \u001b[38;5;28;01mexcept\u001b[39;00m requests.HTTPError \u001b[38;5;28;01mas\u001b[39;00m e:\n",
      "\u001b[36mFile \u001b[39m\u001b[32m~/ExampleNotebooks/.venv/lib/python3.12/site-packages/requests/models.py:1024\u001b[39m, in \u001b[36mResponse.raise_for_status\u001b[39m\u001b[34m(self)\u001b[39m\n\u001b[32m   1023\u001b[39m \u001b[38;5;28;01mif\u001b[39;00m http_error_msg:\n\u001b[32m-> \u001b[39m\u001b[32m1024\u001b[39m     \u001b[38;5;28;01mraise\u001b[39;00m HTTPError(http_error_msg, response=\u001b[38;5;28mself\u001b[39m)\n",
      "\u001b[31mHTTPError\u001b[39m: 404 Client Error: Not Found for url: https://api.hubocean.earth/catalog/c571f34a-490e-4a23-97ef-81c9efa41558",
      "\nThe above exception was the direct cause of the following exception:\n",
      "\u001b[31mOdpResourceNotFoundError\u001b[39m                  Traceback (most recent call last)",
      "\u001b[36mCell\u001b[39m\u001b[36m \u001b[39m\u001b[32mIn[4]\u001b[39m\u001b[32m, line 1\u001b[39m\n\u001b[32m----> \u001b[39m\u001b[32m1\u001b[39m dataset = \u001b[43mclient\u001b[49m\u001b[43m.\u001b[49m\u001b[43mcatalog\u001b[49m\u001b[43m.\u001b[49m\u001b[43mget\u001b[49m\u001b[43m(\u001b[49m\u001b[43m(\u001b[49m\u001b[33;43m\"\u001b[39;49m\u001b[33;43mc571f34a-490e-4a23-97ef-81c9efa41558\u001b[39;49m\u001b[33;43m\"\u001b[39;49m\u001b[43m)\u001b[49m\u001b[43m)\u001b[49m\n\u001b[32m      2\u001b[39m dataset.metadata.display_name\n",
      "\u001b[36mFile \u001b[39m\u001b[32m~/ExampleNotebooks/.venv/lib/python3.12/site-packages/odp/client/resource_client.py:65\u001b[39m, in \u001b[36mOdpResourceClient.get\u001b[39m\u001b[34m(self, ref, tp, assert_type, raise_unknown_kind)\u001b[39m\n\u001b[32m     63\u001b[39m         \u001b[38;5;28;01mraise\u001b[39;00m OdpValidationError(\u001b[33m\"\u001b[39m\u001b[33mInvalid input\u001b[39m\u001b[33m\"\u001b[39m) \u001b[38;5;28;01mfrom\u001b[39;00m\u001b[38;5;250m \u001b[39m\u001b[34;01me\u001b[39;00m\n\u001b[32m     64\u001b[39m     \u001b[38;5;28;01mif\u001b[39;00m res.status_code == \u001b[32m404\u001b[39m:\n\u001b[32m---> \u001b[39m\u001b[32m65\u001b[39m         \u001b[38;5;28;01mraise\u001b[39;00m OdpResourceNotFoundError(\u001b[33mf\u001b[39m\u001b[33m\"\u001b[39m\u001b[33mResource not found: \u001b[39m\u001b[38;5;132;01m{\u001b[39;00mref\u001b[38;5;132;01m}\u001b[39;00m\u001b[33m\"\u001b[39m) \u001b[38;5;28;01mfrom\u001b[39;00m\u001b[38;5;250m \u001b[39m\u001b[34;01me\u001b[39;00m\n\u001b[32m     66\u001b[39m     \u001b[38;5;28;01mraise\u001b[39;00m requests.HTTPError(\u001b[33mf\u001b[39m\u001b[33m\"\u001b[39m\u001b[33mHTTP Error - \u001b[39m\u001b[38;5;132;01m{\u001b[39;00mres.status_code\u001b[38;5;132;01m}\u001b[39;00m\u001b[33m: \u001b[39m\u001b[38;5;132;01m{\u001b[39;00mres.text\u001b[38;5;132;01m}\u001b[39;00m\u001b[33m\"\u001b[39m)\n\u001b[32m     68\u001b[39m \u001b[38;5;28;01mreturn\u001b[39;00m ResourceDto.create(**res.json())\n",
      "\u001b[31mOdpResourceNotFoundError\u001b[39m: Resource not found: c571f34a-490e-4a23-97ef-81c9efa41558"
     ]
    }
   ],
   "source": [
    "dataset = client.catalog.get((\"c571f34a-490e-4a23-97ef-81c9efa41558\"))\n",
    "dataset.metadata.display_name"
   ]
  },
  {
   "cell_type": "code",
   "execution_count": null,
   "id": "33d3d9c1-248e-4fab-9fab-bdb890742cfa",
   "metadata": {
    "tags": []
   },
   "outputs": [],
   "source": [
    "filter_query = {\n",
    "  \"#EQUALS\": [\n",
    "    \"$Species\",\n",
    "    \"Megaptera novaeangliae\"\n",
    "  ]\n",
    "}"
   ]
  },
  {
   "cell_type": "code",
   "execution_count": null,
   "id": "b3574483-51d2-4a90-90ff-fbc9c9f6efcc",
   "metadata": {
    "tags": []
   },
   "outputs": [],
   "source": [
    "PGSdata = client.tabular.select_as_dataframe(dataset, filter_query=filter_query)\n",
    "PGSdata[\"Latitude\"] = PGSdata[\"geometry\"].apply(lambda x: x[\"coordinates\"][1] if x else None)\n",
    "PGSdata[\"Longitude\"] = PGSdata[\"geometry\"].apply(lambda x: x[\"coordinates\"][0] if x else None)\n",
    "PGSdata.head()"
   ]
  },
  {
   "cell_type": "markdown",
   "id": "1d5559d5-6dd7-4659-bc69-e1d1ff5f14ba",
   "metadata": {},
   "source": [
    "## Load the corresponding data from OBIS from a csv file"
   ]
  },
  {
   "cell_type": "code",
   "execution_count": null,
   "id": "f2a352d2-5567-49ef-b144-928d241dddd1",
   "metadata": {},
   "outputs": [],
   "source": [
    "OBISdata = pd.read_csv('data/OBIS_humpback_whales.csv')"
   ]
  },
  {
   "cell_type": "code",
   "execution_count": null,
   "id": "60d40e48-025c-4240-b0b8-fc6fa64af412",
   "metadata": {},
   "outputs": [],
   "source": [
    "OBISdata.rename(columns={\"decimallatitude\": \"Latitude\"}, inplace=True)\n",
    "OBISdata.rename(columns={\"decimallongitude\": \"Longitude\"}, inplace=True)\n",
    "OBISdata.head()"
   ]
  },
  {
   "cell_type": "markdown",
   "id": "f5fd5fed-3e06-479d-9747-e9f9bd53721f",
   "metadata": {},
   "source": [
    "## Create a Plot of PGS and OBIS data on Humback Whales\n",
    "- PGS is orange\n",
    "- OBIS is Yellow"
   ]
  },
  {
   "cell_type": "code",
   "execution_count": null,
   "id": "7a62041a-2d48-4840-907e-d174ab0cc844",
   "metadata": {},
   "outputs": [],
   "source": [
    "def create_pydeck_scatter_plot(PGSdata, OBISdata, lon_col, lat_col):\n",
    "    \"\"\"\n",
    "    Creates a Pydeck scatter plot based on longitude and latitude columns for two dataframes.\n",
    "\n",
    "    Args:\n",
    "        PGSdata (pd.DataFrame): Input DataFrame for PGS data.\n",
    "        OBISdata (pd.DataFrame): Input DataFrame for OBIS data.\n",
    "        lon_col (str): Name of the longitude column.\n",
    "        lat_col (str): Name of the latitude column.\n",
    "\n",
    "    Returns:\n",
    "        pdk.Deck: Pydeck scatter plot.\n",
    "    \"\"\"\n",
    "    scatter_layer_pgs = pdk.Layer(\n",
    "        \"ScatterplotLayer\",\n",
    "        data=OBISdata,\n",
    "        get_position=[lon_col, lat_col],\n",
    "        get_radius=10000,\n",
    "        get_fill_color=[255, 215, 14],  # Yellow color for OBIS\n",
    "        pickable=True,\n",
    "    )\n",
    "\n",
    "    scatter_layer_obis = pdk.Layer(\n",
    "        \"ScatterplotLayer\",\n",
    "        data=PGSdata,\n",
    "        get_position=[lon_col, lat_col],\n",
    "        get_radius=10000,\n",
    "        get_fill_color=[245, 61, 1],  # Orange color for PGS\n",
    "        pickable=True,\n",
    "    )\n",
    "\n",
    "    view_state = pdk.ViewState(\n",
    "        latitude=(PGSdata[lat_col].mean() + OBISdata[lat_col].mean()) / 2,\n",
    "        longitude=(PGSdata[lon_col].mean() + OBISdata[lon_col].mean()) / 2,\n",
    "        zoom=4,\n",
    "    )\n",
    "\n",
    "    r = pdk.Deck(\n",
    "        layers=[scatter_layer_pgs, scatter_layer_obis],\n",
    "        initial_view_state=view_state,\n",
    "        api_keys={'mapbox':'pk.eyJ1Ijoib2NlYW5kYXRhZm91bmRhdGlvbiIsImEiOiJjazk5bGxpNWkwYWU1M2Vya3hkcHh4czdrIn0.yf7kIiPfDNE7KP9_9wTN6A'},\n",
    "        map_provider=\"mapbox\",\n",
    "        map_style=\"mapbox://styles/oceandatafoundation/clwg6xklg00an01pcgmeufjxq\",\n",
    "    )\n",
    "    return r\n"
   ]
  },
  {
   "cell_type": "code",
   "execution_count": null,
   "id": "8bcdad71-8d70-4c09-af13-37488853e1e8",
   "metadata": {},
   "outputs": [],
   "source": [
    "deck = create_pydeck_scatter_plot(PGSdata, OBISdata, lon_col=\"Longitude\", lat_col=\"Latitude\")\n"
   ]
  },
  {
   "cell_type": "code",
   "execution_count": null,
   "id": "5ad409c1-e446-44b5-b45e-262b4d889800",
   "metadata": {},
   "outputs": [],
   "source": [
    "# Save the map as a html file\n",
    "deck.to_html('scatter_plot.html')"
   ]
  },
  {
   "cell_type": "code",
   "execution_count": null,
   "id": "89f865d0-e694-4d91-b238-062671528692",
   "metadata": {},
   "outputs": [],
   "source": []
  }
 ],
 "metadata": {
  "kernelspec": {
   "display_name": ".venv",
   "language": "python",
   "name": "python3"
  },
  "language_info": {
   "codemirror_mode": {
    "name": "ipython",
    "version": 3
   },
   "file_extension": ".py",
   "mimetype": "text/x-python",
   "name": "python",
   "nbconvert_exporter": "python",
   "pygments_lexer": "ipython3",
   "version": "3.12.3"
  }
 },
 "nbformat": 4,
 "nbformat_minor": 5
}
