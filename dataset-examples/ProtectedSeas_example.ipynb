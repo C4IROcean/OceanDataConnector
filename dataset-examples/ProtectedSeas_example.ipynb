{
 "cells": [
  {
   "cell_type": "code",
   "execution_count": null,
   "id": "86d48100-2b3c-40b6-802b-48c54cc7aee3",
   "metadata": {},
   "outputs": [],
   "source": [
    "!pip install -U odp-sdk --quiet"
   ]
  },
  {
   "cell_type": "code",
   "execution_count": null,
   "id": "0e745f19-fe89-409c-9f26-d844abe0bbf4",
   "metadata": {},
   "outputs": [],
   "source": [
    "# Standard library imports\n",
    "import json\n",
    "import pandas as pd\n",
    "import geojson\n",
    "\n",
    "# Third-party imports\n",
    "import shapely\n",
    "from shapely.geometry import box, MultiPolygon, Polygon\n",
    "from shapely import wkt\n",
    "import geopandas as gpd\n",
    "\n",
    "# Local imports\n",
    "from odp.client import OdpClient  # The SDK\n",
    "from ODPworkspace_demotools import mapOQS, pydeck_plot"
   ]
  },
  {
   "cell_type": "code",
   "execution_count": null,
   "id": "7cbfc5ba-6908-4fc0-9518-7ccc04883a6b",
   "metadata": {},
   "outputs": [],
   "source": [
    "client = OdpClient()"
   ]
  },
  {
   "cell_type": "code",
   "execution_count": null,
   "id": "84466713-6580-464d-a540-e371a556f095",
   "metadata": {},
   "outputs": [],
   "source": [
    "## Request the dataset from the catalog using the UUID:\n",
    "proSeas_dataset = client.catalog.get((\"3e32fd06-4eb7-4da2-9acb-dd0ecb58aa88\"))\n",
    "proSeas_dataset.metadata.display_name"
   ]
  },
  {
   "cell_type": "code",
   "execution_count": null,
   "id": "055815bb-90bf-4043-9a9f-b2ff9225bda7",
   "metadata": {},
   "outputs": [],
   "source": [
    "proSeas_data = client.table_v2(proSeas_dataset)"
   ]
  },
  {
   "cell_type": "markdown",
   "id": "785781f5-607b-4b20-a60c-cd6ec7fd293d",
   "metadata": {},
   "source": [
    "## Create a geographic query and search for specific types of MPAs\n",
    "- Define a polygon manually\n",
    "- Use the interactive map to create a polygon"
   ]
  },
  {
   "cell_type": "markdown",
   "id": "256d5c63-8bb1-4ab3-b2d8-cb6b4a22439d",
   "metadata": {},
   "source": [
    "### Option 1: Define the search area manually"
   ]
  },
  {
   "cell_type": "code",
   "execution_count": null,
   "id": "c73fee73-893e-438a-966d-860bb23dacc6",
   "metadata": {
    "tags": []
   },
   "outputs": [],
   "source": [
    "## Bounding box for Southern Norway\n",
    "## Enter min and max latitude and longitude values to create a bounding box polygon below. Or use the structure below to add any Well-Known-Text or GeoJSON defined polygon.\n",
    "lat_min = 56\n",
    "lat_max = 62\n",
    "lon_min = 8\n",
    "lon_max = 12\n",
    "query_geometry = box(lon_min, lat_min, lon_max, lat_max).wkt\n",
    "query_geometry"
   ]
  },
  {
   "cell_type": "markdown",
   "id": "5bd8eef6-9001-4b6e-b42c-8a32a23eddae",
   "metadata": {},
   "source": [
    "### Option 2: Use a map to create a geospatial query for the API call"
   ]
  },
  {
   "cell_type": "code",
   "execution_count": null,
   "id": "f6bc332e-7b27-4230-b16a-10486159d3dc",
   "metadata": {
    "scrolled": true
   },
   "outputs": [],
   "source": [
    "# query_geometry_widget = mapOQS()"
   ]
  },
  {
   "cell_type": "code",
   "execution_count": null,
   "id": "67f9615e-043d-492c-ad0a-b7974ed5c3e3",
   "metadata": {},
   "outputs": [],
   "source": [
    "# query_geometry = query_geometry_widget.value "
   ]
  },
  {
   "cell_type": "code",
   "execution_count": null,
   "id": "78d23fca-b9e3-4fef-945f-93f147fb2371",
   "metadata": {},
   "outputs": [],
   "source": [
    "# query_geometry"
   ]
  },
  {
   "cell_type": "markdown",
   "id": "ec6a7f35-b8d0-4321-a71b-125c6626f008",
   "metadata": {},
   "source": [
    "### Fetch data from ODP "
   ]
  },
  {
   "cell_type": "code",
   "execution_count": null,
   "id": "355ea543-1e97-413d-bff5-23dbf970250a",
   "metadata": {},
   "outputs": [],
   "source": [
    "# Find Natura2000 sites within the search area\n",
    "df_geo = pd.concat(proSeas_data.select(f\"geometry within '{query_geometry}' AND boundary_source == 'Natura2000'\").dataframes(), ignore_index=True)\n",
    "df_geo.head()"
   ]
  },
  {
   "cell_type": "markdown",
   "id": "42dbd4fb-3801-4a00-9578-bfdea96be2fe",
   "metadata": {},
   "source": [
    "## Plot that on a map"
   ]
  },
  {
   "cell_type": "code",
   "execution_count": null,
   "id": "2fc74515-98bc-41b4-a31e-68b95b04b35c",
   "metadata": {},
   "outputs": [],
   "source": [
    "# Convert WKT geometries to GeoJSON format\n",
    "def convert_wkt_to_geojson(df, wkt_column=\"geometry_reduced\"):\n",
    "    geojson_list = []\n",
    "    \n",
    "    for wkt in df[wkt_column]:\n",
    "        geom = shapely.wkt.loads(wkt)  # Convert WKT to Shapely geometry\n",
    "        geojson_obj = geojson.Feature(geometry=shapely.geometry.mapping(geom))  # Convert to GeoJSON format\n",
    "        geojson_list.append(geojson_obj)\n",
    "    \n",
    "    return geojson.FeatureCollection(geojson_list)  # Return as GeoJSON FeatureCollection\n",
    "\n",
    "# Convert df_geo's 'reduced_geometry' column to GeoJSON\n",
    "geojson_data = convert_wkt_to_geojson(df_geo, wkt_column=\"geometry_reduced\")\n",
    "\n",
    "# Plot using Pydeck\n",
    "pydeck_plot([geojson_data])"
   ]
  },
  {
   "cell_type": "markdown",
   "id": "1c2c87e8-5628-498a-9889-9bb41af260dc",
   "metadata": {},
   "source": [
    "## Export the data in your prefered file format"
   ]
  },
  {
   "cell_type": "markdown",
   "id": "6f683b83-de9f-492a-8b29-f6d330d954b2",
   "metadata": {},
   "source": [
    "### Pandas"
   ]
  },
  {
   "cell_type": "code",
   "execution_count": null,
   "id": "e72d11e7-735f-4acb-abfc-6725453e0f8a",
   "metadata": {},
   "outputs": [],
   "source": [
    "# Uncomment the line below to select the output format\n",
    "\n",
    "# Export to CSV\n",
    "df_geo.to_csv('df_country.csv', index=False)\n",
    "\n",
    "# Export to JSON\n",
    "# df_country.to_json('df_country.json', orient='records', lines=True)\n",
    "\n",
    "# Export to Parquet\n",
    "# df_country.to_parquet('df_country.parquet', index=False)"
   ]
  },
  {
   "cell_type": "markdown",
   "id": "2569d5c7-559f-4184-9cf9-42e5d29a0426",
   "metadata": {},
   "source": [
    "### GeoPandas"
   ]
  },
  {
   "cell_type": "code",
   "execution_count": null,
   "id": "aed19cf7-e065-4e2a-89ac-56143c46eb64",
   "metadata": {},
   "outputs": [],
   "source": [
    "# Function to convert WKT string to 2D Shapely geometry\n",
    "def convert_wkt_to_2d(geometry_wkt):\n",
    "    if not geometry_wkt:  # Check if it's None or empty\n",
    "        return None  \n",
    "\n",
    "    try:\n",
    "        geom = wkt.loads(geometry_wkt)  # Convert text to Shapely geometry\n",
    "        if geom and hasattr(geom, \"has_z\") and geom.has_z:  # Ensure geom exists and has Z\n",
    "            # Remove Z by keeping only X, Y coordinates\n",
    "            return MultiPolygon([\n",
    "                Polygon([(x, y) for x, y, *_ in polygon.exterior.coords])\n",
    "                for polygon in geom.geoms\n",
    "            ]) if isinstance(geom, MultiPolygon) else Polygon([(x, y) for x, y, *_ in geom.exterior.coords])\n",
    "        \n",
    "        return geom  # Already 2D\n",
    "    except Exception as e:\n",
    "        print(f\"Error converting geometry: {e}\")\n",
    "        return None  # Return None instead of breaking"
   ]
  },
  {
   "cell_type": "code",
   "execution_count": null,
   "id": "bbad4f0c-f0b7-45ca-ac40-b4946c993fd7",
   "metadata": {},
   "outputs": [],
   "source": [
    "# Convert DataFrame to GeoDataFrame\n",
    "df_geo['geometry'] = df_geo['geometry'].apply(convert_wkt_to_2d)\n",
    "gdf = gpd.GeoDataFrame(df_geo, geometry='geometry', crs=\"EPSG:4326\")"
   ]
  },
  {
   "cell_type": "code",
   "execution_count": null,
   "id": "1ee5b207-c26f-4a85-bcb4-aa74fbb1e8a3",
   "metadata": {},
   "outputs": [],
   "source": [
    "gdf.to_file(\"df_geo.geojson\", driver=\"GeoJSON\")\n",
    "print(\"GeoJSON saved successfully!\")"
   ]
  },
  {
   "cell_type": "code",
   "execution_count": null,
   "id": "cc1ce037-564b-4492-a484-b8ad37128638",
   "metadata": {
    "scrolled": true
   },
   "outputs": [],
   "source": [
    "# Convert datetime columns to strings (forcing object type)\n",
    "datetime_columns = [\"last_updat\", \"version_st\", \"last_revie\"]  # Adjust column names as needed\n",
    "for col in datetime_columns:\n",
    "    if col in gdf.columns:\n",
    "        gdf[col] = gdf[col].astype(str)  # Force to string type\n",
    "\n",
    "# Explicitly ensure columns are non-datetime before saving\n",
    "print(gdf.dtypes)  # Check column types before writing\n",
    "\n",
    "# Save as Shapefile\n",
    "gdf.to_file(\"df_geo_shapefile.shp\", driver='ESRI Shapefile')\n",
    "\n",
    "print(\"Shapefile saved successfully!\")"
   ]
  },
  {
   "cell_type": "code",
   "execution_count": null,
   "id": "d4a1d1ae-f3fb-432d-85c1-67ce5da39e32",
   "metadata": {},
   "outputs": [],
   "source": []
  }
 ],
 "metadata": {
  "kernelspec": {
   "display_name": "Python 3 (ipykernel)",
   "language": "python",
   "name": "python3"
  },
  "language_info": {
   "codemirror_mode": {
    "name": "ipython",
    "version": 3
   },
   "file_extension": ".py",
   "mimetype": "text/x-python",
   "name": "python",
   "nbconvert_exporter": "python",
   "pygments_lexer": "ipython3",
   "version": "3.11.11"
  }
 },
 "nbformat": 4,
 "nbformat_minor": 5
}
