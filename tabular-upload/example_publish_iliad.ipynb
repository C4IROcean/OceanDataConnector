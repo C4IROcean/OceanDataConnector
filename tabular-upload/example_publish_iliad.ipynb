{
 "cells": [
  {
   "cell_type": "code",
   "execution_count": 8,
   "metadata": {},
   "outputs": [],
   "source": [
    "import uuid\n",
    "import json\n",
    "import shapely\n",
    "import geopandas as gpd\n",
    "from odp.client import OdpClient\n",
    "from odp.client.dto.table_spec import TableSpec\n",
    "from odp.dto.catalog import DataCollectionDto, DatasetDto"
   ]
  },
  {
   "cell_type": "markdown",
   "metadata": {},
   "source": [
    "## Create resource in ODP Catalogue"
   ]
  },
  {
   "cell_type": "code",
   "execution_count": 9,
   "metadata": {},
   "outputs": [
    {
     "data": {
      "text/plain": [
       "TableSpec(table_schema={'record': {'type': 'long'}, 'month': {'type': 'long'}, 'height': {'type': 'double'}, 'ref': {'type': 'double'}, 'ax': {'type': 'double'}, 'gx': {'type': 'double'}, 'mz': {'type': 'double'}, 'gy': {'type': 'double'}, 'year': {'type': 'long'}, 'rssi': {'type': 'long'}, 'temp_imu': {'type': 'double'}, 'validity': {'type': 'double'}, 'temp_2': {'type': 'double'}, 'temp_4': {'type': 'double'}, 'atm': {'type': 'double'}, 'day': {'type': 'long'}, 'satellites': {'type': 'long'}, 'temp_1': {'type': 'double'}, 'speed': {'type': 'double'}, 'temp_3': {'type': 'double'}, 'pdop': {'type': 'double'}, 'ay': {'type': 'double'}, 'mx': {'type': 'double'}, 'course': {'type': 'double'}, 'minute': {'type': 'long'}, 'hour': {'type': 'long'}, 'gz': {'type': 'double'}, 'geometry': {'type': 'geometry'}, 'hdop': {'type': 'double'}, 'az': {'type': 'double'}, 'vdop': {'type': 'double'}, 'second': {'type': 'long'}, 'sep': {'type': 'double'}, 'my': {'type': 'double'}, 'timestamp': {'type': 'timestamp<s>'}}, partitioning=None)"
      ]
     },
     "execution_count": 9,
     "metadata": {},
     "output_type": "execute_result"
    }
   ],
   "source": [
    "client = OdpClient()\n",
    "uuid_str = str(uuid.uuid4())\n",
    "\n",
    "\n",
    "# create collection\n",
    "with open(\"collection.json\") as file:\n",
    "    collection_config = json.load(file)\n",
    "\n",
    "# randomize collection name:\n",
    "collection_config[\"metadata\"][\"name\"] = collection_config[\"metadata\"][\"name\"] + \"-\" + uuid_str\n",
    "\n",
    "collection_manifest = DataCollectionDto(**collection_config)\n",
    "collection_dto = client.catalog.create(collection_manifest)\n",
    "\n",
    "\n",
    "# create dataset\n",
    "with open(\"dataset.json\") as file:\n",
    "    dataset_config = json.load(file)\n",
    "    table_schema = dataset_config[\"table_schema\"]\n",
    "    dataset_config = dataset_config[\"dataset_config\"]\n",
    "\n",
    "# randomize dataset name:\n",
    "dataset_config[\"metadata\"][\"name\"] = dataset_config[\"metadata\"][\"name\"] + \"-\" + uuid_str\n",
    "# link dataset to collection\n",
    "dataset_config[\"spec\"][\"data_collection\"] = dataset_config[\"spec\"][\"data_collection\"] + collection_config[\"metadata\"][\"name\"]\n",
    "\n",
    "dataset_manifest = DatasetDto(**dataset_config)\n",
    "dataset_dto = client.catalog.create(dataset_manifest)\n",
    "table_spec = TableSpec(table_schema=table_schema)\n",
    "client.tabular.create_schema(resource_dto=dataset_dto, table_spec=table_spec)"
   ]
  },
  {
   "cell_type": "markdown",
   "metadata": {},
   "source": [
    "## Prepare dataframe and load to ODP"
   ]
  },
  {
   "cell_type": "code",
   "execution_count": 12,
   "metadata": {},
   "outputs": [
    {
     "name": "stderr",
     "output_type": "stream",
     "text": [
      "/tmp/ipykernel_523/611474191.py:10: UserWarning: Geometry column does not contain geometry.\n",
      "  gdf[\"geometry\"] = gdf[\"geometry\"].apply(safe_to_geojson)\n"
     ]
    }
   ],
   "source": [
    "def safe_to_geojson(geometry):\n",
    "    if not geometry:\n",
    "        return None\n",
    "    try:\n",
    "        return json.loads(shapely.to_geojson(geometry))\n",
    "    except Exception:\n",
    "        return None\n",
    "\n",
    "gdf = gpd.read_parquet(\"iliad.parquet\")\n",
    "gdf[\"geometry\"] = gdf[\"geometry\"].apply(safe_to_geojson)\n",
    "datapoints_to_write = gdf.to_dict(\"records\")\n",
    "client.tabular.write(dataset_dto, datapoints_to_write)\n"
   ]
  },
  {
   "cell_type": "code",
   "execution_count": null,
   "metadata": {},
   "outputs": [],
   "source": []
  }
 ],
 "metadata": {
  "kernelspec": {
   "display_name": "Python 3 (ipykernel)",
   "language": "python",
   "name": "python3"
  },
  "language_info": {
   "codemirror_mode": {
    "name": "ipython",
    "version": 3
   },
   "file_extension": ".py",
   "mimetype": "text/x-python",
   "name": "python",
   "nbconvert_exporter": "python",
   "pygments_lexer": "ipython3",
   "version": "3.11.9"
  }
 },
 "nbformat": 4,
 "nbformat_minor": 2
}
