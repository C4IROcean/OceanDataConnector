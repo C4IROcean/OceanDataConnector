{
 "cells": [
  {
   "cell_type": "code",
   "execution_count": null,
   "id": "88f2c82a-803c-4511-b9e6-11fbee2bfefa",
   "metadata": {
    "tags": []
   },
   "outputs": [],
   "source": [
    "import pandas as pd\n",
    "import pydeck as pdk"
   ]
  },
  {
   "cell_type": "code",
   "execution_count": null,
   "id": "7324d036-ab06-494b-a020-8e3752764dfe",
   "metadata": {
    "tags": []
   },
   "outputs": [],
   "source": [
    "from odp.client import OdpClient # The SDK\n",
    "from odp.dto import ResourceDto # Resource Data Transfer Object\n",
    "from odp.client.dto.table_spec import TableSpec # Table Specification\n",
    "from odp.client.exc import OdpResourceNotFoundError"
   ]
  },
  {
   "cell_type": "code",
   "execution_count": null,
   "id": "367f9b0a-e021-468b-bd96-b5545b468be5",
   "metadata": {
    "tags": []
   },
   "outputs": [],
   "source": [
    "client = OdpClient()"
   ]
  },
  {
   "cell_type": "code",
   "execution_count": null,
   "id": "6ba95feb-e449-4b42-a017-8d8f6304eed2",
   "metadata": {},
   "outputs": [],
   "source": [
    "## Import PGS data from ODP and filter for humpback whales"
   ]
  },
  {
   "cell_type": "code",
   "execution_count": null,
   "id": "a9783888-0957-4806-ad57-1d54a4e05154",
   "metadata": {
    "tags": []
   },
   "outputs": [],
   "source": [
    "dataset = client.catalog.get((\"c571f34a-490e-4a23-97ef-81c9efa41558\"))\n",
    "dataset.metadata.display_name"
   ]
  },
  {
   "cell_type": "code",
   "execution_count": null,
   "id": "33d3d9c1-248e-4fab-9fab-bdb890742cfa",
   "metadata": {
    "tags": []
   },
   "outputs": [],
   "source": [
    "filter_query = {\n",
    "  \"#EQUALS\": [\n",
    "    \"$Species\",\n",
    "    \"Megaptera novaeangliae\"\n",
    "  ]\n",
    "}"
   ]
  },
  {
   "cell_type": "code",
   "execution_count": null,
   "id": "b3574483-51d2-4a90-90ff-fbc9c9f6efcc",
   "metadata": {
    "tags": []
   },
   "outputs": [],
   "source": [
    "PGSdata = client.tabular.select_as_dataframe(dataset, filter_query=filter_query)\n",
    "PGSdata[\"Latitude\"] = PGSdata[\"geometry\"].apply(lambda x: x[\"coordinates\"][1] if x else None)\n",
    "PGSdata[\"Longitude\"] = PGSdata[\"geometry\"].apply(lambda x: x[\"coordinates\"][0] if x else None)\n",
    "PGSdata.head()"
   ]
  },
  {
   "cell_type": "markdown",
   "id": "1d5559d5-6dd7-4659-bc69-e1d1ff5f14ba",
   "metadata": {},
   "source": [
    "## Load the corresponding data from OBIS from a csv file"
   ]
  },
  {
   "cell_type": "code",
   "execution_count": null,
   "id": "f2a352d2-5567-49ef-b144-928d241dddd1",
   "metadata": {},
   "outputs": [],
   "source": [
    "OBISdata = pd.read_csv('data/OBIS_humpback_whales.csv')"
   ]
  },
  {
   "cell_type": "code",
   "execution_count": null,
   "id": "60d40e48-025c-4240-b0b8-fc6fa64af412",
   "metadata": {},
   "outputs": [],
   "source": [
    "OBISdata.rename(columns={\"decimallatitude\": \"Latitude\"}, inplace=True)\n",
    "OBISdata.rename(columns={\"decimallongitude\": \"Longitude\"}, inplace=True)\n",
    "OBISdata.head()"
   ]
  },
  {
   "cell_type": "markdown",
   "id": "f5fd5fed-3e06-479d-9747-e9f9bd53721f",
   "metadata": {},
   "source": [
    "## Create a Plot of PGS and OBIS data on Humback Whales\n",
    "- PGS is orange\n",
    "- OBIS is Yellow"
   ]
  },
  {
   "cell_type": "code",
   "execution_count": null,
   "id": "7a62041a-2d48-4840-907e-d174ab0cc844",
   "metadata": {},
   "outputs": [],
   "source": [
    "def create_pydeck_scatter_plot(PGSdata, OBISdata, lon_col, lat_col):\n",
    "    \"\"\"\n",
    "    Creates a Pydeck scatter plot based on longitude and latitude columns for two dataframes.\n",
    "\n",
    "    Args:\n",
    "        PGSdata (pd.DataFrame): Input DataFrame for PGS data.\n",
    "        OBISdata (pd.DataFrame): Input DataFrame for OBIS data.\n",
    "        lon_col (str): Name of the longitude column.\n",
    "        lat_col (str): Name of the latitude column.\n",
    "\n",
    "    Returns:\n",
    "        pdk.Deck: Pydeck scatter plot.\n",
    "    \"\"\"\n",
    "    scatter_layer_pgs = pdk.Layer(\n",
    "        \"ScatterplotLayer\",\n",
    "        data=OBISdata,\n",
    "        get_position=[lon_col, lat_col],\n",
    "        get_radius=10000,\n",
    "        get_fill_color=[255, 215, 14],  # Yellow color for OBIS\n",
    "        pickable=True,\n",
    "    )\n",
    "\n",
    "    scatter_layer_obis = pdk.Layer(\n",
    "        \"ScatterplotLayer\",\n",
    "        data=PGSdata,\n",
    "        get_position=[lon_col, lat_col],\n",
    "        get_radius=10000,\n",
    "        get_fill_color=[245, 61, 1],  # Orange color for PGS\n",
    "        pickable=True,\n",
    "    )\n",
    "\n",
    "    view_state = pdk.ViewState(\n",
    "        latitude=(PGSdata[lat_col].mean() + OBISdata[lat_col].mean()) / 2,\n",
    "        longitude=(PGSdata[lon_col].mean() + OBISdata[lon_col].mean()) / 2,\n",
    "        zoom=4,\n",
    "    )\n",
    "\n",
    "    r = pdk.Deck(\n",
    "        layers=[scatter_layer_pgs, scatter_layer_obis],\n",
    "        initial_view_state=view_state,\n",
    "        api_keys={'mapbox':'pk.eyJ1Ijoib2NlYW5kYXRhZm91bmRhdGlvbiIsImEiOiJjazk5bGxpNWkwYWU1M2Vya3hkcHh4czdrIn0.yf7kIiPfDNE7KP9_9wTN6A'},\n",
    "        map_provider=\"mapbox\",\n",
    "        map_style=\"mapbox://styles/oceandatafoundation/clwg6xklg00an01pcgmeufjxq\",\n",
    "    )\n",
    "    return r\n"
   ]
  },
  {
   "cell_type": "code",
   "execution_count": null,
   "id": "8bcdad71-8d70-4c09-af13-37488853e1e8",
   "metadata": {},
   "outputs": [],
   "source": [
    "deck = create_pydeck_scatter_plot(PGSdata, OBISdata, lon_col=\"Longitude\", lat_col=\"Latitude\")\n"
   ]
  },
  {
   "cell_type": "code",
   "execution_count": null,
   "id": "5ad409c1-e446-44b5-b45e-262b4d889800",
   "metadata": {},
   "outputs": [],
   "source": [
    "# Save the map as a html file\n",
    "deck.to_html('scatter_plot.html')"
   ]
  },
  {
   "cell_type": "code",
   "execution_count": null,
   "id": "89f865d0-e694-4d91-b238-062671528692",
   "metadata": {},
   "outputs": [],
   "source": []
  }
 ],
 "metadata": {
  "kernelspec": {
   "display_name": "Python 3 (ipykernel)",
   "language": "python",
   "name": "python3"
  },
  "language_info": {
   "codemirror_mode": {
    "name": "ipython",
    "version": 3
   },
   "file_extension": ".py",
   "mimetype": "text/x-python",
   "name": "python",
   "nbconvert_exporter": "python",
   "pygments_lexer": "ipython3",
   "version": "3.11.9"
  }
 },
 "nbformat": 4,
 "nbformat_minor": 5
}
