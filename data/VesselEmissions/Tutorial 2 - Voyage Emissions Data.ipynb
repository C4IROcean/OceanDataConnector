{
 "cells": [
  {
   "cell_type": "markdown",
   "id": "047e36f1-3d18-4b78-aff7-3ec354e33ca0",
   "metadata": {},
   "source": [
    "# Tutorial 2: Access Vessel Particulars and Voyage Tables with CO2 Emission Estimates"
   ]
  },
  {
   "cell_type": "markdown",
   "id": "fab86979-2e02-4b6a-9692-c8bad72c3fdd",
   "metadata": {},
   "source": [
    "Voyage tables are emission data broken down and accumulated per voyage for every vessel. The voyage tables were created by fusing the World Port Index and the hourly ship tracks (AIS). \n",
    "\n",
    "The data contain from/to ports and the total co2 emission. In this example we will calculate the CO2 emissions from all Bullk carriers going from Port Hedland in Australia to Serangoon harbour i Singapore.\n",
    "\n",
    "OBS: Not all ship tracks are broken up to voyages correctly, since not all harbours are listed in the World Port Index."
   ]
  },
  {
   "cell_type": "code",
   "execution_count": 1,
   "id": "d08fc5a4-d8cb-4287-bf9d-1f342c4bea75",
   "metadata": {},
   "outputs": [],
   "source": [
    "import os\n",
    "import dask.dataframe as dd\n",
    "import pandas as pd\n",
    "\n",
    "from hackathon_utils import get_files_from_blob\n"
   ]
  },
  {
   "cell_type": "code",
   "execution_count": 2,
   "id": "5015231e-c3e1-476d-9daf-2d69a0a0d18f",
   "metadata": {},
   "outputs": [],
   "source": [
    "# Connection string to blob storage has to be set if being run outside the Ocean Data Connector\n",
    "#os.environ['HACKATHON_CONNECTION_STR']=\"xxxxxxxxxx\"\n",
    "\n",
    "try: \n",
    "    os.environ['HACKATHON_CONNECTION_STR']\n",
    "except:\n",
    "    print('HACKATHON_CONNECTION_STR must be set to access data')"
   ]
  },
  {
   "cell_type": "code",
   "execution_count": 3,
   "id": "94cdcc98-f9f5-41ad-a156-58b8028d95a6",
   "metadata": {},
   "outputs": [],
   "source": [
    "from dask.distributed import Client\n",
    "client=Client() #Specify number of workers with n_workers"
   ]
  },
  {
   "cell_type": "markdown",
   "id": "ab2d50b4-9e43-4e50-b710-5e96fa13efef",
   "metadata": {},
   "source": [
    "### Retrieve voyage data from storage"
   ]
  },
  {
   "cell_type": "markdown",
   "id": "e0fc346f-fcc8-4b76-bc81-51ac3913188f",
   "metadata": {},
   "source": [
    "Select a specific vessel type by choosing the appropriate folder below."
   ]
  },
  {
   "cell_type": "code",
   "execution_count": 4,
   "id": "e3308d3c-85bd-4de5-be43-adaf813a8901",
   "metadata": {},
   "outputs": [
    {
     "ename": "KeyError",
     "evalue": "'HACKATHON_CONNECTION_STR'",
     "output_type": "error",
     "traceback": [
      "\u001b[0;31m---------------------------------------------------------------------------\u001b[0m",
      "\u001b[0;31mKeyError\u001b[0m                                  Traceback (most recent call last)",
      "Input \u001b[0;32mIn [4]\u001b[0m, in \u001b[0;36m<cell line: 17>\u001b[0;34m()\u001b[0m\n\u001b[1;32m      1\u001b[0m \u001b[38;5;66;03m# Available folders divided into vessel categories\u001b[39;00m\n\u001b[1;32m      2\u001b[0m folders\u001b[38;5;241m=\u001b[39m[\u001b[38;5;124m'\u001b[39m\u001b[38;5;124mparquet/voyage_tables/Bulk carrier/\u001b[39m\u001b[38;5;124m'\u001b[39m,\n\u001b[1;32m      3\u001b[0m  \u001b[38;5;124m'\u001b[39m\u001b[38;5;124mparquet/voyage_tables/Chemical tanker/\u001b[39m\u001b[38;5;124m'\u001b[39m,\n\u001b[1;32m      4\u001b[0m  \u001b[38;5;124m'\u001b[39m\u001b[38;5;124mparquet/voyage_tables/Container/\u001b[39m\u001b[38;5;124m'\u001b[39m,\n\u001b[0;32m   (...)\u001b[0m\n\u001b[1;32m     14\u001b[0m  \u001b[38;5;124m'\u001b[39m\u001b[38;5;124mparquet/voyage_tables/Ro-ro/\u001b[39m\u001b[38;5;124m'\u001b[39m,\n\u001b[1;32m     15\u001b[0m  \u001b[38;5;124m'\u001b[39m\u001b[38;5;124mparquet/voyage_tables/Vehicle/\u001b[39m\u001b[38;5;124m'\u001b[39m]\n\u001b[0;32m---> 17\u001b[0m file_list\u001b[38;5;241m=\u001b[39m\u001b[43mget_files_from_blob\u001b[49m\u001b[43m(\u001b[49m\u001b[43mfolders\u001b[49m\u001b[43m[\u001b[49m\u001b[38;5;241;43m0\u001b[39;49m\u001b[43m]\u001b[49m\u001b[43m)\u001b[49m\n\u001b[1;32m     18\u001b[0m \u001b[38;5;28mprint\u001b[39m(\u001b[38;5;124mf\u001b[39m\u001b[38;5;124m'\u001b[39m\u001b[38;5;124mTotal number of voyage files : \u001b[39m\u001b[38;5;132;01m{\u001b[39;00m\u001b[38;5;28mlen\u001b[39m(file_list)\u001b[38;5;132;01m}\u001b[39;00m\u001b[38;5;124m'\u001b[39m)\n",
      "File \u001b[0;32m~/Documents/GitHub/OceanDataConnector/data/VesselEmissions/hackathon_utils.py:12\u001b[0m, in \u001b[0;36mget_files_from_blob\u001b[0;34m(folder, container)\u001b[0m\n\u001b[1;32m     10\u001b[0m \u001b[38;5;28;01mdef\u001b[39;00m \u001b[38;5;21mget_files_from_blob\u001b[39m(folder,container\u001b[38;5;241m=\u001b[39m\u001b[38;5;124m'\u001b[39m\u001b[38;5;124mvessel-emissions-2020\u001b[39m\u001b[38;5;124m'\u001b[39m):\n\u001b[0;32m---> 12\u001b[0m     blob_service_client \u001b[38;5;241m=\u001b[39m azure\u001b[38;5;241m.\u001b[39mstorage\u001b[38;5;241m.\u001b[39mblob\u001b[38;5;241m.\u001b[39mBlobServiceClient\u001b[38;5;241m.\u001b[39mfrom_connection_string(\u001b[43mos\u001b[49m\u001b[38;5;241;43m.\u001b[39;49m\u001b[43menviron\u001b[49m\u001b[43m[\u001b[49m\u001b[38;5;124;43m'\u001b[39;49m\u001b[38;5;124;43mHACKATHON_CONNECTION_STR\u001b[39;49m\u001b[38;5;124;43m'\u001b[39;49m\u001b[43m]\u001b[49m)\n\u001b[1;32m     13\u001b[0m     container_client \u001b[38;5;241m=\u001b[39m blob_service_client\u001b[38;5;241m.\u001b[39mget_container_client(container)\n\u001b[1;32m     15\u001b[0m     file_list \u001b[38;5;241m=\u001b[39m \u001b[38;5;28mlist\u001b[39m(\u001b[38;5;28mset\u001b[39m([os\u001b[38;5;241m.\u001b[39mpath\u001b[38;5;241m.\u001b[39mjoin(\u001b[38;5;124mf\u001b[39m\u001b[38;5;124m'\u001b[39m\u001b[38;5;124mabfs://\u001b[39m\u001b[38;5;132;01m{\u001b[39;00mcontainer\u001b[38;5;132;01m}\u001b[39;00m\u001b[38;5;124m/\u001b[39m\u001b[38;5;124m'\u001b[39m,b\u001b[38;5;241m.\u001b[39mname) \u001b[38;5;28;01mfor\u001b[39;00m b \u001b[38;5;129;01min\u001b[39;00m container_client\u001b[38;5;241m.\u001b[39mwalk_blobs(folder, delimiter\u001b[38;5;241m=\u001b[39m\u001b[38;5;124m'\u001b[39m\u001b[38;5;124m/\u001b[39m\u001b[38;5;124m'\u001b[39m)  ]))\n",
      "File \u001b[0;32m~/opt/anaconda3/envs/py3912/lib/python3.9/os.py:679\u001b[0m, in \u001b[0;36m_Environ.__getitem__\u001b[0;34m(self, key)\u001b[0m\n\u001b[1;32m    676\u001b[0m     value \u001b[38;5;241m=\u001b[39m \u001b[38;5;28mself\u001b[39m\u001b[38;5;241m.\u001b[39m_data[\u001b[38;5;28mself\u001b[39m\u001b[38;5;241m.\u001b[39mencodekey(key)]\n\u001b[1;32m    677\u001b[0m \u001b[38;5;28;01mexcept\u001b[39;00m \u001b[38;5;167;01mKeyError\u001b[39;00m:\n\u001b[1;32m    678\u001b[0m     \u001b[38;5;66;03m# raise KeyError with the original key value\u001b[39;00m\n\u001b[0;32m--> 679\u001b[0m     \u001b[38;5;28;01mraise\u001b[39;00m \u001b[38;5;167;01mKeyError\u001b[39;00m(key) \u001b[38;5;28;01mfrom\u001b[39;00m \u001b[38;5;28mNone\u001b[39m\n\u001b[1;32m    680\u001b[0m \u001b[38;5;28;01mreturn\u001b[39;00m \u001b[38;5;28mself\u001b[39m\u001b[38;5;241m.\u001b[39mdecodevalue(value)\n",
      "\u001b[0;31mKeyError\u001b[0m: 'HACKATHON_CONNECTION_STR'"
     ]
    }
   ],
   "source": [
    "\n",
    "\n",
    "# Available folders divided into vessel categories\n",
    "folders=['parquet/voyage_tables/Bulk carrier/',\n",
    " 'parquet/voyage_tables/Chemical tanker/',\n",
    " 'parquet/voyage_tables/Container/',\n",
    " 'parquet/voyage_tables/Cruise/',\n",
    " 'parquet/voyage_tables/Ferry-pax only/',\n",
    " 'parquet/voyage_tables/Ferry-ro-pax/',\n",
    " 'parquet/voyage_tables/General cargo/',\n",
    " 'parquet/voyage_tables/Liquefied gas tanker/',\n",
    " 'parquet/voyage_tables/Offshore/',\n",
    " 'parquet/voyage_tables/Oil tanker/',\n",
    " 'parquet/voyage_tables/Other liquid tankers/',\n",
    " 'parquet/voyage_tables/Refrigerated bulk/',\n",
    " 'parquet/voyage_tables/Ro-ro/',\n",
    " 'parquet/voyage_tables/Vehicle/']\n",
    "\n",
    "file_list=get_files_from_blob(folders[0])\n",
    "print(f'Total number of voyage files : {len(file_list)}')\n",
    "\n"
   ]
  },
  {
   "cell_type": "markdown",
   "id": "72e50f25-74d2-47cd-a472-f04d5f945618",
   "metadata": {},
   "source": [
    "Open dask dataframe from voyage parquet files in blob storage"
   ]
  },
  {
   "cell_type": "code",
   "execution_count": null,
   "id": "0ff7df38-6843-4442-b4da-df77363b4029",
   "metadata": {},
   "outputs": [],
   "source": [
    "df=dd.read_parquet(file_list, storage_options={\"connection_string\": os.environ['HACKATHON_CONNECTION_STR']})"
   ]
  },
  {
   "cell_type": "code",
   "execution_count": null,
   "id": "b1291e2f-1914-494a-a027-7bb3aa1792f3",
   "metadata": {},
   "outputs": [],
   "source": [
    "df"
   ]
  },
  {
   "cell_type": "markdown",
   "id": "fb0eb420-bacc-4f94-98ab-03829eacbcf2",
   "metadata": {},
   "source": [
    "Filter and compute the dask dataframe. Finding all the voyages between the two harbours with departure dates in 2020. The result is a pandas in memory dataframe."
   ]
  },
  {
   "cell_type": "code",
   "execution_count": null,
   "id": "044651c5-c40f-43b1-b1d0-0ea7d2b7c5d3",
   "metadata": {},
   "outputs": [],
   "source": [
    "%%time\n",
    "df_route=df[(df.from_port=='PORT HEDLAND') & (df.to_port=='SERANGOON HARBOR')\n",
    "           & (df.voyage_departure>='2020-01-01')  & (df.voyage_departure<'2021-01-01')].compute()"
   ]
  },
  {
   "cell_type": "code",
   "execution_count": null,
   "id": "5292333a-f1da-40b0-90c5-4a605c33c647",
   "metadata": {},
   "outputs": [],
   "source": [
    "df_route.head()"
   ]
  },
  {
   "cell_type": "code",
   "execution_count": null,
   "id": "c8e780e9-14ca-4feb-8af1-480dbe578ac0",
   "metadata": {},
   "outputs": [],
   "source": [
    "df_route.head().to_markdown(tablefmt=\"grid\")"
   ]
  },
  {
   "cell_type": "markdown",
   "id": "2d257079-c7c6-4d92-ac1b-e74fc3327d6b",
   "metadata": {},
   "source": [
    "Calculating total amount of CO2 from this route"
   ]
  },
  {
   "cell_type": "code",
   "execution_count": null,
   "id": "b15767d4-bbcc-46de-a763-9fb234e2683e",
   "metadata": {},
   "outputs": [],
   "source": [
    "df_route.co2_kg.sum()"
   ]
  },
  {
   "cell_type": "code",
   "execution_count": null,
   "id": "d3d958ed-fe1f-49d8-bd02-ceea661125de",
   "metadata": {},
   "outputs": [],
   "source": [
    "df_route=df_route.sort_values('co2_kg',ascending=False)"
   ]
  },
  {
   "cell_type": "code",
   "execution_count": null,
   "id": "808a503e-f643-4bc9-b384-366fa2744ae7",
   "metadata": {},
   "outputs": [],
   "source": [
    "voyage=df_route.iloc[2]\n",
    "voyage"
   ]
  },
  {
   "cell_type": "markdown",
   "id": "c3f8fe4d-15b5-4eac-b09f-a21774268ad4",
   "metadata": {},
   "source": [
    "### Access vessel particulars"
   ]
  },
  {
   "cell_type": "markdown",
   "id": "b7181cfd-b1fa-488b-8611-c37829855902",
   "metadata": {},
   "source": [
    "The vessle particulars contains some information about each vessel, invluding vessel class (ICCT_class) and mmsi number ('MaritimeMobileServiceIdentityMMSINumber)"
   ]
  },
  {
   "cell_type": "code",
   "execution_count": null,
   "id": "0ededf9f-0eb4-4bb8-97d6-4214e1b22c06",
   "metadata": {},
   "outputs": [],
   "source": [
    "df_vessel_particulars=pd.read_csv(get_files_from_blob('csv/vessel_particulars/')[0], storage_options={\"connection_string\": os.environ['HACKATHON_CONNECTION_STR']})"
   ]
  },
  {
   "cell_type": "code",
   "execution_count": null,
   "id": "cdd15113-66d0-40b1-bc62-60d7ba391337",
   "metadata": {},
   "outputs": [],
   "source": [
    "df_vessel_particulars[df_vessel_particulars['MaritimeMobileServiceIdentityMMSINumber']==voyage.mmsi].iloc[0]"
   ]
  },
  {
   "cell_type": "markdown",
   "id": "dcc5ddf8-e3fe-4255-8651-dd276632eee8",
   "metadata": {},
   "source": [
    "### Acces port information"
   ]
  },
  {
   "cell_type": "markdown",
   "id": "3036703b-a73d-4632-b360-a06b8f46bcdb",
   "metadata": {},
   "source": [
    "The World Port Index is a dataset with many of the larger ports in the world. See https://msi.nga.mil/Publications/WPI for more information."
   ]
  },
  {
   "cell_type": "code",
   "execution_count": null,
   "id": "4dd04a01-38e1-4cca-ae6b-7f7d90ff094e",
   "metadata": {},
   "outputs": [],
   "source": [
    "df_wpi=pd.read_csv(get_files_from_blob('csv/world_port_index/')[0], storage_options={\"connection_string\": os.environ['HACKATHON_CONNECTION_STR']})"
   ]
  },
  {
   "cell_type": "code",
   "execution_count": null,
   "id": "b6c4436c-ad4d-4f95-aaa9-e86abaa582ee",
   "metadata": {},
   "outputs": [],
   "source": [
    "df_wpi[df_wpi['Main Port Name']=='Port Hedland'].iloc[0]"
   ]
  }
 ],
 "metadata": {
  "kernelspec": {
   "display_name": "Python 3 (ipykernel)",
   "language": "python",
   "name": "python3"
  },
  "language_info": {
   "codemirror_mode": {
    "name": "ipython",
    "version": 3
   },
   "file_extension": ".py",
   "mimetype": "text/x-python",
   "name": "python",
   "nbconvert_exporter": "python",
   "pygments_lexer": "ipython3",
   "version": "3.9.12"
  }
 },
 "nbformat": 4,
 "nbformat_minor": 5
}
