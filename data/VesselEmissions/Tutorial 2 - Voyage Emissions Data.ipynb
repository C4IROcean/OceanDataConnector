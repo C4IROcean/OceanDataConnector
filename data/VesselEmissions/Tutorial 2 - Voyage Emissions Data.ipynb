{
 "cells": [
  {
   "cell_type": "markdown",
   "id": "047e36f1-3d18-4b78-aff7-3ec354e33ca0",
   "metadata": {},
   "source": [
    "# Tutorial 2: Access Vessel Particulars and Voyage Tables with CO2 Emission Estimates"
   ]
  },
  {
   "cell_type": "markdown",
   "id": "fab86979-2e02-4b6a-9692-c8bad72c3fdd",
   "metadata": {},
   "source": [
    "Voyage tables are emission data broken down and accumulated per voyage for every vessel. The voyage tables were created by fusing the World Port Index and the hourly ship tracks (AIS). \n",
    "\n",
    "The data contain from/to ports and the total co2 emission. In this example we will calculate the CO2 emissions from all Bullk carriers going from Port Hedland in Australia to Serangoon harbour i Singapore.\n",
    "\n",
    "OBS: Not all ship tracks are broken up to voyages correctly, since not all harbours are listed in the World Port Index."
   ]
  },
  {
   "cell_type": "code",
   "execution_count": 1,
   "id": "d08fc5a4-d8cb-4287-bf9d-1f342c4bea75",
   "metadata": {},
   "outputs": [],
   "source": [
    "import os\n",
    "import dask.dataframe as dd\n",
    "import pandas as pd\n",
    "\n",
    "from hackathon_utils import get_files_from_blob\n"
   ]
  },
  {
   "cell_type": "code",
   "execution_count": 5,
   "id": "5015231e-c3e1-476d-9daf-2d69a0a0d18f",
   "metadata": {},
   "outputs": [],
   "source": [
    "# Connection string to blob storage has to be set if being run outside the Ocean Data Connector\n",
    "#os.environ['HACKATHON_CONNECTION_STR']=\"xxxxxxxxxx\"\n",
    "try: \n",
    "    os.environ['HACKATHON_CONNECTION_STR']\n",
    "except:\n",
    "    print('HACKATHON_CONNECTION_STR must be set to access data')"
   ]
  },
  {
   "cell_type": "code",
   "execution_count": null,
   "id": "94cdcc98-f9f5-41ad-a156-58b8028d95a6",
   "metadata": {},
   "outputs": [],
   "source": [
    "from dask.distributed import Client\n",
    "client=Client() #Specify number of workers with n_workers"
   ]
  },
  {
   "cell_type": "markdown",
   "id": "ab2d50b4-9e43-4e50-b710-5e96fa13efef",
   "metadata": {},
   "source": [
    "### Retrieve voyage data from storage"
   ]
  },
  {
   "cell_type": "markdown",
   "id": "e0fc346f-fcc8-4b76-bc81-51ac3913188f",
   "metadata": {},
   "source": [
    "Select a specific vessel type by choosing the appropriate folder below."
   ]
  },
  {
   "cell_type": "code",
   "execution_count": 7,
   "id": "e3308d3c-85bd-4de5-be43-adaf813a8901",
   "metadata": {},
   "outputs": [
    {
     "name": "stdout",
     "output_type": "stream",
     "text": [
      "Total number of voyage files : 11724\n"
     ]
    }
   ],
   "source": [
    "\n",
    "\n",
    "# Available folders divided into vessel categories\n",
    "folders=['parquet/voyage_tables/Bulk carrier/',\n",
    " 'parquet/voyage_tables/Chemical tanker/',\n",
    " 'parquet/voyage_tables/Container/',\n",
    " 'parquet/voyage_tables/Cruise/',\n",
    " 'parquet/voyage_tables/Ferry-pax only/',\n",
    " 'parquet/voyage_tables/Ferry-ro-pax/',\n",
    " 'parquet/voyage_tables/General cargo/',\n",
    " 'parquet/voyage_tables/Liquefied gas tanker/',\n",
    " 'parquet/voyage_tables/Offshore/',\n",
    " 'parquet/voyage_tables/Oil tanker/',\n",
    " 'parquet/voyage_tables/Other liquid tankers/',\n",
    " 'parquet/voyage_tables/Refrigerated bulk/',\n",
    " 'parquet/voyage_tables/Ro-ro/',\n",
    " 'parquet/voyage_tables/Vehicle/']\n",
    "\n",
    "file_list=get_files_from_blob(folders[0])\n",
    "print(f'Total number of voyage files : {len(file_list)}')\n",
    "\n"
   ]
  },
  {
   "cell_type": "markdown",
   "id": "72e50f25-74d2-47cd-a472-f04d5f945618",
   "metadata": {},
   "source": [
    "Open dask dataframe from voyage parquet files in blob storage"
   ]
  },
  {
   "cell_type": "code",
   "execution_count": 8,
   "id": "0ff7df38-6843-4442-b4da-df77363b4029",
   "metadata": {},
   "outputs": [],
   "source": [
    "df=dd.read_parquet(file_list, storage_options={\"connection_string\": os.environ['HACKATHON_CONNECTION_STR']})"
   ]
  },
  {
   "cell_type": "code",
   "execution_count": 9,
   "id": "b1291e2f-1914-494a-a027-7bb3aa1792f3",
   "metadata": {},
   "outputs": [
    {
     "data": {
      "text/html": [
       "<div><strong>Dask DataFrame Structure:</strong></div>\n",
       "<div>\n",
       "<style scoped>\n",
       "    .dataframe tbody tr th:only-of-type {\n",
       "        vertical-align: middle;\n",
       "    }\n",
       "\n",
       "    .dataframe tbody tr th {\n",
       "        vertical-align: top;\n",
       "    }\n",
       "\n",
       "    .dataframe thead th {\n",
       "        text-align: right;\n",
       "    }\n",
       "</style>\n",
       "<table border=\"1\" class=\"dataframe\">\n",
       "  <thead>\n",
       "    <tr style=\"text-align: right;\">\n",
       "      <th></th>\n",
       "      <th>Unnamed: 0</th>\n",
       "      <th>voyage_departure</th>\n",
       "      <th>voyage_arrival</th>\n",
       "      <th>from_port</th>\n",
       "      <th>to_port</th>\n",
       "      <th>co2_kg</th>\n",
       "      <th>duration_hours</th>\n",
       "      <th>distance_nm</th>\n",
       "      <th>interpolated_ratio</th>\n",
       "      <th>avg_speed_knts</th>\n",
       "      <th>mmsi</th>\n",
       "      <th>vessel_type</th>\n",
       "    </tr>\n",
       "    <tr>\n",
       "      <th>npartitions=11724</th>\n",
       "      <th></th>\n",
       "      <th></th>\n",
       "      <th></th>\n",
       "      <th></th>\n",
       "      <th></th>\n",
       "      <th></th>\n",
       "      <th></th>\n",
       "      <th></th>\n",
       "      <th></th>\n",
       "      <th></th>\n",
       "      <th></th>\n",
       "      <th></th>\n",
       "    </tr>\n",
       "  </thead>\n",
       "  <tbody>\n",
       "    <tr>\n",
       "      <th></th>\n",
       "      <td>int64</td>\n",
       "      <td>object</td>\n",
       "      <td>object</td>\n",
       "      <td>object</td>\n",
       "      <td>object</td>\n",
       "      <td>float64</td>\n",
       "      <td>int64</td>\n",
       "      <td>float64</td>\n",
       "      <td>float64</td>\n",
       "      <td>float64</td>\n",
       "      <td>int64</td>\n",
       "      <td>object</td>\n",
       "    </tr>\n",
       "    <tr>\n",
       "      <th></th>\n",
       "      <td>...</td>\n",
       "      <td>...</td>\n",
       "      <td>...</td>\n",
       "      <td>...</td>\n",
       "      <td>...</td>\n",
       "      <td>...</td>\n",
       "      <td>...</td>\n",
       "      <td>...</td>\n",
       "      <td>...</td>\n",
       "      <td>...</td>\n",
       "      <td>...</td>\n",
       "      <td>...</td>\n",
       "    </tr>\n",
       "    <tr>\n",
       "      <th>...</th>\n",
       "      <td>...</td>\n",
       "      <td>...</td>\n",
       "      <td>...</td>\n",
       "      <td>...</td>\n",
       "      <td>...</td>\n",
       "      <td>...</td>\n",
       "      <td>...</td>\n",
       "      <td>...</td>\n",
       "      <td>...</td>\n",
       "      <td>...</td>\n",
       "      <td>...</td>\n",
       "      <td>...</td>\n",
       "    </tr>\n",
       "    <tr>\n",
       "      <th></th>\n",
       "      <td>...</td>\n",
       "      <td>...</td>\n",
       "      <td>...</td>\n",
       "      <td>...</td>\n",
       "      <td>...</td>\n",
       "      <td>...</td>\n",
       "      <td>...</td>\n",
       "      <td>...</td>\n",
       "      <td>...</td>\n",
       "      <td>...</td>\n",
       "      <td>...</td>\n",
       "      <td>...</td>\n",
       "    </tr>\n",
       "    <tr>\n",
       "      <th></th>\n",
       "      <td>...</td>\n",
       "      <td>...</td>\n",
       "      <td>...</td>\n",
       "      <td>...</td>\n",
       "      <td>...</td>\n",
       "      <td>...</td>\n",
       "      <td>...</td>\n",
       "      <td>...</td>\n",
       "      <td>...</td>\n",
       "      <td>...</td>\n",
       "      <td>...</td>\n",
       "      <td>...</td>\n",
       "    </tr>\n",
       "  </tbody>\n",
       "</table>\n",
       "</div>\n",
       "<div>Dask Name: read-parquet, 11724 tasks</div>"
      ],
      "text/plain": [
       "Dask DataFrame Structure:\n",
       "                  Unnamed: 0 voyage_departure voyage_arrival from_port to_port   co2_kg duration_hours distance_nm interpolated_ratio avg_speed_knts   mmsi vessel_type\n",
       "npartitions=11724                                                                                                                                                      \n",
       "                       int64           object         object    object  object  float64          int64     float64            float64        float64  int64      object\n",
       "                         ...              ...            ...       ...     ...      ...            ...         ...                ...            ...    ...         ...\n",
       "...                      ...              ...            ...       ...     ...      ...            ...         ...                ...            ...    ...         ...\n",
       "                         ...              ...            ...       ...     ...      ...            ...         ...                ...            ...    ...         ...\n",
       "                         ...              ...            ...       ...     ...      ...            ...         ...                ...            ...    ...         ...\n",
       "Dask Name: read-parquet, 11724 tasks"
      ]
     },
     "execution_count": 9,
     "metadata": {},
     "output_type": "execute_result"
    }
   ],
   "source": [
    "df"
   ]
  },
  {
   "cell_type": "markdown",
   "id": "fb0eb420-bacc-4f94-98ab-03829eacbcf2",
   "metadata": {},
   "source": [
    "Filter and compute the dask dataframe. Finding all the voyages between the two harbours with departure dates in 2020. The result is a pandas in memory dataframe."
   ]
  },
  {
   "cell_type": "code",
   "execution_count": 10,
   "id": "044651c5-c40f-43b1-b1d0-0ea7d2b7c5d3",
   "metadata": {},
   "outputs": [
    {
     "name": "stdout",
     "output_type": "stream",
     "text": [
      "CPU times: user 1min 6s, sys: 6.8 s, total: 1min 13s\n",
      "Wall time: 3min 5s\n"
     ]
    }
   ],
   "source": [
    "%%time\n",
    "df_route=df[(df.from_port=='PORT HEDLAND') & (df.to_port=='SERANGOON HARBOR')\n",
    "           & (df.voyage_departure>='2020-01-01')  & (df.voyage_departure<'2021-01-01')].compute()"
   ]
  },
  {
   "cell_type": "code",
   "execution_count": 15,
   "id": "5292333a-f1da-40b0-90c5-4a605c33c647",
   "metadata": {},
   "outputs": [
    {
     "data": {
      "text/html": [
       "<div>\n",
       "<style scoped>\n",
       "    .dataframe tbody tr th:only-of-type {\n",
       "        vertical-align: middle;\n",
       "    }\n",
       "\n",
       "    .dataframe tbody tr th {\n",
       "        vertical-align: top;\n",
       "    }\n",
       "\n",
       "    .dataframe thead th {\n",
       "        text-align: right;\n",
       "    }\n",
       "</style>\n",
       "<table border=\"1\" class=\"dataframe\">\n",
       "  <thead>\n",
       "    <tr style=\"text-align: right;\">\n",
       "      <th></th>\n",
       "      <th>Unnamed: 0</th>\n",
       "      <th>voyage_departure</th>\n",
       "      <th>voyage_arrival</th>\n",
       "      <th>from_port</th>\n",
       "      <th>to_port</th>\n",
       "      <th>co2_kg</th>\n",
       "      <th>duration_hours</th>\n",
       "      <th>distance_nm</th>\n",
       "      <th>interpolated_ratio</th>\n",
       "      <th>avg_speed_knts</th>\n",
       "      <th>mmsi</th>\n",
       "      <th>vessel_type</th>\n",
       "    </tr>\n",
       "  </thead>\n",
       "  <tbody>\n",
       "    <tr>\n",
       "      <th>17</th>\n",
       "      <td>17</td>\n",
       "      <td>2020-11-22 04:00:00+00:00</td>\n",
       "      <td>2020-11-28 14:00:00+00:00</td>\n",
       "      <td>PORT HEDLAND</td>\n",
       "      <td>SERANGOON HARBOR</td>\n",
       "      <td>9.164619e+05</td>\n",
       "      <td>154</td>\n",
       "      <td>1700.373040</td>\n",
       "      <td>0.281046</td>\n",
       "      <td>11.201396</td>\n",
       "      <td>215350000</td>\n",
       "      <td>Bulk carrier</td>\n",
       "    </tr>\n",
       "    <tr>\n",
       "      <th>11</th>\n",
       "      <td>11</td>\n",
       "      <td>2020-06-12 14:00:00+00:00</td>\n",
       "      <td>2020-06-19 03:00:00+00:00</td>\n",
       "      <td>PORT HEDLAND</td>\n",
       "      <td>SERANGOON HARBOR</td>\n",
       "      <td>3.833652e+05</td>\n",
       "      <td>157</td>\n",
       "      <td>3143.758234</td>\n",
       "      <td>0.339744</td>\n",
       "      <td>10.767093</td>\n",
       "      <td>229266000</td>\n",
       "      <td>Bulk carrier</td>\n",
       "    </tr>\n",
       "    <tr>\n",
       "      <th>2</th>\n",
       "      <td>2</td>\n",
       "      <td>2020-03-20 23:00:00+00:00</td>\n",
       "      <td>2020-04-22 12:00:00+00:00</td>\n",
       "      <td>PORT HEDLAND</td>\n",
       "      <td>SERANGOON HARBOR</td>\n",
       "      <td>2.373303e+06</td>\n",
       "      <td>781</td>\n",
       "      <td>14190.120651</td>\n",
       "      <td>0.468454</td>\n",
       "      <td>8.595073</td>\n",
       "      <td>240446000</td>\n",
       "      <td>Bulk carrier</td>\n",
       "    </tr>\n",
       "    <tr>\n",
       "      <th>18</th>\n",
       "      <td>18</td>\n",
       "      <td>2020-12-08 21:00:00+00:00</td>\n",
       "      <td>2020-12-15 19:00:00+00:00</td>\n",
       "      <td>PORT HEDLAND</td>\n",
       "      <td>SERANGOON HARBOR</td>\n",
       "      <td>3.761121e+05</td>\n",
       "      <td>166</td>\n",
       "      <td>1679.649591</td>\n",
       "      <td>0.187879</td>\n",
       "      <td>10.247879</td>\n",
       "      <td>241282000</td>\n",
       "      <td>Bulk carrier</td>\n",
       "    </tr>\n",
       "    <tr>\n",
       "      <th>5</th>\n",
       "      <td>5</td>\n",
       "      <td>2020-06-09 14:00:00+00:00</td>\n",
       "      <td>2020-07-16 14:00:00+00:00</td>\n",
       "      <td>PORT HEDLAND</td>\n",
       "      <td>SERANGOON HARBOR</td>\n",
       "      <td>2.718785e+06</td>\n",
       "      <td>888</td>\n",
       "      <td>13487.281342</td>\n",
       "      <td>0.573201</td>\n",
       "      <td>7.468103</td>\n",
       "      <td>241358000</td>\n",
       "      <td>Bulk carrier</td>\n",
       "    </tr>\n",
       "  </tbody>\n",
       "</table>\n",
       "</div>"
      ],
      "text/plain": [
       "    Unnamed: 0           voyage_departure             voyage_arrival  \\\n",
       "17          17  2020-11-22 04:00:00+00:00  2020-11-28 14:00:00+00:00   \n",
       "11          11  2020-06-12 14:00:00+00:00  2020-06-19 03:00:00+00:00   \n",
       "2            2  2020-03-20 23:00:00+00:00  2020-04-22 12:00:00+00:00   \n",
       "18          18  2020-12-08 21:00:00+00:00  2020-12-15 19:00:00+00:00   \n",
       "5            5  2020-06-09 14:00:00+00:00  2020-07-16 14:00:00+00:00   \n",
       "\n",
       "       from_port           to_port        co2_kg  duration_hours  \\\n",
       "17  PORT HEDLAND  SERANGOON HARBOR  9.164619e+05             154   \n",
       "11  PORT HEDLAND  SERANGOON HARBOR  3.833652e+05             157   \n",
       "2   PORT HEDLAND  SERANGOON HARBOR  2.373303e+06             781   \n",
       "18  PORT HEDLAND  SERANGOON HARBOR  3.761121e+05             166   \n",
       "5   PORT HEDLAND  SERANGOON HARBOR  2.718785e+06             888   \n",
       "\n",
       "     distance_nm  interpolated_ratio  avg_speed_knts       mmsi   vessel_type  \n",
       "17   1700.373040            0.281046       11.201396  215350000  Bulk carrier  \n",
       "11   3143.758234            0.339744       10.767093  229266000  Bulk carrier  \n",
       "2   14190.120651            0.468454        8.595073  240446000  Bulk carrier  \n",
       "18   1679.649591            0.187879       10.247879  241282000  Bulk carrier  \n",
       "5   13487.281342            0.573201        7.468103  241358000  Bulk carrier  "
      ]
     },
     "execution_count": 15,
     "metadata": {},
     "output_type": "execute_result"
    }
   ],
   "source": [
    "df_route.head()"
   ]
  },
  {
   "cell_type": "markdown",
   "id": "2d257079-c7c6-4d92-ac1b-e74fc3327d6b",
   "metadata": {},
   "source": [
    "Calculating total amount of CO2 from this route"
   ]
  },
  {
   "cell_type": "code",
   "execution_count": 16,
   "id": "b15767d4-bbcc-46de-a763-9fb234e2683e",
   "metadata": {},
   "outputs": [
    {
     "data": {
      "text/plain": [
       "118551025.69746687"
      ]
     },
     "execution_count": 16,
     "metadata": {},
     "output_type": "execute_result"
    }
   ],
   "source": [
    "df_route.co2_kg.sum()"
   ]
  },
  {
   "cell_type": "code",
   "execution_count": 17,
   "id": "d3d958ed-fe1f-49d8-bd02-ceea661125de",
   "metadata": {},
   "outputs": [],
   "source": [
    "df_route=df_route.sort_values('co2_kg',ascending=False)"
   ]
  },
  {
   "cell_type": "code",
   "execution_count": 18,
   "id": "808a503e-f643-4bc9-b384-366fa2744ae7",
   "metadata": {},
   "outputs": [
    {
     "data": {
      "text/plain": [
       "Unnamed: 0                                    2\n",
       "voyage_departure      2020-03-27 03:00:00+00:00\n",
       "voyage_arrival        2020-04-27 11:00:00+00:00\n",
       "from_port                          PORT HEDLAND\n",
       "to_port                        SERANGOON HARBOR\n",
       "co2_kg                            4352795.86194\n",
       "duration_hours                              752\n",
       "distance_nm                         7440.171078\n",
       "interpolated_ratio                     0.434483\n",
       "avg_speed_knts                         9.125969\n",
       "mmsi                                  636014327\n",
       "vessel_type                        Bulk carrier\n",
       "Name: 2, dtype: object"
      ]
     },
     "execution_count": 18,
     "metadata": {},
     "output_type": "execute_result"
    }
   ],
   "source": [
    "voyage=df_route.iloc[2]\n",
    "voyage"
   ]
  },
  {
   "cell_type": "markdown",
   "id": "c3f8fe4d-15b5-4eac-b09f-a21774268ad4",
   "metadata": {},
   "source": [
    "### Access vessel particulars"
   ]
  },
  {
   "cell_type": "markdown",
   "id": "b7181cfd-b1fa-488b-8611-c37829855902",
   "metadata": {},
   "source": [
    "The vessle particulars contains some information about each vessel, invluding vessel class (ICCT_class) and mmsi number ('MaritimeMobileServiceIdentityMMSINumber)"
   ]
  },
  {
   "cell_type": "code",
   "execution_count": 19,
   "id": "0ededf9f-0eb4-4bb8-97d6-4214e1b22c06",
   "metadata": {},
   "outputs": [],
   "source": [
    "df_vessel_particulars=pd.read_csv(get_files_from_blob('csv/vessel_particulars/')[0], storage_options={\"connection_string\": os.environ['HACKATHON_CONNECTION_STR']})"
   ]
  },
  {
   "cell_type": "code",
   "execution_count": 20,
   "id": "cdd15113-66d0-40b1-bc62-60d7ba391337",
   "metadata": {},
   "outputs": [
    {
     "data": {
      "text/plain": [
       "LRIMOShipNo                                                    9334882\n",
       "ShipName                                                     ABIGAIL N\n",
       "ShiptypeLevel5                                             Ore Carrier\n",
       "YearOfBuild                                                       2009\n",
       "GrossTonnage                                                    151448\n",
       "Deadweight                                                      297430\n",
       "ShipStatus                                       In Service/Commission\n",
       "FlagName                                                       Liberia\n",
       "FuelType1First                                         Distillate Fuel\n",
       "LengthRegistered                                                320.84\n",
       "MainEngineType                                                     Oil\n",
       "MaritimeMobileServiceIdentityMMSINumber                    636014327.0\n",
       "PropulsionType                             Oil Engine(s), Direct Drive\n",
       "Speedmax                                                          16.9\n",
       "Speedservice                                                      14.3\n",
       "TEU                                                                  0\n",
       "ICCT_class                                                Bulk carrier\n",
       "Name: 22741, dtype: object"
      ]
     },
     "execution_count": 20,
     "metadata": {},
     "output_type": "execute_result"
    }
   ],
   "source": [
    "df_vessel_particulars[df_vessel_particulars['MaritimeMobileServiceIdentityMMSINumber']==voyage.mmsi].iloc[0]"
   ]
  },
  {
   "cell_type": "markdown",
   "id": "dcc5ddf8-e3fe-4255-8651-dd276632eee8",
   "metadata": {},
   "source": [
    "### Acces port information"
   ]
  },
  {
   "cell_type": "markdown",
   "id": "3036703b-a73d-4632-b360-a06b8f46bcdb",
   "metadata": {},
   "source": [
    "The World Port Index is a dataset with many of the larger ports in the world. See https://msi.nga.mil/Publications/WPI for more information."
   ]
  },
  {
   "cell_type": "code",
   "execution_count": 21,
   "id": "4dd04a01-38e1-4cca-ae6b-7f7d90ff094e",
   "metadata": {},
   "outputs": [],
   "source": [
    "df_wpi=pd.read_csv(get_files_from_blob('csv/world_port_index/')[0], storage_options={\"connection_string\": os.environ['HACKATHON_CONNECTION_STR']})"
   ]
  },
  {
   "cell_type": "code",
   "execution_count": 22,
   "id": "b6c4436c-ad4d-4f95-aaa9-e86abaa582ee",
   "metadata": {},
   "outputs": [
    {
     "data": {
      "text/plain": [
       "World Port Index Number                 54620\n",
       "Region Name                Australia -- 53290\n",
       "Main Port Name                   Port Hedland\n",
       "Alternate Port Name                          \n",
       "UN/LOCODE                              AU PHE\n",
       "                                  ...        \n",
       "Repairs                                 Major\n",
       "Dry Dock                              Unknown\n",
       "Railway                                 Small\n",
       "Latitude                           -20.316667\n",
       "Longitude                          118.583333\n",
       "Name: 3138, Length: 107, dtype: object"
      ]
     },
     "execution_count": 22,
     "metadata": {},
     "output_type": "execute_result"
    }
   ],
   "source": [
    "df_wpi[df_wpi['Main Port Name']=='Port Hedland'].iloc[0]"
   ]
  },
  {
   "cell_type": "code",
   "execution_count": null,
   "id": "88f2d7ce-fb9d-4184-ab18-5f69456ee9e8",
   "metadata": {},
   "outputs": [],
   "source": []
  }
 ],
 "metadata": {
  "kernelspec": {
   "display_name": "Python 3 (ipykernel)",
   "language": "python",
   "name": "python3"
  },
  "language_info": {
   "codemirror_mode": {
    "name": "ipython",
    "version": 3
   },
   "file_extension": ".py",
   "mimetype": "text/x-python",
   "name": "python",
   "nbconvert_exporter": "python",
   "pygments_lexer": "ipython3",
   "version": "3.9.12"
  }
 },
 "nbformat": 4,
 "nbformat_minor": 5
}
