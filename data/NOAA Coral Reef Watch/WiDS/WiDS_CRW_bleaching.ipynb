{
 "cells": [
  {
   "cell_type": "markdown",
   "id": "476274b1-2ff5-401e-bd47-838c975105a9",
   "metadata": {},
   "source": [
    "### Mission\n",
    "In this notebook our aim is to create a coral blaching predictor based on time-series data for a specific geographical region.\n",
    "1) The first part concentrates on using geospatial libraries and a library for mulitdimensional data - xarray. Here you will learn how to manipulate Sea Surface Temperature data using xarray. Here you will also learn how to visualize the data. \n",
    "\n",
    "2) The second part will load a pre-trained model to make predictions in areas where bleaching data is not available. The predictions are made using the timeseries data in the first part. \n",
    "\n",
    "### Libraries\n",
    "Libraries that you should have a glance at  \n",
    "* odp - [The Ocean data Platfrom SDK](https://odp-sdk-python.readthedocs.io/en/master/)\n",
    "* geopandas - [Geopandas](https://geopandas.org/en/stable/getting_started/introduction.html)\n",
    "* xarray - [Xarray](https://docs.xarray.dev/en/stable/)"
   ]
  },
  {
   "cell_type": "markdown",
   "id": "8105f778-955a-41fc-a5ba-db27d0ab7252",
   "metadata": {},
   "source": [
    "We have to pip install tensorflow for the second part of ths notebook"
   ]
  },
  {
   "cell_type": "code",
   "execution_count": null,
   "id": "cc1de787-ef17-41bd-ae60-3a3ac58c30b8",
   "metadata": {},
   "outputs": [],
   "source": [
    "%pip install tensorflow"
   ]
  },
  {
   "cell_type": "code",
   "execution_count": null,
   "id": "73fb3b08-1c19-4d5e-a247-b1cb459ec591",
   "metadata": {},
   "outputs": [],
   "source": [
    "import geopandas as gpd\n",
    "import pandas as pd\n",
    "import json\n",
    "import xarray as xr\n",
    "\n",
    "import odp.geospatial as odp\n",
    "import geopandas as gpd\n",
    "import pandas as pd\n",
    "import matplotlib.dates as md\n",
    "import dateutil\n",
    "import numpy as np\n",
    "\n",
    "import sqlite3\n",
    "\n",
    "import matplotlib.pyplot as plt\n",
    "\n",
    "import cartopy.crs as ccrs\n",
    "from cartopy.mpl.ticker import LongitudeFormatter, LatitudeFormatter\n",
    "import cartopy.feature as cfeature\n",
    "import cmocean\n",
    "\n",
    "import matplotlib.cm as cm\n",
    "from math import pi, sqrt\n",
    "import pickle\n",
    "import os\n",
    "import warnings\n",
    "warnings.filterwarnings(\"ignore\")\n",
    "import azure.storage.blob \n",
    "import zarr\n",
    "import altair as alt\n",
    "import hvplot.xarray\n",
    "import cmocean"
   ]
  },
  {
   "cell_type": "code",
   "execution_count": null,
   "id": "d406f463-300c-43a8-ad2a-3bcc4f96353b",
   "metadata": {},
   "outputs": [],
   "source": [
    "# instantiate the Ocean data platform database\n",
    "db=odp.Database()\n",
    "# instantiate plotting tools\n",
    "db_plt = odp.PlotTools()"
   ]
  },
  {
   "cell_type": "markdown",
   "id": "39fd9556-6a2c-4643-9b91-db9b007f5792",
   "metadata": {},
   "source": [
    "### Retrieving time series data for Sea Surface Temp\n",
    "Necessary code to connect to Azure storage to retrieve timeseries for Sea Surface Temperature. This is data import broiler plate - you do not have to understand what is going on here to finish the notebook"
   ]
  },
  {
   "cell_type": "code",
   "execution_count": null,
   "id": "9bee5881-3208-441c-87a9-ccdac53e7de9",
   "metadata": {},
   "outputs": [],
   "source": [
    "blob_service_client=azure.storage.blob.BlobServiceClient.from_connection_string(os.environ['ODE_CONNECTION_STR'])"
   ]
  },
  {
   "cell_type": "code",
   "execution_count": null,
   "id": "e85241c0-4256-4c9e-b007-f0382fc32a24",
   "metadata": {},
   "outputs": [],
   "source": [
    "container_client = blob_service_client.get_container_client('crw')"
   ]
  },
  {
   "cell_type": "code",
   "execution_count": null,
   "id": "4b4a0361-85d9-424d-a911-cfedf168c550",
   "metadata": {},
   "outputs": [],
   "source": [
    "container='crw'\n",
    "folder='zarr/'"
   ]
  },
  {
   "cell_type": "code",
   "execution_count": null,
   "id": "49369a18-0e73-409e-a11d-91165ee34203",
   "metadata": {},
   "outputs": [],
   "source": [
    "file_list = list(set([b.name for b in container_client.walk_blobs(folder, delimiter='/')  ]))\n",
    "file_list.sort()"
   ]
  },
  {
   "cell_type": "code",
   "execution_count": null,
   "id": "f3392312-c411-4edf-ab13-9761ff5b7a6c",
   "metadata": {},
   "outputs": [],
   "source": [
    "%%time\n",
    "\n",
    "store_list=[]\n",
    "for year in range(1985,2023):\n",
    "    result = list(filter(lambda x: \"_\"+str(year)+\"_\" in x, file_list))\n",
    "    for file in result:\n",
    "            store=zarr.ABSStore(prefix=file,client=container_client)\n",
    "            store_list.append(store)\n",
    "temp_data=xr.open_mfdataset(store_list, parallel=True, engine='zarr')"
   ]
  },
  {
   "cell_type": "markdown",
   "id": "0fbdecdf-6e13-41ce-81cd-e751247382e4",
   "metadata": {},
   "source": [
    "### The oupt is an [xarray](https://docs.xarray.dev/en/stable/) dataset which is a multi-dimensional, in memory, array database"
   ]
  },
  {
   "cell_type": "code",
   "execution_count": null,
   "id": "e7511ec3-76ac-44de-bbfd-af67406e1141",
   "metadata": {},
   "outputs": [],
   "source": [
    "temp_data"
   ]
  },
  {
   "cell_type": "markdown",
   "id": "6aa309d0-a2dc-418d-83cf-032325136af1",
   "metadata": {},
   "source": [
    "### Import the polygon of Florida and Northern Caribbean using geopandas\n",
    "As most of our data is in the Florida and Northern Caribbean region we have decided to concentrate on this area. We have create a premade geojson file containing the coordinates a the drawn polygon that represents the area. \n",
    "\n",
    "You can feel free to create your own bounding box and explore temperatures in those areas if you like."
   ]
  },
  {
   "cell_type": "code",
   "execution_count": null,
   "id": "a04b4f1b-1d08-4cb5-9d90-e1de5c6f0f56",
   "metadata": {},
   "outputs": [],
   "source": [
    "poly = gpd.read_file('boundary.geojson')\n",
    "poly.head()"
   ]
  },
  {
   "cell_type": "code",
   "execution_count": null,
   "id": "0a7d5e8e-6b7c-44c1-bd91-b51533be1ea5",
   "metadata": {},
   "outputs": [],
   "source": [
    "poly['geometry'][0]"
   ]
  },
  {
   "cell_type": "markdown",
   "id": "39de880f-22d9-4970-927c-30998aa50176",
   "metadata": {},
   "source": [
    "### Figure out the bounding box for our area of interest\n",
    "A bounding box is the smallest rectangle that contains all of the given points in the selected region.<br>Since our temperature data has information on what region the temperature is measured in we want to make sure that we only select data from that specific area. <br>In order to do this we need to find the boundrary coordinates for the area.\n"
   ]
  },
  {
   "cell_type": "code",
   "execution_count": null,
   "id": "a8c7e90c-c6de-4bd8-b0bb-779b6f5e10f2",
   "metadata": {},
   "outputs": [],
   "source": [
    "coords = list(poly[\"geometry\"][0].envelope.exterior.coords)\n",
    "coords"
   ]
  },
  {
   "cell_type": "markdown",
   "id": "baf26531-4440-48cd-b653-c6c138c2ec1b",
   "metadata": {},
   "source": [
    "### Take a slice of the temperature data only for the area we care about (the bounding box we created)\n",
    "xarray has a built in slicing tool that allows us to take just a slice of all the data"
   ]
  },
  {
   "cell_type": "code",
   "execution_count": null,
   "id": "0fd22996-738f-4847-9746-b1bb3d8ffd03",
   "metadata": {},
   "outputs": [],
   "source": [
    "ds_slice =temp_data.sel(lon=slice(coords[0][0],coords[1][0]), lat=slice(coords[0][1], coords[2][1]))\n",
    "ds_slice"
   ]
  },
  {
   "cell_type": "markdown",
   "id": "02cccf50-b5c4-471e-a54f-9eb004cde666",
   "metadata": {},
   "source": [
    "## Let's take a look at 2005, a year with a lot of coral bleaching in the caribbean\n",
    "Again, xarray has built-in functionality that allows you to take a specific time slice"
   ]
  },
  {
   "cell_type": "code",
   "execution_count": null,
   "id": "d300fda4-e00b-4053-9263-1361e2e3faa4",
   "metadata": {},
   "outputs": [],
   "source": [
    "ds_2005 = ds_slice.isel(time=(ds_slice.time.dt.year == 2005))"
   ]
  },
  {
   "cell_type": "markdown",
   "id": "13e8d648-8fcd-4714-8e30-ef54b844ef01",
   "metadata": {},
   "source": [
    "### With built in xarray functions we can easily visualize the data"
   ]
  },
  {
   "cell_type": "code",
   "execution_count": null,
   "id": "a6e150da-fd30-4943-8832-43edd65e98ed",
   "metadata": {},
   "outputs": [],
   "source": [
    "monthly_means = ds_2005.groupby(\"time.month\").mean()\n",
    "fg = monthly_means.analysed_sst.plot(\n",
    "    col=\"month\",\n",
    "    col_wrap=4,\n",
    "    cmap=cmocean.cm.thermal,\n",
    ")"
   ]
  },
  {
   "cell_type": "markdown",
   "id": "234beaf0-f626-4e96-b467-491ddc6e435c",
   "metadata": {},
   "source": [
    "### And even see it play over time!"
   ]
  },
  {
   "cell_type": "code",
   "execution_count": null,
   "id": "d69aa971-92d4-49f2-9d8f-92fc3c53e974",
   "metadata": {},
   "outputs": [],
   "source": [
    "ds_2005.hvplot(\n",
    "    groupby=\"time\",\n",
    "    clim=(15, 35),\n",
    "    widget_type=\"scrubber\",\n",
    "    widget_location=\"bottom\",\n",
    ")"
   ]
  },
  {
   "cell_type": "markdown",
   "id": "f561a256-4f97-4ff3-9eb6-aea0fc14e9f3",
   "metadata": {},
   "source": [
    "### Challenge\n",
    "\n",
    "What observations can we draw from the data visualizations over the course of a year?\n",
    "<br>Can we compare the same data from different years to see how they differ?\n",
    "<br>In 2010, the florida keys had a severe cold front that resulted in major coral death. Can this be seen through this data?"
   ]
  },
  {
   "cell_type": "markdown",
   "id": "d9a2c150-0a45-4543-8612-b301aa6980b5",
   "metadata": {},
   "source": [
    "### We can also turn the xarray into a pandas dataframe that more people are familiar with"
   ]
  },
  {
   "cell_type": "markdown",
   "id": "9ef1e593-6277-40bd-b0a4-8fd9ffaeadb0",
   "metadata": {},
   "source": [
    "Start by taking a small subset of the xarray to seeed up our processing. Then we will split the datetime object from the xarray into sepearate time columns so that we easily can filter the data"
   ]
  },
  {
   "cell_type": "code",
   "execution_count": null,
   "id": "5947ad45-43bd-4fcd-b461-bcf5a1b8f257",
   "metadata": {
    "tags": []
   },
   "outputs": [],
   "source": [
    "ds_slice =temp_data.sel(lon=slice(-80,-78), lat=slice(20, 22), time=slice('1990-01-01', '2022-01-01'))\n",
    "ds_slice"
   ]
  },
  {
   "cell_type": "markdown",
   "id": "953b9840-e00f-4566-a718-78066dbc296d",
   "metadata": {},
   "source": [
    "This next step takes a bit (around 5 mins), might be a good time to grab a coffee, or check out this really [cool google earth site about coral bleaching!](https://earth.google.com/web/@24.4430141,123.8161774,-0.51676057a,500d,35y,10.51093386h,0t,0r/data=CkoSSBIgY2EwYzk0ZGNhN2I4MTFlN2I1ZDBiNzRhMWFlNGU2MDMiJGVmZWVkX29jZWFuX2FnZW5jeV9jb3JhbF9ibGVhY2hpbmdfMQ)"
   ]
  },
  {
   "cell_type": "code",
   "execution_count": null,
   "id": "826685a8-79c8-4535-8f8e-e61de2540ef1",
   "metadata": {},
   "outputs": [],
   "source": [
    "%%time\n",
    "df = ds_slice.to_dataframe().reset_index() ## This can take some time depending on size of slice\n",
    "df['time'] = pd.to_datetime(df['time'],format='%m/%d/%y %I:%M%p')\n",
    "df['mnth_yr'] = df.time.dt.to_period('M').astype(str)\n",
    "df['year'] = df.time.dt.year.astype(str)\n",
    "df['month'] = df.time.dt.month.astype(int)"
   ]
  },
  {
   "cell_type": "code",
   "execution_count": null,
   "id": "c8a4cb53-bca8-4511-9d45-c292327477ee",
   "metadata": {},
   "outputs": [],
   "source": [
    "df.head()\n",
    "print(len(df))"
   ]
  },
  {
   "cell_type": "code",
   "execution_count": null,
   "id": "41461580-9052-4a9c-9124-49ae552a4fb9",
   "metadata": {},
   "outputs": [],
   "source": [
    "temp_by_mnth_yr_df = df.groupby(['mnth_yr', 'year','month']).agg({'analysed_sst': ['mean', 'min', 'max']}).reset_index()\n",
    "temp_by_mnth_yr_df.columns=['mnth_yr','year','month','mean','min','max']\n"
   ]
  },
  {
   "cell_type": "code",
   "execution_count": null,
   "id": "b785134d-e28c-4072-b57a-860c2d573b5c",
   "metadata": {},
   "outputs": [],
   "source": [
    "temp_by_mnth_yr_df"
   ]
  },
  {
   "cell_type": "markdown",
   "id": "7f30321e-0b89-498f-a319-568b04c308a2",
   "metadata": {},
   "source": [
    "Creating a plot with a dataframe requires some more code, here we create a chart that displays the montly mean temprature and the average temprature per year"
   ]
  },
  {
   "cell_type": "code",
   "execution_count": null,
   "id": "330fed89-8868-4c41-966e-4355fb004767",
   "metadata": {},
   "outputs": [],
   "source": [
    "selection = alt.selection_multi(fields=['year'], bind=\"legend\")\n",
    "chart = alt.Chart(temp_by_mnth_yr_df).mark_line().encode(\n",
    "            x=alt.X(\"month\", title=\"Month\", sort=\"ascending\"),\n",
    "            y=alt.Y('mean', title='Monthly mean temperature',scale=alt.Scale(domain=(22,33))),\n",
    "            color=alt.Color('year', title=\"Year\",\n",
    "                            scale=alt.Scale(domain=temp_by_mnth_yr_df[\"year\"].unique(), scheme=\"paired\")),\n",
    "            opacity=alt.condition(selection, alt.value(1), alt.value(0.2)),\n",
    "            # tooltip=[alt.Tooltip('mean', title='Mean Temperature')],\n",
    "            tooltip=['mean', 'year'],\n",
    ")\n",
    "\n",
    "\n",
    "line = alt.Chart(pd.DataFrame({'mean': [30.5]})).mark_rule().encode(y='mean', color=alt.value(\"#FF0000\"),strokeWidth=alt.value(3))\n",
    "\n",
    "alt.layer(chart, line).configure_view(\n",
    "    stroke='transparent'\n",
    ").properties(\n",
    "            title='Monthly average per year',width=500,height=300\n",
    "        ).configure_axis(\n",
    "            labelFontSize=15,\n",
    "            titleFontSize=15\n",
    "        ).configure_legend(labelFontSize=12, columns=1, labelLimit=500, symbolLimit=100).add_selection(\n",
    "            selection\n",
    "        ).add_selection(\n",
    "            selection\n",
    "        )"
   ]
  },
  {
   "cell_type": "markdown",
   "id": "4287aa97-db64-4fbe-aaa2-f6548d307b1c",
   "metadata": {},
   "source": [
    "We can also look at a specific year and add a visual check if the temperature is above 30.5 degrees - an important treshold for corals"
   ]
  },
  {
   "cell_type": "code",
   "execution_count": null,
   "id": "dc035888-d4aa-4f2a-980c-8215ef4ea3e6",
   "metadata": {},
   "outputs": [],
   "source": [
    "df_plot = temp_by_mnth_yr_df[temp_by_mnth_yr_df.year =='2005']"
   ]
  },
  {
   "cell_type": "markdown",
   "id": "25e40f01-d467-4b8b-b463-1a273c54ac82",
   "metadata": {},
   "source": [
    "plt.figure(figsize=(15,7))\n",
    "\n",
    "\n",
    "plt.plot(df_plot['mnth_yr'],df_plot['mean'], 'g')\n",
    "plt.axhline(y =30.5, color = 'r', linestyle = '--')\n",
    "\n",
    "\n",
    "plt.legend()\n",
    "plt.scatter(df_plot['mnth_yr'],df_plot['mean'],c='g',label='mean temp')\n",
    "\n",
    "\n",
    "plt.xlabel('mnth_yr',size=14)\n",
    "plt.ylabel('temperature($^\\circ C$ )',size=14)\n",
    "plt.xticks(rotation = 45)\n",
    "plt.xticks(df_plot['mnth_yr'])\n",
    "ax=plt.gca()\n",
    "ax.axis([0,11,-40,40])\n",
    "plt.title('Mean temperature',size=14)\n",
    "plt.legend(loc=0)\n",
    "\n",
    "plt.show()\n"
   ]
  },
  {
   "cell_type": "markdown",
   "id": "923ff69c-fb3b-46a3-84a7-5593b17d570a",
   "metadata": {},
   "source": [
    "Since we also have information on the max and min temps, we can create boundaraies to better understand the temprature deviation for a month. "
   ]
  },
  {
   "cell_type": "code",
   "execution_count": null,
   "id": "44210f69-b9e9-481d-8667-e36cb90cbac8",
   "metadata": {},
   "outputs": [],
   "source": [
    "plt.figure(figsize=(15,7))\n",
    "\n",
    "plt.plot(df_plot['mnth_yr'],df_plot['max'], '--r')\n",
    "plt.plot(df_plot['mnth_yr'],df_plot['min'], '-.b')\n",
    "plt.plot(df_plot['mnth_yr'],df_plot['mean'], 'g')\n",
    "plt.scatter(df_plot['mnth_yr'],df_plot['max'],c='r',label='max temp')\n",
    "plt.scatter(df_plot['mnth_yr'],df_plot['min'],c='b',label='min temp')\n",
    "plt.scatter(df_plot['mnth_yr'],df_plot['mean'],c='g',label='mean temp')\n",
    "\n",
    "plt.xlabel('mnth_yr',size=14)\n",
    "plt.ylabel('temperature($^\\circ C$ )',size=14)\n",
    "plt.xticks(rotation = 45)\n",
    "plt.xticks(df_plot['mnth_yr'])\n",
    "ax=plt.gca()\n",
    "plt.gca().fill_between(df_plot['mnth_yr'], \n",
    "                       df_plot['max'], df_plot['min'], \n",
    "                       facecolor='#9D59F4', \n",
    "                       alpha=0.35)\n",
    "plt.title('Maximum, minimum and mean temperature',size=14)\n",
    "plt.legend(loc=0)\n",
    "\n",
    "plt.show()\n"
   ]
  },
  {
   "cell_type": "markdown",
   "id": "e64f46f4-12fc-4a15-ba2b-714a0a78532b",
   "metadata": {},
   "source": [
    "#### Challenge\n",
    "Grouping this giant area together is taking quite some liberties and is not the best way to represent the data. Pick a more granular area and look at the trends. (Below there is some information or specific coral reef sites)\n"
   ]
  },
  {
   "cell_type": "markdown",
   "id": "20a31888-2c1f-4b43-aef6-68ae6f8b16a9",
   "metadata": {},
   "source": [
    "## Now let's try to combine temperature data with coral bleaching data"
   ]
  },
  {
   "cell_type": "markdown",
   "id": "0777daa8-223d-4ea0-86da-47251815364f",
   "metadata": {},
   "source": [
    "Let's read the bleaching data"
   ]
  },
  {
   "cell_type": "code",
   "execution_count": null,
   "id": "dcae3212-93e9-4a2a-b480-45b909a9cbf7",
   "metadata": {},
   "outputs": [],
   "source": [
    "df_bl = pd.read_csv('bleaching_data.csv')\n",
    "df_bl['longitude'] = df_bl.Longitude_Degrees.round()\n",
    "df_bl['latitude'] = df_bl.Latitude_Degrees.round()\n",
    "\n",
    "df_bl.head()"
   ]
  },
  {
   "cell_type": "markdown",
   "id": "24035c29-dfff-4aff-84eb-3863995555a5",
   "metadata": {},
   "source": [
    "Frist we want to look at what year contains the most data on bleaching"
   ]
  },
  {
   "cell_type": "code",
   "execution_count": null,
   "id": "9e2511cd-c241-4bc2-8108-2afd2ae8837b",
   "metadata": {},
   "outputs": [],
   "source": [
    "df_bl[['Date_Year','Bleaching_Level']].groupby('Date_Year').count()"
   ]
  },
  {
   "cell_type": "markdown",
   "id": "85742be6-4517-4e41-b8a5-f40342e15aa3",
   "metadata": {},
   "source": [
    "Geopandas is a powerful library to use when working with data that contains geographical information. Lets convert the coral bleaching dataframe from above to a GeoDataFrame object\n",
    "This will create a 'geometry' column that is easy to plot"
   ]
  },
  {
   "cell_type": "code",
   "execution_count": null,
   "id": "d0f11861-0eed-44ad-bfd1-bb4fd3a1f4e8",
   "metadata": {},
   "outputs": [],
   "source": [
    "gdf = gpd.GeoDataFrame(\n",
    "    df_bl, geometry=gpd.points_from_xy(df_bl.Longitude_Degrees, df_bl.Latitude_Degrees))\n",
    "gdf.head(5)"
   ]
  },
  {
   "cell_type": "markdown",
   "id": "bb8659f7-2160-47f4-b835-2cfd6c348e0c",
   "metadata": {},
   "source": [
    "### Plot bleaching samples by year"
   ]
  },
  {
   "cell_type": "code",
   "execution_count": null,
   "id": "ee217ef8-b7e1-477f-a033-df76cd2a2586",
   "metadata": {},
   "outputs": [],
   "source": [
    "db_plt.plot_points(gdf, col='Date_Year')"
   ]
  },
  {
   "cell_type": "markdown",
   "id": "efe1a311-d61d-42c5-8856-8eefd9fec576",
   "metadata": {},
   "source": [
    "### Plot bleaching samples by Bleaching Level"
   ]
  },
  {
   "cell_type": "code",
   "execution_count": null,
   "id": "968cc2c4-2a78-4010-abfb-80878540ec52",
   "metadata": {},
   "outputs": [],
   "source": [
    "db_plt.plot_points(gdf.where(gdf['Bleaching_Level'] > 0), col='Bleaching_Level')"
   ]
  },
  {
   "cell_type": "markdown",
   "id": "7df928ef-aaea-41ae-ad19-cc259f50270b",
   "metadata": {},
   "source": [
    "#### Challenge\n",
    "\n",
    "Plot another column that could be an intersting feature to look closer at."
   ]
  },
  {
   "cell_type": "markdown",
   "id": "7e514436-939e-4690-8af5-d841d759690a",
   "metadata": {
    "tags": []
   },
   "source": [
    "### Timeseries classification"
   ]
  },
  {
   "cell_type": "markdown",
   "id": "0dc00e8f-dc0e-4ed3-9ac4-7b189c5a24c3",
   "metadata": {
    "tags": []
   },
   "source": [
    "As seen in the plots from the bleaching database, there are areas without any samples.<br>\n",
    "In this section we are using a pre-trained binary classification model to predict if \n",
    "an area has bleached corals based on the sea surface temperatue timeseries of the areas locations.<br>\n",
    "Creating and training the model is not part of this workshop, but if you would like to see how it was done and/or further improve it after the workshop, \n",
    "the code is in a notebook called `timeseries_classification.ipynb`. "
   ]
  },
  {
   "cell_type": "code",
   "execution_count": null,
   "id": "51be6202-147e-423b-87bc-764a0703b699",
   "metadata": {},
   "outputs": [],
   "source": [
    "#Getting sea surface temperature timeseries for an area without samples in the bleaching database\n",
    "ds_slice_predict =temp_data.sel(lon=slice(-80,-75), lat=slice(18, 22), time=slice('2000-01-01', '2020-01-05'))"
   ]
  },
  {
   "cell_type": "markdown",
   "id": "2eddfd25-67fe-41fb-a05a-f209148d6347",
   "metadata": {},
   "source": [
    "Again, this next step takes a bit (around 5 mins), might be a good time to grab a coffee, or check out this really [cool google earth site about coral bleaching!](https://earth.google.com/web/@24.4430141,123.8161774,-0.51676057a,500d,35y,10.51093386h,0t,0r/data=CkoSSBIgY2EwYzk0ZGNhN2I4MTFlN2I1ZDBiNzRhMWFlNGU2MDMiJGVmZWVkX29jZWFuX2FnZW5jeV9jb3JhbF9ibGVhY2hpbmdfMQ)"
   ]
  },
  {
   "cell_type": "code",
   "execution_count": null,
   "id": "b871025b-3057-48e9-95f1-bcbdf6cc5937",
   "metadata": {},
   "outputs": [],
   "source": [
    "%%time\n",
    "df = ds_slice_predict.to_dataframe().reset_index() "
   ]
  },
  {
   "cell_type": "code",
   "execution_count": null,
   "id": "7920fb53-14ce-4bbc-b5ff-4b250a6926f0",
   "metadata": {},
   "outputs": [],
   "source": [
    "df.head()"
   ]
  },
  {
   "cell_type": "code",
   "execution_count": null,
   "id": "394ab52a-2989-4eda-a07d-fb46848416bf",
   "metadata": {},
   "outputs": [],
   "source": [
    "#Get a list of sea surface temperature readings for all locations (lat-lon group)\n",
    "df['analysed_sst'] = df['analysed_sst'].fillna(0)\n",
    "df_grp= df.groupby(by=['lat', 'lon']).agg({'analysed_sst':lambda x: list(x)})"
   ]
  },
  {
   "cell_type": "code",
   "execution_count": null,
   "id": "8e71e89c-db62-4f8f-a740-63e28206a1a3",
   "metadata": {},
   "outputs": [],
   "source": [
    "#remove locations where all the temperatures are NaN or 0\n",
    "df_grp['sst_sum'] = df_grp.apply(lambda row: sum(row['analysed_sst']), axis = 1)\n",
    "df_grp = df_grp.where(df_grp['sst_sum'] > 0).dropna()"
   ]
  },
  {
   "cell_type": "markdown",
   "id": "fa5bda2f-d71c-4f3c-8c91-1bee98a92530",
   "metadata": {},
   "source": [
    "#### Scale the temperatures\n",
    "Input variables should be normalized to have a normal distribution, since most ML models assume this of the data"
   ]
  },
  {
   "cell_type": "code",
   "execution_count": null,
   "id": "5cf59450-d306-4de4-b116-d5e149ea9296",
   "metadata": {},
   "outputs": [],
   "source": [
    "#Load the same sklearn StandardScaler as used when training the model\n",
    "scaler = pickle.load(open('scaler.pkl','rb'))"
   ]
  },
  {
   "cell_type": "code",
   "execution_count": null,
   "id": "c59652cc-1e6a-4621-83f5-b83fb9e6bfb8",
   "metadata": {},
   "outputs": [],
   "source": [
    "def data_scaler(data_list):\n",
    "    scaled_array = scaler.transform(np.array(data_list).reshape(-1, 1))\n",
    "    return scaled_array.reshape(scaled_array.shape[0]).tolist()"
   ]
  },
  {
   "cell_type": "code",
   "execution_count": null,
   "id": "e883f148-ca5e-4f48-ad67-82f0a532544e",
   "metadata": {},
   "outputs": [],
   "source": [
    "#Scale the all the temeratures in the list\n",
    "df_grp['sst_scaled'] = df_grp.apply(lambda row: data_scaler(row['analysed_sst']), axis = 1)"
   ]
  },
  {
   "cell_type": "markdown",
   "id": "c588a2db-43ff-4646-a9f8-ec7f2ded24dd",
   "metadata": {},
   "source": [
    "#### Import/install tensorflow and load the model"
   ]
  },
  {
   "cell_type": "code",
   "execution_count": null,
   "id": "1dc7b043-94ce-4afe-868c-689a9f4a213b",
   "metadata": {},
   "outputs": [],
   "source": [
    "import sys\n",
    "#!{sys.executable} -m pip install tensorflow\n",
    "from tensorflow import keras\n",
    "model = keras.models.load_model(\"./ts_classification_model.h5\")"
   ]
  },
  {
   "cell_type": "markdown",
   "id": "3f0fd3b1-6952-4fd2-b043-500226be4f5a",
   "metadata": {},
   "source": [
    "#### Use model to predict whether corals on location are bleached or not"
   ]
  },
  {
   "cell_type": "code",
   "execution_count": null,
   "id": "7c9a1843-4a26-4ab5-9271-5353568824c0",
   "metadata": {},
   "outputs": [],
   "source": [
    "def data_predict(data_list):\n",
    "    x_array = np.array(data_list[3000:7000]).reshape(1, 4000, 1)\n",
    "    y_pred = model.predict(np.array(x_array))\n",
    "    return np.argmax(y_pred, axis = 1)[0]"
   ]
  },
  {
   "cell_type": "code",
   "execution_count": null,
   "id": "fc4d6ae4-a640-42bf-8a0b-77edc7e592bf",
   "metadata": {},
   "outputs": [],
   "source": [
    "##This step also takes a few minutes\n",
    "df_grp['bleached_predict'] = df_grp.apply(lambda row: data_predict(row['sst_scaled']), axis = 1) #This takes some time"
   ]
  },
  {
   "cell_type": "code",
   "execution_count": null,
   "id": "35f3bb90-b397-4ce2-9076-850ed488ae44",
   "metadata": {},
   "outputs": [],
   "source": [
    "df_grp_l = df_grp.reset_index()"
   ]
  },
  {
   "cell_type": "code",
   "execution_count": null,
   "id": "b4eb2192-f769-4d1a-adad-5ec80507e32c",
   "metadata": {},
   "outputs": [],
   "source": [
    "df_grp_geo = gpd.GeoDataFrame(\n",
    "    df_grp_l, geometry=gpd.points_from_xy(df_grp_l['lon'], df_grp_l['lat']))"
   ]
  },
  {
   "cell_type": "markdown",
   "id": "8f69b750-f3b0-42eb-990d-9ce3cf238c6b",
   "metadata": {},
   "source": [
    "### Plot the predictions on a map"
   ]
  },
  {
   "cell_type": "markdown",
   "id": "4ebbfc5d-f7d2-4473-9205-e0a8d3c336eb",
   "metadata": {},
   "source": [
    "The plot shows locations (betweeen South Cuba and North Jamacia) where corals are predicted to be bleached (1, dark color) and not bleached (0, yellow color).\n",
    "Not all locations have coral reefs, this is not taken into considerations. "
   ]
  },
  {
   "cell_type": "code",
   "execution_count": null,
   "id": "2c1c9e24-6c66-4733-a7ea-e9612d28bb20",
   "metadata": {},
   "outputs": [],
   "source": [
    "db_plt.plot_points(df_grp_geo, col='bleached_predict')"
   ]
  },
  {
   "cell_type": "markdown",
   "id": "0302dd80-a172-474b-88c4-8a790293a000",
   "metadata": {},
   "source": [
    "What did you learn with this notebook?<br>\n",
    "What else could be done with this data?<br>"
   ]
  },
  {
   "cell_type": "code",
   "execution_count": null,
   "id": "3e3a7d02-aab7-4f57-a969-7cf53a94aed3",
   "metadata": {},
   "outputs": [],
   "source": []
  }
 ],
 "metadata": {
  "kernelspec": {
   "display_name": "Python 3 (ipykernel)",
   "language": "python",
   "name": "python3"
  },
  "language_info": {
   "codemirror_mode": {
    "name": "ipython",
    "version": 3
   },
   "file_extension": ".py",
   "mimetype": "text/x-python",
   "name": "python",
   "nbconvert_exporter": "python",
   "pygments_lexer": "ipython3",
   "version": "3.8.13"
  }
 },
 "nbformat": 4,
 "nbformat_minor": 5
}
