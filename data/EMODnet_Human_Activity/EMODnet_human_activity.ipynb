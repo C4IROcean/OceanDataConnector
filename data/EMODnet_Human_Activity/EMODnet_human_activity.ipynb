{
 "cells": [
  {
   "cell_type": "markdown",
   "id": "c1aa397a-7bfe-4ede-a7df-776d094f0967",
   "metadata": {},
   "source": [
    "# <span style='color:#FE774C'>EMODnet Human Activity </span> Example Notebook"
   ]
  },
  {
   "cell_type": "markdown",
   "id": "791b4b09-fd96-4b0b-812c-c763095940fa",
   "metadata": {},
   "source": [
    "#### We recommend duplicating this notebook if you want to make changes to the code or run additional analyses\n",
    "To do that simply right click on the file on the left panel and select \"duplicate\""
   ]
  },
  {
   "cell_type": "markdown",
   "id": "e7541e99-901a-4ab9-be2f-abc1dd4819a4",
   "metadata": {},
   "source": [
    "### The first part of this notebook will show how to pull data, and run visualizations using functions\n",
    "### The second part uses a gui based approach"
   ]
  },
  {
   "cell_type": "code",
   "execution_count": 1,
   "id": "6e4c5819-1dd5-45d2-920f-3a9b0f0018d6",
   "metadata": {},
   "outputs": [],
   "source": [
    "import odp.geospatial as odp\n",
    "import warnings\n",
    "import cmocean\n",
    "\n",
    "warnings.filterwarnings(\"ignore\")"
   ]
  },
  {
   "cell_type": "code",
   "execution_count": 2,
   "id": "5b156227-bdd2-47f3-88e9-5676a7a94851",
   "metadata": {},
   "outputs": [],
   "source": [
    "db = odp.Database()\n",
    "db_plt = odp.PlotTools()\n",
    "gd = odp.GridData()"
   ]
  },
  {
   "cell_type": "markdown",
   "id": "15e1b6c0-cd32-4d4a-9927-6f2e60ae5157",
   "metadata": {},
   "source": [
    "### Part 1: Using Functions"
   ]
  },
  {
   "cell_type": "markdown",
   "id": "c188f1a0-eae3-4fbf-b111-bdf70c5cddc7",
   "metadata": {},
   "source": [
    "#### The following shows the available datasets that can be used as dataframes. To see gridded datasets, run *gd.datasets_table* instead. \n",
    "#### Alternatively check out the data catalog in the [Ocean Data Explorer Catalog](https://app.oceandata.earth/catalog)"
   ]
  },
  {
   "cell_type": "code",
   "execution_count": 3,
   "id": "e93eda78-0540-4f81-ab8c-cfd6bae02bce",
   "metadata": {},
   "outputs": [],
   "source": [
    "db.datasets"
   ]
  },
  {
   "cell_type": "markdown",
   "id": "29aaa391-9e53-4569-a7b6-4b73ce3bccd8",
   "metadata": {},
   "source": [
    "#### <span style='color:#3464eb'> Emodnet data available from catalog:<span>\n",
    "    \n",
    "You can query data using the data catalog index name. Let's focus here on Emodnet dataset."
   ]
  },
  {
   "cell_type": "code",
   "execution_count": null,
   "id": "4ab7b308-3708-457b-93f4-f977b85dbccf",
   "metadata": {},
   "outputs": [],
   "source": [
    "df_db = db.datasets\n",
    "emodnet_list = [name for name in df_db.index if 'Emodnet' in name]\n",
    "emodnet_list"
   ]
  },
  {
   "cell_type": "markdown",
   "id": "75d47ebf-cb68-413f-b811-b2a04cdb4902",
   "metadata": {},
   "source": [
    "## Pulling data - <span style='color:#FE774C'> Example with Emodnet HA - shellfish </span> \n"
   ]
  },
  {
   "cell_type": "markdown",
   "id": "f022e154-1d33-4463-b771-aa12f087360d",
   "metadata": {},
   "source": [
    "#### Insert the name of the table you are interested in into the query function\n",
    "This returns a [geopandas](https://geopandas.org/en/stable/docs.html) dataframe with a geometry column<br>\n",
    "There are many built-in functions you can use with these geopandas dataframes"
   ]
  },
  {
   "cell_type": "code",
   "execution_count": null,
   "id": "820e6d7d-1f02-44cd-a744-82078fb790d8",
   "metadata": {},
   "outputs": [],
   "source": [
    "df = db.query(emodnet_list[1])\n",
    "df.info()"
   ]
  },
  {
   "cell_type": "code",
   "execution_count": null,
   "id": "13bde45e-f40a-49be-9050-e962edddf4b8",
   "metadata": {},
   "outputs": [],
   "source": [
    "df.head()"
   ]
  },
  {
   "cell_type": "markdown",
   "id": "36178bba-7c07-4e17-9c12-05d52fccb236",
   "metadata": {},
   "source": [
    "#### <span style='color:#3464eb'>You can also access citation information, databsase description etc."
   ]
  },
  {
   "cell_type": "code",
   "execution_count": null,
   "id": "12819f3b-ca5b-41ac-9d36-680fd39a4a1a",
   "metadata": {},
   "outputs": [],
   "source": [
    "db.datasets.loc[emodnet_list[0]].database_description"
   ]
  },
  {
   "cell_type": "markdown",
   "id": "61797c06-ed97-4a30-adad-98cf75be8ab3",
   "metadata": {},
   "source": [
    "### <span style='color:#9D59F4'> Plot the data </span> using built-in functions\n",
    "#### Here we create a static plot of the casts we pulled"
   ]
  },
  {
   "cell_type": "code",
   "execution_count": 8,
   "id": "1386f182-791b-43f8-8138-d486d1ffce2d",
   "metadata": {},
   "outputs": [],
   "source": [
    "# plotting only the points\n",
    "db_plt.plot_points(df)"
   ]
  },
  {
   "cell_type": "markdown",
   "id": "3b5e9c40-0d80-46ee-80d5-d13e6c365ccf",
   "metadata": {},
   "source": [
    "### Add <span style='color:#9D59F4'> filters </span> to the data pull\n",
    "\n",
    "You can filter for a specific value in a column, or a specific geographical area"
   ]
  },
  {
   "cell_type": "markdown",
   "id": "89be4da3-ca39-4a81-a985-60e2da8d2973",
   "metadata": {},
   "source": [
    "#### For example, if we are only interested in farms from a specific country and for a specific species:\n",
    "First let's make the filter using the filter_data functions<br>\n",
    "Input the column, the operator, and the value you want to filter on"
   ]
  },
  {
   "cell_type": "code",
   "execution_count": 9,
   "id": "920cc003-ed79-41a4-b0ff-b2bd213c837f",
   "metadata": {},
   "outputs": [],
   "source": [
    "filter1 = db.filter_data(\"COUNTRY\", \"=\", \"France\")\n",
    "filter2 = db.filter_data(\"FARM_TYPE\", \"=\", \"Mussels\")"
   ]
  },
  {
   "cell_type": "code",
   "execution_count": 10,
   "id": "c99b8b2b-b281-417f-a595-8f7108da8ecd",
   "metadata": {},
   "outputs": [],
   "source": [
    "df = db.query(\"\", filters=[filter1, filter2])"
   ]
  },
  {
   "cell_type": "code",
   "execution_count": 11,
   "id": "b47b6fb0-f340-4107-a24e-00d156faef60",
   "metadata": {},
   "outputs": [],
   "source": [
    "df.head()"
   ]
  },
  {
   "cell_type": "markdown",
   "id": "5f41518c-3df7-433c-8db8-c65eed7f89e8",
   "metadata": {},
   "source": [
    "#### We can also create an interactive plot (will show only when cell is run)"
   ]
  },
  {
   "cell_type": "code",
   "execution_count": 12,
   "id": "2d5aeae6-649c-4574-87fb-81490fea0db7",
   "metadata": {},
   "outputs": [],
   "source": [
    "db_plt.plot(df)"
   ]
  },
  {
   "cell_type": "markdown",
   "id": "af3121eb-254d-4902-b0de-4e7c76f13a0a",
   "metadata": {},
   "source": [
    "## Part 2: Using interactive GUI"
   ]
  },
  {
   "cell_type": "markdown",
   "id": "a2aa554f-f177-4265-9c74-3a894f1997fa",
   "metadata": {},
   "source": [
    "#### You can pick to pull EMODnet human activity datasets dropdown. These datasets don't take time inputs"
   ]
  },
  {
   "cell_type": "code",
   "execution_count": 13,
   "id": "3bfe45ae-dc9f-420c-a9c7-a38025562c93",
   "metadata": {},
   "outputs": [],
   "source": [
    "db.selector()"
   ]
  },
  {
   "cell_type": "code",
   "execution_count": 14,
   "id": "f11bc04c-ac97-4fff-834d-abe9c2427de7",
   "metadata": {},
   "outputs": [],
   "source": [
    "df = db.data\n",
    "df.info()"
   ]
  },
  {
   "cell_type": "code",
   "execution_count": 15,
   "id": "de1a9ec5-076d-440a-8b66-90b180f3cd98",
   "metadata": {},
   "outputs": [],
   "source": [
    "df.head()"
   ]
  },
  {
   "cell_type": "code",
   "execution_count": null,
   "id": "5c5e5f1c-b366-47d5-8e8a-6dc7842d5425",
   "metadata": {},
   "outputs": [],
   "source": []
  }
 ],
 "metadata": {
  "kernelspec": {
   "display_name": "Python 3 (ipykernel)",
   "language": "python",
   "name": "python3"
  },
  "language_info": {
   "codemirror_mode": {
    "name": "ipython",
    "version": 3
   },
   "file_extension": ".py",
   "mimetype": "text/x-python",
   "name": "python",
   "nbconvert_exporter": "python",
   "pygments_lexer": "ipython3",
   "version": "3.10.10"
  }
 },
 "nbformat": 4,
 "nbformat_minor": 5
}
